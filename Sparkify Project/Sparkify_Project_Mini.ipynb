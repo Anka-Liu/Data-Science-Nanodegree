{
 "cells": [
  {
   "cell_type": "markdown",
   "metadata": {},
   "source": [
    "# Sparkify Project Workspace\n",
    "This workspace contains a tiny subset (128MB) of the full dataset available (12GB). Feel free to use this workspace to build your project, or to explore a smaller subset with Spark before deploying your cluster on the cloud. Instructions for setting up your Spark cluster is included in the last lesson of the Extracurricular Spark Course content.\n",
    "\n",
    "You can follow the steps below to guide your data analysis and model building portion of this project."
   ]
  },
  {
   "cell_type": "code",
   "execution_count": null,
   "metadata": {},
   "outputs": [
    {
     "data": {
      "application/vnd.jupyter.widget-view+json": {
       "model_id": "22b7b1b58a8a4d53b9813b844da3204e",
       "version_major": 2,
       "version_minor": 0
      },
      "text/plain": [
       "VBox()"
      ]
     },
     "metadata": {},
     "output_type": "display_data"
    },
    {
     "name": "stdout",
     "output_type": "stream",
     "text": [
      "Starting Spark application\n"
     ]
    }
   ],
   "source": [
    "# initial Pyspark session\n",
    "print(\"Welcome to my EMR Notebook!\")"
   ]
  },
  {
   "cell_type": "code",
   "execution_count": null,
   "metadata": {},
   "outputs": [],
   "source": [
    "%%info"
   ]
  },
  {
   "cell_type": "code",
   "execution_count": null,
   "metadata": {},
   "outputs": [],
   "source": [
    "# list pyspark packages\n",
    "sc.list_packages()"
   ]
  },
  {
   "cell_type": "code",
   "execution_count": null,
   "metadata": {},
   "outputs": [],
   "source": [
    "# install common libraries\n",
    "sc.install_pypi_package(\"pandas\")"
   ]
  },
  {
   "cell_type": "code",
   "execution_count": null,
   "metadata": {},
   "outputs": [],
   "source": [
    "sc.install_pypi_package(\"matplotlib\")"
   ]
  },
  {
   "cell_type": "code",
   "execution_count": null,
   "metadata": {},
   "outputs": [],
   "source": [
    "sc.install_pypi_package(\"seaborn\")"
   ]
  },
  {
   "cell_type": "code",
   "execution_count": null,
   "metadata": {},
   "outputs": [],
   "source": [
    "# import libraries\n",
    "# Pyspark\n",
    "from pyspark.sql import SparkSession\n",
    "from pyspark.sql.functions import udf\n",
    "# CommonLibraries\n",
    "import pandas as pd\n",
    "import matplotlib.pyplot as plt\n",
    "import seaborn as sns\n",
    "import datetime as dt\n",
    "# Pyspark ML Library\n",
    "from pyspark.ml.feature import StandardScaler, VectorAssembler\n",
    "from pyspark.ml.evaluation import MulticlassClassificationEvaluator\n",
    "from pyspark.ml.classification import LogisticRegression, GBTClassifier, LinearSVC\n",
    "from pyspark.ml.tuning import CrossValidator, ParamGridBuilder"
   ]
  },
  {
   "cell_type": "code",
   "execution_count": null,
   "metadata": {},
   "outputs": [],
   "source": [
    "# create a Spark session\n",
    "spark = SparkSession \\\n",
    "    .builder \\\n",
    "    .appName('Sparkify') \\\n",
    "    .getOrCreate()"
   ]
  },
  {
   "cell_type": "markdown",
   "metadata": {},
   "source": [
    "# Load and Clean Dataset\n",
    "In this workspace, the mini-dataset file is `mini_sparkify_event_data.json`. Load and clean the dataset, checking for invalid or missing data - for example, records without userids or sessionids. "
   ]
  },
  {
   "cell_type": "code",
   "execution_count": 9,
   "metadata": {},
   "outputs": [
    {
     "data": {
      "application/vnd.jupyter.widget-view+json": {
       "model_id": "fab98cdea6f749f592fea45b672fba21",
       "version_major": 2,
       "version_minor": 0
      },
      "text/plain": [
       "VBox()"
      ]
     },
     "metadata": {},
     "output_type": "display_data"
    },
    {
     "data": {
      "application/vnd.jupyter.widget-view+json": {
       "model_id": "",
       "version_major": 2,
       "version_minor": 0
      },
      "text/plain": [
       "FloatProgress(value=0.0, bar_style='info', description='Progress:', layout=Layout(height='25px', width='50%'),…"
      ]
     },
     "metadata": {},
     "output_type": "display_data"
    },
    {
     "name": "stdout",
     "output_type": "stream",
     "text": [
      "Row(artist='Martha Tilston', auth='Logged In', firstName='Colin', gender='M', itemInSession=50, lastName='Freeman', length=277.89016, level='paid', location='Bakersfield, CA', method='PUT', page='NextSong', registration=1538173362000, sessionId=29, song='Rockpools', status=200, ts=1538352117000, userAgent='Mozilla/5.0 (Windows NT 6.1; WOW64; rv:31.0) Gecko/20100101 Firefox/31.0', userId='30')"
     ]
    }
   ],
   "source": [
    "# replace event_data with local mini_sparkify_event_data.json\n",
    "event_data = \"s3n://udacity-dsnd/sparkify/mini_sparkify_event_data.json\"\n",
    "df = spark.read.json(event_data)\n",
    "df.head()"
   ]
  },
  {
   "cell_type": "code",
   "execution_count": 138,
   "metadata": {},
   "outputs": [
    {
     "data": {
      "application/vnd.jupyter.widget-view+json": {
       "model_id": "aacc72ad4c444f9a841ede1c7fb621fa",
       "version_major": 2,
       "version_minor": 0
      },
      "text/plain": [
       "VBox()"
      ]
     },
     "metadata": {},
     "output_type": "display_data"
    },
    {
     "data": {
      "application/vnd.jupyter.widget-view+json": {
       "model_id": "",
       "version_major": 2,
       "version_minor": 0
      },
      "text/plain": [
       "FloatProgress(value=0.0, bar_style='info', description='Progress:', layout=Layout(height='25px', width='50%'),…"
      ]
     },
     "metadata": {},
     "output_type": "display_data"
    },
    {
     "name": "stdout",
     "output_type": "stream",
     "text": [
      "(286500, 18)"
     ]
    }
   ],
   "source": [
    "# measure the shape of dataset\n",
    "(df.count(), len(df.columns))"
   ]
  },
  {
   "cell_type": "code",
   "execution_count": 139,
   "metadata": {
    "scrolled": false
   },
   "outputs": [
    {
     "data": {
      "application/vnd.jupyter.widget-view+json": {
       "model_id": "29f9e2eb73c34777a54ca115149d9608",
       "version_major": 2,
       "version_minor": 0
      },
      "text/plain": [
       "VBox()"
      ]
     },
     "metadata": {},
     "output_type": "display_data"
    },
    {
     "data": {
      "application/vnd.jupyter.widget-view+json": {
       "model_id": "",
       "version_major": 2,
       "version_minor": 0
      },
      "text/plain": [
       "FloatProgress(value=0.0, bar_style='info', description='Progress:', layout=Layout(height='25px', width='50%'),…"
      ]
     },
     "metadata": {},
     "output_type": "display_data"
    },
    {
     "name": "stdout",
     "output_type": "stream",
     "text": [
      "+-------+------------------+----------+---------+------+------------------+--------+------------------+------+-----------------+------+-------+--------------------+-----------------+--------------------+------------------+--------------------+--------------------+------------------+\n",
      "|summary|            artist|      auth|firstName|gender|     itemInSession|lastName|            length| level|         location|method|   page|        registration|        sessionId|                song|            status|                  ts|           userAgent|            userId|\n",
      "+-------+------------------+----------+---------+------+------------------+--------+------------------+------+-----------------+------+-------+--------------------+-----------------+--------------------+------------------+--------------------+--------------------+------------------+\n",
      "|  count|            228108|    286500|   278154|278154|            286500|  278154|            228108|286500|           278154|286500| 286500|              278154|           286500|              228108|            286500|              286500|              278154|            286500|\n",
      "|   mean| 551.0852017937219|      null|     null|  null|114.41421291448516|    null|249.11718197783583|  null|             null|  null|   null|1.535358834085619...|1041.526554973822|            Infinity|210.05459685863875|1.540956889810394...|                null| 59682.02278593872|\n",
      "| stddev|1217.7693079161377|      null|     null|  null| 129.7672620114106|    null| 99.23517921058313|  null|             null|  null|   null|3.2913216163281236E9|726.7762634630807|                 NaN|31.505078488421987|  1.50754396082106E9|                null|109091.94999910559|\n",
      "|    min|               !!!| Cancelled| Adelaida|     F|                 0|   Adams|           0.78322|  free|       Albany, OR|   GET|  About|       1521380675000|                1|\u001c",
      "ÃÂg ÃÂtti Gr...|               200|       1538352117000|\"Mozilla/5.0 (Mac...|                  |\n",
      "|    max| ÃÂlafur Arnalds|Logged Out|   Zyonna|     M|              1321|  Wright|        3024.66567|  paid|Winston-Salem, NC|   PUT|Upgrade|       1543247354000|             2474|ÃÂau hafa slopp...|               404|       1543799476000|Mozilla/5.0 (comp...|                99|\n",
      "+-------+------------------+----------+---------+------+------------------+--------+------------------+------+-----------------+------+-------+--------------------+-----------------+--------------------+------------------+--------------------+--------------------+------------------+"
     ]
    }
   ],
   "source": [
    "# it seems artist,length,song have 228108\n",
    "# firstName, lastName, gender, location, registration,userAgent have 278154\n",
    "# userID has empty strings\n",
    "df.describe().show()"
   ]
  },
  {
   "cell_type": "code",
   "execution_count": 10,
   "metadata": {},
   "outputs": [
    {
     "data": {
      "application/vnd.jupyter.widget-view+json": {
       "model_id": "7532fd31f3df4fe1bb6e015ea4a610a7",
       "version_major": 2,
       "version_minor": 0
      },
      "text/plain": [
       "VBox()"
      ]
     },
     "metadata": {},
     "output_type": "display_data"
    },
    {
     "data": {
      "application/vnd.jupyter.widget-view+json": {
       "model_id": "",
       "version_major": 2,
       "version_minor": 0
      },
      "text/plain": [
       "FloatProgress(value=0.0, bar_style='info', description='Progress:', layout=Layout(height='25px', width='50%'),…"
      ]
     },
     "metadata": {},
     "output_type": "display_data"
    },
    {
     "name": "stdout",
     "output_type": "stream",
     "text": [
      "+------+\n",
      "|userId|\n",
      "+------+\n",
      "|      |\n",
      "|    10|\n",
      "|   100|\n",
      "|100001|\n",
      "|100002|\n",
      "|100003|\n",
      "|100004|\n",
      "|100005|\n",
      "|100006|\n",
      "|100007|\n",
      "|100008|\n",
      "|100009|\n",
      "|100010|\n",
      "|100011|\n",
      "|100012|\n",
      "|100013|\n",
      "|100014|\n",
      "|100015|\n",
      "|100016|\n",
      "|100017|\n",
      "+------+\n",
      "only showing top 20 rows"
     ]
    }
   ],
   "source": [
    "# look at userId and sessionId\n",
    "df.createOrReplaceTempView('sparkify')\n",
    "spark.sql(\n",
    "    '''\n",
    "    SELECT DISTINCT userId\n",
    "    FROM sparkify\n",
    "    ORDER BY userId\n",
    "    '''\n",
    ").show()"
   ]
  },
  {
   "cell_type": "code",
   "execution_count": 142,
   "metadata": {},
   "outputs": [
    {
     "data": {
      "application/vnd.jupyter.widget-view+json": {
       "model_id": "603b68034755434cadf01d17e53d56e5",
       "version_major": 2,
       "version_minor": 0
      },
      "text/plain": [
       "VBox()"
      ]
     },
     "metadata": {},
     "output_type": "display_data"
    },
    {
     "data": {
      "application/vnd.jupyter.widget-view+json": {
       "model_id": "",
       "version_major": 2,
       "version_minor": 0
      },
      "text/plain": [
       "FloatProgress(value=0.0, bar_style='info', description='Progress:', layout=Layout(height='25px', width='50%'),…"
      ]
     },
     "metadata": {},
     "output_type": "display_data"
    },
    {
     "name": "stdout",
     "output_type": "stream",
     "text": [
      "+---------+\n",
      "|sessionId|\n",
      "+---------+\n",
      "|        1|\n",
      "|        2|\n",
      "|        3|\n",
      "|        4|\n",
      "|        5|\n",
      "|        6|\n",
      "|        7|\n",
      "|        8|\n",
      "|        9|\n",
      "|       10|\n",
      "|       11|\n",
      "|       12|\n",
      "|       13|\n",
      "|       15|\n",
      "|       16|\n",
      "|       17|\n",
      "|       18|\n",
      "|       19|\n",
      "|       20|\n",
      "|       21|\n",
      "+---------+\n",
      "only showing top 20 rows"
     ]
    }
   ],
   "source": [
    "spark.sql(\n",
    "    '''\n",
    "    SELECT DISTINCT sessionId\n",
    "    FROM sparkify\n",
    "    ORDER BY sessionId\n",
    "    '''\n",
    ").show()\n",
    "\n",
    "# no blank for session"
   ]
  },
  {
   "cell_type": "code",
   "execution_count": 11,
   "metadata": {},
   "outputs": [
    {
     "data": {
      "application/vnd.jupyter.widget-view+json": {
       "model_id": "2a75dce81e7b4fb5a4a477d18e4ca0b6",
       "version_major": 2,
       "version_minor": 0
      },
      "text/plain": [
       "VBox()"
      ]
     },
     "metadata": {},
     "output_type": "display_data"
    },
    {
     "data": {
      "application/vnd.jupyter.widget-view+json": {
       "model_id": "",
       "version_major": 2,
       "version_minor": 0
      },
      "text/plain": [
       "FloatProgress(value=0.0, bar_style='info', description='Progress:', layout=Layout(height='25px', width='50%'),…"
      ]
     },
     "metadata": {},
     "output_type": "display_data"
    }
   ],
   "source": [
    "# remove empty userid & session id\n",
    "clean_sql = spark.sql(\n",
    "    '''\n",
    "    SELECT *\n",
    "    FROM sparkify\n",
    "    WHERE userId != '' and sessionId IS NOT null\n",
    "    '''\n",
    ")"
   ]
  },
  {
   "cell_type": "code",
   "execution_count": 144,
   "metadata": {},
   "outputs": [
    {
     "data": {
      "application/vnd.jupyter.widget-view+json": {
       "model_id": "8893200b00d846829e8948077b8931ab",
       "version_major": 2,
       "version_minor": 0
      },
      "text/plain": [
       "VBox()"
      ]
     },
     "metadata": {},
     "output_type": "display_data"
    },
    {
     "data": {
      "application/vnd.jupyter.widget-view+json": {
       "model_id": "",
       "version_major": 2,
       "version_minor": 0
      },
      "text/plain": [
       "FloatProgress(value=0.0, bar_style='info', description='Progress:', layout=Layout(height='25px', width='50%'),…"
      ]
     },
     "metadata": {},
     "output_type": "display_data"
    },
    {
     "name": "stdout",
     "output_type": "stream",
     "text": [
      "+--------------------+---------+---------+------+-------------+--------+---------+-----+--------------------+------+---------------+-------------+---------+--------------------+------+-------------+--------------------+------+\n",
      "|              artist|     auth|firstName|gender|itemInSession|lastName|   length|level|            location|method|           page| registration|sessionId|                song|status|           ts|           userAgent|userId|\n",
      "+--------------------+---------+---------+------+-------------+--------+---------+-----+--------------------+------+---------------+-------------+---------+--------------------+------+-------------+--------------------+------+\n",
      "|      Martha Tilston|Logged In|    Colin|     M|           50| Freeman|277.89016| paid|     Bakersfield, CA|   PUT|       NextSong|1538173362000|       29|           Rockpools|   200|1538352117000|Mozilla/5.0 (Wind...|    30|\n",
      "|    Five Iron Frenzy|Logged In|    Micah|     M|           79|    Long|236.09424| free|Boston-Cambridge-...|   PUT|       NextSong|1538331630000|        8|              Canada|   200|1538352180000|\"Mozilla/5.0 (Win...|     9|\n",
      "|        Adam Lambert|Logged In|    Colin|     M|           51| Freeman| 282.8273| paid|     Bakersfield, CA|   PUT|       NextSong|1538173362000|       29|   Time For Miracles|   200|1538352394000|Mozilla/5.0 (Wind...|    30|\n",
      "|              Enigma|Logged In|    Micah|     M|           80|    Long|262.71302| free|Boston-Cambridge-...|   PUT|       NextSong|1538331630000|        8|Knocking On Forbi...|   200|1538352416000|\"Mozilla/5.0 (Win...|     9|\n",
      "|           Daft Punk|Logged In|    Colin|     M|           52| Freeman|223.60771| paid|     Bakersfield, CA|   PUT|       NextSong|1538173362000|       29|Harder Better Fas...|   200|1538352676000|Mozilla/5.0 (Wind...|    30|\n",
      "|The All-American ...|Logged In|    Micah|     M|           81|    Long|208.29995| free|Boston-Cambridge-...|   PUT|       NextSong|1538331630000|        8|      Don't Leave Me|   200|1538352678000|\"Mozilla/5.0 (Win...|     9|\n",
      "|The Velvet Underg...|Logged In|    Micah|     M|           82|    Long|260.46649| free|Boston-Cambridge-...|   PUT|       NextSong|1538331630000|        8|         Run Run Run|   200|1538352886000|\"Mozilla/5.0 (Win...|     9|\n",
      "|        Starflyer 59|Logged In|    Colin|     M|           53| Freeman|185.44281| paid|     Bakersfield, CA|   PUT|       NextSong|1538173362000|       29|Passengers (Old A...|   200|1538352899000|Mozilla/5.0 (Wind...|    30|\n",
      "|                null|Logged In|    Colin|     M|           54| Freeman|     null| paid|     Bakersfield, CA|   PUT|Add to Playlist|1538173362000|       29|                null|   200|1538352905000|Mozilla/5.0 (Wind...|    30|\n",
      "|            Frumpies|Logged In|    Colin|     M|           55| Freeman|134.47791| paid|     Bakersfield, CA|   PUT|       NextSong|1538173362000|       29|          Fuck Kitty|   200|1538353084000|Mozilla/5.0 (Wind...|    30|\n",
      "|        Britt Nicole|Logged In|    Micah|     M|           83|    Long| 229.8771| free|Boston-Cambridge-...|   PUT|       NextSong|1538331630000|        8|   Walk On The Water|   200|1538353146000|\"Mozilla/5.0 (Win...|     9|\n",
      "|                null|Logged In|    Micah|     M|           84|    Long|     null| free|Boston-Cambridge-...|   GET|    Roll Advert|1538331630000|        8|                null|   200|1538353150000|\"Mozilla/5.0 (Win...|     9|\n",
      "|Edward Sharpe & T...|Logged In|    Colin|     M|           56| Freeman|223.58159| paid|     Bakersfield, CA|   PUT|       NextSong|1538173362000|       29|                Jade|   200|1538353218000|Mozilla/5.0 (Wind...|    30|\n",
      "|               Tesla|Logged In|    Micah|     M|           85|    Long|201.06404| free|Boston-Cambridge-...|   PUT|       NextSong|1538331630000|        8|      Gettin' Better|   200|1538353375000|\"Mozilla/5.0 (Win...|     9|\n",
      "|                null|Logged In|    Micah|     M|           86|    Long|     null| free|Boston-Cambridge-...|   PUT|      Thumbs Up|1538331630000|        8|                null|   307|1538353376000|\"Mozilla/5.0 (Win...|     9|\n",
      "|         Stan Mosley|Logged In|    Colin|     M|           57| Freeman|246.69995| paid|     Bakersfield, CA|   PUT|       NextSong|1538173362000|       29|   So-Called Friends|   200|1538353441000|Mozilla/5.0 (Wind...|    30|\n",
      "|Florence + The Ma...|Logged In|    Micah|     M|           87|    Long|168.64608| free|Boston-Cambridge-...|   PUT|       NextSong|1538331630000|        8| You've Got The Love|   200|1538353576000|\"Mozilla/5.0 (Win...|     9|\n",
      "|   Tokyo Police Club|Logged In|  Ashlynn|     F|            0|Williams| 166.1122| free|     Tallahassee, FL|   PUT|       NextSong|1537365219000|      217|Citizens Of Tomorrow|   200|1538353668000|\"Mozilla/5.0 (Mac...|    74|\n",
      "|             Orishas|Logged In|    Colin|     M|           58| Freeman|222.22322| paid|     Bakersfield, CA|   PUT|       NextSong|1538173362000|       29|           Represent|   200|1538353687000|Mozilla/5.0 (Wind...|    30|\n",
      "|             Ratatat|Logged In|    Micah|     M|           88|    Long|229.77261| free|Boston-Cambridge-...|   PUT|       NextSong|1538331630000|        8|              Swisha|   200|1538353744000|\"Mozilla/5.0 (Win...|     9|\n",
      "+--------------------+---------+---------+------+-------------+--------+---------+-----+--------------------+------+---------------+-------------+---------+--------------------+------+-------------+--------------------+------+\n",
      "only showing top 20 rows"
     ]
    }
   ],
   "source": [
    "clean_sql.show()"
   ]
  },
  {
   "cell_type": "code",
   "execution_count": 145,
   "metadata": {},
   "outputs": [
    {
     "data": {
      "application/vnd.jupyter.widget-view+json": {
       "model_id": "ce968d38498f4d92a2b459e832c28a68",
       "version_major": 2,
       "version_minor": 0
      },
      "text/plain": [
       "VBox()"
      ]
     },
     "metadata": {},
     "output_type": "display_data"
    },
    {
     "data": {
      "application/vnd.jupyter.widget-view+json": {
       "model_id": "",
       "version_major": 2,
       "version_minor": 0
      },
      "text/plain": [
       "FloatProgress(value=0.0, bar_style='info', description='Progress:', layout=Layout(height='25px', width='50%'),…"
      ]
     },
     "metadata": {},
     "output_type": "display_data"
    },
    {
     "name": "stdout",
     "output_type": "stream",
     "text": [
      "+-------+------------------+---------+---------+------+------------------+--------+------------------+------+-----------------+------+-------+--------------------+------------------+--------------------+------------------+--------------------+--------------------+------------------+\n",
      "|summary|            artist|     auth|firstName|gender|     itemInSession|lastName|            length| level|         location|method|   page|        registration|         sessionId|                song|            status|                  ts|           userAgent|            userId|\n",
      "+-------+------------------+---------+---------+------+------------------+--------+------------------+------+-----------------+------+-------+--------------------+------------------+--------------------+------------------+--------------------+--------------------+------------------+\n",
      "|  count|            228108|   278154|   278154|278154|            278154|  278154|            228108|278154|           278154|278154| 278154|              278154|            278154|              228108|            278154|              278154|              278154|            278154|\n",
      "|   mean| 551.0852017937219|     null|     null|  null|114.89918174824018|    null|249.11718197783583|  null|             null|  null|   null|1.535358834085619...|1042.5616241362698|            Infinity|209.10321620397335|1.540958915431790...|                null| 59682.02278593872|\n",
      "| stddev|1217.7693079161377|     null|     null|  null|129.85172939948959|    null| 99.23517921058313|  null|             null|  null|   null|3.2913216163281236E9| 726.5010362219864|                 NaN|  30.1513888513279|1.5068287123356583E9|                null|109091.94999910559|\n",
      "|    min|               !!!|Cancelled| Adelaida|     F|                 0|   Adams|           0.78322|  free|       Albany, OR|   GET|  About|       1521380675000|                 1|\u001c",
      "ÃÂg ÃÂtti Gr...|               200|       1538352117000|\"Mozilla/5.0 (Mac...|                10|\n",
      "|    max| ÃÂlafur Arnalds|Logged In|   Zyonna|     M|              1321|  Wright|        3024.66567|  paid|Winston-Salem, NC|   PUT|Upgrade|       1543247354000|              2474|ÃÂau hafa slopp...|               404|       1543799476000|Mozilla/5.0 (comp...|                99|\n",
      "+-------+------------------+---------+---------+------+------------------+--------+------------------+------+-----------------+------+-------+--------------------+------------------+--------------------+------------------+--------------------+--------------------+------------------+"
     ]
    }
   ],
   "source": [
    "# we verified some missing records are non-users\n",
    "# records with no songs means idle log-in time\n",
    "clean_sql.describe().show()"
   ]
  },
  {
   "cell_type": "markdown",
   "metadata": {},
   "source": [
    "# Exploratory Data Analysis\n",
    "When you're working with the full dataset, perform EDA by loading a small subset of the data and doing basic manipulations within Spark. In this workspace, you are already provided a small subset of data you can explore.\n",
    "\n",
    "### Define Churn\n",
    "\n",
    "Once you've done some preliminary analysis, create a column `Churn` to use as the label for your model. I suggest using the `Cancellation Confirmation` events to define your churn, which happen for both paid and free users. As a bonus task, you can also look into the `Downgrade` events.\n",
    "\n",
    "### Explore Data\n",
    "Once you've defined churn, perform some exploratory data analysis to observe the behavior for users who stayed vs users who churned. You can start by exploring aggregates on these two groups of users, observing how much of a specific action they experienced per a certain time unit or number of songs played."
   ]
  },
  {
   "cell_type": "code",
   "execution_count": 146,
   "metadata": {},
   "outputs": [
    {
     "data": {
      "application/vnd.jupyter.widget-view+json": {
       "model_id": "0b4cf2d6553c4835a74ff8a9c3132a40",
       "version_major": 2,
       "version_minor": 0
      },
      "text/plain": [
       "VBox()"
      ]
     },
     "metadata": {},
     "output_type": "display_data"
    },
    {
     "data": {
      "application/vnd.jupyter.widget-view+json": {
       "model_id": "",
       "version_major": 2,
       "version_minor": 0
      },
      "text/plain": [
       "FloatProgress(value=0.0, bar_style='info', description='Progress:', layout=Layout(height='25px', width='50%'),…"
      ]
     },
     "metadata": {},
     "output_type": "display_data"
    },
    {
     "name": "stdout",
     "output_type": "stream",
     "text": [
      "['artist', 'auth', 'firstName', 'gender', 'itemInSession', 'lastName', 'length', 'level', 'location', 'method', 'page', 'registration', 'sessionId', 'song', 'status', 'ts', 'userAgent', 'userId']"
     ]
    }
   ],
   "source": [
    "# look at columns\n",
    "df.columns"
   ]
  },
  {
   "cell_type": "code",
   "execution_count": 12,
   "metadata": {},
   "outputs": [
    {
     "data": {
      "application/vnd.jupyter.widget-view+json": {
       "model_id": "45b982da664a4b26b6ef67be2ef0ed70",
       "version_major": 2,
       "version_minor": 0
      },
      "text/plain": [
       "VBox()"
      ]
     },
     "metadata": {},
     "output_type": "display_data"
    },
    {
     "data": {
      "application/vnd.jupyter.widget-view+json": {
       "model_id": "",
       "version_major": 2,
       "version_minor": 0
      },
      "text/plain": [
       "FloatProgress(value=0.0, bar_style='info', description='Progress:', layout=Layout(height='25px', width='50%'),…"
      ]
     },
     "metadata": {},
     "output_type": "display_data"
    },
    {
     "name": "stdout",
     "output_type": "stream",
     "text": [
      "+--------------------+\n",
      "|              artist|\n",
      "+--------------------+\n",
      "|                null|\n",
      "|                 !!!|\n",
      "|        & And Oceans|\n",
      "|'N Sync/Phil Collins|\n",
      "|        'Til Tuesday|\n",
      "| 't Hof Van Commerce|\n",
      "|'t Hof Van Commer...|\n",
      "|       (Love) Tattoo|\n",
      "|          (hed) p.e.|\n",
      "|*NSYNC featuring ...|\n",
      "|  + / - {Plus/Minus}|\n",
      "|                 +44|\n",
      "|          -123 minut|\n",
      "|            -123min.|\n",
      "|       ...And Oceans|\n",
      "|...And You Will K...|\n",
      "|           1 40 4 20|\n",
      "|1 Giant Leap feat...|\n",
      "|1 Giant Leap feat...|\n",
      "|1 Giant Leap feat...|\n",
      "+--------------------+\n",
      "only showing top 20 rows"
     ]
    }
   ],
   "source": [
    "# Artist\n",
    "clean_sql.createOrReplaceTempView('clean_sql')\n",
    "spark.sql(\n",
    "    '''\n",
    "    SELECT DISTINCT artist\n",
    "    FROM clean_sql\n",
    "    ORDER BY artist\n",
    "    '''\n",
    ").show()"
   ]
  },
  {
   "cell_type": "code",
   "execution_count": 148,
   "metadata": {},
   "outputs": [
    {
     "data": {
      "application/vnd.jupyter.widget-view+json": {
       "model_id": "1d48b9fe6e7a4075acd8b09ebdcee421",
       "version_major": 2,
       "version_minor": 0
      },
      "text/plain": [
       "VBox()"
      ]
     },
     "metadata": {},
     "output_type": "display_data"
    },
    {
     "data": {
      "application/vnd.jupyter.widget-view+json": {
       "model_id": "",
       "version_major": 2,
       "version_minor": 0
      },
      "text/plain": [
       "FloatProgress(value=0.0, bar_style='info', description='Progress:', layout=Layout(height='25px', width='50%'),…"
      ]
     },
     "metadata": {},
     "output_type": "display_data"
    }
   ],
   "source": [
    "group_artist = spark.sql(\n",
    "    '''\n",
    "    SELECT artist, count(*) as count\n",
    "    FROM clean_sql\n",
    "    WHERE artist IS NOT null\n",
    "    GROUP BY artist\n",
    "    ORDER BY count(*) desc\n",
    "    LIMIT 10\n",
    "    '''\n",
    ").toPandas()"
   ]
  },
  {
   "cell_type": "code",
   "execution_count": 149,
   "metadata": {},
   "outputs": [
    {
     "data": {
      "application/vnd.jupyter.widget-view+json": {
       "model_id": "87a885b419794fb1a9d242308f98524d",
       "version_major": 2,
       "version_minor": 0
      },
      "text/plain": [
       "VBox()"
      ]
     },
     "metadata": {},
     "output_type": "display_data"
    },
    {
     "data": {
      "application/vnd.jupyter.widget-view+json": {
       "model_id": "",
       "version_major": 2,
       "version_minor": 0
      },
      "text/plain": [
       "FloatProgress(value=0.0, bar_style='info', description='Progress:', layout=Layout(height='25px', width='50%'),…"
      ]
     },
     "metadata": {},
     "output_type": "display_data"
    },
    {
     "data": {
      "image/png": "[encoded data removed]",
      "text/plain": [
       "<IPython.core.display.Image object>"
      ]
     },
     "metadata": {},
     "output_type": "display_data"
    }
   ],
   "source": [
    "import seaborn as sns\n",
    "plt.figure(figsize=(8,6))\n",
    "sns.barplot(x='artist', y='count', data=group_artist)\n",
    "plt.xticks(rotation=90)\n",
    "%matplot plt"
   ]
  },
  {
   "cell_type": "code",
   "execution_count": 150,
   "metadata": {},
   "outputs": [
    {
     "data": {
      "application/vnd.jupyter.widget-view+json": {
       "model_id": "4715f48c28d64bd386a0882f53f1e237",
       "version_major": 2,
       "version_minor": 0
      },
      "text/plain": [
       "VBox()"
      ]
     },
     "metadata": {},
     "output_type": "display_data"
    },
    {
     "data": {
      "application/vnd.jupyter.widget-view+json": {
       "model_id": "",
       "version_major": 2,
       "version_minor": 0
      },
      "text/plain": [
       "FloatProgress(value=0.0, bar_style='info', description='Progress:', layout=Layout(height='25px', width='50%'),…"
      ]
     },
     "metadata": {},
     "output_type": "display_data"
    },
    {
     "name": "stdout",
     "output_type": "stream",
     "text": [
      "+---------+\n",
      "|     auth|\n",
      "+---------+\n",
      "|Cancelled|\n",
      "|Logged In|\n",
      "+---------+"
     ]
    }
   ],
   "source": [
    "# Auth\n",
    "spark.sql(\n",
    "    '''\n",
    "    SELECT DISTINCT auth\n",
    "    FROM clean_sql\n",
    "    ORDER BY auth\n",
    "    '''\n",
    ").show()"
   ]
  },
  {
   "cell_type": "code",
   "execution_count": 151,
   "metadata": {},
   "outputs": [
    {
     "data": {
      "application/vnd.jupyter.widget-view+json": {
       "model_id": "3b300a13ccc04a7092e9924933127df7",
       "version_major": 2,
       "version_minor": 0
      },
      "text/plain": [
       "VBox()"
      ]
     },
     "metadata": {},
     "output_type": "display_data"
    },
    {
     "data": {
      "application/vnd.jupyter.widget-view+json": {
       "model_id": "",
       "version_major": 2,
       "version_minor": 0
      },
      "text/plain": [
       "FloatProgress(value=0.0, bar_style='info', description='Progress:', layout=Layout(height='25px', width='50%'),…"
      ]
     },
     "metadata": {},
     "output_type": "display_data"
    },
    {
     "name": "stdout",
     "output_type": "stream",
     "text": [
      "        auth   count\n",
      "0  Logged In  278102\n",
      "1  Cancelled      52"
     ]
    }
   ],
   "source": [
    "group_auth = spark.sql(\n",
    "    '''\n",
    "    SELECT auth, count(*) as count\n",
    "    FROM clean_sql\n",
    "    GROUP BY auth\n",
    "    ORDER BY count(*) desc\n",
    "    '''\n",
    ").toPandas()\n",
    "\n",
    "group_auth"
   ]
  },
  {
   "cell_type": "code",
   "execution_count": 152,
   "metadata": {},
   "outputs": [
    {
     "data": {
      "application/vnd.jupyter.widget-view+json": {
       "model_id": "74f3bd88a49e47b88655d58a19d52416",
       "version_major": 2,
       "version_minor": 0
      },
      "text/plain": [
       "VBox()"
      ]
     },
     "metadata": {},
     "output_type": "display_data"
    },
    {
     "data": {
      "application/vnd.jupyter.widget-view+json": {
       "model_id": "",
       "version_major": 2,
       "version_minor": 0
      },
      "text/plain": [
       "FloatProgress(value=0.0, bar_style='info', description='Progress:', layout=Layout(height='25px', width='50%'),…"
      ]
     },
     "metadata": {},
     "output_type": "display_data"
    },
    {
     "data": {
      "image/png": "[encoded data removed]",
      "text/plain": [
       "<IPython.core.display.Image object>"
      ]
     },
     "metadata": {},
     "output_type": "display_data"
    }
   ],
   "source": [
    "import seaborn as sns\n",
    "plt.figure(figsize=(8,6))\n",
    "sns.barplot(x='auth', y='count', data=group_auth)\n",
    "plt.show()\n",
    "%matplot plt"
   ]
  },
  {
   "cell_type": "code",
   "execution_count": 153,
   "metadata": {},
   "outputs": [
    {
     "data": {
      "application/vnd.jupyter.widget-view+json": {
       "model_id": "51b74efc37b644eab6c625d6e1d215f2",
       "version_major": 2,
       "version_minor": 0
      },
      "text/plain": [
       "VBox()"
      ]
     },
     "metadata": {},
     "output_type": "display_data"
    },
    {
     "data": {
      "application/vnd.jupyter.widget-view+json": {
       "model_id": "",
       "version_major": 2,
       "version_minor": 0
      },
      "text/plain": [
       "FloatProgress(value=0.0, bar_style='info', description='Progress:', layout=Layout(height='25px', width='50%'),…"
      ]
     },
     "metadata": {},
     "output_type": "display_data"
    },
    {
     "name": "stdout",
     "output_type": "stream",
     "text": [
      "+------+\n",
      "|gender|\n",
      "+------+\n",
      "|     F|\n",
      "|     M|\n",
      "+------+"
     ]
    }
   ],
   "source": [
    "# Gender\n",
    "spark.sql(\n",
    "    '''\n",
    "    SELECT DISTINCT gender\n",
    "    FROM clean_sql\n",
    "    ORDER BY gender\n",
    "    '''\n",
    ").show()"
   ]
  },
  {
   "cell_type": "code",
   "execution_count": 154,
   "metadata": {},
   "outputs": [
    {
     "data": {
      "application/vnd.jupyter.widget-view+json": {
       "model_id": "4e8b6d09d44e4cadb129e07593382f3a",
       "version_major": 2,
       "version_minor": 0
      },
      "text/plain": [
       "VBox()"
      ]
     },
     "metadata": {},
     "output_type": "display_data"
    },
    {
     "data": {
      "application/vnd.jupyter.widget-view+json": {
       "model_id": "",
       "version_major": 2,
       "version_minor": 0
      },
      "text/plain": [
       "FloatProgress(value=0.0, bar_style='info', description='Progress:', layout=Layout(height='25px', width='50%'),…"
      ]
     },
     "metadata": {},
     "output_type": "display_data"
    },
    {
     "name": "stdout",
     "output_type": "stream",
     "text": [
      "  gender   count\n",
      "0      F  154578\n",
      "1      M  123576"
     ]
    }
   ],
   "source": [
    "group_gender = spark.sql(\n",
    "    '''\n",
    "    SELECT gender, count(*) as count\n",
    "    FROM clean_sql\n",
    "    GROUP BY gender\n",
    "    ORDER BY count(*) desc\n",
    "    '''\n",
    ").toPandas()\n",
    "\n",
    "group_gender"
   ]
  },
  {
   "cell_type": "code",
   "execution_count": 155,
   "metadata": {},
   "outputs": [
    {
     "data": {
      "application/vnd.jupyter.widget-view+json": {
       "model_id": "9f4c92a57efa401598e56a143a3fd55c",
       "version_major": 2,
       "version_minor": 0
      },
      "text/plain": [
       "VBox()"
      ]
     },
     "metadata": {},
     "output_type": "display_data"
    },
    {
     "data": {
      "application/vnd.jupyter.widget-view+json": {
       "model_id": "",
       "version_major": 2,
       "version_minor": 0
      },
      "text/plain": [
       "FloatProgress(value=0.0, bar_style='info', description='Progress:', layout=Layout(height='25px', width='50%'),…"
      ]
     },
     "metadata": {},
     "output_type": "display_data"
    },
    {
     "data": {
      "image/png": "[encoded data removed]",
      "text/plain": [
       "<IPython.core.display.Image object>"
      ]
     },
     "metadata": {},
     "output_type": "display_data"
    }
   ],
   "source": [
    "plt.figure(figsize=(8,6))\n",
    "sns.barplot(x='gender', y='count', data=group_gender)\n",
    "plt.show()\n",
    "%matplot plt"
   ]
  },
  {
   "cell_type": "code",
   "execution_count": 156,
   "metadata": {},
   "outputs": [
    {
     "data": {
      "application/vnd.jupyter.widget-view+json": {
       "model_id": "3775a57b94be4e9496d995231a98068d",
       "version_major": 2,
       "version_minor": 0
      },
      "text/plain": [
       "VBox()"
      ]
     },
     "metadata": {},
     "output_type": "display_data"
    },
    {
     "data": {
      "application/vnd.jupyter.widget-view+json": {
       "model_id": "",
       "version_major": 2,
       "version_minor": 0
      },
      "text/plain": [
       "FloatProgress(value=0.0, bar_style='info', description='Progress:', layout=Layout(height='25px', width='50%'),…"
      ]
     },
     "metadata": {},
     "output_type": "display_data"
    },
    {
     "name": "stdout",
     "output_type": "stream",
     "text": [
      "  gender  count\n",
      "0      F    104\n",
      "1      M    121"
     ]
    }
   ],
   "source": [
    "# for gender, we'd better look at unique users\n",
    "group_gender = spark.sql(\n",
    "    '''\n",
    "    SELECT gender, count(DISTINCT userId) as count\n",
    "    FROM clean_sql\n",
    "    GROUP BY gender\n",
    "    ORDER BY count(*) desc\n",
    "    '''\n",
    ").toPandas()\n",
    "\n",
    "group_gender"
   ]
  },
  {
   "cell_type": "code",
   "execution_count": 157,
   "metadata": {},
   "outputs": [
    {
     "data": {
      "application/vnd.jupyter.widget-view+json": {
       "model_id": "42c8cc0b00ab4f89866d2166f68e5aeb",
       "version_major": 2,
       "version_minor": 0
      },
      "text/plain": [
       "VBox()"
      ]
     },
     "metadata": {},
     "output_type": "display_data"
    },
    {
     "data": {
      "application/vnd.jupyter.widget-view+json": {
       "model_id": "",
       "version_major": 2,
       "version_minor": 0
      },
      "text/plain": [
       "FloatProgress(value=0.0, bar_style='info', description='Progress:', layout=Layout(height='25px', width='50%'),…"
      ]
     },
     "metadata": {},
     "output_type": "display_data"
    },
    {
     "data": {
      "image/png": "[encoded data removed]",
      "text/plain": [
       "<IPython.core.display.Image object>"
      ]
     },
     "metadata": {},
     "output_type": "display_data"
    }
   ],
   "source": [
    "plt.figure(figsize=(8,6))\n",
    "sns.barplot(x='gender', y='count', data=group_gender)\n",
    "plt.show()\n",
    "%matplot plt"
   ]
  },
  {
   "cell_type": "code",
   "execution_count": 158,
   "metadata": {},
   "outputs": [
    {
     "data": {
      "application/vnd.jupyter.widget-view+json": {
       "model_id": "17a426347f1e42d3b468ba892bd02f87",
       "version_major": 2,
       "version_minor": 0
      },
      "text/plain": [
       "VBox()"
      ]
     },
     "metadata": {},
     "output_type": "display_data"
    },
    {
     "data": {
      "application/vnd.jupyter.widget-view+json": {
       "model_id": "",
       "version_major": 2,
       "version_minor": 0
      },
      "text/plain": [
       "FloatProgress(value=0.0, bar_style='info', description='Progress:', layout=Layout(height='25px', width='50%'),…"
      ]
     },
     "metadata": {},
     "output_type": "display_data"
    },
    {
     "name": "stdout",
     "output_type": "stream",
     "text": [
      "+-----+\n",
      "|level|\n",
      "+-----+\n",
      "| free|\n",
      "| paid|\n",
      "+-----+"
     ]
    }
   ],
   "source": [
    "# Level\n",
    "spark.sql(\n",
    "    '''\n",
    "    SELECT DISTINCT level\n",
    "    FROM clean_sql\n",
    "    ORDER BY level\n",
    "    '''\n",
    ").show()"
   ]
  },
  {
   "cell_type": "code",
   "execution_count": 159,
   "metadata": {},
   "outputs": [
    {
     "data": {
      "application/vnd.jupyter.widget-view+json": {
       "model_id": "9f3d39554397440aa5202b142adb3a1a",
       "version_major": 2,
       "version_minor": 0
      },
      "text/plain": [
       "VBox()"
      ]
     },
     "metadata": {},
     "output_type": "display_data"
    },
    {
     "data": {
      "application/vnd.jupyter.widget-view+json": {
       "model_id": "",
       "version_major": 2,
       "version_minor": 0
      },
      "text/plain": [
       "FloatProgress(value=0.0, bar_style='info', description='Progress:', layout=Layout(height='25px', width='50%'),…"
      ]
     },
     "metadata": {},
     "output_type": "display_data"
    },
    {
     "name": "stdout",
     "output_type": "stream",
     "text": [
      "  level  count\n",
      "0  paid    165\n",
      "1  free    195"
     ]
    }
   ],
   "source": [
    "# look at distinct users\n",
    "group_level = spark.sql(\n",
    "    '''\n",
    "    SELECT level, count(DISTINCT userId) as count\n",
    "    FROM clean_sql\n",
    "    GROUP BY level\n",
    "    ORDER BY count(*) desc\n",
    "    '''\n",
    ").toPandas()\n",
    "\n",
    "group_level"
   ]
  },
  {
   "cell_type": "code",
   "execution_count": 160,
   "metadata": {},
   "outputs": [
    {
     "data": {
      "application/vnd.jupyter.widget-view+json": {
       "model_id": "1e34cde7f23246bda909d3fc0ae84ec0",
       "version_major": 2,
       "version_minor": 0
      },
      "text/plain": [
       "VBox()"
      ]
     },
     "metadata": {},
     "output_type": "display_data"
    },
    {
     "data": {
      "application/vnd.jupyter.widget-view+json": {
       "model_id": "",
       "version_major": 2,
       "version_minor": 0
      },
      "text/plain": [
       "FloatProgress(value=0.0, bar_style='info', description='Progress:', layout=Layout(height='25px', width='50%'),…"
      ]
     },
     "metadata": {},
     "output_type": "display_data"
    },
    {
     "data": {
      "image/png": "[encoded data removed]",
      "text/plain": [
       "<IPython.core.display.Image object>"
      ]
     },
     "metadata": {},
     "output_type": "display_data"
    }
   ],
   "source": [
    "plt.figure(figsize=(8,6))\n",
    "sns.barplot(x='level', y='count', data=group_level)\n",
    "plt.show()\n",
    "%matplot plt"
   ]
  },
  {
   "cell_type": "code",
   "execution_count": 161,
   "metadata": {},
   "outputs": [
    {
     "data": {
      "application/vnd.jupyter.widget-view+json": {
       "model_id": "88023f4e2b5346519609c3f8e2f92121",
       "version_major": 2,
       "version_minor": 0
      },
      "text/plain": [
       "VBox()"
      ]
     },
     "metadata": {},
     "output_type": "display_data"
    },
    {
     "data": {
      "application/vnd.jupyter.widget-view+json": {
       "model_id": "",
       "version_major": 2,
       "version_minor": 0
      },
      "text/plain": [
       "FloatProgress(value=0.0, bar_style='info', description='Progress:', layout=Layout(height='25px', width='50%'),…"
      ]
     },
     "metadata": {},
     "output_type": "display_data"
    },
    {
     "name": "stdout",
     "output_type": "stream",
     "text": [
      "+--------------------+\n",
      "|            location|\n",
      "+--------------------+\n",
      "|          Albany, OR|\n",
      "|Albany-Schenectad...|\n",
      "|      Alexandria, LA|\n",
      "|Allentown-Bethleh...|\n",
      "|       Anchorage, AK|\n",
      "|Atlanta-Sandy Spr...|\n",
      "|Atlantic City-Ham...|\n",
      "|Austin-Round Rock...|\n",
      "|     Bakersfield, CA|\n",
      "|Baltimore-Columbi...|\n",
      "|        Billings, MT|\n",
      "|Birmingham-Hoover...|\n",
      "|Boston-Cambridge-...|\n",
      "|         Boulder, CO|\n",
      "|         Bozeman, MT|\n",
      "|Bridgeport-Stamfo...|\n",
      "|Buffalo-Cheektowa...|\n",
      "|Charlotte-Concord...|\n",
      "|Chicago-Napervill...|\n",
      "|Cincinnati, OH-KY-IN|\n",
      "+--------------------+\n",
      "only showing top 20 rows"
     ]
    }
   ],
   "source": [
    "# Location\n",
    "spark.sql(\n",
    "    '''\n",
    "    SELECT DISTINCT location\n",
    "    FROM clean_sql\n",
    "    ORDER BY location\n",
    "    '''\n",
    ").show()"
   ]
  },
  {
   "cell_type": "code",
   "execution_count": 162,
   "metadata": {},
   "outputs": [
    {
     "data": {
      "application/vnd.jupyter.widget-view+json": {
       "model_id": "12c0d9481b1d420d8e76a5b54574f0e4",
       "version_major": 2,
       "version_minor": 0
      },
      "text/plain": [
       "VBox()"
      ]
     },
     "metadata": {},
     "output_type": "display_data"
    },
    {
     "data": {
      "application/vnd.jupyter.widget-view+json": {
       "model_id": "",
       "version_major": 2,
       "version_minor": 0
      },
      "text/plain": [
       "FloatProgress(value=0.0, bar_style='info', description='Progress:', layout=Layout(height='25px', width='50%'),…"
      ]
     },
     "metadata": {},
     "output_type": "display_data"
    },
    {
     "name": "stdout",
     "output_type": "stream",
     "text": [
      "                                      location  count\n",
      "0           Los Angeles-Long Beach-Anaheim, CA  30131\n",
      "1        New York-Newark-Jersey City, NY-NJ-PA  23684\n",
      "2               Boston-Cambridge-Newton, MA-NH  13873\n",
      "3         Houston-The Woodlands-Sugar Land, TX   9499\n",
      "4            Charlotte-Concord-Gastonia, NC-SC   7780\n",
      "5              Dallas-Fort Worth-Arlington, TX   7605\n",
      "6           Louisville/Jefferson County, KY-IN   6880\n",
      "7  Philadelphia-Camden-Wilmington, PA-NJ-DE-MD   5890\n",
      "8           Chicago-Naperville-Elgin, IL-IN-WI   5114\n",
      "9                             St. Louis, MO-IL   4858"
     ]
    }
   ],
   "source": [
    "group_location = spark.sql(\n",
    "    '''\n",
    "    SELECT location, count(*) as count\n",
    "    FROM clean_sql\n",
    "    GROUP BY location\n",
    "    ORDER BY count(*) desc\n",
    "    LIMIT 10\n",
    "    '''\n",
    ").toPandas()\n",
    "\n",
    "group_location"
   ]
  },
  {
   "cell_type": "code",
   "execution_count": 163,
   "metadata": {},
   "outputs": [
    {
     "data": {
      "application/vnd.jupyter.widget-view+json": {
       "model_id": "66a660083a5943138427c8fff27a4cb6",
       "version_major": 2,
       "version_minor": 0
      },
      "text/plain": [
       "VBox()"
      ]
     },
     "metadata": {},
     "output_type": "display_data"
    },
    {
     "data": {
      "application/vnd.jupyter.widget-view+json": {
       "model_id": "",
       "version_major": 2,
       "version_minor": 0
      },
      "text/plain": [
       "FloatProgress(value=0.0, bar_style='info', description='Progress:', layout=Layout(height='25px', width='50%'),…"
      ]
     },
     "metadata": {},
     "output_type": "display_data"
    },
    {
     "data": {
      "image/png": "[encoded data removed]",
      "text/plain": [
       "<IPython.core.display.Image object>"
      ]
     },
     "metadata": {},
     "output_type": "display_data"
    }
   ],
   "source": [
    "plt.figure(figsize=(8,6))\n",
    "sns.barplot(x='location', y='count', data=group_location)\n",
    "plt.xticks(rotation=90)\n",
    "plt.show()\n",
    "%matplot plt"
   ]
  },
  {
   "cell_type": "code",
   "execution_count": 164,
   "metadata": {},
   "outputs": [
    {
     "data": {
      "application/vnd.jupyter.widget-view+json": {
       "model_id": "4d72a0703840437a9b6810c4b002b96b",
       "version_major": 2,
       "version_minor": 0
      },
      "text/plain": [
       "VBox()"
      ]
     },
     "metadata": {},
     "output_type": "display_data"
    },
    {
     "data": {
      "application/vnd.jupyter.widget-view+json": {
       "model_id": "",
       "version_major": 2,
       "version_minor": 0
      },
      "text/plain": [
       "FloatProgress(value=0.0, bar_style='info', description='Progress:', layout=Layout(height='25px', width='50%'),…"
      ]
     },
     "metadata": {},
     "output_type": "display_data"
    },
    {
     "name": "stdout",
     "output_type": "stream",
     "text": [
      "+------+\n",
      "|method|\n",
      "+------+\n",
      "|   GET|\n",
      "|   PUT|\n",
      "+------+"
     ]
    }
   ],
   "source": [
    "# method\n",
    "spark.sql(\n",
    "    '''\n",
    "    SELECT DISTINCT method\n",
    "    FROM clean_sql\n",
    "    ORDER BY method\n",
    "    '''\n",
    ").show()"
   ]
  },
  {
   "cell_type": "code",
   "execution_count": 165,
   "metadata": {},
   "outputs": [
    {
     "data": {
      "application/vnd.jupyter.widget-view+json": {
       "model_id": "d069591350cf4c71b664f247b84177b2",
       "version_major": 2,
       "version_minor": 0
      },
      "text/plain": [
       "VBox()"
      ]
     },
     "metadata": {},
     "output_type": "display_data"
    },
    {
     "data": {
      "application/vnd.jupyter.widget-view+json": {
       "model_id": "",
       "version_major": 2,
       "version_minor": 0
      },
      "text/plain": [
       "FloatProgress(value=0.0, bar_style='info', description='Progress:', layout=Layout(height='25px', width='50%'),…"
      ]
     },
     "metadata": {},
     "output_type": "display_data"
    },
    {
     "name": "stdout",
     "output_type": "stream",
     "text": [
      "  method   count\n",
      "0    PUT  257818\n",
      "1    GET   20336"
     ]
    }
   ],
   "source": [
    "group_method = spark.sql(\n",
    "    '''\n",
    "    SELECT method, count(*) as count\n",
    "    FROM clean_sql\n",
    "    GROUP BY method\n",
    "    ORDER BY count(*) desc\n",
    "    '''\n",
    ").toPandas()\n",
    "\n",
    "group_method"
   ]
  },
  {
   "cell_type": "code",
   "execution_count": 166,
   "metadata": {},
   "outputs": [
    {
     "data": {
      "application/vnd.jupyter.widget-view+json": {
       "model_id": "18cca86caa0c40e5904d4dd354b354dc",
       "version_major": 2,
       "version_minor": 0
      },
      "text/plain": [
       "VBox()"
      ]
     },
     "metadata": {},
     "output_type": "display_data"
    },
    {
     "data": {
      "application/vnd.jupyter.widget-view+json": {
       "model_id": "",
       "version_major": 2,
       "version_minor": 0
      },
      "text/plain": [
       "FloatProgress(value=0.0, bar_style='info', description='Progress:', layout=Layout(height='25px', width='50%'),…"
      ]
     },
     "metadata": {},
     "output_type": "display_data"
    },
    {
     "data": {
      "image/png": "[encoded data removed]",
      "text/plain": [
       "<IPython.core.display.Image object>"
      ]
     },
     "metadata": {},
     "output_type": "display_data"
    }
   ],
   "source": [
    "plt.figure(figsize=(8,6))\n",
    "sns.barplot(x='method', y='count', data=group_method)\n",
    "plt.show()\n",
    "%matplot plt"
   ]
  },
  {
   "cell_type": "code",
   "execution_count": 167,
   "metadata": {},
   "outputs": [
    {
     "data": {
      "application/vnd.jupyter.widget-view+json": {
       "model_id": "7f7c3141df0544ac97a206600afda68a",
       "version_major": 2,
       "version_minor": 0
      },
      "text/plain": [
       "VBox()"
      ]
     },
     "metadata": {},
     "output_type": "display_data"
    },
    {
     "data": {
      "application/vnd.jupyter.widget-view+json": {
       "model_id": "",
       "version_major": 2,
       "version_minor": 0
      },
      "text/plain": [
       "FloatProgress(value=0.0, bar_style='info', description='Progress:', layout=Layout(height='25px', width='50%'),…"
      ]
     },
     "metadata": {},
     "output_type": "display_data"
    },
    {
     "name": "stdout",
     "output_type": "stream",
     "text": [
      "+--------------------+\n",
      "|                page|\n",
      "+--------------------+\n",
      "|               About|\n",
      "|          Add Friend|\n",
      "|     Add to Playlist|\n",
      "|              Cancel|\n",
      "|Cancellation Conf...|\n",
      "|           Downgrade|\n",
      "|               Error|\n",
      "|                Help|\n",
      "|                Home|\n",
      "|              Logout|\n",
      "|            NextSong|\n",
      "|         Roll Advert|\n",
      "|       Save Settings|\n",
      "|            Settings|\n",
      "|    Submit Downgrade|\n",
      "|      Submit Upgrade|\n",
      "|         Thumbs Down|\n",
      "|           Thumbs Up|\n",
      "|             Upgrade|\n",
      "+--------------------+"
     ]
    }
   ],
   "source": [
    "# Page\n",
    "spark.sql(\n",
    "    '''\n",
    "    SELECT DISTINCT page\n",
    "    FROM clean_sql\n",
    "    ORDER BY page\n",
    "    '''\n",
    ").show()"
   ]
  },
  {
   "cell_type": "code",
   "execution_count": 168,
   "metadata": {},
   "outputs": [
    {
     "data": {
      "application/vnd.jupyter.widget-view+json": {
       "model_id": "a1681f20bf854986a6d6538a17896bfa",
       "version_major": 2,
       "version_minor": 0
      },
      "text/plain": [
       "VBox()"
      ]
     },
     "metadata": {},
     "output_type": "display_data"
    },
    {
     "data": {
      "application/vnd.jupyter.widget-view+json": {
       "model_id": "",
       "version_major": 2,
       "version_minor": 0
      },
      "text/plain": [
       "FloatProgress(value=0.0, bar_style='info', description='Progress:', layout=Layout(height='25px', width='50%'),…"
      ]
     },
     "metadata": {},
     "output_type": "display_data"
    },
    {
     "name": "stdout",
     "output_type": "stream",
     "text": [
      "              page   count\n",
      "0         NextSong  228108\n",
      "1        Thumbs Up   12551\n",
      "2             Home   10082\n",
      "3  Add to Playlist    6526\n",
      "4       Add Friend    4277"
     ]
    }
   ],
   "source": [
    "group_page=spark.sql('''\n",
    "    SELECT page, count(*) as count\n",
    "    FROM clean_sql\n",
    "    GROUP BY page\n",
    "    ORDER BY count(*) desc\n",
    "    LIMIT 5\n",
    "    '''\n",
    "    ).toPandas()\n",
    "\n",
    "group_page"
   ]
  },
  {
   "cell_type": "code",
   "execution_count": 169,
   "metadata": {},
   "outputs": [
    {
     "data": {
      "application/vnd.jupyter.widget-view+json": {
       "model_id": "f039b707f14941f2b6d5a21da14bfc45",
       "version_major": 2,
       "version_minor": 0
      },
      "text/plain": [
       "VBox()"
      ]
     },
     "metadata": {},
     "output_type": "display_data"
    },
    {
     "data": {
      "application/vnd.jupyter.widget-view+json": {
       "model_id": "",
       "version_major": 2,
       "version_minor": 0
      },
      "text/plain": [
       "FloatProgress(value=0.0, bar_style='info', description='Progress:', layout=Layout(height='25px', width='50%'),…"
      ]
     },
     "metadata": {},
     "output_type": "display_data"
    },
    {
     "name": "stdout",
     "output_type": "stream",
     "text": [
      "+--------------------+------+\n",
      "|                page| count|\n",
      "+--------------------+------+\n",
      "|            NextSong|228108|\n",
      "|           Thumbs Up| 12551|\n",
      "|                Home| 10082|\n",
      "|     Add to Playlist|  6526|\n",
      "|          Add Friend|  4277|\n",
      "|         Roll Advert|  3933|\n",
      "|              Logout|  3226|\n",
      "|         Thumbs Down|  2546|\n",
      "|           Downgrade|  2055|\n",
      "|            Settings|  1514|\n",
      "|                Help|  1454|\n",
      "|             Upgrade|   499|\n",
      "|               About|   495|\n",
      "|       Save Settings|   310|\n",
      "|               Error|   252|\n",
      "|      Submit Upgrade|   159|\n",
      "|    Submit Downgrade|    63|\n",
      "|              Cancel|    52|\n",
      "|Cancellation Conf...|    52|\n",
      "+--------------------+------+"
     ]
    }
   ],
   "source": [
    "spark.sql(\n",
    "    '''\n",
    "    SELECT page, count(*) as count\n",
    "    FROM clean_sql\n",
    "    GROUP BY page\n",
    "    ORDER BY count(*) desc\n",
    "    '''\n",
    ").show()"
   ]
  },
  {
   "cell_type": "code",
   "execution_count": 170,
   "metadata": {},
   "outputs": [
    {
     "data": {
      "application/vnd.jupyter.widget-view+json": {
       "model_id": "ddaef532185b4555a178f6303d6681e5",
       "version_major": 2,
       "version_minor": 0
      },
      "text/plain": [
       "VBox()"
      ]
     },
     "metadata": {},
     "output_type": "display_data"
    },
    {
     "data": {
      "application/vnd.jupyter.widget-view+json": {
       "model_id": "",
       "version_major": 2,
       "version_minor": 0
      },
      "text/plain": [
       "FloatProgress(value=0.0, bar_style='info', description='Progress:', layout=Layout(height='25px', width='50%'),…"
      ]
     },
     "metadata": {},
     "output_type": "display_data"
    },
    {
     "data": {
      "image/png": "[encoded data removed]",
      "text/plain": [
       "<IPython.core.display.Image object>"
      ]
     },
     "metadata": {},
     "output_type": "display_data"
    }
   ],
   "source": [
    "plt.figure(figsize=(8,6))\n",
    "sns.barplot(x='page', y='count', data=group_page)\n",
    "plt.show()\n",
    "%matplot plt"
   ]
  },
  {
   "cell_type": "code",
   "execution_count": 171,
   "metadata": {},
   "outputs": [
    {
     "data": {
      "application/vnd.jupyter.widget-view+json": {
       "model_id": "c97838302f4a4e7ca26256de3b9a21a0",
       "version_major": 2,
       "version_minor": 0
      },
      "text/plain": [
       "VBox()"
      ]
     },
     "metadata": {},
     "output_type": "display_data"
    },
    {
     "data": {
      "application/vnd.jupyter.widget-view+json": {
       "model_id": "",
       "version_major": 2,
       "version_minor": 0
      },
      "text/plain": [
       "FloatProgress(value=0.0, bar_style='info', description='Progress:', layout=Layout(height='25px', width='50%'),…"
      ]
     },
     "metadata": {},
     "output_type": "display_data"
    },
    {
     "name": "stdout",
     "output_type": "stream",
     "text": [
      "+--------------------+\n",
      "|                song|\n",
      "+--------------------+\n",
      "|                null|\n",
      "|\u001c",
      "ÃÂg ÃÂtti Gr...|\n",
      "| I Will Not Reap ...|\n",
      "|              !@*$%#|\n",
      "|#!*@ You Tonight ...|\n",
      "|                  #1|\n",
      "|#1 Fan [Feat. Key...|\n",
      "|           #1 Stunna|\n",
      "|                 #16|\n",
      "| #18 (Album Version)|\n",
      "|#2 For Prepared W...|\n",
      "|                 #24|\n",
      "|  #4 (Album Version)|\n",
      "|                 #40|\n",
      "|                   $|\n",
      "|       $1000 Wedding|\n",
      "|$87 And A Guilty ...|\n",
      "|                $in$|\n",
      "|       $timulus Plan|\n",
      "|              & Down|\n",
      "+--------------------+\n",
      "only showing top 20 rows"
     ]
    }
   ],
   "source": [
    "# Song\n",
    "spark.sql(\n",
    "    '''\n",
    "    SELECT DISTINCT song\n",
    "    FROM clean_sql\n",
    "    ORDER BY song\n",
    "    '''\n",
    ").show()"
   ]
  },
  {
   "cell_type": "code",
   "execution_count": 172,
   "metadata": {},
   "outputs": [
    {
     "data": {
      "application/vnd.jupyter.widget-view+json": {
       "model_id": "3f875c7f2af3485a8ee2a69e36e6c459",
       "version_major": 2,
       "version_minor": 0
      },
      "text/plain": [
       "VBox()"
      ]
     },
     "metadata": {},
     "output_type": "display_data"
    },
    {
     "data": {
      "application/vnd.jupyter.widget-view+json": {
       "model_id": "",
       "version_major": 2,
       "version_minor": 0
      },
      "text/plain": [
       "FloatProgress(value=0.0, bar_style='info', description='Progress:', layout=Layout(height='25px', width='50%'),…"
      ]
     },
     "metadata": {},
     "output_type": "display_data"
    },
    {
     "name": "stdout",
     "output_type": "stream",
     "text": [
      "                                                song  count\n",
      "0                                     You're The One   1153\n",
      "1                                               Undo   1026\n",
      "2                                            Revelry    854\n",
      "3                                      Sehr kosmisch    728\n",
      "4  Horn Concerto No. 4 in E flat K495: II. Romanc...    641\n",
      "5                     Dog Days Are Over (Radio Edit)    574\n",
      "6                                            Secrets    466\n",
      "7                                       Use Somebody    459\n",
      "8                                             Canada    435\n",
      "9                                            Invalid    424"
     ]
    }
   ],
   "source": [
    "group_song = spark.sql(\n",
    "    '''\n",
    "    SELECT song, count(*) as count\n",
    "    FROM clean_sql\n",
    "    WHERE song IS NOT null\n",
    "    GROUP BY song\n",
    "    ORDER BY count(*) DESC\n",
    "    LIMIT 10\n",
    "    '''\n",
    ").toPandas()\n",
    "\n",
    "group_song"
   ]
  },
  {
   "cell_type": "code",
   "execution_count": 173,
   "metadata": {},
   "outputs": [
    {
     "data": {
      "application/vnd.jupyter.widget-view+json": {
       "model_id": "6690e9bd00ee444c8d11ead35e5c6e29",
       "version_major": 2,
       "version_minor": 0
      },
      "text/plain": [
       "VBox()"
      ]
     },
     "metadata": {},
     "output_type": "display_data"
    },
    {
     "data": {
      "application/vnd.jupyter.widget-view+json": {
       "model_id": "",
       "version_major": 2,
       "version_minor": 0
      },
      "text/plain": [
       "FloatProgress(value=0.0, bar_style='info', description='Progress:', layout=Layout(height='25px', width='50%'),…"
      ]
     },
     "metadata": {},
     "output_type": "display_data"
    },
    {
     "data": {
      "image/png": "[encoded data removed]",
      "text/plain": [
       "<IPython.core.display.Image object>"
      ]
     },
     "metadata": {},
     "output_type": "display_data"
    }
   ],
   "source": [
    "plt.figure(figsize=(8,6))\n",
    "sns.barplot(x='song', y='count', data=group_song)\n",
    "plt.xticks(rotation=90)\n",
    "%matplot plt"
   ]
  },
  {
   "cell_type": "code",
   "execution_count": 174,
   "metadata": {},
   "outputs": [
    {
     "data": {
      "application/vnd.jupyter.widget-view+json": {
       "model_id": "0282abc867c849da8d462cb53585d1fb",
       "version_major": 2,
       "version_minor": 0
      },
      "text/plain": [
       "VBox()"
      ]
     },
     "metadata": {},
     "output_type": "display_data"
    },
    {
     "data": {
      "application/vnd.jupyter.widget-view+json": {
       "model_id": "",
       "version_major": 2,
       "version_minor": 0
      },
      "text/plain": [
       "FloatProgress(value=0.0, bar_style='info', description='Progress:', layout=Layout(height='25px', width='50%'),…"
      ]
     },
     "metadata": {},
     "output_type": "display_data"
    },
    {
     "name": "stdout",
     "output_type": "stream",
     "text": [
      "+--------------------+\n",
      "|           userAgent|\n",
      "+--------------------+\n",
      "|\"Mozilla/5.0 (Mac...|\n",
      "|\"Mozilla/5.0 (Mac...|\n",
      "|\"Mozilla/5.0 (Mac...|\n",
      "|\"Mozilla/5.0 (Mac...|\n",
      "|\"Mozilla/5.0 (Mac...|\n",
      "|\"Mozilla/5.0 (Mac...|\n",
      "|\"Mozilla/5.0 (Mac...|\n",
      "|\"Mozilla/5.0 (Mac...|\n",
      "|\"Mozilla/5.0 (Mac...|\n",
      "|\"Mozilla/5.0 (Mac...|\n",
      "|\"Mozilla/5.0 (Mac...|\n",
      "|\"Mozilla/5.0 (Mac...|\n",
      "|\"Mozilla/5.0 (Mac...|\n",
      "|\"Mozilla/5.0 (Mac...|\n",
      "|\"Mozilla/5.0 (Mac...|\n",
      "|\"Mozilla/5.0 (Mac...|\n",
      "|\"Mozilla/5.0 (Mac...|\n",
      "|\"Mozilla/5.0 (Win...|\n",
      "|\"Mozilla/5.0 (Win...|\n",
      "|\"Mozilla/5.0 (Win...|\n",
      "+--------------------+\n",
      "only showing top 20 rows"
     ]
    }
   ],
   "source": [
    "# userAgent\n",
    "spark.sql(\n",
    "    '''\n",
    "    SELECT DISTINCT userAgent\n",
    "    FROM clean_sql\n",
    "    ORDER BY userAgent\n",
    "    '''\n",
    ").show()"
   ]
  },
  {
   "cell_type": "code",
   "execution_count": 175,
   "metadata": {},
   "outputs": [
    {
     "data": {
      "application/vnd.jupyter.widget-view+json": {
       "model_id": "a9a2e2b0360a41538ab337cb3eaf4be0",
       "version_major": 2,
       "version_minor": 0
      },
      "text/plain": [
       "VBox()"
      ]
     },
     "metadata": {},
     "output_type": "display_data"
    },
    {
     "data": {
      "application/vnd.jupyter.widget-view+json": {
       "model_id": "",
       "version_major": 2,
       "version_minor": 0
      },
      "text/plain": [
       "FloatProgress(value=0.0, bar_style='info', description='Progress:', layout=Layout(height='25px', width='50%'),…"
      ]
     },
     "metadata": {},
     "output_type": "display_data"
    },
    {
     "name": "stdout",
     "output_type": "stream",
     "text": [
      "                                           userAgent  count\n",
      "0  \"Mozilla/5.0 (Windows NT 6.1; WOW64) AppleWebK...  22751\n",
      "1  \"Mozilla/5.0 (Macintosh; Intel Mac OS X 10_9_4...  19611\n",
      "2  \"Mozilla/5.0 (Macintosh; Intel Mac OS X 10_9_4...  18448\n",
      "3  \"Mozilla/5.0 (Macintosh; Intel Mac OS X 10_9_4...  17348\n",
      "4  Mozilla/5.0 (Windows NT 6.1; WOW64; rv:31.0) G...  16700\n",
      "5  \"Mozilla/5.0 (Windows NT 6.1; WOW64) AppleWebK...  15395\n",
      "6  \"Mozilla/5.0 (Windows NT 6.1; WOW64) AppleWebK...  14598\n",
      "7  Mozilla/5.0 (Macintosh; Intel Mac OS X 10.9; r...  10300\n",
      "8  \"Mozilla/5.0 (iPad; CPU OS 7_1_2 like Mac OS X...   8912\n",
      "9  Mozilla/5.0 (compatible; MSIE 9.0; Windows NT ...   8624"
     ]
    }
   ],
   "source": [
    "group_agent = spark.sql(\n",
    "    '''\n",
    "    SELECT userAgent, count(*) as count\n",
    "    FROM clean_sql\n",
    "    GROUP BY userAgent\n",
    "    ORDER BY count(*) DESC\n",
    "    LIMIT 10\n",
    "    '''\n",
    ").toPandas()\n",
    "\n",
    "group_agent"
   ]
  },
  {
   "cell_type": "code",
   "execution_count": 176,
   "metadata": {},
   "outputs": [
    {
     "data": {
      "application/vnd.jupyter.widget-view+json": {
       "model_id": "4b65088c4db24eeca91e650c39f08d46",
       "version_major": 2,
       "version_minor": 0
      },
      "text/plain": [
       "VBox()"
      ]
     },
     "metadata": {},
     "output_type": "display_data"
    },
    {
     "data": {
      "application/vnd.jupyter.widget-view+json": {
       "model_id": "",
       "version_major": 2,
       "version_minor": 0
      },
      "text/plain": [
       "FloatProgress(value=0.0, bar_style='info', description='Progress:', layout=Layout(height='25px', width='50%'),…"
      ]
     },
     "metadata": {},
     "output_type": "display_data"
    },
    {
     "data": {
      "image/png": "[encoded data removed]",
      "text/plain": [
       "<IPython.core.display.Image object>"
      ]
     },
     "metadata": {},
     "output_type": "display_data"
    }
   ],
   "source": [
    "plt.figure(figsize=(8,6))\n",
    "sns.barplot(x='userAgent', y='count', data=group_agent)\n",
    "plt.xticks(rotation=90)\n",
    "%matplot plt"
   ]
  },
  {
   "cell_type": "code",
   "execution_count": 13,
   "metadata": {},
   "outputs": [
    {
     "data": {
      "application/vnd.jupyter.widget-view+json": {
       "model_id": "201e81501a0345f184d4b444be935a7e",
       "version_major": 2,
       "version_minor": 0
      },
      "text/plain": [
       "VBox()"
      ]
     },
     "metadata": {},
     "output_type": "display_data"
    },
    {
     "data": {
      "application/vnd.jupyter.widget-view+json": {
       "model_id": "",
       "version_major": 2,
       "version_minor": 0
      },
      "text/plain": [
       "FloatProgress(value=0.0, bar_style='info', description='Progress:', layout=Layout(height='25px', width='50%'),…"
      ]
     },
     "metadata": {},
     "output_type": "display_data"
    },
    {
     "name": "stdout",
     "output_type": "stream",
     "text": [
      "<function <lambda> at 0x7fa89c34e0d0>"
     ]
    }
   ],
   "source": [
    "# DataTime Conversion\n",
    "datetime = udf(lambda x: dt.datetime.fromtimestamp(\n",
    "    int(x) / 1000).strftime(\"%Y-%m-%d %H:%M:%S\"))\n",
    "year = udf(lambda x: dt.datetime.fromtimestamp(int(x) / 1000).year)\n",
    "month = udf(lambda x: dt.datetime.fromtimestamp(int(x) / 1000).month)\n",
    "weekday = udf(lambda x: dt.datetime.fromtimestamp(int(x) / 1000).weekday())\n",
    "day = udf(lambda x: dt.datetime.fromtimestamp(int(x) / 1000).day)\n",
    "hour = udf(lambda x: dt.datetime.fromtimestamp(int(x) / 1000).hour)\n",
    "\n",
    "spark.udf.register('datetime', datetime)\n",
    "spark.udf.register('year', year)\n",
    "spark.udf.register('month', month)\n",
    "spark.udf.register('weekday', weekday)\n",
    "spark.udf.register('day', day)\n",
    "spark.udf.register('hour', hour)"
   ]
  },
  {
   "cell_type": "code",
   "execution_count": 14,
   "metadata": {},
   "outputs": [
    {
     "data": {
      "application/vnd.jupyter.widget-view+json": {
       "model_id": "8a1e3ee3524b4dbe849a8779de4c18e5",
       "version_major": 2,
       "version_minor": 0
      },
      "text/plain": [
       "VBox()"
      ]
     },
     "metadata": {},
     "output_type": "display_data"
    },
    {
     "data": {
      "application/vnd.jupyter.widget-view+json": {
       "model_id": "",
       "version_major": 2,
       "version_minor": 0
      },
      "text/plain": [
       "FloatProgress(value=0.0, bar_style='info', description='Progress:', layout=Layout(height='25px', width='50%'),…"
      ]
     },
     "metadata": {},
     "output_type": "display_data"
    }
   ],
   "source": [
    "datetime_data = spark.sql(\n",
    "    '''\n",
    "    SELECT userId,\n",
    "        datetime(registration) AS datetime_registration,\n",
    "        page,\n",
    "        datetime(ts) AS datetime_page,\n",
    "        CAST(year(ts) AS INT) AS year,\n",
    "        CAST(month(ts) AS INT) AS month,\n",
    "        CAST(weekday(ts) AS INT) AS weekday,\n",
    "        CAST(day(ts) AS INT) AS day,\n",
    "        CAST(hour(ts) AS INT) AS hour\n",
    "    FROM clean_sql\n",
    "    '''\n",
    ")\n",
    "\n",
    "datetime_data.createOrReplaceTempView('datetime_data')"
   ]
  },
  {
   "cell_type": "code",
   "execution_count": 179,
   "metadata": {},
   "outputs": [
    {
     "data": {
      "application/vnd.jupyter.widget-view+json": {
       "model_id": "e2d8eb0304c548a596d025d1b53ac4e9",
       "version_major": 2,
       "version_minor": 0
      },
      "text/plain": [
       "VBox()"
      ]
     },
     "metadata": {},
     "output_type": "display_data"
    },
    {
     "data": {
      "application/vnd.jupyter.widget-view+json": {
       "model_id": "",
       "version_major": 2,
       "version_minor": 0
      },
      "text/plain": [
       "FloatProgress(value=0.0, bar_style='info', description='Progress:', layout=Layout(height='25px', width='50%'),…"
      ]
     },
     "metadata": {},
     "output_type": "display_data"
    },
    {
     "name": "stdout",
     "output_type": "stream",
     "text": [
      "+------+---------------------+---------------+-------------------+----+-----+-------+---+----+\n",
      "|userId|datetime_registration|           page|      datetime_page|year|month|weekday|day|hour|\n",
      "+------+---------------------+---------------+-------------------+----+-----+-------+---+----+\n",
      "|    30|  2018-09-28 22:22:42|       NextSong|2018-10-01 00:01:57|2018|   10|      0|  1|   0|\n",
      "|     9|  2018-09-30 18:20:30|       NextSong|2018-10-01 00:03:00|2018|   10|      0|  1|   0|\n",
      "|    30|  2018-09-28 22:22:42|       NextSong|2018-10-01 00:06:34|2018|   10|      0|  1|   0|\n",
      "|     9|  2018-09-30 18:20:30|       NextSong|2018-10-01 00:06:56|2018|   10|      0|  1|   0|\n",
      "|    30|  2018-09-28 22:22:42|       NextSong|2018-10-01 00:11:16|2018|   10|      0|  1|   0|\n",
      "|     9|  2018-09-30 18:20:30|       NextSong|2018-10-01 00:11:18|2018|   10|      0|  1|   0|\n",
      "|     9|  2018-09-30 18:20:30|       NextSong|2018-10-01 00:14:46|2018|   10|      0|  1|   0|\n",
      "|    30|  2018-09-28 22:22:42|       NextSong|2018-10-01 00:14:59|2018|   10|      0|  1|   0|\n",
      "|    30|  2018-09-28 22:22:42|Add to Playlist|2018-10-01 00:15:05|2018|   10|      0|  1|   0|\n",
      "|    30|  2018-09-28 22:22:42|       NextSong|2018-10-01 00:18:04|2018|   10|      0|  1|   0|\n",
      "|     9|  2018-09-30 18:20:30|       NextSong|2018-10-01 00:19:06|2018|   10|      0|  1|   0|\n",
      "|     9|  2018-09-30 18:20:30|    Roll Advert|2018-10-01 00:19:10|2018|   10|      0|  1|   0|\n",
      "|    30|  2018-09-28 22:22:42|       NextSong|2018-10-01 00:20:18|2018|   10|      0|  1|   0|\n",
      "|     9|  2018-09-30 18:20:30|       NextSong|2018-10-01 00:22:55|2018|   10|      0|  1|   0|\n",
      "|     9|  2018-09-30 18:20:30|      Thumbs Up|2018-10-01 00:22:56|2018|   10|      0|  1|   0|\n",
      "|    30|  2018-09-28 22:22:42|       NextSong|2018-10-01 00:24:01|2018|   10|      0|  1|   0|\n",
      "|     9|  2018-09-30 18:20:30|       NextSong|2018-10-01 00:26:16|2018|   10|      0|  1|   0|\n",
      "|    74|  2018-09-19 13:53:39|       NextSong|2018-10-01 00:27:48|2018|   10|      0|  1|   0|\n",
      "|    30|  2018-09-28 22:22:42|       NextSong|2018-10-01 00:28:07|2018|   10|      0|  1|   0|\n",
      "|     9|  2018-09-30 18:20:30|       NextSong|2018-10-01 00:29:04|2018|   10|      0|  1|   0|\n",
      "+------+---------------------+---------------+-------------------+----+-----+-------+---+----+\n",
      "only showing top 20 rows"
     ]
    }
   ],
   "source": [
    "datetime_data.show()"
   ]
  },
  {
   "cell_type": "code",
   "execution_count": 180,
   "metadata": {},
   "outputs": [
    {
     "data": {
      "application/vnd.jupyter.widget-view+json": {
       "model_id": "d4f4b6a9f9b04c9a8504ba9ddc206a1d",
       "version_major": 2,
       "version_minor": 0
      },
      "text/plain": [
       "VBox()"
      ]
     },
     "metadata": {},
     "output_type": "display_data"
    },
    {
     "data": {
      "application/vnd.jupyter.widget-view+json": {
       "model_id": "",
       "version_major": 2,
       "version_minor": 0
      },
      "text/plain": [
       "FloatProgress(value=0.0, bar_style='info', description='Progress:', layout=Layout(height='25px', width='50%'),…"
      ]
     },
     "metadata": {},
     "output_type": "display_data"
    },
    {
     "name": "stdout",
     "output_type": "stream",
     "text": [
      "   year   count\n",
      "0  2018  278154"
     ]
    }
   ],
   "source": [
    "group_year = spark.sql(\n",
    "    '''\n",
    "    SELECT year, COUNT(*) AS count\n",
    "    FROM datetime_data\n",
    "    GROUP BY year\n",
    "    '''\n",
    ").toPandas()\n",
    "\n",
    "group_year"
   ]
  },
  {
   "cell_type": "code",
   "execution_count": 181,
   "metadata": {},
   "outputs": [
    {
     "data": {
      "application/vnd.jupyter.widget-view+json": {
       "model_id": "e2781109cd6b40dc8511ea9f8552f6e3",
       "version_major": 2,
       "version_minor": 0
      },
      "text/plain": [
       "VBox()"
      ]
     },
     "metadata": {},
     "output_type": "display_data"
    },
    {
     "data": {
      "application/vnd.jupyter.widget-view+json": {
       "model_id": "",
       "version_major": 2,
       "version_minor": 0
      },
      "text/plain": [
       "FloatProgress(value=0.0, bar_style='info', description='Progress:', layout=Layout(height='25px', width='50%'),…"
      ]
     },
     "metadata": {},
     "output_type": "display_data"
    },
    {
     "name": "stdout",
     "output_type": "stream",
     "text": [
      "   month   count\n",
      "0     12       4\n",
      "1     10  144916\n",
      "2     11  133234"
     ]
    }
   ],
   "source": [
    "group_month = spark.sql(\n",
    "    '''\n",
    "    SELECT month, COUNT(*) AS count\n",
    "    FROM datetime_data\n",
    "    GROUP BY month\n",
    "    '''\n",
    ").toPandas()\n",
    "\n",
    "group_month"
   ]
  },
  {
   "cell_type": "code",
   "execution_count": 182,
   "metadata": {},
   "outputs": [
    {
     "data": {
      "application/vnd.jupyter.widget-view+json": {
       "model_id": "d4cedbc968624f7298195dfb30932eae",
       "version_major": 2,
       "version_minor": 0
      },
      "text/plain": [
       "VBox()"
      ]
     },
     "metadata": {},
     "output_type": "display_data"
    },
    {
     "data": {
      "application/vnd.jupyter.widget-view+json": {
       "model_id": "",
       "version_major": 2,
       "version_minor": 0
      },
      "text/plain": [
       "FloatProgress(value=0.0, bar_style='info', description='Progress:', layout=Layout(height='25px', width='50%'),…"
      ]
     },
     "metadata": {},
     "output_type": "display_data"
    },
    {
     "data": {
      "image/png": "[encoded data removed]",
      "text/plain": [
       "<IPython.core.display.Image object>"
      ]
     },
     "metadata": {},
     "output_type": "display_data"
    }
   ],
   "source": [
    "plt.figure(figsize=(8,6))\n",
    "sns.barplot(x='month', y='count', data=group_month)\n",
    "%matplot plt"
   ]
  },
  {
   "cell_type": "code",
   "execution_count": 183,
   "metadata": {},
   "outputs": [
    {
     "data": {
      "application/vnd.jupyter.widget-view+json": {
       "model_id": "08ab9bdeb49c450aba0064ad2892453a",
       "version_major": 2,
       "version_minor": 0
      },
      "text/plain": [
       "VBox()"
      ]
     },
     "metadata": {},
     "output_type": "display_data"
    },
    {
     "data": {
      "application/vnd.jupyter.widget-view+json": {
       "model_id": "",
       "version_major": 2,
       "version_minor": 0
      },
      "text/plain": [
       "FloatProgress(value=0.0, bar_style='info', description='Progress:', layout=Layout(height='25px', width='50%'),…"
      ]
     },
     "metadata": {},
     "output_type": "display_data"
    },
    {
     "name": "stdout",
     "output_type": "stream",
     "text": [
      "   weekday  count\n",
      "0        1  47364\n",
      "1        6  21050\n",
      "2        3  44320\n",
      "3        5  28027\n",
      "4        4  48173\n",
      "5        2  45968\n",
      "6        0  43252"
     ]
    }
   ],
   "source": [
    "group_weekday = spark.sql(\n",
    "    '''\n",
    "    SELECT weekday, COUNT(*) AS count\n",
    "    FROM datetime_data\n",
    "    GROUP BY weekday\n",
    "    '''\n",
    ").toPandas()\n",
    "\n",
    "group_weekday"
   ]
  },
  {
   "cell_type": "code",
   "execution_count": 184,
   "metadata": {},
   "outputs": [
    {
     "data": {
      "application/vnd.jupyter.widget-view+json": {
       "model_id": "fb8a2759b3f248eeb3e082320094ea88",
       "version_major": 2,
       "version_minor": 0
      },
      "text/plain": [
       "VBox()"
      ]
     },
     "metadata": {},
     "output_type": "display_data"
    },
    {
     "data": {
      "application/vnd.jupyter.widget-view+json": {
       "model_id": "",
       "version_major": 2,
       "version_minor": 0
      },
      "text/plain": [
       "FloatProgress(value=0.0, bar_style='info', description='Progress:', layout=Layout(height='25px', width='50%'),…"
      ]
     },
     "metadata": {},
     "output_type": "display_data"
    },
    {
     "data": {
      "image/png": "[encoded data removed]",
      "text/plain": [
       "<IPython.core.display.Image object>"
      ]
     },
     "metadata": {},
     "output_type": "display_data"
    }
   ],
   "source": [
    "plt.figure(figsize=(8,6))\n",
    "sns.barplot(x='weekday', y='count', data=group_weekday)\n",
    "%matplot plt"
   ]
  },
  {
   "cell_type": "code",
   "execution_count": 185,
   "metadata": {},
   "outputs": [
    {
     "data": {
      "application/vnd.jupyter.widget-view+json": {
       "model_id": "851222f524ef4e7996936bc5c030f997",
       "version_major": 2,
       "version_minor": 0
      },
      "text/plain": [
       "VBox()"
      ]
     },
     "metadata": {},
     "output_type": "display_data"
    },
    {
     "data": {
      "application/vnd.jupyter.widget-view+json": {
       "model_id": "",
       "version_major": 2,
       "version_minor": 0
      },
      "text/plain": [
       "FloatProgress(value=0.0, bar_style='info', description='Progress:', layout=Layout(height='25px', width='50%'),…"
      ]
     },
     "metadata": {},
     "output_type": "display_data"
    },
    {
     "name": "stdout",
     "output_type": "stream",
     "text": [
      "    day  count\n",
      "0    31   5102\n",
      "1    28   6825\n",
      "2    26  10117\n",
      "3    27   9615\n",
      "4    12   8964\n",
      "5    22   8025\n",
      "6     1  11298\n",
      "7    13   7855\n",
      "8    16  11007\n",
      "9     6   8372\n",
      "10    3   7934\n",
      "11   20  10882\n",
      "12    5   8505\n",
      "13   19  10122\n",
      "14   15  10882\n",
      "15    9  11292\n",
      "16   17   7632\n",
      "17    4   7059\n",
      "18    8   9028\n",
      "19   23   9866\n",
      "20    7   7258\n",
      "21   10   9380\n",
      "22   25   7836\n",
      "23   24   8242\n",
      "24   29   9726\n",
      "25   21   9306\n",
      "26   11   8375\n",
      "27   14   7171\n",
      "28    2  11843\n",
      "29   30  10964\n",
      "30   18   7671"
     ]
    }
   ],
   "source": [
    "group_day = spark.sql(\n",
    "    '''\n",
    "    SELECT day, COUNT(*) AS count\n",
    "    FROM datetime_data\n",
    "    GROUP BY day\n",
    "    '''\n",
    ").toPandas()\n",
    "\n",
    "group_day"
   ]
  },
  {
   "cell_type": "code",
   "execution_count": 186,
   "metadata": {},
   "outputs": [
    {
     "data": {
      "application/vnd.jupyter.widget-view+json": {
       "model_id": "9aeca7a85bef422ca798dd6f44254237",
       "version_major": 2,
       "version_minor": 0
      },
      "text/plain": [
       "VBox()"
      ]
     },
     "metadata": {},
     "output_type": "display_data"
    },
    {
     "data": {
      "application/vnd.jupyter.widget-view+json": {
       "model_id": "",
       "version_major": 2,
       "version_minor": 0
      },
      "text/plain": [
       "FloatProgress(value=0.0, bar_style='info', description='Progress:', layout=Layout(height='25px', width='50%'),…"
      ]
     },
     "metadata": {},
     "output_type": "display_data"
    },
    {
     "data": {
      "image/png": "[encoded data removed]",
      "text/plain": [
       "<IPython.core.display.Image object>"
      ]
     },
     "metadata": {},
     "output_type": "display_data"
    }
   ],
   "source": [
    "plt.figure(figsize=(8,6))\n",
    "sns.barplot(x='day', y='count', data=group_day)\n",
    "%matplot plt"
   ]
  },
  {
   "cell_type": "code",
   "execution_count": 187,
   "metadata": {},
   "outputs": [
    {
     "data": {
      "application/vnd.jupyter.widget-view+json": {
       "model_id": "395123509f5241708c81e067069ed371",
       "version_major": 2,
       "version_minor": 0
      },
      "text/plain": [
       "VBox()"
      ]
     },
     "metadata": {},
     "output_type": "display_data"
    },
    {
     "data": {
      "application/vnd.jupyter.widget-view+json": {
       "model_id": "",
       "version_major": 2,
       "version_minor": 0
      },
      "text/plain": [
       "FloatProgress(value=0.0, bar_style='info', description='Progress:', layout=Layout(height='25px', width='50%'),…"
      ]
     },
     "metadata": {},
     "output_type": "display_data"
    },
    {
     "name": "stdout",
     "output_type": "stream",
     "text": [
      "    hour  count\n",
      "0     12  11459\n",
      "1     22  12254\n",
      "2      1  10149\n",
      "3     13  11846\n",
      "4      6   9801\n",
      "5     16  14297\n",
      "6      3  10126\n",
      "7     20  13215\n",
      "8      5  10009\n",
      "9     19  13366\n",
      "10    15  13936\n",
      "11     9  10217\n",
      "12    17  14082\n",
      "13     4   9954\n",
      "14     8  10000\n",
      "15    23  11778\n",
      "16     7   9801\n",
      "17    10  10789\n",
      "18    21  12688\n",
      "19    11  10779\n",
      "20    14  12835\n",
      "21     2  10095\n",
      "22     0  11079\n",
      "23    18  13599"
     ]
    }
   ],
   "source": [
    "group_hour = spark.sql(\n",
    "    '''\n",
    "    SELECT hour, COUNT(*) AS count\n",
    "    FROM datetime_data\n",
    "    GROUP BY hour\n",
    "    '''\n",
    ").toPandas()\n",
    "\n",
    "group_hour"
   ]
  },
  {
   "cell_type": "code",
   "execution_count": 188,
   "metadata": {},
   "outputs": [
    {
     "data": {
      "application/vnd.jupyter.widget-view+json": {
       "model_id": "ad4a0fcc953e42019a514a90ef346ee9",
       "version_major": 2,
       "version_minor": 0
      },
      "text/plain": [
       "VBox()"
      ]
     },
     "metadata": {},
     "output_type": "display_data"
    },
    {
     "data": {
      "application/vnd.jupyter.widget-view+json": {
       "model_id": "",
       "version_major": 2,
       "version_minor": 0
      },
      "text/plain": [
       "FloatProgress(value=0.0, bar_style='info', description='Progress:', layout=Layout(height='25px', width='50%'),…"
      ]
     },
     "metadata": {},
     "output_type": "display_data"
    },
    {
     "data": {
      "image/png": "[encoded data removed]",
      "text/plain": [
       "<IPython.core.display.Image object>"
      ]
     },
     "metadata": {},
     "output_type": "display_data"
    }
   ],
   "source": [
    "plt.figure(figsize=(8,6))\n",
    "sns.barplot(x='hour', y='count', data=group_hour)\n",
    "%matplot plt"
   ]
  },
  {
   "cell_type": "code",
   "execution_count": 16,
   "metadata": {},
   "outputs": [
    {
     "data": {
      "application/vnd.jupyter.widget-view+json": {
       "model_id": "a15674bcf57a4f3583e6c9f7c13eee5e",
       "version_major": 2,
       "version_minor": 0
      },
      "text/plain": [
       "VBox()"
      ]
     },
     "metadata": {},
     "output_type": "display_data"
    },
    {
     "data": {
      "application/vnd.jupyter.widget-view+json": {
       "model_id": "",
       "version_major": 2,
       "version_minor": 0
      },
      "text/plain": [
       "FloatProgress(value=0.0, bar_style='info', description='Progress:', layout=Layout(height='25px', width='50%'),…"
      ]
     },
     "metadata": {},
     "output_type": "display_data"
    }
   ],
   "source": [
    "# Find Cancellation and mark churn\n",
    "churn_sql = spark.sql(\n",
    "    '''\n",
    "    SELECT u.*,\n",
    "        (CASE WHEN c.userId IS null THEN 0\n",
    "              ELSE 1\n",
    "         END) AS churn\n",
    "    FROM clean_sql AS u\n",
    "    LEFT JOIN \n",
    "    (SELECT userId \n",
    "     FROM clean_sql\n",
    "     WHERE page = 'Cancellation Confirmation') AS c\n",
    "    ON u.userId = c.userId\n",
    "    '''\n",
    ")\n",
    "\n",
    "churn_sql.createOrReplaceTempView('churn_sql')"
   ]
  },
  {
   "cell_type": "code",
   "execution_count": 190,
   "metadata": {},
   "outputs": [
    {
     "data": {
      "application/vnd.jupyter.widget-view+json": {
       "model_id": "067bf444ce0c4cfab31085b9410280f2",
       "version_major": 2,
       "version_minor": 0
      },
      "text/plain": [
       "VBox()"
      ]
     },
     "metadata": {},
     "output_type": "display_data"
    },
    {
     "data": {
      "application/vnd.jupyter.widget-view+json": {
       "model_id": "",
       "version_major": 2,
       "version_minor": 0
      },
      "text/plain": [
       "FloatProgress(value=0.0, bar_style='info', description='Progress:', layout=Layout(height='25px', width='50%'),…"
      ]
     },
     "metadata": {},
     "output_type": "display_data"
    },
    {
     "name": "stdout",
     "output_type": "stream",
     "text": [
      "+---------------+---------+---------+------+-------------+---------+---------+-----+--------------------+------+-----------+-------------+---------+--------------------+------+-------------+--------------------+------+-----+\n",
      "|         artist|     auth|firstName|gender|itemInSession| lastName|   length|level|            location|method|       page| registration|sessionId|                song|status|           ts|           userAgent|userId|churn|\n",
      "+---------------+---------+---------+------+-------------+---------+---------+-----+--------------------+------+-----------+-------------+---------+--------------------+------+-------------+--------------------+------+-----+\n",
      "|     Ron Carter|Logged In| Darianna|     F|            0|Carpenter|497.13587| free|Bridgeport-Stamfo...|   PUT|   NextSong|1538016340000|      133| I CAN'T GET STARTED|   200|1541411290000|\"Mozilla/5.0 (iPh...|100010|    0|\n",
      "|      Limi-T 21|Logged In| Darianna|     F|            1|Carpenter|254.79791| free|Bridgeport-Stamfo...|   PUT|   NextSong|1538016340000|      133|         Si Supieras|   200|1541411787000|\"Mozilla/5.0 (iPh...|100010|    0|\n",
      "|    Black Cobra|Logged In| Darianna|     F|            2|Carpenter|214.62159| free|Bridgeport-Stamfo...|   PUT|   NextSong|1538016340000|      133|        Chronosphere|   200|1541412041000|\"Mozilla/5.0 (iPh...|100010|    0|\n",
      "|      Nevermore|Logged In| Darianna|     F|            3|Carpenter|320.57424| free|Bridgeport-Stamfo...|   PUT|   NextSong|1538016340000|      133|           Matricide|   200|1541412255000|\"Mozilla/5.0 (iPh...|100010|    0|\n",
      "|           null|Logged In| Darianna|     F|            4|Carpenter|     null| free|Bridgeport-Stamfo...|   PUT|Thumbs Down|1538016340000|      133|                null|   307|1541412256000|\"Mozilla/5.0 (iPh...|100010|    0|\n",
      "|       Anberlin|Logged In| Darianna|     F|            5|Carpenter|194.76853| free|Bridgeport-Stamfo...|   PUT|   NextSong|1538016340000|      133|            Adelaide|   200|1541412575000|\"Mozilla/5.0 (iPh...|100010|    0|\n",
      "|   Foo Fighters|Logged In| Darianna|     F|            6|Carpenter|235.28444| free|Bridgeport-Stamfo...|   PUT|   NextSong|1538016340000|      133|        Learn To Fly|   200|1541412769000|\"Mozilla/5.0 (iPh...|100010|    0|\n",
      "|          Bobby|Logged In| Darianna|     F|            7|Carpenter|289.04444| free|Bridgeport-Stamfo...|   PUT|   NextSong|1538016340000|      133| Want You To Know Me|   200|1541413004000|\"Mozilla/5.0 (iPh...|100010|    0|\n",
      "|           null|Logged In| Darianna|     F|            8|Carpenter|     null| free|Bridgeport-Stamfo...|   GET|Roll Advert|1538016340000|      133|                null|   200|1541413023000|\"Mozilla/5.0 (iPh...|100010|    0|\n",
      "|       Coldplay|Logged In| Darianna|     F|            9|Carpenter|331.17995| free|Bridgeport-Stamfo...|   PUT|   NextSong|1538016340000|      133|        Warning Sign|   200|1541413293000|\"Mozilla/5.0 (iPh...|100010|    0|\n",
      "|           null|Logged In| Darianna|     F|           10|Carpenter|     null| free|Bridgeport-Stamfo...|   PUT|  Thumbs Up|1538016340000|      133|                null|   307|1541413294000|\"Mozilla/5.0 (iPh...|100010|    0|\n",
      "|    The Killers|Logged In| Darianna|     F|           11|Carpenter|360.75057| free|Bridgeport-Stamfo...|   PUT|   NextSong|1538016340000|      133|               Human|   200|1541413624000|\"Mozilla/5.0 (iPh...|100010|    0|\n",
      "|       Enslaved|Logged In| Darianna|     F|           12|Carpenter|464.90077| free|Bridgeport-Stamfo...|   PUT|   NextSong|1538016340000|      133|    Isoders Dronning|   200|1541413984000|\"Mozilla/5.0 (iPh...|100010|    0|\n",
      "|     Toro Y Moi|Logged In| Darianna|     F|           13|Carpenter|204.17261| free|Bridgeport-Stamfo...|   PUT|   NextSong|1538016340000|      133|             You Hid|   200|1541414448000|\"Mozilla/5.0 (iPh...|100010|    0|\n",
      "|           null|Logged In| Darianna|     F|           14|Carpenter|     null| free|Bridgeport-Stamfo...|   GET|Roll Advert|1538016340000|      133|                null|   200|1541414452000|\"Mozilla/5.0 (iPh...|100010|    0|\n",
      "|        Daddy X|Logged In| Darianna|     F|           15|Carpenter|220.29016| free|Bridgeport-Stamfo...|   PUT|   NextSong|1538016340000|      133|               Money|   200|1541414652000|\"Mozilla/5.0 (iPh...|100010|    0|\n",
      "|           null|Logged In| Darianna|     F|           16|Carpenter|     null| free|Bridgeport-Stamfo...|   GET|Roll Advert|1538016340000|      133|                null|   200|1541414666000|\"Mozilla/5.0 (iPh...|100010|    0|\n",
      "|        Caspian|Logged In| Darianna|     F|           17|Carpenter|326.24281| free|Bridgeport-Stamfo...|   PUT|   NextSong|1538016340000|      133|Some Are White Light|   200|1541414872000|\"Mozilla/5.0 (iPh...|100010|    0|\n",
      "|           null|Logged In| Darianna|     F|           18|Carpenter|     null| free|Bridgeport-Stamfo...|   GET|Roll Advert|1538016340000|      133|                null|   200|1541414875000|\"Mozilla/5.0 (iPh...|100010|    0|\n",
      "|Haloo Helsinki!|Logged In| Darianna|     F|           19|Carpenter|223.42485| free|Bridgeport-Stamfo...|   PUT|   NextSong|1538016340000|      133|     Kaaos ei karkaa|   200|1541415198000|\"Mozilla/5.0 (iPh...|100010|    0|\n",
      "+---------------+---------+---------+------+-------------+---------+---------+-----+--------------------+------+-----------+-------------+---------+--------------------+------+-------------+--------------------+------+-----+\n",
      "only showing top 20 rows"
     ]
    }
   ],
   "source": [
    "churn_sql.show()"
   ]
  },
  {
   "cell_type": "code",
   "execution_count": 191,
   "metadata": {},
   "outputs": [
    {
     "data": {
      "application/vnd.jupyter.widget-view+json": {
       "model_id": "3458c12ad59246be9c0eeb7fd824867f",
       "version_major": 2,
       "version_minor": 0
      },
      "text/plain": [
       "VBox()"
      ]
     },
     "metadata": {},
     "output_type": "display_data"
    },
    {
     "data": {
      "application/vnd.jupyter.widget-view+json": {
       "model_id": "",
       "version_major": 2,
       "version_minor": 0
      },
      "text/plain": [
       "FloatProgress(value=0.0, bar_style='info', description='Progress:', layout=Layout(height='25px', width='50%'),…"
      ]
     },
     "metadata": {},
     "output_type": "display_data"
    },
    {
     "name": "stdout",
     "output_type": "stream",
     "text": [
      "+-----+-----+\n",
      "|churn|count|\n",
      "+-----+-----+\n",
      "|    1|   52|\n",
      "|    0|  173|\n",
      "+-----+-----+"
     ]
    }
   ],
   "source": [
    "# Explore Churn\n",
    "spark.sql(\n",
    "    '''\n",
    "    SELECT churn, count(DISTINCT userId) as count\n",
    "    FROM churn_sql\n",
    "    GROUP BY churn\n",
    "    '''\n",
    ").show()"
   ]
  },
  {
   "cell_type": "code",
   "execution_count": 17,
   "metadata": {},
   "outputs": [
    {
     "data": {
      "application/vnd.jupyter.widget-view+json": {
       "model_id": "32d7cf106a624e399caba51e248f34fc",
       "version_major": 2,
       "version_minor": 0
      },
      "text/plain": [
       "VBox()"
      ]
     },
     "metadata": {},
     "output_type": "display_data"
    },
    {
     "data": {
      "application/vnd.jupyter.widget-view+json": {
       "model_id": "",
       "version_major": 2,
       "version_minor": 0
      },
      "text/plain": [
       "FloatProgress(value=0.0, bar_style='info', description='Progress:', layout=Layout(height='25px', width='50%'),…"
      ]
     },
     "metadata": {},
     "output_type": "display_data"
    }
   ],
   "source": [
    "# total_activity\n",
    "total_activity = spark.sql(\n",
    "    '''\n",
    "    SELECT a.userId, a.total_activity, c.churn\n",
    "    FROM (SELECT userId, COUNT(*) AS total_activity\n",
    "          FROM clean_sql\n",
    "          GROUP BY userId) AS a\n",
    "    JOIN (SELECT userId, max(churn) as churn\n",
    "               FROM churn_sql\n",
    "               GROUP BY userId) as c\n",
    "    ON a.userId=c.userId\n",
    "    '''\n",
    ")"
   ]
  },
  {
   "cell_type": "code",
   "execution_count": 193,
   "metadata": {},
   "outputs": [
    {
     "data": {
      "application/vnd.jupyter.widget-view+json": {
       "model_id": "9d2c5a4432eb459e90d4161070876feb",
       "version_major": 2,
       "version_minor": 0
      },
      "text/plain": [
       "VBox()"
      ]
     },
     "metadata": {},
     "output_type": "display_data"
    },
    {
     "data": {
      "application/vnd.jupyter.widget-view+json": {
       "model_id": "",
       "version_major": 2,
       "version_minor": 0
      },
      "text/plain": [
       "FloatProgress(value=0.0, bar_style='info', description='Progress:', layout=Layout(height='25px', width='50%'),…"
      ]
     },
     "metadata": {},
     "output_type": "display_data"
    },
    {
     "name": "stdout",
     "output_type": "stream",
     "text": [
      "     userId  total_activity  churn\n",
      "0    100010             381      0\n",
      "1    200002             474      0\n",
      "2       125              11      1\n",
      "3       124            4825      0\n",
      "4        51            2464      1\n",
      "..      ...             ...    ...\n",
      "220      45            1776      0\n",
      "221      57             112      0\n",
      "222  200021            1502      1\n",
      "223     119             223      0\n",
      "224  100001             187      1\n",
      "\n",
      "[225 rows x 3 columns]"
     ]
    }
   ],
   "source": [
    "# churn=0 tends to have less activities\n",
    "total_activity_df = total_activity.toPandas()\n",
    "total_activity_df"
   ]
  },
  {
   "cell_type": "code",
   "execution_count": 194,
   "metadata": {},
   "outputs": [
    {
     "data": {
      "application/vnd.jupyter.widget-view+json": {
       "model_id": "0a3730cacd2a438f9380ee5db39a61f3",
       "version_major": 2,
       "version_minor": 0
      },
      "text/plain": [
       "VBox()"
      ]
     },
     "metadata": {},
     "output_type": "display_data"
    },
    {
     "data": {
      "application/vnd.jupyter.widget-view+json": {
       "model_id": "",
       "version_major": 2,
       "version_minor": 0
      },
      "text/plain": [
       "FloatProgress(value=0.0, bar_style='info', description='Progress:', layout=Layout(height='25px', width='50%'),…"
      ]
     },
     "metadata": {},
     "output_type": "display_data"
    },
    {
     "data": {
      "image/png": "[encoded data removed]",
      "text/plain": [
       "<IPython.core.display.Image object>"
      ]
     },
     "metadata": {},
     "output_type": "display_data"
    }
   ],
   "source": [
    "plt.figure(figsize=(8,6))\n",
    "sns.distplot(\n",
    "    total_activity_df[total_activity_df['churn'] == 0]['total_activity'])\n",
    "sns.distplot(\n",
    "    total_activity_df[total_activity_df['churn'] == 1]['total_activity'])\n",
    "%matplot plt"
   ]
  },
  {
   "cell_type": "code",
   "execution_count": 18,
   "metadata": {},
   "outputs": [
    {
     "data": {
      "application/vnd.jupyter.widget-view+json": {
       "model_id": "aff0de1467974479a3b1e2c0c2fccb3f",
       "version_major": 2,
       "version_minor": 0
      },
      "text/plain": [
       "VBox()"
      ]
     },
     "metadata": {},
     "output_type": "display_data"
    },
    {
     "data": {
      "application/vnd.jupyter.widget-view+json": {
       "model_id": "",
       "version_major": 2,
       "version_minor": 0
      },
      "text/plain": [
       "FloatProgress(value=0.0, bar_style='info', description='Progress:', layout=Layout(height='25px', width='50%'),…"
      ]
     },
     "metadata": {},
     "output_type": "display_data"
    }
   ],
   "source": [
    "total_activity.createOrReplaceTempView('total_activity')"
   ]
  },
  {
   "cell_type": "code",
   "execution_count": 196,
   "metadata": {},
   "outputs": [
    {
     "data": {
      "application/vnd.jupyter.widget-view+json": {
       "model_id": "259735d5ac1e422c813bca7a92847571",
       "version_major": 2,
       "version_minor": 0
      },
      "text/plain": [
       "VBox()"
      ]
     },
     "metadata": {},
     "output_type": "display_data"
    },
    {
     "data": {
      "application/vnd.jupyter.widget-view+json": {
       "model_id": "",
       "version_major": 2,
       "version_minor": 0
      },
      "text/plain": [
       "FloatProgress(value=0.0, bar_style='info', description='Progress:', layout=Layout(height='25px', width='50%'),…"
      ]
     },
     "metadata": {},
     "output_type": "display_data"
    },
    {
     "name": "stdout",
     "output_type": "stream",
     "text": [
      "   churn       auth  count\n",
      "0      1  Cancelled     52\n",
      "1      0  Logged In    173\n",
      "2      1  Logged In     52"
     ]
    }
   ],
   "source": [
    "# Churn * Auth\n",
    "\n",
    "churn_auth = spark.sql(\n",
    "    '''\n",
    "    SELECT churn, auth, count(DISTINCT userId) as count\n",
    "    FROM churn_sql\n",
    "    GROUP BY churn, auth\n",
    "    '''\n",
    ").toPandas()\n",
    "\n",
    "churn_auth"
   ]
  },
  {
   "cell_type": "code",
   "execution_count": 197,
   "metadata": {},
   "outputs": [
    {
     "data": {
      "application/vnd.jupyter.widget-view+json": {
       "model_id": "f24eda00007a4fbeb9d1d2d40cee3508",
       "version_major": 2,
       "version_minor": 0
      },
      "text/plain": [
       "VBox()"
      ]
     },
     "metadata": {},
     "output_type": "display_data"
    },
    {
     "data": {
      "application/vnd.jupyter.widget-view+json": {
       "model_id": "",
       "version_major": 2,
       "version_minor": 0
      },
      "text/plain": [
       "FloatProgress(value=0.0, bar_style='info', description='Progress:', layout=Layout(height='25px', width='50%'),…"
      ]
     },
     "metadata": {},
     "output_type": "display_data"
    },
    {
     "data": {
      "image/png": "[encoded data removed]",
      "text/plain": [
       "<IPython.core.display.Image object>"
      ]
     },
     "metadata": {},
     "output_type": "display_data"
    }
   ],
   "source": [
    "# churn users never cancel login\n",
    "plt.figure(figsize=(8,6))\n",
    "sns.barplot(x='auth', y='count', hue='churn', data=churn_auth)\n",
    "%matplot plt"
   ]
  },
  {
   "cell_type": "code",
   "execution_count": 198,
   "metadata": {},
   "outputs": [
    {
     "data": {
      "application/vnd.jupyter.widget-view+json": {
       "model_id": "ce755cbf0e3e487aaab98b22e0c85548",
       "version_major": 2,
       "version_minor": 0
      },
      "text/plain": [
       "VBox()"
      ]
     },
     "metadata": {},
     "output_type": "display_data"
    },
    {
     "data": {
      "application/vnd.jupyter.widget-view+json": {
       "model_id": "",
       "version_major": 2,
       "version_minor": 0
      },
      "text/plain": [
       "FloatProgress(value=0.0, bar_style='info', description='Progress:', layout=Layout(height='25px', width='50%'),…"
      ]
     },
     "metadata": {},
     "output_type": "display_data"
    },
    {
     "name": "stdout",
     "output_type": "stream",
     "text": [
      "   churn gender  count\n",
      "0      1      F     20\n",
      "1      0      M     89\n",
      "2      1      M     32\n",
      "3      0      F     84"
     ]
    }
   ],
   "source": [
    "# churn * gender\n",
    "churn_gender = spark.sql(\n",
    "    '''\n",
    "    SELECT churn, gender, count(DISTINCT userId) as count\n",
    "    FROM churn_sql\n",
    "    GROUP BY churn, gender\n",
    "    '''\n",
    ").toPandas()\n",
    "\n",
    "churn_gender"
   ]
  },
  {
   "cell_type": "code",
   "execution_count": 199,
   "metadata": {},
   "outputs": [
    {
     "data": {
      "application/vnd.jupyter.widget-view+json": {
       "model_id": "ae1590bf11914b30998c5a7e46d68cbb",
       "version_major": 2,
       "version_minor": 0
      },
      "text/plain": [
       "VBox()"
      ]
     },
     "metadata": {},
     "output_type": "display_data"
    },
    {
     "data": {
      "application/vnd.jupyter.widget-view+json": {
       "model_id": "",
       "version_major": 2,
       "version_minor": 0
      },
      "text/plain": [
       "FloatProgress(value=0.0, bar_style='info', description='Progress:', layout=Layout(height='25px', width='50%'),…"
      ]
     },
     "metadata": {},
     "output_type": "display_data"
    },
    {
     "data": {
      "image/png": "[encoded data removed]",
      "text/plain": [
       "<IPython.core.display.Image object>"
      ]
     },
     "metadata": {},
     "output_type": "display_data"
    }
   ],
   "source": [
    "# Man cancels more that woman\n",
    "plt.figure(figsize=(8,6))\n",
    "sns.barplot(x='gender', y='count', hue='churn', data=churn_gender)\n",
    "%matplot plt"
   ]
  },
  {
   "cell_type": "code",
   "execution_count": 200,
   "metadata": {},
   "outputs": [
    {
     "data": {
      "application/vnd.jupyter.widget-view+json": {
       "model_id": "0fa76a29b462439b88183a9a782ad495",
       "version_major": 2,
       "version_minor": 0
      },
      "text/plain": [
       "VBox()"
      ]
     },
     "metadata": {},
     "output_type": "display_data"
    },
    {
     "data": {
      "application/vnd.jupyter.widget-view+json": {
       "model_id": "",
       "version_major": 2,
       "version_minor": 0
      },
      "text/plain": [
       "FloatProgress(value=0.0, bar_style='info', description='Progress:', layout=Layout(height='25px', width='50%'),…"
      ]
     },
     "metadata": {},
     "output_type": "display_data"
    },
    {
     "name": "stdout",
     "output_type": "stream",
     "text": [
      "   churn level  count\n",
      "0      0  free    149\n",
      "1      0  paid    129\n",
      "2      1  paid     36\n",
      "3      1  free     46"
     ]
    }
   ],
   "source": [
    "# churn * gender\n",
    "churn_level = spark.sql(\n",
    "    '''\n",
    "    SELECT churn, level, count(DISTINCT userId) as count\n",
    "    FROM churn_sql\n",
    "    GROUP BY churn, level\n",
    "    '''\n",
    ").toPandas()\n",
    "\n",
    "churn_level"
   ]
  },
  {
   "cell_type": "code",
   "execution_count": 201,
   "metadata": {},
   "outputs": [
    {
     "data": {
      "application/vnd.jupyter.widget-view+json": {
       "model_id": "a465a196d3b54282a56be161a44784ea",
       "version_major": 2,
       "version_minor": 0
      },
      "text/plain": [
       "VBox()"
      ]
     },
     "metadata": {},
     "output_type": "display_data"
    },
    {
     "data": {
      "application/vnd.jupyter.widget-view+json": {
       "model_id": "",
       "version_major": 2,
       "version_minor": 0
      },
      "text/plain": [
       "FloatProgress(value=0.0, bar_style='info', description='Progress:', layout=Layout(height='25px', width='50%'),…"
      ]
     },
     "metadata": {},
     "output_type": "display_data"
    },
    {
     "data": {
      "image/png": "[encoded data removed]",
      "text/plain": [
       "<IPython.core.display.Image object>"
      ]
     },
     "metadata": {},
     "output_type": "display_data"
    }
   ],
   "source": [
    "# Free users are easier to quit.\n",
    "plt.figure(figsize=(8,6))\n",
    "sns.barplot(x='level', y='count', hue='churn', data=churn_level)\n",
    "%matplot plt"
   ]
  },
  {
   "cell_type": "code",
   "execution_count": 202,
   "metadata": {},
   "outputs": [
    {
     "data": {
      "application/vnd.jupyter.widget-view+json": {
       "model_id": "00f2e9f009e84d31a10121283302145c",
       "version_major": 2,
       "version_minor": 0
      },
      "text/plain": [
       "VBox()"
      ]
     },
     "metadata": {},
     "output_type": "display_data"
    },
    {
     "data": {
      "application/vnd.jupyter.widget-view+json": {
       "model_id": "",
       "version_major": 2,
       "version_minor": 0
      },
      "text/plain": [
       "FloatProgress(value=0.0, bar_style='info', description='Progress:', layout=Layout(height='25px', width='50%'),…"
      ]
     },
     "metadata": {},
     "output_type": "display_data"
    },
    {
     "name": "stdout",
     "output_type": "stream",
     "text": [
      "    churn                       page  count\n",
      "0       0              Save Settings    102\n",
      "1       1                     Logout     46\n",
      "2       0           Submit Downgrade     40\n",
      "3       0                   NextSong    173\n",
      "4       1              Save Settings     30\n",
      "5       0                 Add Friend    162\n",
      "6       1                Roll Advert     50\n",
      "7       0                      Error     95\n",
      "8       0            Add to Playlist    165\n",
      "9       0                      About    124\n",
      "10      1                   Settings     43\n",
      "11      1             Submit Upgrade     29\n",
      "12      0                  Thumbs Up    170\n",
      "13      1  Cancellation Confirmation     52\n",
      "14      1            Add to Playlist     50\n",
      "15      1                   NextSong     52\n",
      "16      1                       Home     51\n",
      "17      1                    Upgrade     37\n",
      "18      0                Thumbs Down    155\n",
      "19      1           Submit Downgrade      9\n",
      "20      1                       Help     43\n",
      "21      1                 Add Friend     44\n",
      "22      0                       Help    149\n",
      "23      0                   Settings    152\n",
      "24      0                Roll Advert    157\n",
      "25      1                  Downgrade     35\n",
      "26      1                     Cancel     52\n",
      "27      1                      About     31\n",
      "28      0                     Logout    167\n",
      "29      0                       Home    172\n",
      "30      1                Thumbs Down     48\n",
      "31      1                  Thumbs Up     50\n",
      "32      0                    Upgrade    131\n",
      "33      0                  Downgrade    119\n",
      "34      0             Submit Upgrade    102\n",
      "35      1                      Error     22"
     ]
    }
   ],
   "source": [
    "# churn * page\n",
    "churn_page = spark.sql(\n",
    "    '''\n",
    "    SELECT churn, page, count(DISTINCT userId) as count\n",
    "    FROM churn_sql\n",
    "    GROUP BY churn, page\n",
    "    '''\n",
    ").toPandas()\n",
    "\n",
    "churn_page"
   ]
  },
  {
   "cell_type": "code",
   "execution_count": 203,
   "metadata": {},
   "outputs": [
    {
     "data": {
      "application/vnd.jupyter.widget-view+json": {
       "model_id": "70181c2c2a14427bb8bc4b24583bb90b",
       "version_major": 2,
       "version_minor": 0
      },
      "text/plain": [
       "VBox()"
      ]
     },
     "metadata": {},
     "output_type": "display_data"
    },
    {
     "data": {
      "application/vnd.jupyter.widget-view+json": {
       "model_id": "",
       "version_major": 2,
       "version_minor": 0
      },
      "text/plain": [
       "FloatProgress(value=0.0, bar_style='info', description='Progress:', layout=Layout(height='25px', width='50%'),…"
      ]
     },
     "metadata": {},
     "output_type": "display_data"
    },
    {
     "data": {
      "image/png": "[encoded data removed]",
      "text/plain": [
       "<IPython.core.display.Image object>"
      ]
     },
     "metadata": {},
     "output_type": "display_data"
    }
   ],
   "source": [
    "plt.figure(figsize=(12,10))\n",
    "sns.barplot(x='churn', y='count', hue='page', data=churn_page)\n",
    "%matplot plt"
   ]
  },
  {
   "cell_type": "code",
   "execution_count": 204,
   "metadata": {},
   "outputs": [
    {
     "data": {
      "application/vnd.jupyter.widget-view+json": {
       "model_id": "ca6f56c4630d4cdabf5d2f51dac62b5a",
       "version_major": 2,
       "version_minor": 0
      },
      "text/plain": [
       "VBox()"
      ]
     },
     "metadata": {},
     "output_type": "display_data"
    },
    {
     "data": {
      "application/vnd.jupyter.widget-view+json": {
       "model_id": "",
       "version_major": 2,
       "version_minor": 0
      },
      "text/plain": [
       "FloatProgress(value=0.0, bar_style='info', description='Progress:', layout=Layout(height='25px', width='50%'),…"
      ]
     },
     "metadata": {},
     "output_type": "display_data"
    },
    {
     "name": "stdout",
     "output_type": "stream",
     "text": [
      "   churn   M  count\n",
      "0      1  11     22\n",
      "1      0  10    161\n",
      "2      0  11    165\n",
      "3      1  10     52\n",
      "4      0  12      4"
     ]
    }
   ],
   "source": [
    "# churn*month\n",
    "churn_month = spark.sql(\n",
    "    '''\n",
    "    SELECT churn, CAST(month(ts) AS INT) AS M, count(DISTINCT userId) as count\n",
    "    FROM churn_sql\n",
    "    GROUP BY churn, M\n",
    "    '''\n",
    ").toPandas()\n",
    "\n",
    "churn_month"
   ]
  },
  {
   "cell_type": "code",
   "execution_count": 205,
   "metadata": {},
   "outputs": [
    {
     "data": {
      "application/vnd.jupyter.widget-view+json": {
       "model_id": "04888bb298084e6f8eb44d4393918b34",
       "version_major": 2,
       "version_minor": 0
      },
      "text/plain": [
       "VBox()"
      ]
     },
     "metadata": {},
     "output_type": "display_data"
    },
    {
     "data": {
      "application/vnd.jupyter.widget-view+json": {
       "model_id": "",
       "version_major": 2,
       "version_minor": 0
      },
      "text/plain": [
       "FloatProgress(value=0.0, bar_style='info', description='Progress:', layout=Layout(height='25px', width='50%'),…"
      ]
     },
     "metadata": {},
     "output_type": "display_data"
    },
    {
     "data": {
      "image/png": "[encoded data removed]",
      "text/plain": [
       "<IPython.core.display.Image object>"
      ]
     },
     "metadata": {},
     "output_type": "display_data"
    }
   ],
   "source": [
    "# far more quit in October, the first month\n",
    "plt.figure(figsize=(8, 6))\n",
    "sns.barplot(x='churn', y='count', hue='M', data=churn_month)\n",
    "%matplot plt"
   ]
  },
  {
   "cell_type": "code",
   "execution_count": 206,
   "metadata": {},
   "outputs": [
    {
     "data": {
      "application/vnd.jupyter.widget-view+json": {
       "model_id": "83d92ed416b54c8c8b48db8db1c1e2aa",
       "version_major": 2,
       "version_minor": 0
      },
      "text/plain": [
       "VBox()"
      ]
     },
     "metadata": {},
     "output_type": "display_data"
    },
    {
     "data": {
      "application/vnd.jupyter.widget-view+json": {
       "model_id": "",
       "version_major": 2,
       "version_minor": 0
      },
      "text/plain": [
       "FloatProgress(value=0.0, bar_style='info', description='Progress:', layout=Layout(height='25px', width='50%'),…"
      ]
     },
     "metadata": {},
     "output_type": "display_data"
    },
    {
     "name": "stdout",
     "output_type": "stream",
     "text": [
      "    churn  W  count\n",
      "0       1  0     36\n",
      "1       1  2     36\n",
      "2       0  5    107\n",
      "3       1  1     34\n",
      "4       1  3     39\n",
      "5       0  0    139\n",
      "6       1  4     43\n",
      "7       0  1    141\n",
      "8       1  5     38\n",
      "9       0  6    109\n",
      "10      0  2    143\n",
      "11      0  3    139\n",
      "12      1  6     24\n",
      "13      0  4    147"
     ]
    }
   ],
   "source": [
    "# churn*weekday\n",
    "churn_weekday = spark.sql(\n",
    "    '''\n",
    "    SELECT churn, CAST(weekday(ts) AS INT) AS W, count(DISTINCT userId) as count\n",
    "    FROM churn_sql\n",
    "    GROUP BY churn, W\n",
    "    '''\n",
    ").toPandas()\n",
    "churn_weekday"
   ]
  },
  {
   "cell_type": "code",
   "execution_count": 207,
   "metadata": {},
   "outputs": [
    {
     "data": {
      "application/vnd.jupyter.widget-view+json": {
       "model_id": "c5ea5c11b30a401a94873934f58a6787",
       "version_major": 2,
       "version_minor": 0
      },
      "text/plain": [
       "VBox()"
      ]
     },
     "metadata": {},
     "output_type": "display_data"
    },
    {
     "data": {
      "application/vnd.jupyter.widget-view+json": {
       "model_id": "",
       "version_major": 2,
       "version_minor": 0
      },
      "text/plain": [
       "FloatProgress(value=0.0, bar_style='info', description='Progress:', layout=Layout(height='25px', width='50%'),…"
      ]
     },
     "metadata": {},
     "output_type": "display_data"
    },
    {
     "data": {
      "image/png": "[encoded data removed]",
      "text/plain": [
       "<IPython.core.display.Image object>"
      ]
     },
     "metadata": {},
     "output_type": "display_data"
    }
   ],
   "source": [
    "plt.figure(figsize=(8, 6))\n",
    "sns.barplot(x='churn', y='count', hue='W', data=churn_weekday)\n",
    "%matplot plt"
   ]
  },
  {
   "cell_type": "code",
   "execution_count": 208,
   "metadata": {},
   "outputs": [
    {
     "data": {
      "application/vnd.jupyter.widget-view+json": {
       "model_id": "5a9cb86519364463abbaf7db8fb2647c",
       "version_major": 2,
       "version_minor": 0
      },
      "text/plain": [
       "VBox()"
      ]
     },
     "metadata": {},
     "output_type": "display_data"
    },
    {
     "data": {
      "application/vnd.jupyter.widget-view+json": {
       "model_id": "",
       "version_major": 2,
       "version_minor": 0
      },
      "text/plain": [
       "FloatProgress(value=0.0, bar_style='info', description='Progress:', layout=Layout(height='25px', width='50%'),…"
      ]
     },
     "metadata": {},
     "output_type": "display_data"
    },
    {
     "name": "stdout",
     "output_type": "stream",
     "text": [
      "    churn   D  count\n",
      "0       0  25     66\n",
      "1       1  25     10\n",
      "2       0  13     60\n",
      "3       0  20     66\n",
      "4       1   7     15\n",
      "..    ...  ..    ...\n",
      "57      1  10     21\n",
      "58      0   4     60\n",
      "59      0  12     63\n",
      "60      0  21     75\n",
      "61      0  23     72\n",
      "\n",
      "[62 rows x 3 columns]"
     ]
    }
   ],
   "source": [
    "# churn*weekday\n",
    "churn_day = spark.sql(\n",
    "    '''\n",
    "    SELECT churn, CAST(day(ts) AS INT) AS D, count(DISTINCT userId) as count\n",
    "    FROM churn_sql\n",
    "    GROUP BY churn, D\n",
    "    '''\n",
    ").toPandas()\n",
    "churn_day"
   ]
  },
  {
   "cell_type": "code",
   "execution_count": 209,
   "metadata": {},
   "outputs": [
    {
     "data": {
      "application/vnd.jupyter.widget-view+json": {
       "model_id": "272b73a75c40448385774c71cb93f735",
       "version_major": 2,
       "version_minor": 0
      },
      "text/plain": [
       "VBox()"
      ]
     },
     "metadata": {},
     "output_type": "display_data"
    },
    {
     "data": {
      "application/vnd.jupyter.widget-view+json": {
       "model_id": "",
       "version_major": 2,
       "version_minor": 0
      },
      "text/plain": [
       "FloatProgress(value=0.0, bar_style='info', description='Progress:', layout=Layout(height='25px', width='50%'),…"
      ]
     },
     "metadata": {},
     "output_type": "display_data"
    },
    {
     "data": {
      "image/png": "[encoded data removed]",
      "text/plain": [
       "<IPython.core.display.Image object>"
      ]
     },
     "metadata": {},
     "output_type": "display_data"
    }
   ],
   "source": [
    "# higher quit in first half of month, sharp difference between weekdays and weekends\n",
    "plt.figure(figsize=(12, 10))\n",
    "sns.barplot(x='churn', y='count', hue='D', data=churn_day)\n",
    "%matplot plt"
   ]
  },
  {
   "cell_type": "code",
   "execution_count": 210,
   "metadata": {},
   "outputs": [
    {
     "data": {
      "application/vnd.jupyter.widget-view+json": {
       "model_id": "9eda597b9d4a438994e0346fe46d36f8",
       "version_major": 2,
       "version_minor": 0
      },
      "text/plain": [
       "VBox()"
      ]
     },
     "metadata": {},
     "output_type": "display_data"
    },
    {
     "data": {
      "application/vnd.jupyter.widget-view+json": {
       "model_id": "",
       "version_major": 2,
       "version_minor": 0
      },
      "text/plain": [
       "FloatProgress(value=0.0, bar_style='info', description='Progress:', layout=Layout(height='25px', width='50%'),…"
      ]
     },
     "metadata": {},
     "output_type": "display_data"
    },
    {
     "name": "stdout",
     "output_type": "stream",
     "text": [
      "    churn   H  count\n",
      "0       1   0     36\n",
      "1       0  13    148\n",
      "2       0  20    138\n",
      "3       1   7     37\n",
      "4       1  20     40\n",
      "5       0  14    149\n",
      "6       1   2     36\n",
      "7       0   7    137\n",
      "8       1   9     34\n",
      "9       0   5    137\n",
      "10      1  22     38\n",
      "11      1   1     34\n",
      "12      1   3     32\n",
      "13      0  22    142\n",
      "14      1  11     36\n",
      "15      0  16    147\n",
      "16      0   0    137\n",
      "17      1   4     35\n",
      "18      0  10    136\n",
      "19      0  17    146\n",
      "20      1   8     35\n",
      "21      1  16     42\n",
      "22      1  19     42\n",
      "23      1  23     38\n",
      "24      0   9    132\n",
      "25      0  15    153\n",
      "26      0  18    142\n",
      "27      1  18     43\n",
      "28      1  14     40\n",
      "29      0  11    138\n",
      "30      1  21     40\n",
      "31      0   1    138\n",
      "32      0  19    142\n",
      "33      1  17     42\n",
      "34      1  12     37\n",
      "35      0   8    130\n",
      "36      1   5     35\n",
      "37      1  15     41\n",
      "38      0   6    138\n",
      "39      0   2    141\n",
      "40      1  13     39\n",
      "41      0   3    139\n",
      "42      1   6     37\n",
      "43      1  10     34\n",
      "44      0   4    137\n",
      "45      0  12    145\n",
      "46      0  21    138\n",
      "47      0  23    143"
     ]
    }
   ],
   "source": [
    "# churn*weekday\n",
    "churn_hour = spark.sql(\n",
    "    '''\n",
    "    SELECT churn, CAST(hour(ts) AS INT) AS H, count(DISTINCT userId) as count\n",
    "    FROM churn_sql\n",
    "    GROUP BY churn, H\n",
    "    '''\n",
    ").toPandas()\n",
    "churn_hour"
   ]
  },
  {
   "cell_type": "code",
   "execution_count": 211,
   "metadata": {},
   "outputs": [
    {
     "data": {
      "application/vnd.jupyter.widget-view+json": {
       "model_id": "06350b5c97bf4d3ba88f6b32ea134a18",
       "version_major": 2,
       "version_minor": 0
      },
      "text/plain": [
       "VBox()"
      ]
     },
     "metadata": {},
     "output_type": "display_data"
    },
    {
     "data": {
      "application/vnd.jupyter.widget-view+json": {
       "model_id": "",
       "version_major": 2,
       "version_minor": 0
      },
      "text/plain": [
       "FloatProgress(value=0.0, bar_style='info', description='Progress:', layout=Layout(height='25px', width='50%'),…"
      ]
     },
     "metadata": {},
     "output_type": "display_data"
    },
    {
     "data": {
      "image/png": "[encoded data removed]",
      "text/plain": [
       "<IPython.core.display.Image object>"
      ]
     },
     "metadata": {},
     "output_type": "display_data"
    }
   ],
   "source": [
    "# higher quit in first half of month\n",
    "plt.figure(figsize=(12, 10))\n",
    "sns.barplot(x='churn', y='count', hue='H', data=churn_hour)\n",
    "%matplot plt"
   ]
  },
  {
   "cell_type": "code",
   "execution_count": 19,
   "metadata": {},
   "outputs": [
    {
     "data": {
      "application/vnd.jupyter.widget-view+json": {
       "model_id": "e7c963e8fe0e416c96711f2b573050f6",
       "version_major": 2,
       "version_minor": 0
      },
      "text/plain": [
       "VBox()"
      ]
     },
     "metadata": {},
     "output_type": "display_data"
    },
    {
     "data": {
      "application/vnd.jupyter.widget-view+json": {
       "model_id": "",
       "version_major": 2,
       "version_minor": 0
      },
      "text/plain": [
       "FloatProgress(value=0.0, bar_style='info', description='Progress:', layout=Layout(height='25px', width='50%'),…"
      ]
     },
     "metadata": {},
     "output_type": "display_data"
    }
   ],
   "source": [
    "# churn * registration\n",
    "churn_registration = spark.sql(\n",
    "    '''\n",
    "    SELECT d.userId, registration_days, c.churn\n",
    "    FROM (SELECT userId, DATEDIFF(MAX(datetime_page), MIN(datetime_registration)) AS registration_days\n",
    "          FROM datetime_data\n",
    "          GROUP BY userId) as d \n",
    "    JOIN (SELECT userId, max(churn) as churn\n",
    "               FROM churn_sql\n",
    "               GROUP BY userId) as c\n",
    "    ON d.userId=c.userId\n",
    "               \n",
    "    '''\n",
    ")"
   ]
  },
  {
   "cell_type": "code",
   "execution_count": 213,
   "metadata": {},
   "outputs": [
    {
     "data": {
      "application/vnd.jupyter.widget-view+json": {
       "model_id": "3e0dbe31dae44e5d85e14d0510179757",
       "version_major": 2,
       "version_minor": 0
      },
      "text/plain": [
       "VBox()"
      ]
     },
     "metadata": {},
     "output_type": "display_data"
    },
    {
     "data": {
      "application/vnd.jupyter.widget-view+json": {
       "model_id": "",
       "version_major": 2,
       "version_minor": 0
      },
      "text/plain": [
       "FloatProgress(value=0.0, bar_style='info', description='Progress:', layout=Layout(height='25px', width='50%'),…"
      ]
     },
     "metadata": {},
     "output_type": "display_data"
    }
   ],
   "source": [
    "# Churn=1 are more left skewed.\n",
    "churn_registration_df = churn_registration.toPandas()"
   ]
  },
  {
   "cell_type": "code",
   "execution_count": 214,
   "metadata": {},
   "outputs": [
    {
     "data": {
      "application/vnd.jupyter.widget-view+json": {
       "model_id": "0ca7240a08dd4169a016b9bb6eb2bee7",
       "version_major": 2,
       "version_minor": 0
      },
      "text/plain": [
       "VBox()"
      ]
     },
     "metadata": {},
     "output_type": "display_data"
    },
    {
     "data": {
      "application/vnd.jupyter.widget-view+json": {
       "model_id": "",
       "version_major": 2,
       "version_minor": 0
      },
      "text/plain": [
       "FloatProgress(value=0.0, bar_style='info', description='Progress:', layout=Layout(height='25px', width='50%'),…"
      ]
     },
     "metadata": {},
     "output_type": "display_data"
    },
    {
     "data": {
      "image/png": "[encoded data removed]",
      "text/plain": [
       "<IPython.core.display.Image object>"
      ]
     },
     "metadata": {},
     "output_type": "display_data"
    }
   ],
   "source": [
    "plt.figure(figsize=(12, 10))\n",
    "sns.distplot(\n",
    "    churn_registration_df[churn_registration_df['churn'] == 0]['registration_days'])\n",
    "sns.distplot(\n",
    "    churn_registration_df[churn_registration_df['churn'] == 1]['registration_days'])\n",
    "%matplot plt"
   ]
  },
  {
   "cell_type": "code",
   "execution_count": 20,
   "metadata": {},
   "outputs": [
    {
     "data": {
      "application/vnd.jupyter.widget-view+json": {
       "model_id": "8891ac1e640b481a8a4ffce47ea2674a",
       "version_major": 2,
       "version_minor": 0
      },
      "text/plain": [
       "VBox()"
      ]
     },
     "metadata": {},
     "output_type": "display_data"
    },
    {
     "data": {
      "application/vnd.jupyter.widget-view+json": {
       "model_id": "",
       "version_major": 2,
       "version_minor": 0
      },
      "text/plain": [
       "FloatProgress(value=0.0, bar_style='info', description='Progress:', layout=Layout(height='25px', width='50%'),…"
      ]
     },
     "metadata": {},
     "output_type": "display_data"
    }
   ],
   "source": [
    "churn_registration.createOrReplaceTempView('churn_registration')"
   ]
  },
  {
   "cell_type": "code",
   "execution_count": 21,
   "metadata": {},
   "outputs": [
    {
     "data": {
      "application/vnd.jupyter.widget-view+json": {
       "model_id": "cea2bba3c50749208d81e9910d35db28",
       "version_major": 2,
       "version_minor": 0
      },
      "text/plain": [
       "VBox()"
      ]
     },
     "metadata": {},
     "output_type": "display_data"
    },
    {
     "data": {
      "application/vnd.jupyter.widget-view+json": {
       "model_id": "",
       "version_major": 2,
       "version_minor": 0
      },
      "text/plain": [
       "FloatProgress(value=0.0, bar_style='info', description='Progress:', layout=Layout(height='25px', width='50%'),…"
      ]
     },
     "metadata": {},
     "output_type": "display_data"
    }
   ],
   "source": [
    "# churn*last week activity\n",
    "churn_week_count = spark.sql(\n",
    "    '''\n",
    "    SELECT w.userId, w.week_count, c.churn\n",
    "    FROM\n",
    "    (\n",
    "        SELECT d.userId, COUNT(d.userId) AS week_count        \n",
    "        FROM datetime_data d\n",
    "        JOIN \n",
    "        (\n",
    "            SELECT userId, MAX(datetime_page) AS last_datetime\n",
    "            FROM datetime_data\n",
    "            GROUP BY userId\n",
    "        ) AS l\n",
    "        ON l.userId = d.userId\n",
    "        WHERE d.datetime_page >= DATE_SUB(l.last_datetime, 7)\n",
    "        GROUP BY d.userId\n",
    "    ) AS w\n",
    "    JOIN (SELECT userId, max(churn) as churn\n",
    "               FROM churn_sql\n",
    "               GROUP BY userId) as c\n",
    "    ON w.userId=c.userId\n",
    "    '''\n",
    ")"
   ]
  },
  {
   "cell_type": "code",
   "execution_count": 217,
   "metadata": {},
   "outputs": [
    {
     "data": {
      "application/vnd.jupyter.widget-view+json": {
       "model_id": "3c3cda99d25c4c158eaa21fca46ded20",
       "version_major": 2,
       "version_minor": 0
      },
      "text/plain": [
       "VBox()"
      ]
     },
     "metadata": {},
     "output_type": "display_data"
    },
    {
     "data": {
      "application/vnd.jupyter.widget-view+json": {
       "model_id": "",
       "version_major": 2,
       "version_minor": 0
      },
      "text/plain": [
       "FloatProgress(value=0.0, bar_style='info', description='Progress:', layout=Layout(height='25px', width='50%'),…"
      ]
     },
     "metadata": {},
     "output_type": "display_data"
    },
    {
     "name": "stdout",
     "output_type": "stream",
     "text": [
      "     userId  week_count  churn\n",
      "0    100010          33      0\n",
      "1    200002         140      0\n",
      "2       125          11      1\n",
      "3       124         301      0\n",
      "4        51        1099      1\n",
      "..      ...         ...    ...\n",
      "220      45         612      0\n",
      "221      57          50      0\n",
      "222  200021         402      1\n",
      "223     119          16      0\n",
      "224  100001         187      1\n",
      "\n",
      "[225 rows x 3 columns]"
     ]
    }
   ],
   "source": [
    "# churn=0 not active in the last week\n",
    "churn_week_count_df = churn_week_count.toPandas()\n",
    "churn_week_count_df"
   ]
  },
  {
   "cell_type": "code",
   "execution_count": 218,
   "metadata": {},
   "outputs": [
    {
     "data": {
      "application/vnd.jupyter.widget-view+json": {
       "model_id": "290862b3b5054f74be3b5353f55f1a21",
       "version_major": 2,
       "version_minor": 0
      },
      "text/plain": [
       "VBox()"
      ]
     },
     "metadata": {},
     "output_type": "display_data"
    },
    {
     "data": {
      "application/vnd.jupyter.widget-view+json": {
       "model_id": "",
       "version_major": 2,
       "version_minor": 0
      },
      "text/plain": [
       "FloatProgress(value=0.0, bar_style='info', description='Progress:', layout=Layout(height='25px', width='50%'),…"
      ]
     },
     "metadata": {},
     "output_type": "display_data"
    },
    {
     "name": "stdout",
     "output_type": "stream",
     "text": [
      "(269.1098265895954, 333.63461538461536)"
     ]
    }
   ],
   "source": [
    "(churn_week_count_df[churn_week_count_df['churn'] == 0]['week_count'].mean(\n",
    "), churn_week_count_df[churn_week_count_df['churn'] == 1]['week_count'].mean())"
   ]
  },
  {
   "cell_type": "code",
   "execution_count": 22,
   "metadata": {},
   "outputs": [
    {
     "data": {
      "application/vnd.jupyter.widget-view+json": {
       "model_id": "4898289416d745988dd010aaab358236",
       "version_major": 2,
       "version_minor": 0
      },
      "text/plain": [
       "VBox()"
      ]
     },
     "metadata": {},
     "output_type": "display_data"
    },
    {
     "data": {
      "application/vnd.jupyter.widget-view+json": {
       "model_id": "",
       "version_major": 2,
       "version_minor": 0
      },
      "text/plain": [
       "FloatProgress(value=0.0, bar_style='info', description='Progress:', layout=Layout(height='25px', width='50%'),…"
      ]
     },
     "metadata": {},
     "output_type": "display_data"
    }
   ],
   "source": [
    "churn_week_count.createOrReplaceTempView('churn_week_count')"
   ]
  },
  {
   "cell_type": "code",
   "execution_count": 23,
   "metadata": {},
   "outputs": [
    {
     "data": {
      "application/vnd.jupyter.widget-view+json": {
       "model_id": "bdb86004743a4f3eaffe47d85c60b75d",
       "version_major": 2,
       "version_minor": 0
      },
      "text/plain": [
       "VBox()"
      ]
     },
     "metadata": {},
     "output_type": "display_data"
    },
    {
     "data": {
      "application/vnd.jupyter.widget-view+json": {
       "model_id": "",
       "version_major": 2,
       "version_minor": 0
      },
      "text/plain": [
       "FloatProgress(value=0.0, bar_style='info', description='Progress:', layout=Layout(height='25px', width='50%'),…"
      ]
     },
     "metadata": {},
     "output_type": "display_data"
    }
   ],
   "source": [
    "churn_artist_count = spark.sql(\n",
    "    '''\n",
    "    SELECT a.userId, a.artist_count, c.churn\n",
    "    FROM (SELECT userId, COUNT(DISTINCT artist) AS artist_count\n",
    "          FROM clean_sql\n",
    "          GROUP BY userId) AS a\n",
    "    JOIN (SELECT userId, max(churn) as churn\n",
    "               FROM churn_sql\n",
    "               GROUP BY userId) as c\n",
    "    ON a.userId=c.userId\n",
    "    '''\n",
    ")"
   ]
  },
  {
   "cell_type": "code",
   "execution_count": 221,
   "metadata": {},
   "outputs": [
    {
     "data": {
      "application/vnd.jupyter.widget-view+json": {
       "model_id": "ee8a97e77f204d919463e8edc50fb7b8",
       "version_major": 2,
       "version_minor": 0
      },
      "text/plain": [
       "VBox()"
      ]
     },
     "metadata": {},
     "output_type": "display_data"
    },
    {
     "data": {
      "application/vnd.jupyter.widget-view+json": {
       "model_id": "",
       "version_major": 2,
       "version_minor": 0
      },
      "text/plain": [
       "FloatProgress(value=0.0, bar_style='info', description='Progress:', layout=Layout(height='25px', width='50%'),…"
      ]
     },
     "metadata": {},
     "output_type": "display_data"
    }
   ],
   "source": [
    "churn_artist_count_df = churn_artist_count.toPandas()"
   ]
  },
  {
   "cell_type": "code",
   "execution_count": 24,
   "metadata": {},
   "outputs": [
    {
     "data": {
      "application/vnd.jupyter.widget-view+json": {
       "model_id": "e774f33adf2e411c8bc5a78bc228b6c2",
       "version_major": 2,
       "version_minor": 0
      },
      "text/plain": [
       "VBox()"
      ]
     },
     "metadata": {},
     "output_type": "display_data"
    },
    {
     "data": {
      "application/vnd.jupyter.widget-view+json": {
       "model_id": "",
       "version_major": 2,
       "version_minor": 0
      },
      "text/plain": [
       "FloatProgress(value=0.0, bar_style='info', description='Progress:', layout=Layout(height='25px', width='50%'),…"
      ]
     },
     "metadata": {},
     "output_type": "display_data"
    }
   ],
   "source": [
    "churn_artist_count.createOrReplaceTempView('churn_artist_count')"
   ]
  },
  {
   "cell_type": "code",
   "execution_count": 223,
   "metadata": {},
   "outputs": [
    {
     "data": {
      "application/vnd.jupyter.widget-view+json": {
       "model_id": "1a88be1cea2e45d5824b560dfb45cb9e",
       "version_major": 2,
       "version_minor": 0
      },
      "text/plain": [
       "VBox()"
      ]
     },
     "metadata": {},
     "output_type": "display_data"
    },
    {
     "data": {
      "application/vnd.jupyter.widget-view+json": {
       "model_id": "",
       "version_major": 2,
       "version_minor": 0
      },
      "text/plain": [
       "FloatProgress(value=0.0, bar_style='info', description='Progress:', layout=Layout(height='25px', width='50%'),…"
      ]
     },
     "metadata": {},
     "output_type": "display_data"
    },
    {
     "data": {
      "image/png": "[encoded data removed]",
      "text/plain": [
       "<IPython.core.display.Image object>"
      ]
     },
     "metadata": {},
     "output_type": "display_data"
    }
   ],
   "source": [
    "# churn=0 artist tends to be smaller\n",
    "plt.figure(figsize=(12, 10))\n",
    "sns.distplot(\n",
    "    churn_artist_count_df[churn_artist_count_df['churn'] == 0]['artist_count'])\n",
    "sns.distplot(\n",
    "    churn_artist_count_df[churn_artist_count_df['churn'] == 1]['artist_count'])\n",
    "%matplot plt"
   ]
  },
  {
   "cell_type": "markdown",
   "metadata": {},
   "source": [
    "# Feature Engineering\n",
    "Once you've familiarized yourself with the data, build out the features you find promising to train your model on. To work with the full dataset, you can follow the following steps.\n",
    "- Write a script to extract the necessary features from the smaller subset of data\n",
    "- Ensure that your script is scalable, using the best practices discussed in Lesson 3\n",
    "- Try your script on the full data set, debugging your script if necessary\n",
    "\n",
    "If you are working in the classroom workspace, you can just extract features based on the small subset of data contained here. Be sure to transfer over this work to the larger dataset when you work on your Spark cluster."
   ]
  },
  {
   "cell_type": "code",
   "execution_count": 25,
   "metadata": {},
   "outputs": [
    {
     "data": {
      "application/vnd.jupyter.widget-view+json": {
       "model_id": "8a310031e6f843b684c083214df5a9f4",
       "version_major": 2,
       "version_minor": 0
      },
      "text/plain": [
       "VBox()"
      ]
     },
     "metadata": {},
     "output_type": "display_data"
    },
    {
     "data": {
      "application/vnd.jupyter.widget-view+json": {
       "model_id": "",
       "version_major": 2,
       "version_minor": 0
      },
      "text/plain": [
       "FloatProgress(value=0.0, bar_style='info', description='Progress:', layout=Layout(height='25px', width='50%'),…"
      ]
     },
     "metadata": {},
     "output_type": "display_data"
    }
   ],
   "source": [
    "# From the data exploration, we choose gender, level, page, total_visited_page, artist_count, week_count, registration as independent variables\n",
    "# we need to extend gender, level and page\n",
    "\n",
    "extension = ''\n",
    "for i in ['gender', 'level', 'page']:\n",
    "    category = spark.sql('''SELECT DISTINCT ''' + i +\n",
    "                         ''' FROM clean_sql''').toPandas()[i].values\n",
    "    for j in category:\n",
    "        extension += ', CASE WHEN ' + i + \"= '\" + j + \\\n",
    "            \"' THEN 1 ELSE 0 END AS \" + i + '_' + j.replace(' ', '_')"
   ]
  },
  {
   "cell_type": "code",
   "execution_count": 26,
   "metadata": {},
   "outputs": [
    {
     "data": {
      "application/vnd.jupyter.widget-view+json": {
       "model_id": "71bf4f20d3654c58a4edc0d7b3ba1884",
       "version_major": 2,
       "version_minor": 0
      },
      "text/plain": [
       "VBox()"
      ]
     },
     "metadata": {},
     "output_type": "display_data"
    },
    {
     "data": {
      "application/vnd.jupyter.widget-view+json": {
       "model_id": "",
       "version_major": 2,
       "version_minor": 0
      },
      "text/plain": [
       "FloatProgress(value=0.0, bar_style='info', description='Progress:', layout=Layout(height='25px', width='50%'),…"
      ]
     },
     "metadata": {},
     "output_type": "display_data"
    }
   ],
   "source": [
    "# extend records into binary nums\n",
    "\n",
    "extension = '''SELECT userId, churn ''' + extension + ''' FROM churn_sql'''\n",
    "extension_table = spark.sql(extension)"
   ]
  },
  {
   "cell_type": "code",
   "execution_count": 226,
   "metadata": {},
   "outputs": [
    {
     "data": {
      "application/vnd.jupyter.widget-view+json": {
       "model_id": "5983f01312a945869bf6bcd399865325",
       "version_major": 2,
       "version_minor": 0
      },
      "text/plain": [
       "VBox()"
      ]
     },
     "metadata": {},
     "output_type": "display_data"
    },
    {
     "data": {
      "application/vnd.jupyter.widget-view+json": {
       "model_id": "",
       "version_major": 2,
       "version_minor": 0
      },
      "text/plain": [
       "FloatProgress(value=0.0, bar_style='info', description='Progress:', layout=Layout(height='25px', width='50%'),…"
      ]
     },
     "metadata": {},
     "output_type": "display_data"
    },
    {
     "name": "stdout",
     "output_type": "stream",
     "text": [
      "+------+-----+--------+--------+----------+----------+-----------+---------------------+----------------+---------+--------------+----------------+-----------+------------------+------------------------------+----------+-------------+--------------------+---------------+-------------+--------------+---------+------------+----------+-------------------+\n",
      "|userId|churn|gender_F|gender_M|level_free|level_paid|page_Cancel|page_Submit_Downgrade|page_Thumbs_Down|page_Home|page_Downgrade|page_Roll_Advert|page_Logout|page_Save_Settings|page_Cancellation_Confirmation|page_About|page_Settings|page_Add_to_Playlist|page_Add_Friend|page_NextSong|page_Thumbs_Up|page_Help|page_Upgrade|page_Error|page_Submit_Upgrade|\n",
      "+------+-----+--------+--------+----------+----------+-----------+---------------------+----------------+---------+--------------+----------------+-----------+------------------+------------------------------+----------+-------------+--------------------+---------------+-------------+--------------+---------+------------+----------+-------------------+\n",
      "|100010|    0|       1|       0|         1|         0|          0|                    0|               0|        0|             0|               0|          0|                 0|                             0|         0|            0|                   0|              0|            1|             0|        0|           0|         0|                  0|\n",
      "|100010|    0|       1|       0|         1|         0|          0|                    0|               0|        0|             0|               0|          0|                 0|                             0|         0|            0|                   0|              0|            1|             0|        0|           0|         0|                  0|\n",
      "|100010|    0|       1|       0|         1|         0|          0|                    0|               0|        0|             0|               0|          0|                 0|                             0|         0|            0|                   0|              0|            1|             0|        0|           0|         0|                  0|\n",
      "|100010|    0|       1|       0|         1|         0|          0|                    0|               0|        0|             0|               0|          0|                 0|                             0|         0|            0|                   0|              0|            0|             1|        0|           0|         0|                  0|\n",
      "|100010|    0|       1|       0|         1|         0|          0|                    0|               0|        0|             0|               0|          0|                 0|                             0|         0|            0|                   0|              0|            1|             0|        0|           0|         0|                  0|\n",
      "|100010|    0|       1|       0|         1|         0|          0|                    0|               0|        0|             0|               0|          0|                 0|                             0|         0|            0|                   0|              0|            1|             0|        0|           0|         0|                  0|\n",
      "|100010|    0|       1|       0|         1|         0|          0|                    0|               0|        0|             0|               0|          0|                 0|                             0|         0|            0|                   0|              0|            1|             0|        0|           0|         0|                  0|\n",
      "|100010|    0|       1|       0|         1|         0|          0|                    0|               0|        0|             0|               0|          0|                 0|                             0|         0|            0|                   0|              0|            1|             0|        0|           0|         0|                  0|\n",
      "|100010|    0|       1|       0|         1|         0|          0|                    0|               0|        0|             0|               1|          0|                 0|                             0|         0|            0|                   0|              0|            0|             0|        0|           0|         0|                  0|\n",
      "|100010|    0|       1|       0|         1|         0|          0|                    0|               0|        0|             0|               0|          0|                 0|                             0|         0|            0|                   0|              0|            1|             0|        0|           0|         0|                  0|\n",
      "|100010|    0|       1|       0|         1|         0|          0|                    0|               0|        0|             0|               0|          0|                 0|                             0|         0|            0|                   0|              0|            1|             0|        0|           0|         0|                  0|\n",
      "|100010|    0|       1|       0|         1|         0|          0|                    0|               0|        0|             0|               0|          0|                 0|                             0|         0|            0|                   0|              0|            1|             0|        0|           0|         0|                  0|\n",
      "|100010|    0|       1|       0|         1|         0|          0|                    0|               0|        0|             0|               1|          0|                 0|                             0|         0|            0|                   0|              0|            0|             0|        0|           0|         0|                  0|\n",
      "|100010|    0|       1|       0|         1|         0|          0|                    0|               0|        0|             0|               0|          0|                 0|                             0|         0|            0|                   0|              0|            1|             0|        0|           0|         0|                  0|\n",
      "|100010|    0|       1|       0|         1|         0|          0|                    0|               0|        0|             0|               0|          0|                 0|                             0|         0|            0|                   0|              0|            0|             1|        0|           0|         0|                  0|\n",
      "|100010|    0|       1|       0|         1|         0|          0|                    0|               0|        0|             0|               0|          0|                 0|                             0|         0|            0|                   0|              0|            1|             0|        0|           0|         0|                  0|\n",
      "|100010|    0|       1|       0|         1|         0|          0|                    0|               0|        0|             0|               0|          0|                 0|                             0|         0|            0|                   0|              0|            1|             0|        0|           0|         0|                  0|\n",
      "|100010|    0|       1|       0|         1|         0|          0|                    0|               0|        0|             0|               1|          0|                 0|                             0|         0|            0|                   0|              0|            0|             0|        0|           0|         0|                  0|\n",
      "|100010|    0|       1|       0|         1|         0|          0|                    0|               0|        0|             0|               0|          0|                 0|                             0|         0|            0|                   0|              0|            1|             0|        0|           0|         0|                  0|\n",
      "|100010|    0|       1|       0|         1|         0|          0|                    0|               0|        0|             0|               1|          0|                 0|                             0|         0|            0|                   0|              0|            0|             0|        0|           0|         0|                  0|\n",
      "+------+-----+--------+--------+----------+----------+-----------+---------------------+----------------+---------+--------------+----------------+-----------+------------------+------------------------------+----------+-------------+--------------------+---------------+-------------+--------------+---------+------------+----------+-------------------+\n",
      "only showing top 20 rows"
     ]
    }
   ],
   "source": [
    "extension_table.show()"
   ]
  },
  {
   "cell_type": "code",
   "execution_count": 29,
   "metadata": {},
   "outputs": [
    {
     "data": {
      "application/vnd.jupyter.widget-view+json": {
       "model_id": "2589de3176474a72959c2ffc8325ec90",
       "version_major": 2,
       "version_minor": 0
      },
      "text/plain": [
       "VBox()"
      ]
     },
     "metadata": {},
     "output_type": "display_data"
    },
    {
     "data": {
      "application/vnd.jupyter.widget-view+json": {
       "model_id": "",
       "version_major": 2,
       "version_minor": 0
      },
      "text/plain": [
       "FloatProgress(value=0.0, bar_style='info', description='Progress:', layout=Layout(height='25px', width='50%'),…"
      ]
     },
     "metadata": {},
     "output_type": "display_data"
    }
   ],
   "source": [
    "extension_table.createOrReplaceTempView('extension_table')"
   ]
  },
  {
   "cell_type": "code",
   "execution_count": 32,
   "metadata": {},
   "outputs": [
    {
     "data": {
      "application/vnd.jupyter.widget-view+json": {
       "model_id": "606fe6cb58ef47f595b2bf5f3336d7eb",
       "version_major": 2,
       "version_minor": 0
      },
      "text/plain": [
       "VBox()"
      ]
     },
     "metadata": {},
     "output_type": "display_data"
    },
    {
     "data": {
      "application/vnd.jupyter.widget-view+json": {
       "model_id": "",
       "version_major": 2,
       "version_minor": 0
      },
      "text/plain": [
       "FloatProgress(value=0.0, bar_style='info', description='Progress:', layout=Layout(height='25px', width='50%'),…"
      ]
     },
     "metadata": {},
     "output_type": "display_data"
    }
   ],
   "source": [
    "# sum up records by users\n",
    "sumup = ''\n",
    "for i in ['gender', 'level', 'page']:\n",
    "    category = spark.sql('''SELECT DISTINCT ''' + i +\n",
    "                         ''' FROM clean_sql''').toPandas()[i].values\n",
    "    for j in category:\n",
    "        sumup += ', SUM(' + i + '_' + j.replace(' ', '_') + \\\n",
    "            ') AS ' + i + '_' + j.replace(' ', '_')"
   ]
  },
  {
   "cell_type": "code",
   "execution_count": 33,
   "metadata": {},
   "outputs": [
    {
     "data": {
      "application/vnd.jupyter.widget-view+json": {
       "model_id": "371d3f327a6245ab96b28d5bb94b4494",
       "version_major": 2,
       "version_minor": 0
      },
      "text/plain": [
       "VBox()"
      ]
     },
     "metadata": {},
     "output_type": "display_data"
    },
    {
     "data": {
      "application/vnd.jupyter.widget-view+json": {
       "model_id": "",
       "version_major": 2,
       "version_minor": 0
      },
      "text/plain": [
       "FloatProgress(value=0.0, bar_style='info', description='Progress:', layout=Layout(height='25px', width='50%'),…"
      ]
     },
     "metadata": {},
     "output_type": "display_data"
    }
   ],
   "source": [
    "sumup = '''SELECT userId, SUM(churn) AS churn ''' + \\\n",
    "    sumup + ''' FROM extension_table GROUP BY userId'''\n",
    "\n",
    "sum_table = spark.sql(sumup)"
   ]
  },
  {
   "cell_type": "code",
   "execution_count": 230,
   "metadata": {},
   "outputs": [
    {
     "data": {
      "application/vnd.jupyter.widget-view+json": {
       "model_id": "b260ec45203746a2a22f5208d205fe9d",
       "version_major": 2,
       "version_minor": 0
      },
      "text/plain": [
       "VBox()"
      ]
     },
     "metadata": {},
     "output_type": "display_data"
    },
    {
     "data": {
      "application/vnd.jupyter.widget-view+json": {
       "model_id": "",
       "version_major": 2,
       "version_minor": 0
      },
      "text/plain": [
       "FloatProgress(value=0.0, bar_style='info', description='Progress:', layout=Layout(height='25px', width='50%'),…"
      ]
     },
     "metadata": {},
     "output_type": "display_data"
    },
    {
     "name": "stdout",
     "output_type": "stream",
     "text": [
      "+------+-----+--------+--------+----------+----------+-----------+---------------------+----------------+---------+--------------+----------------+-----------+------------------+------------------------------+----------+-------------+--------------------+---------------+-------------+--------------+---------+------------+----------+-------------------+\n",
      "|userId|churn|gender_F|gender_M|level_free|level_paid|page_Cancel|page_Submit_Downgrade|page_Thumbs_Down|page_Home|page_Downgrade|page_Roll_Advert|page_Logout|page_Save_Settings|page_Cancellation_Confirmation|page_About|page_Settings|page_Add_to_Playlist|page_Add_Friend|page_NextSong|page_Thumbs_Up|page_Help|page_Upgrade|page_Error|page_Submit_Upgrade|\n",
      "+------+-----+--------+--------+----------+----------+-----------+---------------------+----------------+---------+--------------+----------------+-----------+------------------+------------------------------+----------+-------------+--------------------+---------------+-------------+--------------+---------+------------+----------+-------------------+\n",
      "|100010|    0|     381|       0|       381|         0|          0|                    0|               5|       11|             0|              52|          5|                 0|                             0|         1|            0|                   7|              4|          275|            17|        2|           2|         0|                  0|\n",
      "|200002|    0|       0|     474|       120|       354|          0|                    0|               6|       20|             5|               7|          5|                 0|                             0|         3|            3|                   8|              4|          387|            21|        2|           2|         0|                  1|\n",
      "|   125|   11|       0|      11|        11|         0|          1|                    0|               0|        0|             0|               1|          0|                 0|                             1|         0|            0|                   0|              0|            8|             0|        0|           0|         0|                  0|\n",
      "|   124|    0|    4825|       0|         0|      4825|          0|                    0|              41|      176|            41|               4|         59|                 6|                             0|         7|           20|                 118|             74|         4079|           171|       23|           0|         6|                  0|\n",
      "|    51| 2464|       0|    2464|         0|      2464|          1|                    0|              21|       75|            23|               0|         24|                 1|                             1|         2|           12|                  52|             28|         2111|           100|       12|           0|         1|                  0|\n",
      "|     7|    0|       0|     201|       201|         0|          0|                    0|               1|       10|             0|              16|          3|                 1|                             0|         0|            3|                   5|              1|          150|             7|        1|           2|         1|                  0|\n",
      "|    15|    0|       0|    2278|         0|      2278|          0|                    0|              14|       93|            28|               1|         27|                 2|                             0|         2|           16|                  59|             31|         1914|            81|        8|           0|         2|                  0|\n",
      "|    54| 3437|    3437|       0|       578|      2859|          1|                    1|              29|      129|            39|              47|         36|                 3|                             1|         5|           17|                  72|             33|         2841|           163|       17|           1|         1|                  1|\n",
      "|   155|    0|    1002|       0|       144|       858|          0|                    0|               3|       30|            12|               8|         14|                 0|                             0|         2|            5|                  24|             11|          820|            58|        9|           2|         3|                  1|\n",
      "|100014|  310|       0|     310|         0|       310|          1|                    0|               3|        7|             3|               2|          3|                 0|                             1|         0|            1|                   7|              6|          257|            17|        2|           0|         0|                  0|\n",
      "|   132|    0|    2304|       0|        34|      2270|          0|                    0|              17|       83|            19|               2|         34|                 4|                             0|         4|           17|                  38|             41|         1928|            96|       16|           1|         3|                  1|\n",
      "|   154|    0|     118|       0|       118|         0|          0|                    0|               0|        6|             0|              10|          2|                 0|                             0|         0|            0|                   1|              3|           84|            11|        1|           0|         0|                  0|\n",
      "|   101| 2149|       0|    2149|        76|      2073|          1|                    0|              16|       74|            22|               8|         24|                 2|                             1|         2|            9|                  61|             29|         1797|            86|       12|           1|         3|                  1|\n",
      "|    11|    0|     848|       0|       619|       229|          0|                    1|               9|       37|             5|              39|         14|                 2|                             0|         7|            6|                  20|              6|          647|            40|        3|           9|         1|                  2|\n",
      "|   138|    0|       0|    2469|       262|      2207|          0|                    0|              24|       71|            21|              17|         18|                 4|                             0|         8|           17|                  67|             41|         2070|            95|       13|           1|         1|                  1|\n",
      "|300017|    0|    4428|       0|         0|      4428|          0|                    0|              28|      151|            25|              11|         41|                 3|                             0|         3|           23|                 113|             63|         3632|           303|       27|           0|         5|                  0|\n",
      "|100021|  319|       0|     319|       319|         0|          1|                    0|               5|       15|             0|              30|          7|                 0|                             1|         1|            0|                   7|              7|          230|            11|        0|           2|         2|                  0|\n",
      "|    29| 3603|       0|    3603|       390|      3213|          1|                    0|              22|      121|            18|              22|         41|                 4|                             1|         2|           19|                  89|             47|         3028|           154|       28|           5|         0|                  1|\n",
      "|    69|    0|    1342|       0|        39|      1303|          0|                    0|               9|       49|             9|               3|         10|                 1|                             0|         3|            3|                  33|             12|         1125|            72|        7|           1|         4|                  1|\n",
      "|   112|    0|       0|     292|       292|         0|          0|                    0|               3|       16|             0|              21|          3|                 3|                             0|         1|            4|                   7|              7|          215|             9|        1|           2|         0|                  0|\n",
      "+------+-----+--------+--------+----------+----------+-----------+---------------------+----------------+---------+--------------+----------------+-----------+------------------+------------------------------+----------+-------------+--------------------+---------------+-------------+--------------+---------+------------+----------+-------------------+\n",
      "only showing top 20 rows"
     ]
    }
   ],
   "source": [
    "sum_table.show()"
   ]
  },
  {
   "cell_type": "code",
   "execution_count": 34,
   "metadata": {},
   "outputs": [
    {
     "data": {
      "application/vnd.jupyter.widget-view+json": {
       "model_id": "5361b54e3e13460cbe6e0f73d4270e60",
       "version_major": 2,
       "version_minor": 0
      },
      "text/plain": [
       "VBox()"
      ]
     },
     "metadata": {},
     "output_type": "display_data"
    },
    {
     "data": {
      "application/vnd.jupyter.widget-view+json": {
       "model_id": "",
       "version_major": 2,
       "version_minor": 0
      },
      "text/plain": [
       "FloatProgress(value=0.0, bar_style='info', description='Progress:', layout=Layout(height='25px', width='50%'),…"
      ]
     },
     "metadata": {},
     "output_type": "display_data"
    }
   ],
   "source": [
    "sum_table.createOrReplaceTempView('sum_table')"
   ]
  },
  {
   "cell_type": "code",
   "execution_count": 35,
   "metadata": {},
   "outputs": [
    {
     "data": {
      "application/vnd.jupyter.widget-view+json": {
       "model_id": "cf54817fa84c4404a74e37f20ca6b922",
       "version_major": 2,
       "version_minor": 0
      },
      "text/plain": [
       "VBox()"
      ]
     },
     "metadata": {},
     "output_type": "display_data"
    },
    {
     "data": {
      "application/vnd.jupyter.widget-view+json": {
       "model_id": "",
       "version_major": 2,
       "version_minor": 0
      },
      "text/plain": [
       "FloatProgress(value=0.0, bar_style='info', description='Progress:', layout=Layout(height='25px', width='50%'),…"
      ]
     },
     "metadata": {},
     "output_type": "display_data"
    }
   ],
   "source": [
    "# transform the table, make churn, gender, level 0-1\n",
    "transform = '''SELECT userId, CASE WHEN Churn > 0 THEN 1 ELSE 0 END AS churn'''\n",
    "for i in sum_table.columns[2:]:\n",
    "    if i.split('_')[0] == 'page':\n",
    "        transform += ', '+i\n",
    "    else:\n",
    "        transform += ', CASE WHEN '+i+' >0 THEN 1 ELSE 0 END AS '+i\n",
    "\n",
    "transform += ' FROM sum_table'"
   ]
  },
  {
   "cell_type": "code",
   "execution_count": 36,
   "metadata": {},
   "outputs": [
    {
     "data": {
      "application/vnd.jupyter.widget-view+json": {
       "model_id": "97dee6d047f94b79aa7ce053cfa18ae3",
       "version_major": 2,
       "version_minor": 0
      },
      "text/plain": [
       "VBox()"
      ]
     },
     "metadata": {},
     "output_type": "display_data"
    },
    {
     "data": {
      "application/vnd.jupyter.widget-view+json": {
       "model_id": "",
       "version_major": 2,
       "version_minor": 0
      },
      "text/plain": [
       "FloatProgress(value=0.0, bar_style='info', description='Progress:', layout=Layout(height='25px', width='50%'),…"
      ]
     },
     "metadata": {},
     "output_type": "display_data"
    }
   ],
   "source": [
    "transform_table = spark.sql(transform)"
   ]
  },
  {
   "cell_type": "code",
   "execution_count": 234,
   "metadata": {},
   "outputs": [
    {
     "data": {
      "application/vnd.jupyter.widget-view+json": {
       "model_id": "b7d140da789e4777b2925bc89868d26b",
       "version_major": 2,
       "version_minor": 0
      },
      "text/plain": [
       "VBox()"
      ]
     },
     "metadata": {},
     "output_type": "display_data"
    },
    {
     "data": {
      "application/vnd.jupyter.widget-view+json": {
       "model_id": "",
       "version_major": 2,
       "version_minor": 0
      },
      "text/plain": [
       "FloatProgress(value=0.0, bar_style='info', description='Progress:', layout=Layout(height='25px', width='50%'),…"
      ]
     },
     "metadata": {},
     "output_type": "display_data"
    },
    {
     "name": "stdout",
     "output_type": "stream",
     "text": [
      "+------+-----+--------+--------+----------+----------+-----------+---------------------+----------------+---------+--------------+----------------+-----------+------------------+------------------------------+----------+-------------+--------------------+---------------+-------------+--------------+---------+------------+----------+-------------------+\n",
      "|userId|churn|gender_F|gender_M|level_free|level_paid|page_Cancel|page_Submit_Downgrade|page_Thumbs_Down|page_Home|page_Downgrade|page_Roll_Advert|page_Logout|page_Save_Settings|page_Cancellation_Confirmation|page_About|page_Settings|page_Add_to_Playlist|page_Add_Friend|page_NextSong|page_Thumbs_Up|page_Help|page_Upgrade|page_Error|page_Submit_Upgrade|\n",
      "+------+-----+--------+--------+----------+----------+-----------+---------------------+----------------+---------+--------------+----------------+-----------+------------------+------------------------------+----------+-------------+--------------------+---------------+-------------+--------------+---------+------------+----------+-------------------+\n",
      "|100010|    0|       1|       0|         1|         0|          0|                    0|               5|       11|             0|              52|          5|                 0|                             0|         1|            0|                   7|              4|          275|            17|        2|           2|         0|                  0|\n",
      "|200002|    0|       0|       1|         1|         1|          0|                    0|               6|       20|             5|               7|          5|                 0|                             0|         3|            3|                   8|              4|          387|            21|        2|           2|         0|                  1|\n",
      "|   125|    1|       0|       1|         1|         0|          1|                    0|               0|        0|             0|               1|          0|                 0|                             1|         0|            0|                   0|              0|            8|             0|        0|           0|         0|                  0|\n",
      "|   124|    0|       1|       0|         0|         1|          0|                    0|              41|      176|            41|               4|         59|                 6|                             0|         7|           20|                 118|             74|         4079|           171|       23|           0|         6|                  0|\n",
      "|    51|    1|       0|       1|         0|         1|          1|                    0|              21|       75|            23|               0|         24|                 1|                             1|         2|           12|                  52|             28|         2111|           100|       12|           0|         1|                  0|\n",
      "|     7|    0|       0|       1|         1|         0|          0|                    0|               1|       10|             0|              16|          3|                 1|                             0|         0|            3|                   5|              1|          150|             7|        1|           2|         1|                  0|\n",
      "|    15|    0|       0|       1|         0|         1|          0|                    0|              14|       93|            28|               1|         27|                 2|                             0|         2|           16|                  59|             31|         1914|            81|        8|           0|         2|                  0|\n",
      "|    54|    1|       1|       0|         1|         1|          1|                    1|              29|      129|            39|              47|         36|                 3|                             1|         5|           17|                  72|             33|         2841|           163|       17|           1|         1|                  1|\n",
      "|   155|    0|       1|       0|         1|         1|          0|                    0|               3|       30|            12|               8|         14|                 0|                             0|         2|            5|                  24|             11|          820|            58|        9|           2|         3|                  1|\n",
      "|100014|    1|       0|       1|         0|         1|          1|                    0|               3|        7|             3|               2|          3|                 0|                             1|         0|            1|                   7|              6|          257|            17|        2|           0|         0|                  0|\n",
      "|   132|    0|       1|       0|         1|         1|          0|                    0|              17|       83|            19|               2|         34|                 4|                             0|         4|           17|                  38|             41|         1928|            96|       16|           1|         3|                  1|\n",
      "|   154|    0|       1|       0|         1|         0|          0|                    0|               0|        6|             0|              10|          2|                 0|                             0|         0|            0|                   1|              3|           84|            11|        1|           0|         0|                  0|\n",
      "|   101|    1|       0|       1|         1|         1|          1|                    0|              16|       74|            22|               8|         24|                 2|                             1|         2|            9|                  61|             29|         1797|            86|       12|           1|         3|                  1|\n",
      "|    11|    0|       1|       0|         1|         1|          0|                    1|               9|       37|             5|              39|         14|                 2|                             0|         7|            6|                  20|              6|          647|            40|        3|           9|         1|                  2|\n",
      "|   138|    0|       0|       1|         1|         1|          0|                    0|              24|       71|            21|              17|         18|                 4|                             0|         8|           17|                  67|             41|         2070|            95|       13|           1|         1|                  1|\n",
      "|300017|    0|       1|       0|         0|         1|          0|                    0|              28|      151|            25|              11|         41|                 3|                             0|         3|           23|                 113|             63|         3632|           303|       27|           0|         5|                  0|\n",
      "|100021|    1|       0|       1|         1|         0|          1|                    0|               5|       15|             0|              30|          7|                 0|                             1|         1|            0|                   7|              7|          230|            11|        0|           2|         2|                  0|\n",
      "|    29|    1|       0|       1|         1|         1|          1|                    0|              22|      121|            18|              22|         41|                 4|                             1|         2|           19|                  89|             47|         3028|           154|       28|           5|         0|                  1|\n",
      "|    69|    0|       1|       0|         1|         1|          0|                    0|               9|       49|             9|               3|         10|                 1|                             0|         3|            3|                  33|             12|         1125|            72|        7|           1|         4|                  1|\n",
      "|   112|    0|       0|       1|         1|         0|          0|                    0|               3|       16|             0|              21|          3|                 3|                             0|         1|            4|                   7|              7|          215|             9|        1|           2|         0|                  0|\n",
      "+------+-----+--------+--------+----------+----------+-----------+---------------------+----------------+---------+--------------+----------------+-----------+------------------+------------------------------+----------+-------------+--------------------+---------------+-------------+--------------+---------+------------+----------+-------------------+\n",
      "only showing top 20 rows"
     ]
    }
   ],
   "source": [
    "transform_table.show()\n"
   ]
  },
  {
   "cell_type": "code",
   "execution_count": 37,
   "metadata": {},
   "outputs": [
    {
     "data": {
      "application/vnd.jupyter.widget-view+json": {
       "model_id": "9c740c18b5b34f32b1e29b78c7f1d25e",
       "version_major": 2,
       "version_minor": 0
      },
      "text/plain": [
       "VBox()"
      ]
     },
     "metadata": {},
     "output_type": "display_data"
    },
    {
     "data": {
      "application/vnd.jupyter.widget-view+json": {
       "model_id": "",
       "version_major": 2,
       "version_minor": 0
      },
      "text/plain": [
       "FloatProgress(value=0.0, bar_style='info', description='Progress:', layout=Layout(height='25px', width='50%'),…"
      ]
     },
     "metadata": {},
     "output_type": "display_data"
    }
   ],
   "source": [
    "transform_table.createOrReplaceTempView('transform_table')"
   ]
  },
  {
   "cell_type": "code",
   "execution_count": 38,
   "metadata": {},
   "outputs": [
    {
     "data": {
      "application/vnd.jupyter.widget-view+json": {
       "model_id": "1cc6822d1bef446883c7d6512ada88fa",
       "version_major": 2,
       "version_minor": 0
      },
      "text/plain": [
       "VBox()"
      ]
     },
     "metadata": {},
     "output_type": "display_data"
    },
    {
     "data": {
      "application/vnd.jupyter.widget-view+json": {
       "model_id": "",
       "version_major": 2,
       "version_minor": 0
      },
      "text/plain": [
       "FloatProgress(value=0.0, bar_style='info', description='Progress:', layout=Layout(height='25px', width='50%'),…"
      ]
     },
     "metadata": {},
     "output_type": "display_data"
    }
   ],
   "source": [
    "# bind the table with total_visited_page, artist_count, week_count, registration\n",
    "\n",
    "final = spark.sql(\n",
    "    '''\n",
    "    SELECT transform_table.*,\n",
    "           churn_registration.registration_days,\n",
    "           churn_artist_count.artist_count,\n",
    "           total_activity.total_activity,\n",
    "           churn_week_count.week_count\n",
    "    FROM transform_table\n",
    "    JOIN churn_registration\n",
    "    ON transform_table.userId=churn_registration.userId\n",
    "    JOIN churn_artist_count\n",
    "    ON transform_table.userId=churn_artist_count.userId\n",
    "    JOIN total_activity\n",
    "    ON transform_table.userId=total_activity.userId\n",
    "    JOIN churn_week_count\n",
    "    ON transform_table.userId=churn_week_count.userId\n",
    "''')"
   ]
  },
  {
   "cell_type": "code",
   "execution_count": 109,
   "metadata": {
    "scrolled": false
   },
   "outputs": [
    {
     "data": {
      "application/vnd.jupyter.widget-view+json": {
       "model_id": "134cf1f5064d4429a4756fca2e81a017",
       "version_major": 2,
       "version_minor": 0
      },
      "text/plain": [
       "VBox()"
      ]
     },
     "metadata": {},
     "output_type": "display_data"
    },
    {
     "data": {
      "application/vnd.jupyter.widget-view+json": {
       "model_id": "",
       "version_major": 2,
       "version_minor": 0
      },
      "text/plain": [
       "FloatProgress(value=0.0, bar_style='info', description='Progress:', layout=Layout(height='25px', width='50%'),…"
      ]
     },
     "metadata": {},
     "output_type": "display_data"
    },
    {
     "name": "stdout",
     "output_type": "stream",
     "text": [
      "+------+-----+--------+--------+----------+----------+-----------+---------------------+----------------+---------+--------------+----------------+-----------+------------------+------------------------------+----------+-------------+--------------------+---------------+-------------+--------------+---------+------------+----------+-------------------+-----------------+------------+--------------+----------+\n",
      "|userId|churn|gender_F|gender_M|level_free|level_paid|page_Cancel|page_Submit_Downgrade|page_Thumbs_Down|page_Home|page_Downgrade|page_Roll_Advert|page_Logout|page_Save_Settings|page_Cancellation_Confirmation|page_About|page_Settings|page_Add_to_Playlist|page_Add_Friend|page_NextSong|page_Thumbs_Up|page_Help|page_Upgrade|page_Error|page_Submit_Upgrade|registration_days|artist_count|total_activity|week_count|\n",
      "+------+-----+--------+--------+----------+----------+-----------+---------------------+----------------+---------+--------------+----------------+-----------+------------------+------------------------------+----------+-------------+--------------------+---------------+-------------+--------------+---------+------------+----------+-------------------+-----------------+------------+--------------+----------+\n",
      "|100010|    0|       1|       0|         1|         0|          0|                    0|               5|       11|             0|              52|          5|                 0|                             0|         1|            0|                   7|              4|          275|            17|        2|           2|         0|                  0|               55|         252|           381|        33|\n",
      "|200002|    0|       0|       1|         1|         1|          0|                    0|               6|       20|             5|               7|          5|                 0|                             0|         3|            3|                   8|              4|          387|            21|        2|           2|         0|                  1|               70|         339|           474|       140|\n",
      "|   125|    1|       0|       1|         1|         0|          1|                    0|               0|        0|             0|               1|          0|                 0|                             1|         0|            0|                   0|              0|            8|             0|        0|           0|         0|                  0|               72|           8|            11|        11|\n",
      "|   124|    0|       1|       0|         0|         1|          0|                    0|              41|      176|            41|               4|         59|                 6|                             0|         7|           20|                 118|             74|         4079|           171|       23|           0|         6|                  0|              131|        2232|          4825|       301|\n",
      "|    51|    1|       0|       1|         0|         1|          1|                    0|              21|       75|            23|               0|         24|                 1|                             1|         2|           12|                  52|             28|         2111|           100|       12|           0|         1|                  0|               20|        1385|          2464|      1099|\n",
      "|     7|    0|       0|       1|         1|         0|          0|                    0|               1|       10|             0|              16|          3|                 1|                             0|         0|            3|                   5|              1|          150|             7|        1|           2|         1|                  0|               73|         142|           201|        28|\n",
      "|    15|    0|       0|       1|         0|         1|          0|                    0|              14|       93|            28|               1|         27|                 2|                             0|         2|           16|                  59|             31|         1914|            81|        8|           0|         2|                  0|               57|        1302|          2278|       417|\n",
      "|    54|    1|       1|       0|         1|         1|          1|                    1|              29|      129|            39|              47|         36|                 3|                             1|         5|           17|                  72|             33|         2841|           163|       17|           1|         1|                  1|              110|        1744|          3437|       678|\n",
      "|   155|    0|       1|       0|         1|         1|          0|                    0|               3|       30|            12|               8|         14|                 0|                             0|         2|            5|                  24|             11|          820|            58|        9|           2|         3|                  1|               24|         643|          1002|       326|\n",
      "|100014|    1|       0|       1|         0|         1|          1|                    0|               3|        7|             3|               2|          3|                 0|                             1|         0|            1|                   7|              6|          257|            17|        2|           0|         0|                  0|               85|         233|           310|        74|\n",
      "|   132|    0|       1|       0|         1|         1|          0|                    0|              17|       83|            19|               2|         34|                 4|                             0|         4|           17|                  38|             41|         1928|            96|       16|           1|         3|                  1|               67|        1299|          2304|       694|\n",
      "|   154|    0|       1|       0|         1|         0|          0|                    0|               0|        6|             0|              10|          2|                 0|                             0|         0|            0|                   1|              3|           84|            11|        1|           0|         0|                  0|               24|          78|           118|        30|\n",
      "|   101|    1|       0|       1|         1|         1|          1|                    0|              16|       74|            22|               8|         24|                 2|                             1|         2|            9|                  61|             29|         1797|            86|       12|           1|         3|                  1|               54|        1241|          2149|      1257|\n",
      "|    11|    0|       1|       0|         1|         1|          0|                    1|               9|       37|             5|              39|         14|                 2|                             0|         7|            6|                  20|              6|          647|            40|        3|           9|         1|                  2|              125|         534|           848|        36|\n",
      "|   138|    0|       0|       1|         1|         1|          0|                    0|              24|       71|            21|              17|         18|                 4|                             0|         8|           17|                  67|             41|         2070|            95|       13|           1|         1|                  1|               66|        1332|          2469|       853|\n",
      "|300017|    0|       1|       0|         0|         1|          0|                    0|              28|      151|            25|              11|         41|                 3|                             0|         3|           23|                 113|             63|         3632|           303|       27|           0|         5|                  0|               74|        2070|          4428|       399|\n",
      "|100021|    1|       0|       1|         1|         0|          1|                    0|               5|       15|             0|              30|          7|                 0|                             1|         1|            0|                   7|              7|          230|            11|        0|           2|         2|                  0|               65|         207|           319|       182|\n",
      "|    29|    1|       0|       1|         1|         1|          1|                    0|              22|      121|            18|              22|         41|                 4|                             1|         2|           19|                  89|             47|         3028|           154|       28|           5|         0|                  1|               60|        1804|          3603|       272|\n",
      "|    69|    0|       1|       0|         1|         1|          0|                    0|               9|       49|             9|               3|         10|                 1|                             0|         3|            3|                  33|             12|         1125|            72|        7|           1|         4|                  1|               71|         865|          1342|       350|\n",
      "|   112|    0|       0|       1|         1|         0|          0|                    0|               3|       16|             0|              21|          3|                 3|                             0|         1|            4|                   7|              7|          215|             9|        1|           2|         0|                  0|               87|         195|           292|        33|\n",
      "+------+-----+--------+--------+----------+----------+-----------+---------------------+----------------+---------+--------------+----------------+-----------+------------------+------------------------------+----------+-------------+--------------------+---------------+-------------+--------------+---------+------------+----------+-------------------+-----------------+------------+--------------+----------+\n",
      "only showing top 20 rows"
     ]
    }
   ],
   "source": [
    "final.show()"
   ]
  },
  {
   "cell_type": "code",
   "execution_count": 237,
   "metadata": {},
   "outputs": [
    {
     "data": {
      "application/vnd.jupyter.widget-view+json": {
       "model_id": "9b164544ac2a4b45af38c3964966b04c",
       "version_major": 2,
       "version_minor": 0
      },
      "text/plain": [
       "VBox()"
      ]
     },
     "metadata": {},
     "output_type": "display_data"
    },
    {
     "data": {
      "application/vnd.jupyter.widget-view+json": {
       "model_id": "",
       "version_major": 2,
       "version_minor": 0
      },
      "text/plain": [
       "FloatProgress(value=0.0, bar_style='info', description='Progress:', layout=Layout(height='25px', width='50%'),…"
      ]
     },
     "metadata": {},
     "output_type": "display_data"
    },
    {
     "name": "stdout",
     "output_type": "stream",
     "text": [
      "['userId', 'churn', 'gender_F', 'gender_M', 'level_free', 'level_paid', 'page_Cancel', 'page_Submit_Downgrade', 'page_Thumbs_Down', 'page_Home', 'page_Downgrade', 'page_Roll_Advert', 'page_Logout', 'page_Save_Settings', 'page_Cancellation_Confirmation', 'page_About', 'page_Settings', 'page_Add_to_Playlist', 'page_Add_Friend', 'page_NextSong', 'page_Thumbs_Up', 'page_Help', 'page_Upgrade', 'page_Error', 'page_Submit_Upgrade', 'registration_days', 'artist_count', 'total_activity', 'week_count']"
     ]
    }
   ],
   "source": [
    "final.columns"
   ]
  },
  {
   "cell_type": "code",
   "execution_count": 39,
   "metadata": {},
   "outputs": [
    {
     "data": {
      "application/vnd.jupyter.widget-view+json": {
       "model_id": "ee522d6766724770bbf37e93682df169",
       "version_major": 2,
       "version_minor": 0
      },
      "text/plain": [
       "VBox()"
      ]
     },
     "metadata": {},
     "output_type": "display_data"
    },
    {
     "data": {
      "application/vnd.jupyter.widget-view+json": {
       "model_id": "",
       "version_major": 2,
       "version_minor": 0
      },
      "text/plain": [
       "FloatProgress(value=0.0, bar_style='info', description='Progress:', layout=Layout(height='25px', width='50%'),…"
      ]
     },
     "metadata": {},
     "output_type": "display_data"
    }
   ],
   "source": [
    "final.createOrReplaceTempView('final')"
   ]
  },
  {
   "cell_type": "code",
   "execution_count": 40,
   "metadata": {},
   "outputs": [
    {
     "data": {
      "application/vnd.jupyter.widget-view+json": {
       "model_id": "8f6e38970f8349be9100a91cb2785c41",
       "version_major": 2,
       "version_minor": 0
      },
      "text/plain": [
       "VBox()"
      ]
     },
     "metadata": {},
     "output_type": "display_data"
    },
    {
     "data": {
      "application/vnd.jupyter.widget-view+json": {
       "model_id": "",
       "version_major": 2,
       "version_minor": 0
      },
      "text/plain": [
       "FloatProgress(value=0.0, bar_style='info', description='Progress:', layout=Layout(height='25px', width='50%'),…"
      ]
     },
     "metadata": {},
     "output_type": "display_data"
    }
   ],
   "source": [
    "no_id = '''SELECT '''\n",
    "for i in final.columns[1:]:\n",
    "    no_id += i+','\n",
    "\n",
    "no_id = no_id[:-1]+''' FROM final'''\n",
    "\n",
    "final = spark.sql(no_id)\n",
    "final.createOrReplaceTempView('final')"
   ]
  },
  {
   "cell_type": "code",
   "execution_count": 41,
   "metadata": {},
   "outputs": [
    {
     "data": {
      "application/vnd.jupyter.widget-view+json": {
       "model_id": "0bd94f2be89e4f72893c5dd0d5c4298e",
       "version_major": 2,
       "version_minor": 0
      },
      "text/plain": [
       "VBox()"
      ]
     },
     "metadata": {},
     "output_type": "display_data"
    },
    {
     "data": {
      "application/vnd.jupyter.widget-view+json": {
       "model_id": "",
       "version_major": 2,
       "version_minor": 0
      },
      "text/plain": [
       "FloatProgress(value=0.0, bar_style='info', description='Progress:', layout=Layout(height='25px', width='50%'),…"
      ]
     },
     "metadata": {},
     "output_type": "display_data"
    },
    {
     "name": "stdout",
     "output_type": "stream",
     "text": [
      "+-----+--------+--------+----------+----------+-----------+---------------------+----------------+---------+--------------+----------------+-----------+------------------+------------------------------+----------+-------------+--------------------+---------------+-------------+--------------+---------+------------+----------+-------------------+-----------------+------------+--------------+----------+\n",
      "|churn|gender_F|gender_M|level_free|level_paid|page_Cancel|page_Submit_Downgrade|page_Thumbs_Down|page_Home|page_Downgrade|page_Roll_Advert|page_Logout|page_Save_Settings|page_Cancellation_Confirmation|page_About|page_Settings|page_Add_to_Playlist|page_Add_Friend|page_NextSong|page_Thumbs_Up|page_Help|page_Upgrade|page_Error|page_Submit_Upgrade|registration_days|artist_count|total_activity|week_count|\n",
      "+-----+--------+--------+----------+----------+-----------+---------------------+----------------+---------+--------------+----------------+-----------+------------------+------------------------------+----------+-------------+--------------------+---------------+-------------+--------------+---------+------------+----------+-------------------+-----------------+------------+--------------+----------+\n",
      "|    0|       1|       0|         1|         0|          0|                    0|               5|       11|             0|              52|          5|                 0|                             0|         1|            0|                   7|              4|          275|            17|        2|           2|         0|                  0|               55|         252|           381|        33|\n",
      "|    0|       0|       1|         1|         1|          0|                    0|               6|       20|             5|               7|          5|                 0|                             0|         3|            3|                   8|              4|          387|            21|        2|           2|         0|                  1|               70|         339|           474|       140|\n",
      "|    1|       0|       1|         1|         0|          1|                    0|               0|        0|             0|               1|          0|                 0|                             1|         0|            0|                   0|              0|            8|             0|        0|           0|         0|                  0|               72|           8|            11|        11|\n",
      "|    0|       1|       0|         0|         1|          0|                    0|              41|      176|            41|               4|         59|                 6|                             0|         7|           20|                 118|             74|         4079|           171|       23|           0|         6|                  0|              131|        2232|          4825|       301|\n",
      "|    1|       0|       1|         0|         1|          1|                    0|              21|       75|            23|               0|         24|                 1|                             1|         2|           12|                  52|             28|         2111|           100|       12|           0|         1|                  0|               20|        1385|          2464|      1099|\n",
      "|    0|       0|       1|         1|         0|          0|                    0|               1|       10|             0|              16|          3|                 1|                             0|         0|            3|                   5|              1|          150|             7|        1|           2|         1|                  0|               73|         142|           201|        28|\n",
      "|    0|       0|       1|         0|         1|          0|                    0|              14|       93|            28|               1|         27|                 2|                             0|         2|           16|                  59|             31|         1914|            81|        8|           0|         2|                  0|               57|        1302|          2278|       417|\n",
      "|    1|       1|       0|         1|         1|          1|                    1|              29|      129|            39|              47|         36|                 3|                             1|         5|           17|                  72|             33|         2841|           163|       17|           1|         1|                  1|              110|        1744|          3437|       678|\n",
      "|    0|       1|       0|         1|         1|          0|                    0|               3|       30|            12|               8|         14|                 0|                             0|         2|            5|                  24|             11|          820|            58|        9|           2|         3|                  1|               24|         643|          1002|       326|\n",
      "|    1|       0|       1|         0|         1|          1|                    0|               3|        7|             3|               2|          3|                 0|                             1|         0|            1|                   7|              6|          257|            17|        2|           0|         0|                  0|               85|         233|           310|        74|\n",
      "|    0|       1|       0|         1|         1|          0|                    0|              17|       83|            19|               2|         34|                 4|                             0|         4|           17|                  38|             41|         1928|            96|       16|           1|         3|                  1|               67|        1299|          2304|       694|\n",
      "|    0|       1|       0|         1|         0|          0|                    0|               0|        6|             0|              10|          2|                 0|                             0|         0|            0|                   1|              3|           84|            11|        1|           0|         0|                  0|               24|          78|           118|        30|\n",
      "|    1|       0|       1|         1|         1|          1|                    0|              16|       74|            22|               8|         24|                 2|                             1|         2|            9|                  61|             29|         1797|            86|       12|           1|         3|                  1|               54|        1241|          2149|      1257|\n",
      "|    0|       1|       0|         1|         1|          0|                    1|               9|       37|             5|              39|         14|                 2|                             0|         7|            6|                  20|              6|          647|            40|        3|           9|         1|                  2|              125|         534|           848|        36|\n",
      "|    0|       0|       1|         1|         1|          0|                    0|              24|       71|            21|              17|         18|                 4|                             0|         8|           17|                  67|             41|         2070|            95|       13|           1|         1|                  1|               66|        1332|          2469|       853|\n",
      "|    0|       1|       0|         0|         1|          0|                    0|              28|      151|            25|              11|         41|                 3|                             0|         3|           23|                 113|             63|         3632|           303|       27|           0|         5|                  0|               74|        2070|          4428|       399|\n",
      "|    1|       0|       1|         1|         0|          1|                    0|               5|       15|             0|              30|          7|                 0|                             1|         1|            0|                   7|              7|          230|            11|        0|           2|         2|                  0|               65|         207|           319|       182|\n",
      "|    1|       0|       1|         1|         1|          1|                    0|              22|      121|            18|              22|         41|                 4|                             1|         2|           19|                  89|             47|         3028|           154|       28|           5|         0|                  1|               60|        1804|          3603|       272|\n",
      "|    0|       1|       0|         1|         1|          0|                    0|               9|       49|             9|               3|         10|                 1|                             0|         3|            3|                  33|             12|         1125|            72|        7|           1|         4|                  1|               71|         865|          1342|       350|\n",
      "|    0|       0|       1|         1|         0|          0|                    0|               3|       16|             0|              21|          3|                 3|                             0|         1|            4|                   7|              7|          215|             9|        1|           2|         0|                  0|               87|         195|           292|        33|\n",
      "+-----+--------+--------+----------+----------+-----------+---------------------+----------------+---------+--------------+----------------+-----------+------------------+------------------------------+----------+-------------+--------------------+---------------+-------------+--------------+---------+------------+----------+-------------------+-----------------+------------+--------------+----------+\n",
      "only showing top 20 rows"
     ]
    }
   ],
   "source": [
    "final.show()\n"
   ]
  },
  {
   "cell_type": "code",
   "execution_count": 114,
   "metadata": {},
   "outputs": [
    {
     "data": {
      "application/vnd.jupyter.widget-view+json": {
       "model_id": "f028080ed3d34657b50388e3c8964607",
       "version_major": 2,
       "version_minor": 0
      },
      "text/plain": [
       "VBox()"
      ]
     },
     "metadata": {},
     "output_type": "display_data"
    },
    {
     "data": {
      "application/vnd.jupyter.widget-view+json": {
       "model_id": "",
       "version_major": 2,
       "version_minor": 0
      },
      "text/plain": [
       "FloatProgress(value=0.0, bar_style='info', description='Progress:', layout=Layout(height='25px', width='50%'),…"
      ]
     },
     "metadata": {},
     "output_type": "display_data"
    },
    {
     "name": "stdout",
     "output_type": "stream",
     "text": [
      "['churn', 'gender_F', 'gender_M', 'level_free', 'level_paid', 'page_Cancel', 'page_Submit_Downgrade', 'page_Thumbs_Down', 'page_Home', 'page_Downgrade', 'page_Roll_Advert', 'page_Logout', 'page_Save_Settings', 'page_Cancellation_Confirmation', 'page_About', 'page_Settings', 'page_Add_to_Playlist', 'page_Add_Friend', 'page_NextSong', 'page_Thumbs_Up', 'page_Help', 'page_Upgrade', 'page_Error', 'page_Submit_Upgrade', 'registration_days', 'artist_count', 'total_activity', 'week_count']"
     ]
    }
   ],
   "source": [
    "final.columns"
   ]
  },
  {
   "cell_type": "code",
   "execution_count": 42,
   "metadata": {},
   "outputs": [
    {
     "data": {
      "application/vnd.jupyter.widget-view+json": {
       "model_id": "edc078389cbf4ebcae08313dcc911880",
       "version_major": 2,
       "version_minor": 0
      },
      "text/plain": [
       "VBox()"
      ]
     },
     "metadata": {},
     "output_type": "display_data"
    },
    {
     "data": {
      "application/vnd.jupyter.widget-view+json": {
       "model_id": "",
       "version_major": 2,
       "version_minor": 0
      },
      "text/plain": [
       "FloatProgress(value=0.0, bar_style='info', description='Progress:', layout=Layout(height='25px', width='50%'),…"
      ]
     },
     "metadata": {},
     "output_type": "display_data"
    }
   ],
   "source": [
    "final.write.save('finals.json',format='json')"
   ]
  },
  {
   "cell_type": "markdown",
   "metadata": {},
   "source": [
    "# Modeling\n",
    "Split the full dataset into train, test, and validation sets. Test out several of the machine learning methods you learned. Evaluate the accuracy of the various models, tuning parameters as necessary. Determine your winning model based on test accuracy and report results on the validation set. Since the churned users are a fairly small subset, I suggest using F1 score as the metric to optimize."
   ]
  },
  {
   "cell_type": "code",
   "execution_count": 9,
   "metadata": {},
   "outputs": [
    {
     "data": {
      "application/vnd.jupyter.widget-view+json": {
       "model_id": "8c0aa4fc1a8e45bea58ede7d1fcb47f2",
       "version_major": 2,
       "version_minor": 0
      },
      "text/plain": [
       "VBox()"
      ]
     },
     "metadata": {},
     "output_type": "display_data"
    },
    {
     "data": {
      "application/vnd.jupyter.widget-view+json": {
       "model_id": "",
       "version_major": 2,
       "version_minor": 0
      },
      "text/plain": [
       "FloatProgress(value=0.0, bar_style='info', description='Progress:', layout=Layout(height='25px', width='50%'),…"
      ]
     },
     "metadata": {},
     "output_type": "display_data"
    }
   ],
   "source": [
    "final= spark.read.json('finals.json')"
   ]
  },
  {
   "cell_type": "code",
   "execution_count": 10,
   "metadata": {},
   "outputs": [
    {
     "data": {
      "application/vnd.jupyter.widget-view+json": {
       "model_id": "fef937aca7db420787b929cd12ff335f",
       "version_major": 2,
       "version_minor": 0
      },
      "text/plain": [
       "VBox()"
      ]
     },
     "metadata": {},
     "output_type": "display_data"
    },
    {
     "data": {
      "application/vnd.jupyter.widget-view+json": {
       "model_id": "",
       "version_major": 2,
       "version_minor": 0
      },
      "text/plain": [
       "FloatProgress(value=0.0, bar_style='info', description='Progress:', layout=Layout(height='25px', width='50%'),…"
      ]
     },
     "metadata": {},
     "output_type": "display_data"
    }
   ],
   "source": [
    "cols=['artist_count', 'gender_F', 'gender_M', 'level_free', 'level_paid', 'page_About', 'page_Add_Friend', 'page_Add_to_Playlist', 'page_Downgrade', 'page_Error', 'page_Help', 'page_Home', 'page_Logout', 'page_NextSong', 'page_Roll_Advert', 'page_Save_Settings', 'page_Settings', 'page_Submit_Downgrade', 'page_Submit_Upgrade', 'page_Thumbs_Down', 'page_Thumbs_Up', 'page_Upgrade', 'registration_days', 'total_activity', 'week_count']"
   ]
  },
  {
   "cell_type": "code",
   "execution_count": 11,
   "metadata": {},
   "outputs": [
    {
     "data": {
      "application/vnd.jupyter.widget-view+json": {
       "model_id": "063eaedddb9a41b98353234381855e62",
       "version_major": 2,
       "version_minor": 0
      },
      "text/plain": [
       "VBox()"
      ]
     },
     "metadata": {},
     "output_type": "display_data"
    },
    {
     "data": {
      "application/vnd.jupyter.widget-view+json": {
       "model_id": "",
       "version_major": 2,
       "version_minor": 0
      },
      "text/plain": [
       "FloatProgress(value=0.0, bar_style='info', description='Progress:', layout=Layout(height='25px', width='50%'),…"
      ]
     },
     "metadata": {},
     "output_type": "display_data"
    }
   ],
   "source": [
    "# Vector Assembler\n",
    "\n",
    "assembler = VectorAssembler(inputCols=cols, outputCol='features')\n",
    "df = assembler.transform(final)"
   ]
  },
  {
   "cell_type": "code",
   "execution_count": 12,
   "metadata": {},
   "outputs": [
    {
     "data": {
      "application/vnd.jupyter.widget-view+json": {
       "model_id": "a4e232226dc248549433de45fb80b791",
       "version_major": 2,
       "version_minor": 0
      },
      "text/plain": [
       "VBox()"
      ]
     },
     "metadata": {},
     "output_type": "display_data"
    },
    {
     "data": {
      "application/vnd.jupyter.widget-view+json": {
       "model_id": "",
       "version_major": 2,
       "version_minor": 0
      },
      "text/plain": [
       "FloatProgress(value=0.0, bar_style='info', description='Progress:', layout=Layout(height='25px', width='50%'),…"
      ]
     },
     "metadata": {},
     "output_type": "display_data"
    },
    {
     "name": "stdout",
     "output_type": "stream",
     "text": [
      "+------------+-----+--------+--------+----------+----------+----------+---------------+--------------------+-----------+------------------------------+--------------+----------+---------+---------+-----------+-------------+----------------+------------------+-------------+---------------------+-------------------+----------------+--------------+------------+-----------------+--------------+----------+--------------------+\n",
      "|artist_count|churn|gender_F|gender_M|level_free|level_paid|page_About|page_Add_Friend|page_Add_to_Playlist|page_Cancel|page_Cancellation_Confirmation|page_Downgrade|page_Error|page_Help|page_Home|page_Logout|page_NextSong|page_Roll_Advert|page_Save_Settings|page_Settings|page_Submit_Downgrade|page_Submit_Upgrade|page_Thumbs_Down|page_Thumbs_Up|page_Upgrade|registration_days|total_activity|week_count|            features|\n",
      "+------------+-----+--------+--------+----------+----------+----------+---------------+--------------------+-----------+------------------------------+--------------+----------+---------+---------+-----------+-------------+----------------+------------------+-------------+---------------------+-------------------+----------------+--------------+------------+-----------------+--------------+----------+--------------------+\n",
      "|         733|    0|       1|       0|         1|         1|         0|             19|                  23|          0|                             0|            10|         2|        6|       66|         19|          942|              86|                 2|           11|                    2|                  3|              11|            35|           8|              173|          1245|       407|[733.0,1.0,0.0,1....|\n",
      "+------------+-----+--------+--------+----------+----------+----------+---------------+--------------------+-----------+------------------------------+--------------+----------+---------+---------+-----------+-------------+----------------+------------------+-------------+---------------------+-------------------+----------------+--------------+------------+-----------------+--------------+----------+--------------------+\n",
      "only showing top 1 row"
     ]
    }
   ],
   "source": [
    "df.show(1)"
   ]
  },
  {
   "cell_type": "code",
   "execution_count": 13,
   "metadata": {},
   "outputs": [
    {
     "data": {
      "application/vnd.jupyter.widget-view+json": {
       "model_id": "aa3328be081e40acb9fef9e10732fea4",
       "version_major": 2,
       "version_minor": 0
      },
      "text/plain": [
       "VBox()"
      ]
     },
     "metadata": {},
     "output_type": "display_data"
    },
    {
     "data": {
      "application/vnd.jupyter.widget-view+json": {
       "model_id": "",
       "version_major": 2,
       "version_minor": 0
      },
      "text/plain": [
       "FloatProgress(value=0.0, bar_style='info', description='Progress:', layout=Layout(height='25px', width='50%'),…"
      ]
     },
     "metadata": {},
     "output_type": "display_data"
    }
   ],
   "source": [
    "# Standard Scaler\n",
    "scaler = StandardScaler(inputCol='features',\n",
    "                        outputCol='features_scale', withStd=True)\n",
    "df = scaler.fit(df).transform(df)"
   ]
  },
  {
   "cell_type": "code",
   "execution_count": 14,
   "metadata": {},
   "outputs": [
    {
     "data": {
      "application/vnd.jupyter.widget-view+json": {
       "model_id": "49a9d099991a43d78b0a82931e8496c4",
       "version_major": 2,
       "version_minor": 0
      },
      "text/plain": [
       "VBox()"
      ]
     },
     "metadata": {},
     "output_type": "display_data"
    },
    {
     "data": {
      "application/vnd.jupyter.widget-view+json": {
       "model_id": "",
       "version_major": 2,
       "version_minor": 0
      },
      "text/plain": [
       "FloatProgress(value=0.0, bar_style='info', description='Progress:', layout=Layout(height='25px', width='50%'),…"
      ]
     },
     "metadata": {},
     "output_type": "display_data"
    }
   ],
   "source": [
    "# select features and churn label\n",
    "df = df.select(df.churn.alias('label'), df.features_scale.alias('features'))"
   ]
  },
  {
   "cell_type": "code",
   "execution_count": 15,
   "metadata": {},
   "outputs": [
    {
     "data": {
      "application/vnd.jupyter.widget-view+json": {
       "model_id": "d16daa42a3324a31919a3609747d6a6c",
       "version_major": 2,
       "version_minor": 0
      },
      "text/plain": [
       "VBox()"
      ]
     },
     "metadata": {},
     "output_type": "display_data"
    },
    {
     "data": {
      "application/vnd.jupyter.widget-view+json": {
       "model_id": "",
       "version_major": 2,
       "version_minor": 0
      },
      "text/plain": [
       "FloatProgress(value=0.0, bar_style='info', description='Progress:', layout=Layout(height='25px', width='50%'),…"
      ]
     },
     "metadata": {},
     "output_type": "display_data"
    },
    {
     "name": "stdout",
     "output_type": "stream",
     "text": [
      "+-----+--------------------+\n",
      "|label|            features|\n",
      "+-----+--------------------+\n",
      "|    0|[1.21367287126071...|\n",
      "|    0|[2.01009395049181...|\n",
      "|    0|[1.88260034737166...|\n",
      "|    0|(25,[0,1,3,6,11,1...|\n",
      "|    0|(25,[0,2,3,10,11,...|\n",
      "|    0|[2.72041545358983...|\n",
      "|    0|[1.82133718743080...|\n",
      "|    0|[4.66759048306131...|\n",
      "|    1|[1.22691895989657...|\n",
      "|    0|[1.92565013543820...|\n",
      "|    1|[0.60932007724957...|\n",
      "|    0|[0.91563587695385...|\n",
      "|    0|[2.18394886383748...|\n",
      "|    1|[1.38090474028844...|\n",
      "|    0|[0.21690470141221...|\n",
      "|    0|[1.55475965363411...|\n",
      "|    0|[1.36600289057310...|\n",
      "|    0|[3.69565872940505...|\n",
      "|    1|[2.29322909508333...|\n",
      "|    0|[0.23511807328652...|\n",
      "+-----+--------------------+\n",
      "only showing top 20 rows"
     ]
    }
   ],
   "source": [
    "df.show()"
   ]
  },
  {
   "cell_type": "code",
   "execution_count": 52,
   "metadata": {},
   "outputs": [
    {
     "data": {
      "application/vnd.jupyter.widget-view+json": {
       "model_id": "c66c0e0842c04323954999e64bd783c2",
       "version_major": 2,
       "version_minor": 0
      },
      "text/plain": [
       "VBox()"
      ]
     },
     "metadata": {},
     "output_type": "display_data"
    },
    {
     "data": {
      "application/vnd.jupyter.widget-view+json": {
       "model_id": "",
       "version_major": 2,
       "version_minor": 0
      },
      "text/plain": [
       "FloatProgress(value=0.0, bar_style='info', description='Progress:', layout=Layout(height='25px', width='50%'),…"
      ]
     },
     "metadata": {},
     "output_type": "display_data"
    }
   ],
   "source": [
    "# split train, test and validation\n",
    "train, test = df.randomSplit([0.7, 0.3])\n",
    "valid, test = test.randomSplit([0.5, 0.5])"
   ]
  },
  {
   "cell_type": "code",
   "execution_count": 53,
   "metadata": {},
   "outputs": [
    {
     "data": {
      "application/vnd.jupyter.widget-view+json": {
       "model_id": "837b042112ba4a35b02ebf1538d54dd7",
       "version_major": 2,
       "version_minor": 0
      },
      "text/plain": [
       "VBox()"
      ]
     },
     "metadata": {},
     "output_type": "display_data"
    },
    {
     "data": {
      "application/vnd.jupyter.widget-view+json": {
       "model_id": "",
       "version_major": 2,
       "version_minor": 0
      },
      "text/plain": [
       "FloatProgress(value=0.0, bar_style='info', description='Progress:', layout=Layout(height='25px', width='50%'),…"
      ]
     },
     "metadata": {},
     "output_type": "display_data"
    }
   ],
   "source": [
    "# Logistic Regression\n",
    "lr = LogisticRegression()\n",
    "evaluator = MulticlassClassificationEvaluator(metricName='f1')\n",
    "param_grid = ParamGridBuilder().build()\n",
    "cv = CrossValidator(estimator=lr,\n",
    "                    evaluator=evaluator,\n",
    "                    estimatorParamMaps=param_grid,\n",
    "                    numFolds=5)"
   ]
  },
  {
   "cell_type": "code",
   "execution_count": 54,
   "metadata": {},
   "outputs": [
    {
     "data": {
      "application/vnd.jupyter.widget-view+json": {
       "model_id": "7ee51039425d4096a271dad4ed105fa0",
       "version_major": 2,
       "version_minor": 0
      },
      "text/plain": [
       "VBox()"
      ]
     },
     "metadata": {},
     "output_type": "display_data"
    },
    {
     "data": {
      "application/vnd.jupyter.widget-view+json": {
       "model_id": "",
       "version_major": 2,
       "version_minor": 0
      },
      "text/plain": [
       "FloatProgress(value=0.0, bar_style='info', description='Progress:', layout=Layout(height='25px', width='50%'),…"
      ]
     },
     "metadata": {},
     "output_type": "display_data"
    }
   ],
   "source": [
    "cv_fit=cv.fit(train)"
   ]
  },
  {
   "cell_type": "code",
   "execution_count": 55,
   "metadata": {},
   "outputs": [
    {
     "data": {
      "application/vnd.jupyter.widget-view+json": {
       "model_id": "1413ddeb61bf4feea3f534be3a400ae7",
       "version_major": 2,
       "version_minor": 0
      },
      "text/plain": [
       "VBox()"
      ]
     },
     "metadata": {},
     "output_type": "display_data"
    },
    {
     "data": {
      "application/vnd.jupyter.widget-view+json": {
       "model_id": "",
       "version_major": 2,
       "version_minor": 0
      },
      "text/plain": [
       "FloatProgress(value=0.0, bar_style='info', description='Progress:', layout=Layout(height='25px', width='50%'),…"
      ]
     },
     "metadata": {},
     "output_type": "display_data"
    }
   ],
   "source": [
    "lr_pred=cv_fit.transform(test)"
   ]
  },
  {
   "cell_type": "code",
   "execution_count": 56,
   "metadata": {},
   "outputs": [
    {
     "data": {
      "application/vnd.jupyter.widget-view+json": {
       "model_id": "fc3a7116e35a44dc9b4419e88de94241",
       "version_major": 2,
       "version_minor": 0
      },
      "text/plain": [
       "VBox()"
      ]
     },
     "metadata": {},
     "output_type": "display_data"
    },
    {
     "data": {
      "application/vnd.jupyter.widget-view+json": {
       "model_id": "",
       "version_major": 2,
       "version_minor": 0
      },
      "text/plain": [
       "FloatProgress(value=0.0, bar_style='info', description='Progress:', layout=Layout(height='25px', width='50%'),…"
      ]
     },
     "metadata": {},
     "output_type": "display_data"
    },
    {
     "name": "stdout",
     "output_type": "stream",
     "text": [
      "Accuracy:  0.7045454545454546\n",
      "F1 Score:  0.7101795991956175"
     ]
    }
   ],
   "source": [
    "# show cv performance\n",
    "print('Accuracy: ', evaluator.evaluate(\n",
    "    lr_pred, {evaluator.metricName: 'accuracy'}))\n",
    "print('F1 Score: ', evaluator.evaluate(lr_pred, {evaluator.metricName: 'f1'}))"
   ]
  },
  {
   "cell_type": "code",
   "execution_count": 57,
   "metadata": {},
   "outputs": [
    {
     "data": {
      "application/vnd.jupyter.widget-view+json": {
       "model_id": "4fb983e14ceb4a4fba64929d6a069129",
       "version_major": 2,
       "version_minor": 0
      },
      "text/plain": [
       "VBox()"
      ]
     },
     "metadata": {},
     "output_type": "display_data"
    },
    {
     "data": {
      "application/vnd.jupyter.widget-view+json": {
       "model_id": "",
       "version_major": 2,
       "version_minor": 0
      },
      "text/plain": [
       "FloatProgress(value=0.0, bar_style='info', description='Progress:', layout=Layout(height='25px', width='50%'),…"
      ]
     },
     "metadata": {},
     "output_type": "display_data"
    },
    {
     "name": "stdout",
     "output_type": "stream",
     "text": [
      "{Param(parent='LogisticRegression_3b42a167ab26', name='aggregationDepth', doc='suggested depth for treeAggregate (>= 2)'): 2, Param(parent='LogisticRegression_3b42a167ab26', name='elasticNetParam', doc='the ElasticNet mixing parameter, in range [0, 1]. For alpha = 0, the penalty is an L2 penalty. For alpha = 1, it is an L1 penalty'): 0.0, Param(parent='LogisticRegression_3b42a167ab26', name='family', doc='The name of family which is a description of the label distribution to be used in the model. Supported options: auto, binomial, multinomial.'): 'auto', Param(parent='LogisticRegression_3b42a167ab26', name='featuresCol', doc='features column name'): 'features', Param(parent='LogisticRegression_3b42a167ab26', name='fitIntercept', doc='whether to fit an intercept term'): True, Param(parent='LogisticRegression_3b42a167ab26', name='labelCol', doc='label column name'): 'label', Param(parent='LogisticRegression_3b42a167ab26', name='maxIter', doc='maximum number of iterations (>= 0)'): 100, Param(parent='LogisticRegression_3b42a167ab26', name='predictionCol', doc='prediction column name'): 'prediction', Param(parent='LogisticRegression_3b42a167ab26', name='probabilityCol', doc='Column name for predicted class conditional probabilities. Note: Not all models output well-calibrated probability estimates! These probabilities should be treated as confidences, not precise probabilities'): 'probability', Param(parent='LogisticRegression_3b42a167ab26', name='rawPredictionCol', doc='raw prediction (a.k.a. confidence) column name'): 'rawPrediction', Param(parent='LogisticRegression_3b42a167ab26', name='regParam', doc='regularization parameter (>= 0)'): 0.0, Param(parent='LogisticRegression_3b42a167ab26', name='standardization', doc='whether to standardize the training features before fitting the model'): True, Param(parent='LogisticRegression_3b42a167ab26', name='threshold', doc='threshold in binary classification prediction, in range [0, 1]'): 0.5, Param(parent='LogisticRegression_3b42a167ab26', name='tol', doc='the convergence tolerance for iterative algorithms (>= 0)'): 1e-06}"
     ]
    }
   ],
   "source": [
    "# using best model of cv to validate\n",
    "lr_best = cv_fit.bestModel\n",
    "lr_best.extractParamMap()"
   ]
  },
  {
   "cell_type": "code",
   "execution_count": 58,
   "metadata": {},
   "outputs": [
    {
     "data": {
      "application/vnd.jupyter.widget-view+json": {
       "model_id": "261e34acb3d84f38883d71eb3263c79b",
       "version_major": 2,
       "version_minor": 0
      },
      "text/plain": [
       "VBox()"
      ]
     },
     "metadata": {},
     "output_type": "display_data"
    },
    {
     "data": {
      "application/vnd.jupyter.widget-view+json": {
       "model_id": "",
       "version_major": 2,
       "version_minor": 0
      },
      "text/plain": [
       "FloatProgress(value=0.0, bar_style='info', description='Progress:', layout=Layout(height='25px', width='50%'),…"
      ]
     },
     "metadata": {},
     "output_type": "display_data"
    },
    {
     "name": "stdout",
     "output_type": "stream",
     "text": [
      "Accuracy:  0.8571428571428571\n",
      "F1 Score:  0.8658008658008657"
     ]
    }
   ],
   "source": [
    "# using best model of cv to validate\n",
    "lr_valid = cv_fit.transform(valid)\n",
    "print('Accuracy: ', evaluator.evaluate(\n",
    "    lr_valid, {evaluator.metricName: 'accuracy'}))\n",
    "print('F1 Score: ', evaluator.evaluate(lr_valid, {evaluator.metricName: 'f1'}))"
   ]
  },
  {
   "cell_type": "code",
   "execution_count": 59,
   "metadata": {},
   "outputs": [
    {
     "data": {
      "application/vnd.jupyter.widget-view+json": {
       "model_id": "9a607186394e4679a4683b6c26a9c252",
       "version_major": 2,
       "version_minor": 0
      },
      "text/plain": [
       "VBox()"
      ]
     },
     "metadata": {},
     "output_type": "display_data"
    },
    {
     "data": {
      "application/vnd.jupyter.widget-view+json": {
       "model_id": "",
       "version_major": 2,
       "version_minor": 0
      },
      "text/plain": [
       "FloatProgress(value=0.0, bar_style='info', description='Progress:', layout=Layout(height='25px', width='50%'),…"
      ]
     },
     "metadata": {},
     "output_type": "display_data"
    }
   ],
   "source": [
    "# Gradient Boosting\n",
    "gb = GBTClassifier(seed=0)\n",
    "param_grid_gb = ParamGridBuilder().build()\n",
    "cv_gb = CrossValidator(estimator=gb,\n",
    "                       evaluator=evaluator,\n",
    "                       estimatorParamMaps=param_grid_gb,\n",
    "                       numFolds=5)"
   ]
  },
  {
   "cell_type": "code",
   "execution_count": 60,
   "metadata": {
    "scrolled": true
   },
   "outputs": [
    {
     "data": {
      "application/vnd.jupyter.widget-view+json": {
       "model_id": "3fdaff4776a64cf595cb0b91dde58cba",
       "version_major": 2,
       "version_minor": 0
      },
      "text/plain": [
       "VBox()"
      ]
     },
     "metadata": {},
     "output_type": "display_data"
    },
    {
     "data": {
      "application/vnd.jupyter.widget-view+json": {
       "model_id": "",
       "version_major": 2,
       "version_minor": 0
      },
      "text/plain": [
       "FloatProgress(value=0.0, bar_style='info', description='Progress:', layout=Layout(height='25px', width='50%'),…"
      ]
     },
     "metadata": {},
     "output_type": "display_data"
    }
   ],
   "source": [
    "# fit train and predict test\n",
    "gb_fit=cv_gb.fit(train)\n",
    "gb_pred = gb_fit.transform(test)"
   ]
  },
  {
   "cell_type": "code",
   "execution_count": 61,
   "metadata": {},
   "outputs": [
    {
     "data": {
      "application/vnd.jupyter.widget-view+json": {
       "model_id": "cdad0fc9e39645cf8915e2f257cecf39",
       "version_major": 2,
       "version_minor": 0
      },
      "text/plain": [
       "VBox()"
      ]
     },
     "metadata": {},
     "output_type": "display_data"
    },
    {
     "data": {
      "application/vnd.jupyter.widget-view+json": {
       "model_id": "",
       "version_major": 2,
       "version_minor": 0
      },
      "text/plain": [
       "FloatProgress(value=0.0, bar_style='info', description='Progress:', layout=Layout(height='25px', width='50%'),…"
      ]
     },
     "metadata": {},
     "output_type": "display_data"
    },
    {
     "name": "stdout",
     "output_type": "stream",
     "text": [
      "Accuracy:  0.6590909090909091\n",
      "F1 Score:  0.6514649393688333"
     ]
    }
   ],
   "source": [
    "# show cv performance\n",
    "print('Accuracy: ', evaluator.evaluate(\n",
    "    gb_pred, {evaluator.metricName: 'accuracy'}))\n",
    "print('F1 Score: ', evaluator.evaluate(gb_pred, {evaluator.metricName: 'f1'}))"
   ]
  },
  {
   "cell_type": "code",
   "execution_count": 62,
   "metadata": {},
   "outputs": [
    {
     "data": {
      "application/vnd.jupyter.widget-view+json": {
       "model_id": "0c828f194cfd4d0e92aac1e55c93144a",
       "version_major": 2,
       "version_minor": 0
      },
      "text/plain": [
       "VBox()"
      ]
     },
     "metadata": {},
     "output_type": "display_data"
    },
    {
     "data": {
      "application/vnd.jupyter.widget-view+json": {
       "model_id": "",
       "version_major": 2,
       "version_minor": 0
      },
      "text/plain": [
       "FloatProgress(value=0.0, bar_style='info', description='Progress:', layout=Layout(height='25px', width='50%'),…"
      ]
     },
     "metadata": {},
     "output_type": "display_data"
    },
    {
     "name": "stdout",
     "output_type": "stream",
     "text": [
      "Accuracy:  0.8928571428571429\n",
      "F1 Score:  0.9014822386915411"
     ]
    }
   ],
   "source": [
    "# using best model of cv to validate\n",
    "gb_valid = gb_fit.transform(valid)\n",
    "print('Accuracy: ', evaluator.evaluate(\n",
    "    gb_valid, {evaluator.metricName: 'accuracy'}))\n",
    "print('F1 Score: ', evaluator.evaluate(gb_valid, {evaluator.metricName: 'f1'}))"
   ]
  },
  {
   "cell_type": "code",
   "execution_count": 63,
   "metadata": {},
   "outputs": [
    {
     "data": {
      "application/vnd.jupyter.widget-view+json": {
       "model_id": "e378eae7d79a44a38c62db44af5f6d85",
       "version_major": 2,
       "version_minor": 0
      },
      "text/plain": [
       "VBox()"
      ]
     },
     "metadata": {},
     "output_type": "display_data"
    },
    {
     "data": {
      "application/vnd.jupyter.widget-view+json": {
       "model_id": "",
       "version_major": 2,
       "version_minor": 0
      },
      "text/plain": [
       "FloatProgress(value=0.0, bar_style='info', description='Progress:', layout=Layout(height='25px', width='50%'),…"
      ]
     },
     "metadata": {},
     "output_type": "display_data"
    }
   ],
   "source": [
    "# SVM\n",
    "svc = LinearSVC()\n",
    "param_grid_svc = ParamGridBuilder().build()\n",
    "cv_svc = CrossValidator(estimator=svc,\n",
    "                        evaluator=evaluator,\n",
    "                        estimatorParamMaps=param_grid_svc,\n",
    "                        numFolds=5)"
   ]
  },
  {
   "cell_type": "code",
   "execution_count": 64,
   "metadata": {
    "scrolled": true
   },
   "outputs": [
    {
     "data": {
      "application/vnd.jupyter.widget-view+json": {
       "model_id": "2b09909fd03443c98a21ac76d34dbf8d",
       "version_major": 2,
       "version_minor": 0
      },
      "text/plain": [
       "VBox()"
      ]
     },
     "metadata": {},
     "output_type": "display_data"
    },
    {
     "data": {
      "application/vnd.jupyter.widget-view+json": {
       "model_id": "",
       "version_major": 2,
       "version_minor": 0
      },
      "text/plain": [
       "FloatProgress(value=0.0, bar_style='info', description='Progress:', layout=Layout(height='25px', width='50%'),…"
      ]
     },
     "metadata": {},
     "output_type": "display_data"
    },
    {
     "name": "stderr",
     "output_type": "stream",
     "text": [
      "Exception in thread cell_monitor-63:\n",
      "Traceback (most recent call last):\n",
      "  File \"/opt/conda/lib/python3.7/threading.py\", line 917, in _bootstrap_inner\n",
      "    self.run()\n",
      "  File \"/opt/conda/lib/python3.7/threading.py\", line 865, in run\n",
      "    self._target(*self._args, **self._kwargs)\n",
      "  File \"/opt/conda/lib/python3.7/site-packages/awseditorssparkmonitoringwidget-1.0-py3.7.egg/awseditorssparkmonitoringwidget/cellmonitor.py\", line 178, in cell_monitor\n",
      "    job_binned_stages[job_id][stage_id] = all_stages[stage_id]\n",
      "KeyError: 14299\n",
      "\n"
     ]
    }
   ],
   "source": [
    "# fit train and predict test\n",
    "svc_fit=cv_svc.fit(train)\n",
    "svc_pred = svc_fit.transform(test)"
   ]
  },
  {
   "cell_type": "code",
   "execution_count": 65,
   "metadata": {},
   "outputs": [
    {
     "data": {
      "application/vnd.jupyter.widget-view+json": {
       "model_id": "1fbc12f237de44f38e362a357cc9c9eb",
       "version_major": 2,
       "version_minor": 0
      },
      "text/plain": [
       "VBox()"
      ]
     },
     "metadata": {},
     "output_type": "display_data"
    },
    {
     "data": {
      "application/vnd.jupyter.widget-view+json": {
       "model_id": "",
       "version_major": 2,
       "version_minor": 0
      },
      "text/plain": [
       "FloatProgress(value=0.0, bar_style='info', description='Progress:', layout=Layout(height='25px', width='50%'),…"
      ]
     },
     "metadata": {},
     "output_type": "display_data"
    },
    {
     "name": "stdout",
     "output_type": "stream",
     "text": [
      "Accuracy:  0.6818181818181818\n",
      "F1 Score:  0.6449631449631449"
     ]
    }
   ],
   "source": [
    "# show cv performance\n",
    "print('Accuracy: ', evaluator.evaluate(\n",
    "    svc_pred, {evaluator.metricName: 'accuracy'}))\n",
    "print('F1 Score: ', evaluator.evaluate(svc_pred, {evaluator.metricName: 'f1'}))"
   ]
  },
  {
   "cell_type": "code",
   "execution_count": 66,
   "metadata": {},
   "outputs": [
    {
     "data": {
      "application/vnd.jupyter.widget-view+json": {
       "model_id": "6c2b064e58474d428e36af7ab65f8e86",
       "version_major": 2,
       "version_minor": 0
      },
      "text/plain": [
       "VBox()"
      ]
     },
     "metadata": {},
     "output_type": "display_data"
    },
    {
     "data": {
      "application/vnd.jupyter.widget-view+json": {
       "model_id": "",
       "version_major": 2,
       "version_minor": 0
      },
      "text/plain": [
       "FloatProgress(value=0.0, bar_style='info', description='Progress:', layout=Layout(height='25px', width='50%'),…"
      ]
     },
     "metadata": {},
     "output_type": "display_data"
    }
   ],
   "source": [
    "# using best model of cv to validate\n",
    "#svc_best = gb.bestModel\n",
    "#svc_best.extractParamMap()"
   ]
  },
  {
   "cell_type": "code",
   "execution_count": 67,
   "metadata": {},
   "outputs": [
    {
     "data": {
      "application/vnd.jupyter.widget-view+json": {
       "model_id": "640923a1fb0a43dbadc1ee117be0d1dc",
       "version_major": 2,
       "version_minor": 0
      },
      "text/plain": [
       "VBox()"
      ]
     },
     "metadata": {},
     "output_type": "display_data"
    },
    {
     "data": {
      "application/vnd.jupyter.widget-view+json": {
       "model_id": "",
       "version_major": 2,
       "version_minor": 0
      },
      "text/plain": [
       "FloatProgress(value=0.0, bar_style='info', description='Progress:', layout=Layout(height='25px', width='50%'),…"
      ]
     },
     "metadata": {},
     "output_type": "display_data"
    },
    {
     "name": "stdout",
     "output_type": "stream",
     "text": [
      "Accuracy:  0.8571428571428571\n",
      "F1 Score:  0.8658008658008657"
     ]
    }
   ],
   "source": [
    "# using best model of cv to validate\n",
    "svc_valid = svc_fit.transform(valid)\n",
    "print('Accuracy: ', evaluator.evaluate(\n",
    "    svc_valid, {evaluator.metricName: 'accuracy'}))\n",
    "print('F1 Score: ', evaluator.evaluate(\n",
    "    svc_valid, {evaluator.metricName: 'f1'}))"
   ]
  },
  {
   "cell_type": "markdown",
   "metadata": {},
   "source": [
    "# Final Steps\n",
    "Clean up your code, adding comments and renaming variables to make the code easier to read and maintain. Refer to the Spark Project Overview page and Data Scientist Capstone Project Rubric to make sure you are including all components of the capstone project and meet all expectations. Remember, this includes thorough documentation in a README file in a Github repository, as well as a web app or blog post."
   ]
  },
  {
   "cell_type": "code",
   "execution_count": null,
   "metadata": {},
   "outputs": [],
   "source": []
  }
 ],
 "metadata": {
  "kernelspec": {
   "display_name": "PySpark",
   "language": "",
   "name": "pysparkkernel"
  },
  "language_info": {
   "codemirror_mode": {
    "name": "python",
    "version": 2
   },
   "mimetype": "text/x-python",
   "name": "pyspark",
   "pygments_lexer": "python2"
  },
  "toc": {
   "base_numbering": 1,
   "nav_menu": {},
   "number_sections": true,
   "sideBar": true,
   "skip_h1_title": false,
   "title_cell": "Table of Contents",
   "title_sidebar": "Contents",
   "toc_cell": false,
   "toc_position": {},
   "toc_section_display": true,
   "toc_window_display": false
  },
  "varInspector": {
   "cols": {
    "lenName": 16,
    "lenType": 16,
    "lenVar": 40
   },
   "kernels_config": {
    "python": {
     "delete_cmd_postfix": "",
     "delete_cmd_prefix": "del ",
     "library": "var_list.py",
     "varRefreshCmd": "print(var_dic_list())"
    },
    "r": {
     "delete_cmd_postfix": ") ",
     "delete_cmd_prefix": "rm(",
     "library": "var_list.r",
     "varRefreshCmd": "cat(var_dic_list()) "
    }
   },
   "types_to_exclude": [
    "module",
    "function",
    "builtin_function_or_method",
    "instance",
    "_Feature"
   ],
   "window_display": false
  }
 },
 "nbformat": 4,
 "nbformat_minor": 2
}
