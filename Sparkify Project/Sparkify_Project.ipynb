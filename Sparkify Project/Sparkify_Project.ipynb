{
 "cells": [
  {
   "cell_type": "markdown",
   "metadata": {},
   "source": [
    "# Sparkify Project Workspace\n",
    "This workspace contains a tiny subset (128MB) of the full dataset available (12GB). Feel free to use this workspace to build your project, or to explore a smaller subset with Spark before deploying your cluster on the cloud. Instructions for setting up your Spark cluster is included in the last lesson of the Extracurricular Spark Course content.\n",
    "\n",
    "You can follow the steps below to guide your data analysis and model building portion of this project."
   ]
  },
  {
   "cell_type": "code",
   "execution_count": 1,
   "metadata": {},
   "outputs": [
    {
     "data": {
      "application/vnd.jupyter.widget-view+json": {
       "model_id": "cdc9c4ea6c0b4cdea09fdb6bbb6586bb",
       "version_major": 2,
       "version_minor": 0
      },
      "text/plain": [
       "VBox()"
      ]
     },
     "metadata": {},
     "output_type": "display_data"
    },
    {
     "name": "stdout",
     "output_type": "stream",
     "text": [
      "Starting Spark application\n"
     ]
    },
    {
     "data": {
      "text/html": [
       "<table>\n",
       "<tr><th>ID</th><th>YARN Application ID</th><th>Kind</th><th>State</th><th>Spark UI</th><th>Driver log</th><th>Current session?</th></tr><tr><td>1</td><td>application_1585010202573_0002</td><td>pyspark</td><td>idle</td><td><a target=\"_blank\" href=\"http://ip-172-31-2-39.us-east-2.compute.internal:20888/proxy/application_1585010202573_0002/\">Link</a></td><td><a target=\"_blank\" href=\"http://ip-172-31-14-145.us-east-2.compute.internal:8042/node/containerlogs/container_1585010202573_0002_01_000001/livy\">Link</a></td><td>✔</td></tr></table>"
      ],
      "text/plain": [
       "<IPython.core.display.HTML object>"
      ]
     },
     "metadata": {},
     "output_type": "display_data"
    },
    {
     "data": {
      "application/vnd.jupyter.widget-view+json": {
       "model_id": "",
       "version_major": 2,
       "version_minor": 0
      },
      "text/plain": [
       "FloatProgress(value=0.0, bar_style='info', description='Progress:', layout=Layout(height='25px', width='50%'),…"
      ]
     },
     "metadata": {},
     "output_type": "display_data"
    },
    {
     "name": "stdout",
     "output_type": "stream",
     "text": [
      "SparkSession available as 'spark'.\n"
     ]
    },
    {
     "data": {
      "application/vnd.jupyter.widget-view+json": {
       "model_id": "",
       "version_major": 2,
       "version_minor": 0
      },
      "text/plain": [
       "FloatProgress(value=0.0, bar_style='info', description='Progress:', layout=Layout(height='25px', width='50%'),…"
      ]
     },
     "metadata": {},
     "output_type": "display_data"
    },
    {
     "name": "stdout",
     "output_type": "stream",
     "text": [
      "Welcome to my EMR Notebook!"
     ]
    }
   ],
   "source": [
    "# initial Pyspark session\n",
    "print(\"Welcome to my EMR Notebook!\")"
   ]
  },
  {
   "cell_type": "code",
   "execution_count": 2,
   "metadata": {},
   "outputs": [
    {
     "data": {
      "text/html": [
       "Current session configs: <tt>{'conf': {'spark.pyspark.python': 'python3', 'spark.pyspark.virtualenv.enabled': 'true', 'spark.pyspark.virtualenv.type': 'native', 'spark.pyspark.virtualenv.bin.path': '/usr/bin/virtualenv'}, 'kind': 'pyspark'}</tt><br>"
      ],
      "text/plain": [
       "<IPython.core.display.HTML object>"
      ]
     },
     "metadata": {},
     "output_type": "display_data"
    },
    {
     "data": {
      "text/html": [
       "<table>\n",
       "<tr><th>ID</th><th>YARN Application ID</th><th>Kind</th><th>State</th><th>Spark UI</th><th>Driver log</th><th>Current session?</th></tr><tr><td>0</td><td>application_1585010202573_0001</td><td>pyspark</td><td>idle</td><td><a target=\"_blank\" href=\"http://ip-172-31-2-39.us-east-2.compute.internal:20888/proxy/application_1585010202573_0001/\">Link</a></td><td><a target=\"_blank\" href=\"http://ip-172-31-11-208.us-east-2.compute.internal:8042/node/containerlogs/container_1585010202573_0001_01_000001/livy\">Link</a></td><td></td></tr><tr><td>1</td><td>application_1585010202573_0002</td><td>pyspark</td><td>idle</td><td><a target=\"_blank\" href=\"http://ip-172-31-2-39.us-east-2.compute.internal:20888/proxy/application_1585010202573_0002/\">Link</a></td><td><a target=\"_blank\" href=\"http://ip-172-31-14-145.us-east-2.compute.internal:8042/node/containerlogs/container_1585010202573_0002_01_000001/livy\">Link</a></td><td>✔</td></tr></table>"
      ],
      "text/plain": [
       "<IPython.core.display.HTML object>"
      ]
     },
     "metadata": {},
     "output_type": "display_data"
    }
   ],
   "source": [
    "# check pyspark session \n",
    "%%info"
   ]
  },
  {
   "cell_type": "code",
   "execution_count": 3,
   "metadata": {},
   "outputs": [
    {
     "data": {
      "application/vnd.jupyter.widget-view+json": {
       "model_id": "aa557008c45a4ff291d35510b25fa820",
       "version_major": 2,
       "version_minor": 0
      },
      "text/plain": [
       "VBox()"
      ]
     },
     "metadata": {},
     "output_type": "display_data"
    },
    {
     "data": {
      "application/vnd.jupyter.widget-view+json": {
       "model_id": "",
       "version_major": 2,
       "version_minor": 0
      },
      "text/plain": [
       "FloatProgress(value=0.0, bar_style='info', description='Progress:', layout=Layout(height='25px', width='50%'),…"
      ]
     },
     "metadata": {},
     "output_type": "display_data"
    },
    {
     "name": "stdout",
     "output_type": "stream",
     "text": [
      "Package                    Version\n",
      "-------------------------- -------\n",
      "beautifulsoup4             4.8.1  \n",
      "boto                       2.49.0 \n",
      "jmespath                   0.9.4  \n",
      "lxml                       4.4.2  \n",
      "mysqlclient                1.4.6  \n",
      "nltk                       3.4.5  \n",
      "nose                       1.3.4  \n",
      "numpy                      1.14.5 \n",
      "pip                        20.0.2 \n",
      "py-dateutil                2.2    \n",
      "python36-sagemaker-pyspark 1.2.6  \n",
      "pytz                       2019.3 \n",
      "PyYAML                     3.11   \n",
      "setuptools                 46.1.1 \n",
      "six                        1.13.0 \n",
      "soupsieve                  1.9.5  \n",
      "wheel                      0.34.2 \n",
      "windmill                   1.6"
     ]
    }
   ],
   "source": [
    "# list pyspark packages\n",
    "sc.list_packages()"
   ]
  },
  {
   "cell_type": "code",
   "execution_count": 4,
   "metadata": {},
   "outputs": [
    {
     "data": {
      "application/vnd.jupyter.widget-view+json": {
       "model_id": "a1a8d36494ec4a9fbffaf8327ca05c55",
       "version_major": 2,
       "version_minor": 0
      },
      "text/plain": [
       "VBox()"
      ]
     },
     "metadata": {},
     "output_type": "display_data"
    },
    {
     "data": {
      "application/vnd.jupyter.widget-view+json": {
       "model_id": "",
       "version_major": 2,
       "version_minor": 0
      },
      "text/plain": [
       "FloatProgress(value=0.0, bar_style='info', description='Progress:', layout=Layout(height='25px', width='50%'),…"
      ]
     },
     "metadata": {},
     "output_type": "display_data"
    },
    {
     "name": "stdout",
     "output_type": "stream",
     "text": [
      "Collecting pandas\n",
      "  Using cached pandas-1.0.3-cp36-cp36m-manylinux1_x86_64.whl (10.0 MB)\n",
      "Collecting python-dateutil>=2.6.1\n",
      "  Using cached python_dateutil-2.8.1-py2.py3-none-any.whl (227 kB)\n",
      "Requirement already satisfied: numpy>=1.13.3 in /usr/local/lib64/python3.6/site-packages (from pandas) (1.14.5)\n",
      "Requirement already satisfied: pytz>=2017.2 in /usr/local/lib/python3.6/site-packages (from pandas) (2019.3)\n",
      "Requirement already satisfied: six>=1.5 in /usr/local/lib/python3.6/site-packages (from python-dateutil>=2.6.1->pandas) (1.13.0)\n",
      "Installing collected packages: python-dateutil, pandas\n",
      "Successfully installed pandas-1.0.3 python-dateutil-2.8.1"
     ]
    }
   ],
   "source": [
    "# install common libraries\n",
    "sc.install_pypi_package(\"pandas\")"
   ]
  },
  {
   "cell_type": "code",
   "execution_count": 5,
   "metadata": {},
   "outputs": [
    {
     "data": {
      "application/vnd.jupyter.widget-view+json": {
       "model_id": "fcd074a8e3934b3fb9f6b81d46712c36",
       "version_major": 2,
       "version_minor": 0
      },
      "text/plain": [
       "VBox()"
      ]
     },
     "metadata": {},
     "output_type": "display_data"
    },
    {
     "data": {
      "application/vnd.jupyter.widget-view+json": {
       "model_id": "",
       "version_major": 2,
       "version_minor": 0
      },
      "text/plain": [
       "FloatProgress(value=0.0, bar_style='info', description='Progress:', layout=Layout(height='25px', width='50%'),…"
      ]
     },
     "metadata": {},
     "output_type": "display_data"
    },
    {
     "name": "stdout",
     "output_type": "stream",
     "text": [
      "Collecting matplotlib\n",
      "  Using cached matplotlib-3.2.1-cp36-cp36m-manylinux1_x86_64.whl (12.4 MB)\n",
      "Collecting pyparsing!=2.0.4,!=2.1.2,!=2.1.6,>=2.0.1\n",
      "  Using cached pyparsing-2.4.6-py2.py3-none-any.whl (67 kB)\n",
      "Requirement already satisfied: numpy>=1.11 in /usr/local/lib64/python3.6/site-packages (from matplotlib) (1.14.5)\n",
      "Requirement already satisfied: python-dateutil>=2.1 in /mnt/tmp/1585010592307-0/lib/python3.6/site-packages (from matplotlib) (2.8.1)\n",
      "Collecting kiwisolver>=1.0.1\n",
      "  Using cached kiwisolver-1.1.0-cp36-cp36m-manylinux1_x86_64.whl (90 kB)\n",
      "Collecting cycler>=0.10\n",
      "  Using cached cycler-0.10.0-py2.py3-none-any.whl (6.5 kB)\n",
      "Requirement already satisfied: six>=1.5 in /usr/local/lib/python3.6/site-packages (from python-dateutil>=2.1->matplotlib) (1.13.0)\n",
      "Requirement already satisfied: setuptools in /mnt/tmp/1585010592307-0/lib/python3.6/site-packages (from kiwisolver>=1.0.1->matplotlib) (46.1.1)\n",
      "Installing collected packages: pyparsing, kiwisolver, cycler, matplotlib\n",
      "Successfully installed cycler-0.10.0 kiwisolver-1.1.0 matplotlib-3.2.1 pyparsing-2.4.6"
     ]
    }
   ],
   "source": [
    "# install common libraries\n",
    "sc.install_pypi_package(\"matplotlib\")"
   ]
  },
  {
   "cell_type": "code",
   "execution_count": 6,
   "metadata": {},
   "outputs": [
    {
     "data": {
      "application/vnd.jupyter.widget-view+json": {
       "model_id": "9dc63649b91e47b58959e7e006035ef6",
       "version_major": 2,
       "version_minor": 0
      },
      "text/plain": [
       "VBox()"
      ]
     },
     "metadata": {},
     "output_type": "display_data"
    },
    {
     "data": {
      "application/vnd.jupyter.widget-view+json": {
       "model_id": "",
       "version_major": 2,
       "version_minor": 0
      },
      "text/plain": [
       "FloatProgress(value=0.0, bar_style='info', description='Progress:', layout=Layout(height='25px', width='50%'),…"
      ]
     },
     "metadata": {},
     "output_type": "display_data"
    },
    {
     "name": "stdout",
     "output_type": "stream",
     "text": [
      "Collecting seaborn\n",
      "  Using cached seaborn-0.10.0-py3-none-any.whl (215 kB)\n",
      "Collecting scipy>=1.0.1\n",
      "  Using cached scipy-1.4.1-cp36-cp36m-manylinux1_x86_64.whl (26.1 MB)\n",
      "Requirement already satisfied: matplotlib>=2.1.2 in /mnt/tmp/1585010592307-0/lib64/python3.6/site-packages (from seaborn) (3.2.1)\n",
      "Requirement already satisfied: numpy>=1.13.3 in /usr/local/lib64/python3.6/site-packages (from seaborn) (1.14.5)\n",
      "Requirement already satisfied: pandas>=0.22.0 in /mnt/tmp/1585010592307-0/lib64/python3.6/site-packages (from seaborn) (1.0.3)\n",
      "Requirement already satisfied: pyparsing!=2.0.4,!=2.1.2,!=2.1.6,>=2.0.1 in /mnt/tmp/1585010592307-0/lib/python3.6/site-packages (from matplotlib>=2.1.2->seaborn) (2.4.6)\n",
      "Requirement already satisfied: python-dateutil>=2.1 in /mnt/tmp/1585010592307-0/lib/python3.6/site-packages (from matplotlib>=2.1.2->seaborn) (2.8.1)\n",
      "Requirement already satisfied: kiwisolver>=1.0.1 in /mnt/tmp/1585010592307-0/lib64/python3.6/site-packages (from matplotlib>=2.1.2->seaborn) (1.1.0)\n",
      "Requirement already satisfied: cycler>=0.10 in /mnt/tmp/1585010592307-0/lib/python3.6/site-packages (from matplotlib>=2.1.2->seaborn) (0.10.0)\n",
      "Requirement already satisfied: pytz>=2017.2 in /usr/local/lib/python3.6/site-packages (from pandas>=0.22.0->seaborn) (2019.3)\n",
      "Requirement already satisfied: six>=1.5 in /usr/local/lib/python3.6/site-packages (from python-dateutil>=2.1->matplotlib>=2.1.2->seaborn) (1.13.0)\n",
      "Requirement already satisfied: setuptools in /mnt/tmp/1585010592307-0/lib/python3.6/site-packages (from kiwisolver>=1.0.1->matplotlib>=2.1.2->seaborn) (46.1.1)\n",
      "Installing collected packages: scipy, seaborn\n",
      "Successfully installed scipy-1.4.1 seaborn-0.10.0"
     ]
    }
   ],
   "source": [
    "# install common libraries\n",
    "sc.install_pypi_package(\"seaborn\")"
   ]
  },
  {
   "cell_type": "code",
   "execution_count": 7,
   "metadata": {},
   "outputs": [
    {
     "data": {
      "application/vnd.jupyter.widget-view+json": {
       "model_id": "265041f32b9047a48d00d3a0bda35a75",
       "version_major": 2,
       "version_minor": 0
      },
      "text/plain": [
       "VBox()"
      ]
     },
     "metadata": {},
     "output_type": "display_data"
    },
    {
     "data": {
      "application/vnd.jupyter.widget-view+json": {
       "model_id": "",
       "version_major": 2,
       "version_minor": 0
      },
      "text/plain": [
       "FloatProgress(value=0.0, bar_style='info', description='Progress:', layout=Layout(height='25px', width='50%'),…"
      ]
     },
     "metadata": {},
     "output_type": "display_data"
    }
   ],
   "source": [
    "# import libraries\n",
    "# Pyspark\n",
    "from pyspark.sql import SparkSession\n",
    "from pyspark.sql.functions import udf\n",
    "# CommonLibraries\n",
    "import pandas as pd\n",
    "import matplotlib.pyplot as plt\n",
    "import seaborn as sns\n",
    "import datetime as dt\n",
    "# Pyspark ML Library\n",
    "from pyspark.ml.feature import StandardScaler, VectorAssembler\n",
    "from pyspark.ml.evaluation import MulticlassClassificationEvaluator\n",
    "from pyspark.ml.classification import LogisticRegression, GBTClassifier, LinearSVC\n",
    "from pyspark.ml.tuning import CrossValidator, ParamGridBuilder"
   ]
  },
  {
   "cell_type": "code",
   "execution_count": 8,
   "metadata": {},
   "outputs": [
    {
     "data": {
      "application/vnd.jupyter.widget-view+json": {
       "model_id": "3eef5ea542aa41f5b4136388047de15a",
       "version_major": 2,
       "version_minor": 0
      },
      "text/plain": [
       "VBox()"
      ]
     },
     "metadata": {},
     "output_type": "display_data"
    },
    {
     "data": {
      "application/vnd.jupyter.widget-view+json": {
       "model_id": "",
       "version_major": 2,
       "version_minor": 0
      },
      "text/plain": [
       "FloatProgress(value=0.0, bar_style='info', description='Progress:', layout=Layout(height='25px', width='50%'),…"
      ]
     },
     "metadata": {},
     "output_type": "display_data"
    }
   ],
   "source": [
    "# create a Spark session\n",
    "spark = SparkSession \\\n",
    "    .builder \\\n",
    "    .appName('Sparkify') \\\n",
    "    .getOrCreate()"
   ]
  },
  {
   "cell_type": "markdown",
   "metadata": {},
   "source": [
    "# Load and Clean Dataset\n",
    "In this workspace, the mini-dataset file is `mini_sparkify_event_data.json`. Load and clean the dataset, checking for invalid or missing data - for example, records without userids or sessionids. "
   ]
  },
  {
   "cell_type": "code",
   "execution_count": 9,
   "metadata": {},
   "outputs": [
    {
     "data": {
      "application/vnd.jupyter.widget-view+json": {
       "model_id": "37cb4bb4968a4b0c82f0b081ce9560f5",
       "version_major": 2,
       "version_minor": 0
      },
      "text/plain": [
       "VBox()"
      ]
     },
     "metadata": {},
     "output_type": "display_data"
    },
    {
     "data": {
      "application/vnd.jupyter.widget-view+json": {
       "model_id": "",
       "version_major": 2,
       "version_minor": 0
      },
      "text/plain": [
       "FloatProgress(value=0.0, bar_style='info', description='Progress:', layout=Layout(height='25px', width='50%'),…"
      ]
     },
     "metadata": {},
     "output_type": "display_data"
    }
   ],
   "source": [
    "# read 12GB Sparkify data\n",
    "event_data = \"s3n://udacity-dsnd/sparkify/sparkify_event_data.json\"\n",
    "df = spark.read.json(event_data)"
   ]
  },
  {
   "cell_type": "code",
   "execution_count": 31,
   "metadata": {},
   "outputs": [
    {
     "data": {
      "application/vnd.jupyter.widget-view+json": {
       "model_id": "3b453548473041f0978f8db0c15501ee",
       "version_major": 2,
       "version_minor": 0
      },
      "text/plain": [
       "VBox()"
      ]
     },
     "metadata": {},
     "output_type": "display_data"
    },
    {
     "data": {
      "application/vnd.jupyter.widget-view+json": {
       "model_id": "",
       "version_major": 2,
       "version_minor": 0
      },
      "text/plain": [
       "FloatProgress(value=0.0, bar_style='info', description='Progress:', layout=Layout(height='25px', width='50%'),…"
      ]
     },
     "metadata": {},
     "output_type": "display_data"
    },
    {
     "name": "stdout",
     "output_type": "stream",
     "text": [
      "[('artist', 'string'), ('auth', 'string'), ('firstName', 'string'), ('gender', 'string'), ('itemInSession', 'bigint'), ('lastName', 'string'), ('length', 'double'), ('level', 'string'), ('location', 'string'), ('method', 'string'), ('page', 'string'), ('registration', 'bigint'), ('sessionId', 'bigint'), ('song', 'string'), ('status', 'bigint'), ('ts', 'bigint'), ('userAgent', 'string'), ('userId', 'string')]"
     ]
    }
   ],
   "source": [
    "# show data information\n",
    "df.dtypes"
   ]
  },
  {
   "cell_type": "code",
   "execution_count": 10,
   "metadata": {},
   "outputs": [
    {
     "data": {
      "application/vnd.jupyter.widget-view+json": {
       "model_id": "f34fbecffd0b425bbef163d251040d6c",
       "version_major": 2,
       "version_minor": 0
      },
      "text/plain": [
       "VBox()"
      ]
     },
     "metadata": {},
     "output_type": "display_data"
    },
    {
     "data": {
      "application/vnd.jupyter.widget-view+json": {
       "model_id": "",
       "version_major": 2,
       "version_minor": 0
      },
      "text/plain": [
       "FloatProgress(value=0.0, bar_style='info', description='Progress:', layout=Layout(height='25px', width='50%'),…"
      ]
     },
     "metadata": {},
     "output_type": "display_data"
    },
    {
     "name": "stdout",
     "output_type": "stream",
     "text": [
      "(26259199, 18)"
     ]
    }
   ],
   "source": [
    "# measure the shape of dataset\n",
    "(df.count(), len(df.columns))"
   ]
  },
  {
   "cell_type": "code",
   "execution_count": 28,
   "metadata": {},
   "outputs": [
    {
     "data": {
      "application/vnd.jupyter.widget-view+json": {
       "model_id": "c5361da1939344b8a9c8dde9122ffba5",
       "version_major": 2,
       "version_minor": 0
      },
      "text/plain": [
       "VBox()"
      ]
     },
     "metadata": {},
     "output_type": "display_data"
    },
    {
     "data": {
      "application/vnd.jupyter.widget-view+json": {
       "model_id": "",
       "version_major": 2,
       "version_minor": 0
      },
      "text/plain": [
       "FloatProgress(value=0.0, bar_style='info', description='Progress:', layout=Layout(height='25px', width='50%'),…"
      ]
     },
     "metadata": {},
     "output_type": "display_data"
    },
    {
     "name": "stdout",
     "output_type": "stream",
     "text": [
      "['artist', 'auth', 'firstName', 'gender', 'itemInSession', 'lastName', 'length', 'level', 'location', 'method', 'page', 'registration', 'sessionId', 'song', 'status', 'ts', 'userAgent', 'userId']"
     ]
    }
   ],
   "source": [
    "df.columns"
   ]
  },
  {
   "cell_type": "code",
   "execution_count": 11,
   "metadata": {
    "scrolled": false
   },
   "outputs": [
    {
     "data": {
      "application/vnd.jupyter.widget-view+json": {
       "model_id": "9d256116f99143e0a9174e1ad8e21618",
       "version_major": 2,
       "version_minor": 0
      },
      "text/plain": [
       "VBox()"
      ]
     },
     "metadata": {},
     "output_type": "display_data"
    },
    {
     "data": {
      "application/vnd.jupyter.widget-view+json": {
       "model_id": "",
       "version_major": 2,
       "version_minor": 0
      },
      "text/plain": [
       "FloatProgress(value=0.0, bar_style='info', description='Progress:', layout=Layout(height='25px', width='50%'),…"
      ]
     },
     "metadata": {},
     "output_type": "display_data"
    },
    {
     "name": "stdout",
     "output_type": "stream",
     "text": [
      "+-------+------------------+----------+---------+--------+------------------+--------+------------------+--------+--------------+--------+--------+--------------------+------------------+--------------------+------------------+--------------------+--------------------+------------------+\n",
      "|summary|            artist|      auth|firstName|  gender|     itemInSession|lastName|            length|   level|      location|  method|    page|        registration|         sessionId|                song|            status|                  ts|           userAgent|            userId|\n",
      "+-------+------------------+----------+---------+--------+------------------+--------+------------------+--------+--------------+--------+--------+--------------------+------------------+--------------------+------------------+--------------------+--------------------+------------------+\n",
      "|  count|          20850272|  26259199| 25480720|25480720|          26259199|25480720|          20850272|26259199|      25480720|26259199|26259199|            25480720|          26259199|            20850272|          26259199|            26259199|            25480720|          26259199|\n",
      "|   mean|511.61795374767706|      null| Infinity|    null|106.56267561702853|    null|248.72543296748836|    null|          null|    null|    null|1.535220665260513...|100577.99253503505|            Infinity|210.06768953615074|1.540905636113773E12|                null|1488379.8347142653|\n",
      "| stddev| 968.6388398781423|      null|      NaN|    null|117.65812617523801|    null| 97.28710387078065|    null|          null|    null|    null|3.2402990978250704E9|  71909.2107787595|                 NaN|31.550728788197617| 1.515810555271971E9|                null|286970.08894623973|\n",
      "|    min|               !!!| Cancelled|    Aaden|       F|                 0|  Abbott|             0.522|    free|  Aberdeen, SD|     GET|   About|       1508018725000|                 1|  \u0018Till Kingdom Come|               200|       1538352001000|\"Mozilla/5.0 (Mac...|           1000025|\n",
      "|    max|            ÃÂ¼NN|Logged Out|Zytavious|       M|              1428|  Zuniga|        3024.66567|    paid|Zanesville, OH|     PUT| Upgrade|       1543821822000|            240381|ÃÂ¾etta Gerist Ã...|               404|       1543622402000|Mozilla/5.0 (comp...|           1999996|\n",
      "+-------+------------------+----------+---------+--------+------------------+--------+------------------+--------+--------------+--------+--------+--------------------+------------------+--------------------+------------------+--------------------+--------------------+------------------+"
     ]
    }
   ],
   "source": [
    "# it seems artist,length,song have 20850272\n",
    "# firstName, lastName, gender, location, registration,userAgent have 25480720\n",
    "# auth has 26259199\n",
    "df.describe().show()"
   ]
  },
  {
   "cell_type": "code",
   "execution_count": 17,
   "metadata": {},
   "outputs": [
    {
     "data": {
      "application/vnd.jupyter.widget-view+json": {
       "model_id": "c225fc0a851f4758af578800c857f84e",
       "version_major": 2,
       "version_minor": 0
      },
      "text/plain": [
       "VBox()"
      ]
     },
     "metadata": {},
     "output_type": "display_data"
    },
    {
     "data": {
      "application/vnd.jupyter.widget-view+json": {
       "model_id": "",
       "version_major": 2,
       "version_minor": 0
      },
      "text/plain": [
       "FloatProgress(value=0.0, bar_style='info', description='Progress:', layout=Layout(height='25px', width='50%'),…"
      ]
     },
     "metadata": {},
     "output_type": "display_data"
    },
    {
     "name": "stdout",
     "output_type": "stream",
     "text": [
      "+-------+\n",
      "| userId|\n",
      "+-------+\n",
      "|1000025|\n",
      "|1000035|\n",
      "|1000083|\n",
      "|1000103|\n",
      "|1000164|\n",
      "|1000168|\n",
      "|1000182|\n",
      "|1000194|\n",
      "|1000214|\n",
      "|1000233|\n",
      "|1000244|\n",
      "|1000248|\n",
      "|1000280|\n",
      "|1000353|\n",
      "|1000407|\n",
      "|1000409|\n",
      "|1000446|\n",
      "|1000503|\n",
      "|1000527|\n",
      "|1000611|\n",
      "+-------+\n",
      "only showing top 20 rows"
     ]
    }
   ],
   "source": [
    "# look at userId and sessionId\n",
    "# no empty input found \n",
    "df.createOrReplaceTempView('sparkify')\n",
    "spark.sql(\n",
    "    '''\n",
    "    SELECT DISTINCT userId\n",
    "    FROM sparkify\n",
    "    ORDER BY userId\n",
    "    '''\n",
    ").show()"
   ]
  },
  {
   "cell_type": "code",
   "execution_count": 10,
   "metadata": {},
   "outputs": [
    {
     "data": {
      "application/vnd.jupyter.widget-view+json": {
       "model_id": "18d0b93c277d4afcb44acccd1dc20298",
       "version_major": 2,
       "version_minor": 0
      },
      "text/plain": [
       "VBox()"
      ]
     },
     "metadata": {},
     "output_type": "display_data"
    },
    {
     "data": {
      "application/vnd.jupyter.widget-view+json": {
       "model_id": "",
       "version_major": 2,
       "version_minor": 0
      },
      "text/plain": [
       "FloatProgress(value=0.0, bar_style='info', description='Progress:', layout=Layout(height='25px', width='50%'),…"
      ]
     },
     "metadata": {},
     "output_type": "display_data"
    }
   ],
   "source": [
    "df.createOrReplaceTempView('sparkify')"
   ]
  },
  {
   "cell_type": "code",
   "execution_count": 11,
   "metadata": {},
   "outputs": [
    {
     "data": {
      "application/vnd.jupyter.widget-view+json": {
       "model_id": "c6a618db6a76462e8e425db155bb2986",
       "version_major": 2,
       "version_minor": 0
      },
      "text/plain": [
       "VBox()"
      ]
     },
     "metadata": {},
     "output_type": "display_data"
    },
    {
     "data": {
      "application/vnd.jupyter.widget-view+json": {
       "model_id": "",
       "version_major": 2,
       "version_minor": 0
      },
      "text/plain": [
       "FloatProgress(value=0.0, bar_style='info', description='Progress:', layout=Layout(height='25px', width='50%'),…"
      ]
     },
     "metadata": {},
     "output_type": "display_data"
    },
    {
     "name": "stdout",
     "output_type": "stream",
     "text": [
      "+---------+\n",
      "|sessionId|\n",
      "+---------+\n",
      "|        1|\n",
      "|        2|\n",
      "|        3|\n",
      "|        4|\n",
      "|        5|\n",
      "|        6|\n",
      "|        7|\n",
      "|        9|\n",
      "|       10|\n",
      "|       11|\n",
      "|       12|\n",
      "|       13|\n",
      "|       15|\n",
      "|       16|\n",
      "|       17|\n",
      "|       18|\n",
      "|       19|\n",
      "|       20|\n",
      "|       21|\n",
      "|       22|\n",
      "+---------+\n",
      "only showing top 20 rows"
     ]
    }
   ],
   "source": [
    "# no blank for session id\n",
    "spark.sql(\n",
    "    '''\n",
    "    SELECT DISTINCT sessionId\n",
    "    FROM sparkify\n",
    "    ORDER BY sessionId\n",
    "    '''\n",
    ").show()"
   ]
  },
  {
   "cell_type": "code",
   "execution_count": 18,
   "metadata": {},
   "outputs": [
    {
     "data": {
      "application/vnd.jupyter.widget-view+json": {
       "model_id": "6e5175b2f1f14fd6a85dc41cf1ecd1ac",
       "version_major": 2,
       "version_minor": 0
      },
      "text/plain": [
       "VBox()"
      ]
     },
     "metadata": {},
     "output_type": "display_data"
    },
    {
     "data": {
      "application/vnd.jupyter.widget-view+json": {
       "model_id": "",
       "version_major": 2,
       "version_minor": 0
      },
      "text/plain": [
       "FloatProgress(value=0.0, bar_style='info', description='Progress:', layout=Layout(height='25px', width='50%'),…"
      ]
     },
     "metadata": {},
     "output_type": "display_data"
    }
   ],
   "source": [
    "# It seems no empty string for userid & session id\n",
    "# remove empty userid & session id\n",
    "df.createOrReplaceTempView('sparkify')\n",
    "clean_sql = spark.sql(\n",
    "    '''\n",
    "    SELECT *\n",
    "    FROM sparkify\n",
    "    WHERE userId != '' and sessionId IS NOT null\n",
    "    '''\n",
    ")"
   ]
  },
  {
   "cell_type": "code",
   "execution_count": 11,
   "metadata": {},
   "outputs": [
    {
     "data": {
      "application/vnd.jupyter.widget-view+json": {
       "model_id": "fc4b0ddc178748779e04678856a8ba48",
       "version_major": 2,
       "version_minor": 0
      },
      "text/plain": [
       "VBox()"
      ]
     },
     "metadata": {},
     "output_type": "display_data"
    },
    {
     "data": {
      "application/vnd.jupyter.widget-view+json": {
       "model_id": "",
       "version_major": 2,
       "version_minor": 0
      },
      "text/plain": [
       "FloatProgress(value=0.0, bar_style='info', description='Progress:', layout=Layout(height='25px', width='50%'),…"
      ]
     },
     "metadata": {},
     "output_type": "display_data"
    },
    {
     "name": "stdout",
     "output_type": "stream",
     "text": [
      "+--------------------+----------+---------+------+-------------+---------+----------+-----+--------------------+------+--------+-------------+---------+--------------------+------+-------------+--------------------+-------+\n",
      "|              artist|      auth|firstName|gender|itemInSession| lastName|    length|level|            location|method|    page| registration|sessionId|                song|status|           ts|           userAgent| userId|\n",
      "+--------------------+----------+---------+------+-------------+---------+----------+-----+--------------------+------+--------+-------------+---------+--------------------+------+-------------+--------------------+-------+\n",
      "|           Popol Vuh| Logged In|    Shlok|     M|          278|  Johnson| 524.32934| paid|Dallas-Fort Worth...|   PUT|NextSong|1533734541000|    22683|Ich mache einen S...|   200|1538352001000|\"Mozilla/5.0 (Win...|1749042|\n",
      "|         Los Bunkers| Logged In|  Vianney|     F|            9|   Miller| 238.39302| paid|San Francisco-Oak...|   PUT|NextSong|1537500318000|    20836|         MiÃÂ©ntele|   200|1538352002000|\"Mozilla/5.0 (Mac...|1563081|\n",
      "|                Lush| Logged In|     Vina|     F|          109|   Bailey| 140.35546| paid|            Hilo, HI|   PUT|NextSong|1536414505000|     4593|           Baby Talk|   200|1538352002000|Mozilla/5.0 (Maci...|1697168|\n",
      "|Barry Tuckwell/Ac...| Logged In|   Andres|     M|           71|    Foley| 277.15873| paid|       Watertown, SD|   PUT|NextSong|1534386660000|     6370|Horn Concerto No....|   200|1538352003000|\"Mozilla/5.0 (Mac...|1222580|\n",
      "|                 Yes| Logged In|  Aaliyah|     F|           21|  Ramirez|1121.25342| paid|Baltimore-Columbi...|   PUT|NextSong|1537381415000|    22316|Close To The Edge...|   200|1538352003000|\"Mozilla/5.0 (Win...|1714398|\n",
      "|                MGMT| Logged In|     Ryan|     M|            8| Williams| 229.25016| paid|Cape Coral-Fort M...|   PUT|NextSong|1537602560000|    23924|       Electric Feel|   200|1538352004000|\"Mozilla/5.0 (Win...|1010522|\n",
      "|   Animal Collective| Logged In|    Isaac|     M|            6|    Brown|  313.5473| free|          Kokomo, IN|   PUT|NextSong|1536563853000|     1746|              Bluish|   200|1538352005000|Mozilla/5.0 (Wind...|1475659|\n",
      "|              Eminem| Logged In| Jonathan|     M|           29|   Martin|  250.8273| free|New York-Newark-J...|   PUT|NextSong|1538069376000|    22483|         Mockingbird|   200|1538352006000|\"Mozilla/5.0 (Win...|1465194|\n",
      "|         Leona Lewis| Logged In| Jennifer|     F|            0|  Shelton| 203.88526| free|      Pittsburgh, PA|   PUT|NextSong|1536455539000|    25128|          Forgive Me|   200|1538352006000|\"Mozilla/5.0 (Win...|1558463|\n",
      "|     The Cranberries| Logged In|  Michael|     M|           13|    Riley| 183.87546| paid|Albany-Schenectad...|   PUT|NextSong|1533220062000|     3992|         The Concept|   200|1538352006000|\"Mozilla/5.0 (Win...|1605667|\n",
      "|        Mariah Carey| Logged In|    Azari|     M|           37|   Hansen|  265.9522| free|    Martinsville, VA|   PUT|NextSong|1534393835000|    14642|Anytime You Need ...|   200|1538352006000|\"Mozilla/5.0 (X11...|1385500|\n",
      "|Johnny Cash with ...| Logged In|    Riley|     F|          300|Hernandez| 199.81016| paid|         Reading, PA|   PUT|NextSong|1537618545000|    14853|   Nine Pound Hammer|   200|1538352006000|\"Mozilla/5.0 (Mac...|1032628|\n",
      "|            Gorillaz| Logged In|    Brian|     M|           73|    Allen| 131.91791| free|San Diego-Carlsba...|   PUT|NextSong|1537868758000|     2526|Don't Get Lost In...|   200|1538352007000|\"Mozilla/5.0 (Mac...|1901081|\n",
      "|     Los Prisioneros| Logged In|  Brayden|     M|           95|Armstrong| 248.78975| paid|Dallas-Fort Worth...|   PUT|NextSong|1534635513000|    23917|   La Voz De Los '80|   200|1538352007000|\"Mozilla/5.0 (Win...|1611729|\n",
      "|   The White Stripes| Logged In|   Brooke|     F|            6|    Kirby| 126.40608| paid|Los Angeles-Long ...|   PUT|NextSong|1531817572000|    14085|          Good To Me|   200|1538352008000|\"Mozilla/5.0 (Win...|1497881|\n",
      "|   Brigitte Fontaine| Logged In|  Caitlin|     F|          117|  Barnett| 355.57832| free|Philadelphia-Camd...|   PUT|NextSong|1528964849000|     2303|Ah Que La Vie Est...|   200|1538352008000|\"Mozilla/5.0 (Mac...|1413952|\n",
      "|      Alien Ant Farm| Logged In|   Aminah|     F|            8|    Payne|  204.7473| free|Virginia Beach-No...|   PUT|NextSong|1536761240000|    19434|                Wish|   200|1538352008000|Mozilla/5.0 (X11;...|1585800|\n",
      "|                null|Logged Out|     null|  null|           87|     null|      null| paid|                null|   GET|    Home|         null|     8615|                null|   200|1538352008000|                null|1261737|\n",
      "|                null| Logged In|  Valarie|     F|          206|    Moore|      null| paid|Los Angeles-Long ...|   GET|    Home|1537790336000|     2948|                null|   200|1538352008000|\"Mozilla/5.0 (Win...|1009070|\n",
      "|          Dan Mangan| Logged In|    Hanna|     F|           15|   Peters| 293.85098| free|Boston-Cambridge-...|   PUT|NextSong|1534217490000|     7804|Some Place To Com...|   200|1538352010000|\"Mozilla/5.0 (Win...|1041334|\n",
      "+--------------------+----------+---------+------+-------------+---------+----------+-----+--------------------+------+--------+-------------+---------+--------------------+------+-------------+--------------------+-------+\n",
      "only showing top 20 rows"
     ]
    }
   ],
   "source": [
    "# the result shows it doesn't work.\n",
    "clean_sql.show()"
   ]
  },
  {
   "cell_type": "code",
   "execution_count": 12,
   "metadata": {},
   "outputs": [
    {
     "data": {
      "application/vnd.jupyter.widget-view+json": {
       "model_id": "3d173cd34b3047a38c4d896797bc1066",
       "version_major": 2,
       "version_minor": 0
      },
      "text/plain": [
       "VBox()"
      ]
     },
     "metadata": {},
     "output_type": "display_data"
    },
    {
     "data": {
      "application/vnd.jupyter.widget-view+json": {
       "model_id": "",
       "version_major": 2,
       "version_minor": 0
      },
      "text/plain": [
       "FloatProgress(value=0.0, bar_style='info', description='Progress:', layout=Layout(height='25px', width='50%'),…"
      ]
     },
     "metadata": {},
     "output_type": "display_data"
    },
    {
     "name": "stdout",
     "output_type": "stream",
     "text": [
      "+-------+-----------------+----------+---------+--------+------------------+--------+------------------+--------+--------------+--------+--------+--------------------+------------------+--------------------+------------------+--------------------+--------------------+------------------+\n",
      "|summary|           artist|      auth|firstName|  gender|     itemInSession|lastName|            length|   level|      location|  method|    page|        registration|         sessionId|                song|            status|                  ts|           userAgent|            userId|\n",
      "+-------+-----------------+----------+---------+--------+------------------+--------+------------------+--------+--------------+--------+--------+--------------------+------------------+--------------------+------------------+--------------------+--------------------+------------------+\n",
      "|  count|         20850272|  26259199| 25480720|25480720|          26259199|25480720|          20850272|26259199|      25480720|26259199|26259199|            25480720|          26259199|            20850272|          26259199|            26259199|            25480720|          26259199|\n",
      "|   mean|511.6179537476772|      null| Infinity|    null|106.56267561702853|    null|248.72543296748836|    null|          null|    null|    null|1.535220665260513...|100577.99253503505|            Infinity|210.06768953615074|1.540905636113772E12|                null|1488379.8347142653|\n",
      "| stddev|968.6388398781423|      null|      NaN|    null|117.65812617523801|    null| 97.28710387078067|    null|          null|    null|    null|3.2402990978250694E9| 71909.21077875952|                 NaN|31.550728788197613| 1.515810555271893E9|                null|286970.08894623973|\n",
      "|    min|              !!!| Cancelled|    Aaden|       F|                 0|  Abbott|             0.522|    free|  Aberdeen, SD|     GET|   About|       1508018725000|                 1|  \u0018Till Kingdom Come|               200|       1538352001000|\"Mozilla/5.0 (Mac...|           1000025|\n",
      "|    max|           ÃÂ¼NN|Logged Out|Zytavious|       M|              1428|  Zuniga|        3024.66567|    paid|Zanesville, OH|     PUT| Upgrade|       1543821822000|            240381|ÃÂ¾etta Gerist Ã...|               404|       1543622402000|Mozilla/5.0 (comp...|           1999996|\n",
      "+-------+-----------------+----------+---------+--------+------------------+--------+------------------+--------+--------------+--------+--------+--------------------+------------------+--------------------+------------------+--------------------+--------------------+------------------+"
     ]
    }
   ],
   "source": [
    "# we verified some missing records are non-users\n",
    "# records with no songs means idle log-in time\n",
    "clean_sql.describe().show()"
   ]
  },
  {
   "cell_type": "code",
   "execution_count": 20,
   "metadata": {},
   "outputs": [
    {
     "data": {
      "application/vnd.jupyter.widget-view+json": {
       "model_id": "d77380fef02949448a2e4f9c392abb5f",
       "version_major": 2,
       "version_minor": 0
      },
      "text/plain": [
       "VBox()"
      ]
     },
     "metadata": {},
     "output_type": "display_data"
    },
    {
     "data": {
      "application/vnd.jupyter.widget-view+json": {
       "model_id": "",
       "version_major": 2,
       "version_minor": 0
      },
      "text/plain": [
       "FloatProgress(value=0.0, bar_style='info', description='Progress:', layout=Layout(height='25px', width='50%'),…"
      ]
     },
     "metadata": {},
     "output_type": "display_data"
    },
    {
     "name": "stdout",
     "output_type": "stream",
     "text": [
      "+------+\n",
      "|gender|\n",
      "+------+\n",
      "|  null|\n",
      "|     F|\n",
      "|     M|\n",
      "+------+"
     ]
    }
   ],
   "source": [
    "# We try to find the null records, and we notice the distribution of gender\n",
    "# we decide to look at the null\n",
    "spark.sql(\n",
    "    '''\n",
    "    SELECT DISTINCT gender\n",
    "    FROM clean_sql\n",
    "    ORDER BY gender\n",
    "    '''\n",
    ").show()"
   ]
  },
  {
   "cell_type": "code",
   "execution_count": 21,
   "metadata": {},
   "outputs": [
    {
     "data": {
      "application/vnd.jupyter.widget-view+json": {
       "model_id": "af64b41d92e845268b7d1076020ffb50",
       "version_major": 2,
       "version_minor": 0
      },
      "text/plain": [
       "VBox()"
      ]
     },
     "metadata": {},
     "output_type": "display_data"
    },
    {
     "data": {
      "application/vnd.jupyter.widget-view+json": {
       "model_id": "",
       "version_major": 2,
       "version_minor": 0
      },
      "text/plain": [
       "FloatProgress(value=0.0, bar_style='info', description='Progress:', layout=Layout(height='25px', width='50%'),…"
      ]
     },
     "metadata": {},
     "output_type": "display_data"
    },
    {
     "name": "stdout",
     "output_type": "stream",
     "text": [
      "  gender     count\n",
      "0      M  13299562\n",
      "1      F  12181158\n",
      "2   None    778479"
     ]
    }
   ],
   "source": [
    "# it shows 778479 nulls, making gender hard to be filled and used.\n",
    "group_gender = spark.sql(\n",
    "    '''\n",
    "    SELECT gender, count(*) as count\n",
    "    FROM clean_sql\n",
    "    GROUP BY gender\n",
    "    ORDER BY count(*) desc\n",
    "    '''\n",
    ").toPandas()\n",
    "\n",
    "group_gender"
   ]
  },
  {
   "cell_type": "code",
   "execution_count": 22,
   "metadata": {},
   "outputs": [
    {
     "data": {
      "application/vnd.jupyter.widget-view+json": {
       "model_id": "96795926c14b4469a24ac3e2b804bda3",
       "version_major": 2,
       "version_minor": 0
      },
      "text/plain": [
       "VBox()"
      ]
     },
     "metadata": {},
     "output_type": "display_data"
    },
    {
     "data": {
      "application/vnd.jupyter.widget-view+json": {
       "model_id": "",
       "version_major": 2,
       "version_minor": 0
      },
      "text/plain": [
       "FloatProgress(value=0.0, bar_style='info', description='Progress:', layout=Layout(height='25px', width='50%'),…"
      ]
     },
     "metadata": {},
     "output_type": "display_data"
    },
    {
     "data": {
      "image/png": "[encoded data removed]",
      "text/plain": [
       "<IPython.core.display.Image object>"
      ]
     },
     "metadata": {},
     "output_type": "display_data"
    }
   ],
   "source": [
    "plt.figure(figsize=(8,6))\n",
    "sns.barplot(x='gender', y='count', data=group_gender)\n",
    "plt.show()\n",
    "%matplot plt"
   ]
  },
  {
   "cell_type": "code",
   "execution_count": 23,
   "metadata": {},
   "outputs": [
    {
     "data": {
      "application/vnd.jupyter.widget-view+json": {
       "model_id": "bd4d54ba7f2645f28699e95c59a5ee59",
       "version_major": 2,
       "version_minor": 0
      },
      "text/plain": [
       "VBox()"
      ]
     },
     "metadata": {},
     "output_type": "display_data"
    },
    {
     "data": {
      "application/vnd.jupyter.widget-view+json": {
       "model_id": "",
       "version_major": 2,
       "version_minor": 0
      },
      "text/plain": [
       "FloatProgress(value=0.0, bar_style='info', description='Progress:', layout=Layout(height='25px', width='50%'),…"
      ]
     },
     "metadata": {},
     "output_type": "display_data"
    },
    {
     "name": "stdout",
     "output_type": "stream",
     "text": [
      "  gender  count\n",
      "0      M  11651\n",
      "1      F  10626\n",
      "2   None      1"
     ]
    }
   ],
   "source": [
    "# for gender, we'd better look at unique users\n",
    "# interesting to find only one null users, it may belongs to guests, but user churn is not related to guests.\n",
    "group_gender = spark.sql(\n",
    "    '''\n",
    "    SELECT gender, count(DISTINCT userId) as count\n",
    "    FROM clean_sql\n",
    "    GROUP BY gender\n",
    "    ORDER BY count(*) desc\n",
    "    '''\n",
    ").toPandas()\n",
    "\n",
    "group_gender"
   ]
  },
  {
   "cell_type": "code",
   "execution_count": 14,
   "metadata": {},
   "outputs": [
    {
     "data": {
      "application/vnd.jupyter.widget-view+json": {
       "model_id": "f6980faed7874e37b5e2c13b047e046a",
       "version_major": 2,
       "version_minor": 0
      },
      "text/plain": [
       "VBox()"
      ]
     },
     "metadata": {},
     "output_type": "display_data"
    },
    {
     "data": {
      "application/vnd.jupyter.widget-view+json": {
       "model_id": "",
       "version_major": 2,
       "version_minor": 0
      },
      "text/plain": [
       "FloatProgress(value=0.0, bar_style='info', description='Progress:', layout=Layout(height='25px', width='50%'),…"
      ]
     },
     "metadata": {},
     "output_type": "display_data"
    }
   ],
   "source": [
    "# find out the null user and remove it.\n",
    "clean_sql = spark.sql(\n",
    "    '''\n",
    "    SELECT *\n",
    "    FROM sparkify\n",
    "    WHERE gender IS NOT null\n",
    "    '''\n",
    ")"
   ]
  },
  {
   "cell_type": "code",
   "execution_count": 25,
   "metadata": {},
   "outputs": [
    {
     "data": {
      "application/vnd.jupyter.widget-view+json": {
       "model_id": "e1d4ddd57c8c4fb5916c844b7d54bb70",
       "version_major": 2,
       "version_minor": 0
      },
      "text/plain": [
       "VBox()"
      ]
     },
     "metadata": {},
     "output_type": "display_data"
    },
    {
     "data": {
      "application/vnd.jupyter.widget-view+json": {
       "model_id": "",
       "version_major": 2,
       "version_minor": 0
      },
      "text/plain": [
       "FloatProgress(value=0.0, bar_style='info', description='Progress:', layout=Layout(height='25px', width='50%'),…"
      ]
     },
     "metadata": {},
     "output_type": "display_data"
    },
    {
     "name": "stdout",
     "output_type": "stream",
     "text": [
      "+-------+------------------+---------+---------+--------+------------------+--------+-----------------+--------+--------------+--------+--------+--------------------+-----------------+--------------------+------------------+--------------------+--------------------+-----------------+\n",
      "|summary|            artist|     auth|firstName|  gender|     itemInSession|lastName|           length|   level|      location|  method|    page|        registration|        sessionId|                song|            status|                  ts|           userAgent|           userId|\n",
      "+-------+------------------+---------+---------+--------+------------------+--------+-----------------+--------+--------------+--------+--------+--------------------+-----------------+--------------------+------------------+--------------------+--------------------+-----------------+\n",
      "|  count|          20850272| 25480720| 25480720|25480720|          25480720|25480720|         20850272|25480720|      25480720|25480720|25480720|            25480720|         25480720|            20850272|          25480720|            25480720|            25480720|         25480720|\n",
      "|   mean|511.61795374767706|     null| Infinity|    null|107.03340196038417|    null|248.7254329674883|    null|          null|    null|    null|1.535220665260513...|100662.8010325454|            Infinity|209.12182426556237|1.540907380054354...|                null|1495304.155821578|\n",
      "| stddev| 968.6388398781423|     null|      NaN|    null|117.76563663964198|    null|97.28710387078067|    null|          null|    null|    null|3.2402990978250675E9| 71903.1300440976|                 NaN|30.203965128603272| 1.515475616425475E9|                null|288531.6714849795|\n",
      "|    min|               !!!|Cancelled|    Aaden|       F|                 0|  Abbott|            0.522|    free|  Aberdeen, SD|     GET|   About|       1508018725000|                1|  \u0018Till Kingdom Come|               200|       1538352001000|\"Mozilla/5.0 (Mac...|          1000025|\n",
      "|    max|            ÃÂ¼NN|Logged In|Zytavious|       M|              1426|  Zuniga|       3024.66567|    paid|Zanesville, OH|     PUT| Upgrade|       1543821822000|           240381|ÃÂ¾etta Gerist Ã...|               404|       1543622402000|Mozilla/5.0 (comp...|          1999996|\n",
      "+-------+------------------+---------+---------+--------+------------------+--------+-----------------+--------+--------------+--------+--------+--------------------+-----------------+--------------------+------------------+--------------------+--------------------+-----------------+"
     ]
    }
   ],
   "source": [
    "# we can see only music is left blank.\n",
    "clean_sql.describe().show()"
   ]
  },
  {
   "cell_type": "code",
   "execution_count": 15,
   "metadata": {},
   "outputs": [
    {
     "data": {
      "application/vnd.jupyter.widget-view+json": {
       "model_id": "888a825be4834a5190a6c25773990a83",
       "version_major": 2,
       "version_minor": 0
      },
      "text/plain": [
       "VBox()"
      ]
     },
     "metadata": {},
     "output_type": "display_data"
    },
    {
     "data": {
      "application/vnd.jupyter.widget-view+json": {
       "model_id": "",
       "version_major": 2,
       "version_minor": 0
      },
      "text/plain": [
       "FloatProgress(value=0.0, bar_style='info', description='Progress:', layout=Layout(height='25px', width='50%'),…"
      ]
     },
     "metadata": {},
     "output_type": "display_data"
    }
   ],
   "source": [
    "# store the clean data\n",
    "clean_sql.createOrReplaceTempView('clean_sql')"
   ]
  },
  {
   "cell_type": "markdown",
   "metadata": {},
   "source": [
    "# Exploratory Data Analysis\n",
    "When you're working with the full dataset, perform EDA by loading a small subset of the data and doing basic manipulations within Spark. In this workspace, you are already provided a small subset of data you can explore.\n",
    "\n",
    "### Define Churn\n",
    "\n",
    "Once you've done some preliminary analysis, create a column `Churn` to use as the label for your model. I suggest using the `Cancellation Confirmation` events to define your churn, which happen for both paid and free users. As a bonus task, you can also look into the `Downgrade` events.\n",
    "\n",
    "### Explore Data\n",
    "Once you've defined churn, perform some exploratory data analysis to observe the behavior for users who stayed vs users who churned. You can start by exploring aggregates on these two groups of users, observing how much of a specific action they experienced per a certain time unit or number of songs played."
   ]
  },
  {
   "cell_type": "code",
   "execution_count": 12,
   "metadata": {},
   "outputs": [
    {
     "data": {
      "application/vnd.jupyter.widget-view+json": {
       "model_id": "61ececbb8414477088d2aea57a01744f",
       "version_major": 2,
       "version_minor": 0
      },
      "text/plain": [
       "VBox()"
      ]
     },
     "metadata": {},
     "output_type": "display_data"
    },
    {
     "data": {
      "application/vnd.jupyter.widget-view+json": {
       "model_id": "",
       "version_major": 2,
       "version_minor": 0
      },
      "text/plain": [
       "FloatProgress(value=0.0, bar_style='info', description='Progress:', layout=Layout(height='25px', width='50%'),…"
      ]
     },
     "metadata": {},
     "output_type": "display_data"
    },
    {
     "name": "stdout",
     "output_type": "stream",
     "text": [
      "['artist', 'auth', 'firstName', 'gender', 'itemInSession', 'lastName', 'length', 'level', 'location', 'method', 'page', 'registration', 'sessionId', 'song', 'status', 'ts', 'userAgent', 'userId']"
     ]
    }
   ],
   "source": [
    "# look at columns\n",
    "df.columns"
   ]
  },
  {
   "cell_type": "code",
   "execution_count": 16,
   "metadata": {},
   "outputs": [
    {
     "data": {
      "application/vnd.jupyter.widget-view+json": {
       "model_id": "466bb69603e34b76804b5a93bc96074e",
       "version_major": 2,
       "version_minor": 0
      },
      "text/plain": [
       "VBox()"
      ]
     },
     "metadata": {},
     "output_type": "display_data"
    },
    {
     "data": {
      "application/vnd.jupyter.widget-view+json": {
       "model_id": "",
       "version_major": 2,
       "version_minor": 0
      },
      "text/plain": [
       "FloatProgress(value=0.0, bar_style='info', description='Progress:', layout=Layout(height='25px', width='50%'),…"
      ]
     },
     "metadata": {},
     "output_type": "display_data"
    },
    {
     "name": "stdout",
     "output_type": "stream",
     "text": [
      "+--------------------+\n",
      "|              artist|\n",
      "+--------------------+\n",
      "|                null|\n",
      "|                 !!!|\n",
      "|            !Deladap|\n",
      "|        & And Oceans|\n",
      "|        '68 Comeback|\n",
      "|'N Sync/Phil Collins|\n",
      "|        'Til Tuesday|\n",
      "| 't Hof Van Commerce|\n",
      "|'t Hof Van Commer...|\n",
      "|  (Hed) Planet Earth|\n",
      "|       (Love) Tattoo|\n",
      "|   (Native Passions)|\n",
      "|(We Are) Performance|\n",
      "|          (hed) p.e.|\n",
      "|*NSYNC featuring ...|\n",
      "|              *Shels|\n",
      "|  + / - {Plus/Minus}|\n",
      "|                + 44|\n",
      "|                 +44|\n",
      "|          -123 minut|\n",
      "+--------------------+\n",
      "only showing top 20 rows"
     ]
    }
   ],
   "source": [
    "# Artist\n",
    "clean_sql.createOrReplaceTempView('clean_sql')\n",
    "spark.sql(\n",
    "    '''\n",
    "    SELECT DISTINCT artist\n",
    "    FROM clean_sql\n",
    "    ORDER BY artist\n",
    "    '''\n",
    ").show()"
   ]
  },
  {
   "cell_type": "code",
   "execution_count": 18,
   "metadata": {},
   "outputs": [
    {
     "data": {
      "application/vnd.jupyter.widget-view+json": {
       "model_id": "22301ab8ef2d47c592efd3f76c33ae8b",
       "version_major": 2,
       "version_minor": 0
      },
      "text/plain": [
       "VBox()"
      ]
     },
     "metadata": {},
     "output_type": "display_data"
    },
    {
     "data": {
      "application/vnd.jupyter.widget-view+json": {
       "model_id": "",
       "version_major": 2,
       "version_minor": 0
      },
      "text/plain": [
       "FloatProgress(value=0.0, bar_style='info', description='Progress:', layout=Layout(height='25px', width='50%'),…"
      ]
     },
     "metadata": {},
     "output_type": "display_data"
    }
   ],
   "source": [
    "group_artist = spark.sql(\n",
    "    '''\n",
    "    SELECT artist, count(*) as count\n",
    "    FROM clean_sql\n",
    "    WHERE artist IS NOT null\n",
    "    GROUP BY artist\n",
    "    ORDER BY count(*) desc\n",
    "    LIMIT 10\n",
    "    '''\n",
    ").toPandas()"
   ]
  },
  {
   "cell_type": "code",
   "execution_count": 19,
   "metadata": {},
   "outputs": [
    {
     "data": {
      "application/vnd.jupyter.widget-view+json": {
       "model_id": "484d9ebba8484b3e88787ffa72d78597",
       "version_major": 2,
       "version_minor": 0
      },
      "text/plain": [
       "VBox()"
      ]
     },
     "metadata": {},
     "output_type": "display_data"
    },
    {
     "data": {
      "application/vnd.jupyter.widget-view+json": {
       "model_id": "",
       "version_major": 2,
       "version_minor": 0
      },
      "text/plain": [
       "FloatProgress(value=0.0, bar_style='info', description='Progress:', layout=Layout(height='25px', width='50%'),…"
      ]
     },
     "metadata": {},
     "output_type": "display_data"
    },
    {
     "data": {
      "image/png": "[encoded data removed]",
      "text/plain": [
       "<IPython.core.display.Image object>"
      ]
     },
     "metadata": {},
     "output_type": "display_data"
    }
   ],
   "source": [
    "# plot out visualization of target features\n",
    "plt.figure(figsize=(8,6))\n",
    "sns.barplot(x='artist', y='count', data=group_artist)\n",
    "plt.xticks(rotation=90)\n",
    "%matplot plt"
   ]
  },
  {
   "cell_type": "code",
   "execution_count": 20,
   "metadata": {},
   "outputs": [
    {
     "data": {
      "application/vnd.jupyter.widget-view+json": {
       "model_id": "61352fabe62a4648ac273186435d3ea3",
       "version_major": 2,
       "version_minor": 0
      },
      "text/plain": [
       "VBox()"
      ]
     },
     "metadata": {},
     "output_type": "display_data"
    },
    {
     "data": {
      "application/vnd.jupyter.widget-view+json": {
       "model_id": "",
       "version_major": 2,
       "version_minor": 0
      },
      "text/plain": [
       "FloatProgress(value=0.0, bar_style='info', description='Progress:', layout=Layout(height='25px', width='50%'),…"
      ]
     },
     "metadata": {},
     "output_type": "display_data"
    },
    {
     "name": "stdout",
     "output_type": "stream",
     "text": [
      "+---------+\n",
      "|     auth|\n",
      "+---------+\n",
      "|Cancelled|\n",
      "|Logged In|\n",
      "+---------+"
     ]
    }
   ],
   "source": [
    "# Auth\n",
    "spark.sql(\n",
    "    '''\n",
    "    SELECT DISTINCT auth\n",
    "    FROM clean_sql\n",
    "    ORDER BY auth\n",
    "    '''\n",
    ").show()"
   ]
  },
  {
   "cell_type": "code",
   "execution_count": 21,
   "metadata": {},
   "outputs": [
    {
     "data": {
      "application/vnd.jupyter.widget-view+json": {
       "model_id": "f783d08fcbf54f509d1b733ad4af1c5e",
       "version_major": 2,
       "version_minor": 0
      },
      "text/plain": [
       "VBox()"
      ]
     },
     "metadata": {},
     "output_type": "display_data"
    },
    {
     "data": {
      "application/vnd.jupyter.widget-view+json": {
       "model_id": "",
       "version_major": 2,
       "version_minor": 0
      },
      "text/plain": [
       "FloatProgress(value=0.0, bar_style='info', description='Progress:', layout=Layout(height='25px', width='50%'),…"
      ]
     },
     "metadata": {},
     "output_type": "display_data"
    },
    {
     "name": "stdout",
     "output_type": "stream",
     "text": [
      "        auth     count\n",
      "0  Logged In  25475717\n",
      "1  Cancelled      5003"
     ]
    }
   ],
   "source": [
    "# group up feature count information\n",
    "group_auth = spark.sql(\n",
    "    '''\n",
    "    SELECT auth, count(*) as count\n",
    "    FROM clean_sql\n",
    "    GROUP BY auth\n",
    "    ORDER BY count(*) desc\n",
    "    '''\n",
    ").toPandas()\n",
    "\n",
    "group_auth"
   ]
  },
  {
   "cell_type": "code",
   "execution_count": 23,
   "metadata": {},
   "outputs": [
    {
     "data": {
      "application/vnd.jupyter.widget-view+json": {
       "model_id": "8df783892ab14b919c0038136178755f",
       "version_major": 2,
       "version_minor": 0
      },
      "text/plain": [
       "VBox()"
      ]
     },
     "metadata": {},
     "output_type": "display_data"
    },
    {
     "data": {
      "application/vnd.jupyter.widget-view+json": {
       "model_id": "",
       "version_major": 2,
       "version_minor": 0
      },
      "text/plain": [
       "FloatProgress(value=0.0, bar_style='info', description='Progress:', layout=Layout(height='25px', width='50%'),…"
      ]
     },
     "metadata": {},
     "output_type": "display_data"
    },
    {
     "data": {
      "image/png": "[encoded data removed]",
      "text/plain": [
       "<IPython.core.display.Image object>"
      ]
     },
     "metadata": {},
     "output_type": "display_data"
    }
   ],
   "source": [
    "plt.figure(figsize=(8,6))\n",
    "sns.barplot(x='auth', y='count', data=group_auth)\n",
    "plt.yscale('log')\n",
    "plt.show()\n",
    "%matplot plt"
   ]
  },
  {
   "cell_type": "code",
   "execution_count": 28,
   "metadata": {},
   "outputs": [
    {
     "data": {
      "application/vnd.jupyter.widget-view+json": {
       "model_id": "14622f5d9ee143a88fc7e861d4ea56b8",
       "version_major": 2,
       "version_minor": 0
      },
      "text/plain": [
       "VBox()"
      ]
     },
     "metadata": {},
     "output_type": "display_data"
    },
    {
     "data": {
      "application/vnd.jupyter.widget-view+json": {
       "model_id": "",
       "version_major": 2,
       "version_minor": 0
      },
      "text/plain": [
       "FloatProgress(value=0.0, bar_style='info', description='Progress:', layout=Layout(height='25px', width='50%'),…"
      ]
     },
     "metadata": {},
     "output_type": "display_data"
    },
    {
     "data": {
      "image/png": "[encoded data removed]",
      "text/plain": [
       "<IPython.core.display.Image object>"
      ]
     },
     "metadata": {},
     "output_type": "display_data"
    }
   ],
   "source": [
    "plt.figure(figsize=(8,6))\n",
    "sns.barplot(x='gender', y='count', data=group_gender)\n",
    "plt.show()\n",
    "%matplot plt"
   ]
  },
  {
   "cell_type": "code",
   "execution_count": 32,
   "metadata": {},
   "outputs": [
    {
     "data": {
      "application/vnd.jupyter.widget-view+json": {
       "model_id": "8d7d6c643e014ab8a19e73b0dbb82971",
       "version_major": 2,
       "version_minor": 0
      },
      "text/plain": [
       "VBox()"
      ]
     },
     "metadata": {},
     "output_type": "display_data"
    },
    {
     "data": {
      "application/vnd.jupyter.widget-view+json": {
       "model_id": "",
       "version_major": 2,
       "version_minor": 0
      },
      "text/plain": [
       "FloatProgress(value=0.0, bar_style='info', description='Progress:', layout=Layout(height='25px', width='50%'),…"
      ]
     },
     "metadata": {},
     "output_type": "display_data"
    },
    {
     "name": "stdout",
     "output_type": "stream",
     "text": [
      "+-----+\n",
      "|level|\n",
      "+-----+\n",
      "| free|\n",
      "| paid|\n",
      "+-----+"
     ]
    }
   ],
   "source": [
    "# Level\n",
    "spark.sql(\n",
    "    '''\n",
    "    SELECT DISTINCT level\n",
    "    FROM clean_sql\n",
    "    ORDER BY level\n",
    "    '''\n",
    ").show()"
   ]
  },
  {
   "cell_type": "code",
   "execution_count": 33,
   "metadata": {},
   "outputs": [
    {
     "data": {
      "application/vnd.jupyter.widget-view+json": {
       "model_id": "f270bed245764d93a0e70cdcba7de072",
       "version_major": 2,
       "version_minor": 0
      },
      "text/plain": [
       "VBox()"
      ]
     },
     "metadata": {},
     "output_type": "display_data"
    },
    {
     "data": {
      "application/vnd.jupyter.widget-view+json": {
       "model_id": "",
       "version_major": 2,
       "version_minor": 0
      },
      "text/plain": [
       "FloatProgress(value=0.0, bar_style='info', description='Progress:', layout=Layout(height='25px', width='50%'),…"
      ]
     },
     "metadata": {},
     "output_type": "display_data"
    },
    {
     "name": "stdout",
     "output_type": "stream",
     "text": [
      "  level  count\n",
      "0  paid  16184\n",
      "1  free  18792"
     ]
    }
   ],
   "source": [
    "# look at distinct users\n",
    "group_level = spark.sql(\n",
    "    '''\n",
    "    SELECT level, count(DISTINCT userId) as count\n",
    "    FROM clean_sql\n",
    "    GROUP BY level\n",
    "    ORDER BY count(*) desc\n",
    "    '''\n",
    ").toPandas()\n",
    "\n",
    "group_level"
   ]
  },
  {
   "cell_type": "code",
   "execution_count": 34,
   "metadata": {},
   "outputs": [
    {
     "data": {
      "application/vnd.jupyter.widget-view+json": {
       "model_id": "7f51372adc96452d934e7f3777b44fb7",
       "version_major": 2,
       "version_minor": 0
      },
      "text/plain": [
       "VBox()"
      ]
     },
     "metadata": {},
     "output_type": "display_data"
    },
    {
     "data": {
      "application/vnd.jupyter.widget-view+json": {
       "model_id": "",
       "version_major": 2,
       "version_minor": 0
      },
      "text/plain": [
       "FloatProgress(value=0.0, bar_style='info', description='Progress:', layout=Layout(height='25px', width='50%'),…"
      ]
     },
     "metadata": {},
     "output_type": "display_data"
    },
    {
     "data": {
      "image/png": "[encoded data removed]",
      "text/plain": [
       "<IPython.core.display.Image object>"
      ]
     },
     "metadata": {},
     "output_type": "display_data"
    }
   ],
   "source": [
    "plt.figure(figsize=(8,6))\n",
    "sns.barplot(x='level', y='count', data=group_level)\n",
    "plt.show()\n",
    "%matplot plt"
   ]
  },
  {
   "cell_type": "code",
   "execution_count": 35,
   "metadata": {},
   "outputs": [
    {
     "data": {
      "application/vnd.jupyter.widget-view+json": {
       "model_id": "22bd9486017f4e149b0b1a9950c1cb11",
       "version_major": 2,
       "version_minor": 0
      },
      "text/plain": [
       "VBox()"
      ]
     },
     "metadata": {},
     "output_type": "display_data"
    },
    {
     "data": {
      "application/vnd.jupyter.widget-view+json": {
       "model_id": "",
       "version_major": 2,
       "version_minor": 0
      },
      "text/plain": [
       "FloatProgress(value=0.0, bar_style='info', description='Progress:', layout=Layout(height='25px', width='50%'),…"
      ]
     },
     "metadata": {},
     "output_type": "display_data"
    },
    {
     "name": "stdout",
     "output_type": "stream",
     "text": [
      "+--------------------+\n",
      "|            location|\n",
      "+--------------------+\n",
      "|        Aberdeen, SD|\n",
      "|        Aberdeen, WA|\n",
      "|         Abilene, TX|\n",
      "|             Ada, OK|\n",
      "|          Adrian, MI|\n",
      "|           Akron, OH|\n",
      "|      Alamogordo, NM|\n",
      "|          Albany, GA|\n",
      "|          Albany, OR|\n",
      "|Albany-Schenectad...|\n",
      "|       Albemarle, NC|\n",
      "|      Albert Lea, MN|\n",
      "|     Albertville, AL|\n",
      "|     Albuquerque, NM|\n",
      "|      Alexandria, LA|\n",
      "|      Alexandria, MN|\n",
      "|           Alice, TX|\n",
      "|Allentown-Bethleh...|\n",
      "|            Alma, MI|\n",
      "|          Alpena, MI|\n",
      "+--------------------+\n",
      "only showing top 20 rows"
     ]
    }
   ],
   "source": [
    "# Location\n",
    "spark.sql(\n",
    "    '''\n",
    "    SELECT DISTINCT location\n",
    "    FROM clean_sql\n",
    "    ORDER BY location\n",
    "    '''\n",
    ").show()"
   ]
  },
  {
   "cell_type": "code",
   "execution_count": 36,
   "metadata": {},
   "outputs": [
    {
     "data": {
      "application/vnd.jupyter.widget-view+json": {
       "model_id": "0af64d3676d4442b887aeaec7967c3bf",
       "version_major": 2,
       "version_minor": 0
      },
      "text/plain": [
       "VBox()"
      ]
     },
     "metadata": {},
     "output_type": "display_data"
    },
    {
     "data": {
      "application/vnd.jupyter.widget-view+json": {
       "model_id": "",
       "version_major": 2,
       "version_minor": 0
      },
      "text/plain": [
       "FloatProgress(value=0.0, bar_style='info', description='Progress:', layout=Layout(height='25px', width='50%'),…"
      ]
     },
     "metadata": {},
     "output_type": "display_data"
    },
    {
     "name": "stdout",
     "output_type": "stream",
     "text": [
      "                                       location    count\n",
      "0         New York-Newark-Jersey City, NY-NJ-PA  1732380\n",
      "1            Los Angeles-Long Beach-Anaheim, CA  1218495\n",
      "2            Chicago-Naperville-Elgin, IL-IN-WI   725147\n",
      "3   Philadelphia-Camden-Wilmington, PA-NJ-DE-MD   613289\n",
      "4               Dallas-Fort Worth-Arlington, TX   568133\n",
      "5  Washington-Arlington-Alexandria, DC-VA-MD-WV   532650\n",
      "6     Miami-Fort Lauderdale-West Palm Beach, FL   498435\n",
      "7          Houston-The Woodlands-Sugar Land, TX   494099\n",
      "8                   Phoenix-Mesa-Scottsdale, AZ   453895\n",
      "9             Atlanta-Sandy Springs-Roswell, GA   451231"
     ]
    }
   ],
   "source": [
    "group_location = spark.sql(\n",
    "    '''\n",
    "    SELECT location, count(*) as count\n",
    "    FROM clean_sql\n",
    "    GROUP BY location\n",
    "    ORDER BY count(*) desc\n",
    "    LIMIT 10\n",
    "    '''\n",
    ").toPandas()\n",
    "\n",
    "group_location"
   ]
  },
  {
   "cell_type": "code",
   "execution_count": 37,
   "metadata": {},
   "outputs": [
    {
     "data": {
      "application/vnd.jupyter.widget-view+json": {
       "model_id": "0a2d4b1b3ee343e6a8fbccc37a25a164",
       "version_major": 2,
       "version_minor": 0
      },
      "text/plain": [
       "VBox()"
      ]
     },
     "metadata": {},
     "output_type": "display_data"
    },
    {
     "data": {
      "application/vnd.jupyter.widget-view+json": {
       "model_id": "",
       "version_major": 2,
       "version_minor": 0
      },
      "text/plain": [
       "FloatProgress(value=0.0, bar_style='info', description='Progress:', layout=Layout(height='25px', width='50%'),…"
      ]
     },
     "metadata": {},
     "output_type": "display_data"
    },
    {
     "data": {
      "image/png": "[encoded data removed]",
      "text/plain": [
       "<IPython.core.display.Image object>"
      ]
     },
     "metadata": {},
     "output_type": "display_data"
    }
   ],
   "source": [
    "plt.figure(figsize=(8,6))\n",
    "sns.barplot(x='location', y='count', data=group_location)\n",
    "plt.xticks(rotation=90)\n",
    "plt.show()\n",
    "%matplot plt"
   ]
  },
  {
   "cell_type": "code",
   "execution_count": 38,
   "metadata": {},
   "outputs": [
    {
     "data": {
      "application/vnd.jupyter.widget-view+json": {
       "model_id": "d0c1c23270cc4a6585cd987ab56f5f07",
       "version_major": 2,
       "version_minor": 0
      },
      "text/plain": [
       "VBox()"
      ]
     },
     "metadata": {},
     "output_type": "display_data"
    },
    {
     "data": {
      "application/vnd.jupyter.widget-view+json": {
       "model_id": "",
       "version_major": 2,
       "version_minor": 0
      },
      "text/plain": [
       "FloatProgress(value=0.0, bar_style='info', description='Progress:', layout=Layout(height='25px', width='50%'),…"
      ]
     },
     "metadata": {},
     "output_type": "display_data"
    },
    {
     "name": "stdout",
     "output_type": "stream",
     "text": [
      "+------+\n",
      "|method|\n",
      "+------+\n",
      "|   GET|\n",
      "|   PUT|\n",
      "+------+"
     ]
    }
   ],
   "source": [
    "# method\n",
    "spark.sql(\n",
    "    '''\n",
    "    SELECT DISTINCT method\n",
    "    FROM clean_sql\n",
    "    ORDER BY method\n",
    "    '''\n",
    ").show()"
   ]
  },
  {
   "cell_type": "code",
   "execution_count": 39,
   "metadata": {},
   "outputs": [
    {
     "data": {
      "application/vnd.jupyter.widget-view+json": {
       "model_id": "5a3d7a8761524cddadcc2fb6b218ea94",
       "version_major": 2,
       "version_minor": 0
      },
      "text/plain": [
       "VBox()"
      ]
     },
     "metadata": {},
     "output_type": "display_data"
    },
    {
     "data": {
      "application/vnd.jupyter.widget-view+json": {
       "model_id": "",
       "version_major": 2,
       "version_minor": 0
      },
      "text/plain": [
       "FloatProgress(value=0.0, bar_style='info', description='Progress:', layout=Layout(height='25px', width='50%'),…"
      ]
     },
     "metadata": {},
     "output_type": "display_data"
    },
    {
     "name": "stdout",
     "output_type": "stream",
     "text": [
      "  method     count\n",
      "0    PUT  23572687\n",
      "1    GET   1908033"
     ]
    }
   ],
   "source": [
    "group_method = spark.sql(\n",
    "    '''\n",
    "    SELECT method, count(*) as count\n",
    "    FROM clean_sql\n",
    "    GROUP BY method\n",
    "    ORDER BY count(*) desc\n",
    "    '''\n",
    ").toPandas()\n",
    "\n",
    "group_method"
   ]
  },
  {
   "cell_type": "code",
   "execution_count": 40,
   "metadata": {},
   "outputs": [
    {
     "data": {
      "application/vnd.jupyter.widget-view+json": {
       "model_id": "8fa674638f69409d813b7ab25a25be7e",
       "version_major": 2,
       "version_minor": 0
      },
      "text/plain": [
       "VBox()"
      ]
     },
     "metadata": {},
     "output_type": "display_data"
    },
    {
     "data": {
      "application/vnd.jupyter.widget-view+json": {
       "model_id": "",
       "version_major": 2,
       "version_minor": 0
      },
      "text/plain": [
       "FloatProgress(value=0.0, bar_style='info', description='Progress:', layout=Layout(height='25px', width='50%'),…"
      ]
     },
     "metadata": {},
     "output_type": "display_data"
    },
    {
     "data": {
      "image/png": "[encoded data removed]",
      "text/plain": [
       "<IPython.core.display.Image object>"
      ]
     },
     "metadata": {},
     "output_type": "display_data"
    }
   ],
   "source": [
    "plt.figure(figsize=(8,6))\n",
    "sns.barplot(x='method', y='count', data=group_method)\n",
    "plt.show()\n",
    "%matplot plt"
   ]
  },
  {
   "cell_type": "code",
   "execution_count": 41,
   "metadata": {},
   "outputs": [
    {
     "data": {
      "application/vnd.jupyter.widget-view+json": {
       "model_id": "7c383372ab954b68a34040bcc650cb59",
       "version_major": 2,
       "version_minor": 0
      },
      "text/plain": [
       "VBox()"
      ]
     },
     "metadata": {},
     "output_type": "display_data"
    },
    {
     "data": {
      "application/vnd.jupyter.widget-view+json": {
       "model_id": "",
       "version_major": 2,
       "version_minor": 0
      },
      "text/plain": [
       "FloatProgress(value=0.0, bar_style='info', description='Progress:', layout=Layout(height='25px', width='50%'),…"
      ]
     },
     "metadata": {},
     "output_type": "display_data"
    },
    {
     "name": "stdout",
     "output_type": "stream",
     "text": [
      "+--------------------+\n",
      "|                page|\n",
      "+--------------------+\n",
      "|               About|\n",
      "|          Add Friend|\n",
      "|     Add to Playlist|\n",
      "|              Cancel|\n",
      "|Cancellation Conf...|\n",
      "|           Downgrade|\n",
      "|               Error|\n",
      "|                Help|\n",
      "|                Home|\n",
      "|              Logout|\n",
      "|            NextSong|\n",
      "|         Roll Advert|\n",
      "|       Save Settings|\n",
      "|            Settings|\n",
      "|    Submit Downgrade|\n",
      "|      Submit Upgrade|\n",
      "|         Thumbs Down|\n",
      "|           Thumbs Up|\n",
      "|             Upgrade|\n",
      "+--------------------+"
     ]
    }
   ],
   "source": [
    "# Page\n",
    "spark.sql(\n",
    "    '''\n",
    "    SELECT DISTINCT page\n",
    "    FROM clean_sql\n",
    "    ORDER BY page\n",
    "    '''\n",
    ").show()"
   ]
  },
  {
   "cell_type": "code",
   "execution_count": 42,
   "metadata": {},
   "outputs": [
    {
     "data": {
      "application/vnd.jupyter.widget-view+json": {
       "model_id": "32669723f18448aab8ba3b7c7dcaa06e",
       "version_major": 2,
       "version_minor": 0
      },
      "text/plain": [
       "VBox()"
      ]
     },
     "metadata": {},
     "output_type": "display_data"
    },
    {
     "data": {
      "application/vnd.jupyter.widget-view+json": {
       "model_id": "",
       "version_major": 2,
       "version_minor": 0
      },
      "text/plain": [
       "FloatProgress(value=0.0, bar_style='info', description='Progress:', layout=Layout(height='25px', width='50%'),…"
      ]
     },
     "metadata": {},
     "output_type": "display_data"
    },
    {
     "name": "stdout",
     "output_type": "stream",
     "text": [
      "              page     count\n",
      "0         NextSong  20850272\n",
      "1        Thumbs Up   1151465\n",
      "2             Home    933124\n",
      "3  Add to Playlist    597921\n",
      "4      Roll Advert    385212"
     ]
    }
   ],
   "source": [
    "group_page=spark.sql('''\n",
    "    SELECT page, count(*) as count\n",
    "    FROM clean_sql\n",
    "    GROUP BY page\n",
    "    ORDER BY count(*) desc\n",
    "    LIMIT 5\n",
    "    '''\n",
    "    ).toPandas()\n",
    "\n",
    "group_page"
   ]
  },
  {
   "cell_type": "code",
   "execution_count": 43,
   "metadata": {},
   "outputs": [
    {
     "data": {
      "application/vnd.jupyter.widget-view+json": {
       "model_id": "916fbf20b3944f7f92b7896245b13a08",
       "version_major": 2,
       "version_minor": 0
      },
      "text/plain": [
       "VBox()"
      ]
     },
     "metadata": {},
     "output_type": "display_data"
    },
    {
     "data": {
      "application/vnd.jupyter.widget-view+json": {
       "model_id": "",
       "version_major": 2,
       "version_minor": 0
      },
      "text/plain": [
       "FloatProgress(value=0.0, bar_style='info', description='Progress:', layout=Layout(height='25px', width='50%'),…"
      ]
     },
     "metadata": {},
     "output_type": "display_data"
    },
    {
     "name": "stdout",
     "output_type": "stream",
     "text": [
      "+--------------------+--------+\n",
      "|                page|   count|\n",
      "+--------------------+--------+\n",
      "|            NextSong|20850272|\n",
      "|           Thumbs Up| 1151465|\n",
      "|                Home|  933124|\n",
      "|     Add to Playlist|  597921|\n",
      "|         Roll Advert|  385212|\n",
      "|          Add Friend|  381664|\n",
      "|              Logout|  296005|\n",
      "|         Thumbs Down|  239212|\n",
      "|           Downgrade|  184240|\n",
      "|            Settings|  147074|\n",
      "|                Help|  129448|\n",
      "|             Upgrade|   50507|\n",
      "|               About|   48377|\n",
      "|       Save Settings|   29516|\n",
      "|               Error|   25048|\n",
      "|      Submit Upgrade|   15135|\n",
      "|    Submit Downgrade|    6494|\n",
      "|              Cancel|    5003|\n",
      "|Cancellation Conf...|    5003|\n",
      "+--------------------+--------+"
     ]
    }
   ],
   "source": [
    "spark.sql(\n",
    "    '''\n",
    "    SELECT page, count(*) as count\n",
    "    FROM clean_sql\n",
    "    GROUP BY page\n",
    "    ORDER BY count(*) desc\n",
    "    '''\n",
    ").show()"
   ]
  },
  {
   "cell_type": "code",
   "execution_count": 44,
   "metadata": {},
   "outputs": [
    {
     "data": {
      "application/vnd.jupyter.widget-view+json": {
       "model_id": "5b61f77953354497bef3a8aac576920a",
       "version_major": 2,
       "version_minor": 0
      },
      "text/plain": [
       "VBox()"
      ]
     },
     "metadata": {},
     "output_type": "display_data"
    },
    {
     "data": {
      "application/vnd.jupyter.widget-view+json": {
       "model_id": "",
       "version_major": 2,
       "version_minor": 0
      },
      "text/plain": [
       "FloatProgress(value=0.0, bar_style='info', description='Progress:', layout=Layout(height='25px', width='50%'),…"
      ]
     },
     "metadata": {},
     "output_type": "display_data"
    },
    {
     "data": {
      "image/png": "[encoded data removed]",
      "text/plain": [
       "<IPython.core.display.Image object>"
      ]
     },
     "metadata": {},
     "output_type": "display_data"
    }
   ],
   "source": [
    "plt.figure(figsize=(8,6))\n",
    "sns.barplot(x='page', y='count', data=group_page)\n",
    "plt.show()\n",
    "%matplot plt"
   ]
  },
  {
   "cell_type": "code",
   "execution_count": 45,
   "metadata": {},
   "outputs": [
    {
     "data": {
      "application/vnd.jupyter.widget-view+json": {
       "model_id": "4951906202954ba9b976a0752270c1ea",
       "version_major": 2,
       "version_minor": 0
      },
      "text/plain": [
       "VBox()"
      ]
     },
     "metadata": {},
     "output_type": "display_data"
    },
    {
     "data": {
      "application/vnd.jupyter.widget-view+json": {
       "model_id": "",
       "version_major": 2,
       "version_minor": 0
      },
      "text/plain": [
       "FloatProgress(value=0.0, bar_style='info', description='Progress:', layout=Layout(height='25px', width='50%'),…"
      ]
     },
     "metadata": {},
     "output_type": "display_data"
    },
    {
     "name": "stdout",
     "output_type": "stream",
     "text": [
      "+--------------------+\n",
      "|                song|\n",
      "+--------------------+\n",
      "|                null|\n",
      "|  \u0018Till Kingdom Come|\n",
      "|\u001c",
      "Ef ÃÂg HefÃÂ°...|\n",
      "|\u001c",
      "Further Complica...|\n",
      "|\u001c",
      "Light Mass Prayers\u001d",
      "|\n",
      "|\u001c",
      "The Arsonist Sto...|\n",
      "|\u001c",
      "The Arsonist Sto...|\n",
      "|\u001c",
      "ÃÂg ÃÂtti Gr...|\n",
      "| (Jack The Stripper)|\n",
      "|            - kumo -|\n",
      "|             Ahi Ahi|\n",
      "|        Country Song|\n",
      "| Doom Creeper (Bo...|\n",
      "|      Energy To Burn|\n",
      "| I Will Not Reap ...|\n",
      "|     In a motel room|\n",
      "| This Feeling (Or...|\n",
      "|                 You|\n",
      "|              !@*$%#|\n",
      "|!Ay... LlevameÃÂ...|\n",
      "+--------------------+\n",
      "only showing top 20 rows"
     ]
    }
   ],
   "source": [
    "# Song\n",
    "spark.sql(\n",
    "    '''\n",
    "    SELECT DISTINCT song\n",
    "    FROM clean_sql\n",
    "    ORDER BY song\n",
    "    '''\n",
    ").show()"
   ]
  },
  {
   "cell_type": "code",
   "execution_count": 46,
   "metadata": {},
   "outputs": [
    {
     "data": {
      "application/vnd.jupyter.widget-view+json": {
       "model_id": "3dde9164b9d2490f8ede74273a5c1e1c",
       "version_major": 2,
       "version_minor": 0
      },
      "text/plain": [
       "VBox()"
      ]
     },
     "metadata": {},
     "output_type": "display_data"
    },
    {
     "data": {
      "application/vnd.jupyter.widget-view+json": {
       "model_id": "",
       "version_major": 2,
       "version_minor": 0
      },
      "text/plain": [
       "FloatProgress(value=0.0, bar_style='info', description='Progress:', layout=Layout(height='25px', width='50%'),…"
      ]
     },
     "metadata": {},
     "output_type": "display_data"
    },
    {
     "name": "stdout",
     "output_type": "stream",
     "text": [
      "                                                song   count\n",
      "0                                     You're The One  108085\n",
      "1                                               Undo   94183\n",
      "2                                            Revelry   77588\n",
      "3                                      Sehr kosmisch   62450\n",
      "4  Horn Concerto No. 4 in E flat K495: II. Romanc...   57267\n",
      "5                     Dog Days Are Over (Radio Edit)   52160\n",
      "6                                            Secrets   43483\n",
      "7                                       Use Somebody   42670\n",
      "8                                             Canada   40765\n",
      "9                                            Invalid   39253"
     ]
    }
   ],
   "source": [
    "group_song = spark.sql(\n",
    "    '''\n",
    "    SELECT song, count(*) as count\n",
    "    FROM clean_sql\n",
    "    WHERE song IS NOT null\n",
    "    GROUP BY song\n",
    "    ORDER BY count(*) DESC\n",
    "    LIMIT 10\n",
    "    '''\n",
    ").toPandas()\n",
    "\n",
    "group_song"
   ]
  },
  {
   "cell_type": "code",
   "execution_count": 47,
   "metadata": {},
   "outputs": [
    {
     "data": {
      "application/vnd.jupyter.widget-view+json": {
       "model_id": "f18e70640f0d4717bbe936988260021f",
       "version_major": 2,
       "version_minor": 0
      },
      "text/plain": [
       "VBox()"
      ]
     },
     "metadata": {},
     "output_type": "display_data"
    },
    {
     "data": {
      "application/vnd.jupyter.widget-view+json": {
       "model_id": "",
       "version_major": 2,
       "version_minor": 0
      },
      "text/plain": [
       "FloatProgress(value=0.0, bar_style='info', description='Progress:', layout=Layout(height='25px', width='50%'),…"
      ]
     },
     "metadata": {},
     "output_type": "display_data"
    },
    {
     "data": {
      "image/png": "[encoded data removed]",
      "text/plain": [
       "<IPython.core.display.Image object>"
      ]
     },
     "metadata": {},
     "output_type": "display_data"
    }
   ],
   "source": [
    "plt.figure(figsize=(8,6))\n",
    "sns.barplot(x='song', y='count', data=group_song)\n",
    "plt.xticks(rotation=90)\n",
    "%matplot plt"
   ]
  },
  {
   "cell_type": "code",
   "execution_count": 48,
   "metadata": {},
   "outputs": [
    {
     "data": {
      "application/vnd.jupyter.widget-view+json": {
       "model_id": "5c653c1456854c968e42f2fae7f71495",
       "version_major": 2,
       "version_minor": 0
      },
      "text/plain": [
       "VBox()"
      ]
     },
     "metadata": {},
     "output_type": "display_data"
    },
    {
     "data": {
      "application/vnd.jupyter.widget-view+json": {
       "model_id": "",
       "version_major": 2,
       "version_minor": 0
      },
      "text/plain": [
       "FloatProgress(value=0.0, bar_style='info', description='Progress:', layout=Layout(height='25px', width='50%'),…"
      ]
     },
     "metadata": {},
     "output_type": "display_data"
    },
    {
     "name": "stdout",
     "output_type": "stream",
     "text": [
      "+--------------------+\n",
      "|           userAgent|\n",
      "+--------------------+\n",
      "|\"Mozilla/5.0 (Mac...|\n",
      "|\"Mozilla/5.0 (Mac...|\n",
      "|\"Mozilla/5.0 (Mac...|\n",
      "|\"Mozilla/5.0 (Mac...|\n",
      "|\"Mozilla/5.0 (Mac...|\n",
      "|\"Mozilla/5.0 (Mac...|\n",
      "|\"Mozilla/5.0 (Mac...|\n",
      "|\"Mozilla/5.0 (Mac...|\n",
      "|\"Mozilla/5.0 (Mac...|\n",
      "|\"Mozilla/5.0 (Mac...|\n",
      "|\"Mozilla/5.0 (Mac...|\n",
      "|\"Mozilla/5.0 (Mac...|\n",
      "|\"Mozilla/5.0 (Mac...|\n",
      "|\"Mozilla/5.0 (Mac...|\n",
      "|\"Mozilla/5.0 (Mac...|\n",
      "|\"Mozilla/5.0 (Mac...|\n",
      "|\"Mozilla/5.0 (Mac...|\n",
      "|\"Mozilla/5.0 (Mac...|\n",
      "|\"Mozilla/5.0 (Mac...|\n",
      "|\"Mozilla/5.0 (Mac...|\n",
      "+--------------------+\n",
      "only showing top 20 rows"
     ]
    }
   ],
   "source": [
    "# userAgent\n",
    "spark.sql(\n",
    "    '''\n",
    "    SELECT DISTINCT userAgent\n",
    "    FROM clean_sql\n",
    "    ORDER BY userAgent\n",
    "    '''\n",
    ").show()"
   ]
  },
  {
   "cell_type": "code",
   "execution_count": 49,
   "metadata": {},
   "outputs": [
    {
     "data": {
      "application/vnd.jupyter.widget-view+json": {
       "model_id": "55a68b7020884b49b2f00e8406099c32",
       "version_major": 2,
       "version_minor": 0
      },
      "text/plain": [
       "VBox()"
      ]
     },
     "metadata": {},
     "output_type": "display_data"
    },
    {
     "data": {
      "application/vnd.jupyter.widget-view+json": {
       "model_id": "",
       "version_major": 2,
       "version_minor": 0
      },
      "text/plain": [
       "FloatProgress(value=0.0, bar_style='info', description='Progress:', layout=Layout(height='25px', width='50%'),…"
      ]
     },
     "metadata": {},
     "output_type": "display_data"
    },
    {
     "name": "stdout",
     "output_type": "stream",
     "text": [
      "                                           userAgent    count\n",
      "0  \"Mozilla/5.0 (Windows NT 6.1; WOW64) AppleWebK...  2400726\n",
      "1  Mozilla/5.0 (Windows NT 6.1; WOW64; rv:31.0) G...  1962722\n",
      "2  \"Mozilla/5.0 (Windows NT 6.1; WOW64) AppleWebK...  1562542\n",
      "3  \"Mozilla/5.0 (Macintosh; Intel Mac OS X 10_9_4...  1523670\n",
      "4  \"Mozilla/5.0 (Macintosh; Intel Mac OS X 10_9_4...  1354485\n",
      "5  \"Mozilla/5.0 (Macintosh; Intel Mac OS X 10_9_4...  1290830\n",
      "6  \"Mozilla/5.0 (Macintosh; Intel Mac OS X 10_9_4...  1143199\n",
      "7  Mozilla/5.0 (Macintosh; Intel Mac OS X 10.9; r...  1097003\n",
      "8  \"Mozilla/5.0 (Macintosh; Intel Mac OS X 10_9_4...  1050341\n",
      "9  \"Mozilla/5.0 (Windows NT 6.3; WOW64) AppleWebK...   861096"
     ]
    }
   ],
   "source": [
    "group_agent = spark.sql(\n",
    "    '''\n",
    "    SELECT userAgent, count(*) as count\n",
    "    FROM clean_sql\n",
    "    GROUP BY userAgent\n",
    "    ORDER BY count(*) DESC\n",
    "    LIMIT 10\n",
    "    '''\n",
    ").toPandas()\n",
    "\n",
    "group_agent"
   ]
  },
  {
   "cell_type": "code",
   "execution_count": 50,
   "metadata": {},
   "outputs": [
    {
     "data": {
      "application/vnd.jupyter.widget-view+json": {
       "model_id": "3c73e8b48dcc4b89b705f9457b5a1843",
       "version_major": 2,
       "version_minor": 0
      },
      "text/plain": [
       "VBox()"
      ]
     },
     "metadata": {},
     "output_type": "display_data"
    },
    {
     "data": {
      "application/vnd.jupyter.widget-view+json": {
       "model_id": "",
       "version_major": 2,
       "version_minor": 0
      },
      "text/plain": [
       "FloatProgress(value=0.0, bar_style='info', description='Progress:', layout=Layout(height='25px', width='50%'),…"
      ]
     },
     "metadata": {},
     "output_type": "display_data"
    },
    {
     "data": {
      "image/png": "[encoded data removed]",
      "text/plain": [
       "<IPython.core.display.Image object>"
      ]
     },
     "metadata": {},
     "output_type": "display_data"
    }
   ],
   "source": [
    "plt.figure(figsize=(8,6))\n",
    "sns.barplot(x='userAgent', y='count', data=group_agent)\n",
    "plt.xticks(rotation=90)\n",
    "%matplot plt"
   ]
  },
  {
   "cell_type": "code",
   "execution_count": 40,
   "metadata": {},
   "outputs": [
    {
     "data": {
      "application/vnd.jupyter.widget-view+json": {
       "model_id": "0688f09badcb4d0c8f86927dc4af7a99",
       "version_major": 2,
       "version_minor": 0
      },
      "text/plain": [
       "VBox()"
      ]
     },
     "metadata": {},
     "output_type": "display_data"
    },
    {
     "data": {
      "application/vnd.jupyter.widget-view+json": {
       "model_id": "",
       "version_major": 2,
       "version_minor": 0
      },
      "text/plain": [
       "FloatProgress(value=0.0, bar_style='info', description='Progress:', layout=Layout(height='25px', width='50%'),…"
      ]
     },
     "metadata": {},
     "output_type": "display_data"
    },
    {
     "name": "stdout",
     "output_type": "stream",
     "text": [
      "<function <lambda> at 0x7fefb3f8ebf8>"
     ]
    }
   ],
   "source": [
    "# DataTime Conversion\n",
    "datetime = udf(lambda x: dt.datetime.fromtimestamp(\n",
    "    int(x) / 1000).strftime(\"%Y-%m-%d %H:%M:%S\"))\n",
    "year = udf(lambda x: dt.datetime.fromtimestamp(int(x) / 1000).year)\n",
    "month = udf(lambda x: dt.datetime.fromtimestamp(int(x) / 1000).month)\n",
    "weekday = udf(lambda x: dt.datetime.fromtimestamp(int(x) / 1000).weekday())\n",
    "day = udf(lambda x: dt.datetime.fromtimestamp(int(x) / 1000).day)\n",
    "hour = udf(lambda x: dt.datetime.fromtimestamp(int(x) / 1000).hour)\n",
    "\n",
    "spark.udf.register('datetime', datetime)\n",
    "spark.udf.register('year', year)\n",
    "spark.udf.register('month', month)\n",
    "spark.udf.register('weekday', weekday)\n",
    "spark.udf.register('day', day)\n",
    "spark.udf.register('hour', hour)"
   ]
  },
  {
   "cell_type": "code",
   "execution_count": 41,
   "metadata": {},
   "outputs": [
    {
     "data": {
      "application/vnd.jupyter.widget-view+json": {
       "model_id": "5065868e8ae04b468a86930817010371",
       "version_major": 2,
       "version_minor": 0
      },
      "text/plain": [
       "VBox()"
      ]
     },
     "metadata": {},
     "output_type": "display_data"
    },
    {
     "data": {
      "application/vnd.jupyter.widget-view+json": {
       "model_id": "",
       "version_major": 2,
       "version_minor": 0
      },
      "text/plain": [
       "FloatProgress(value=0.0, bar_style='info', description='Progress:', layout=Layout(height='25px', width='50%'),…"
      ]
     },
     "metadata": {},
     "output_type": "display_data"
    }
   ],
   "source": [
    "datetime_data = spark.sql(\n",
    "    '''\n",
    "    SELECT userId,\n",
    "        datetime(registration) AS datetime_registration,\n",
    "        page,\n",
    "        datetime(ts) AS datetime_page,\n",
    "        CAST(year(ts) AS INT) AS year,\n",
    "        CAST(month(ts) AS INT) AS month,\n",
    "        CAST(weekday(ts) AS INT) AS weekday,\n",
    "        CAST(day(ts) AS INT) AS day,\n",
    "        CAST(hour(ts) AS INT) AS hour\n",
    "    FROM clean_sql\n",
    "    '''\n",
    ")\n",
    "\n",
    "datetime_data.createOrReplaceTempView('datetime_data')"
   ]
  },
  {
   "cell_type": "code",
   "execution_count": 35,
   "metadata": {},
   "outputs": [
    {
     "data": {
      "application/vnd.jupyter.widget-view+json": {
       "model_id": "c1e5485589964d24ac3acce3d35d5aef",
       "version_major": 2,
       "version_minor": 0
      },
      "text/plain": [
       "VBox()"
      ]
     },
     "metadata": {},
     "output_type": "display_data"
    },
    {
     "data": {
      "application/vnd.jupyter.widget-view+json": {
       "model_id": "",
       "version_major": 2,
       "version_minor": 0
      },
      "text/plain": [
       "FloatProgress(value=0.0, bar_style='info', description='Progress:', layout=Layout(height='25px', width='50%'),…"
      ]
     },
     "metadata": {},
     "output_type": "display_data"
    },
    {
     "name": "stdout",
     "output_type": "stream",
     "text": [
      "+-------+---------------------+--------+-------------------+----+-----+-------+---+----+\n",
      "| userId|datetime_registration|    page|      datetime_page|year|month|weekday|day|hour|\n",
      "+-------+---------------------+--------+-------------------+----+-----+-------+---+----+\n",
      "|1749042|  2018-08-08 13:22:21|NextSong|2018-10-01 00:00:01|2018|   10|      0|  1|   0|\n",
      "|1563081|  2018-09-21 03:25:18|NextSong|2018-10-01 00:00:02|2018|   10|      0|  1|   0|\n",
      "|1697168|  2018-09-08 13:48:25|NextSong|2018-10-01 00:00:02|2018|   10|      0|  1|   0|\n",
      "|1222580|  2018-08-16 02:31:00|NextSong|2018-10-01 00:00:03|2018|   10|      0|  1|   0|\n",
      "|1714398|  2018-09-19 18:23:35|NextSong|2018-10-01 00:00:03|2018|   10|      0|  1|   0|\n",
      "|1010522|  2018-09-22 07:49:20|NextSong|2018-10-01 00:00:04|2018|   10|      0|  1|   0|\n",
      "|1475659|  2018-09-10 07:17:33|NextSong|2018-10-01 00:00:05|2018|   10|      0|  1|   0|\n",
      "|1465194|  2018-09-27 17:29:36|NextSong|2018-10-01 00:00:06|2018|   10|      0|  1|   0|\n",
      "|1558463|  2018-09-09 01:12:19|NextSong|2018-10-01 00:00:06|2018|   10|      0|  1|   0|\n",
      "|1605667|  2018-08-02 14:27:42|NextSong|2018-10-01 00:00:06|2018|   10|      0|  1|   0|\n",
      "|1385500|  2018-08-16 04:30:35|NextSong|2018-10-01 00:00:06|2018|   10|      0|  1|   0|\n",
      "|1032628|  2018-09-22 12:15:45|NextSong|2018-10-01 00:00:06|2018|   10|      0|  1|   0|\n",
      "|1901081|  2018-09-25 09:45:58|NextSong|2018-10-01 00:00:07|2018|   10|      0|  1|   0|\n",
      "|1611729|  2018-08-18 23:38:33|NextSong|2018-10-01 00:00:07|2018|   10|      0|  1|   0|\n",
      "|1497881|  2018-07-17 08:52:52|NextSong|2018-10-01 00:00:08|2018|   10|      0|  1|   0|\n",
      "|1413952|  2018-06-14 08:27:29|NextSong|2018-10-01 00:00:08|2018|   10|      0|  1|   0|\n",
      "|1585800|  2018-09-12 14:07:20|NextSong|2018-10-01 00:00:08|2018|   10|      0|  1|   0|\n",
      "|1009070|  2018-09-24 11:58:56|    Home|2018-10-01 00:00:08|2018|   10|      0|  1|   0|\n",
      "|1041334|  2018-08-14 03:31:30|NextSong|2018-10-01 00:00:10|2018|   10|      0|  1|   0|\n",
      "|1526624|  2018-09-11 19:11:24|NextSong|2018-10-01 00:00:10|2018|   10|      0|  1|   0|\n",
      "+-------+---------------------+--------+-------------------+----+-----+-------+---+----+\n",
      "only showing top 20 rows"
     ]
    }
   ],
   "source": [
    "datetime_data.show()"
   ]
  },
  {
   "cell_type": "code",
   "execution_count": 52,
   "metadata": {},
   "outputs": [
    {
     "data": {
      "application/vnd.jupyter.widget-view+json": {
       "model_id": "593f162f62dd4b77970c4c1d06e1ef4a",
       "version_major": 2,
       "version_minor": 0
      },
      "text/plain": [
       "VBox()"
      ]
     },
     "metadata": {},
     "output_type": "display_data"
    },
    {
     "data": {
      "application/vnd.jupyter.widget-view+json": {
       "model_id": "",
       "version_major": 2,
       "version_minor": 0
      },
      "text/plain": [
       "FloatProgress(value=0.0, bar_style='info', description='Progress:', layout=Layout(height='25px', width='50%'),…"
      ]
     },
     "metadata": {},
     "output_type": "display_data"
    },
    {
     "name": "stdout",
     "output_type": "stream",
     "text": [
      "   year     count\n",
      "0  2018  25480720"
     ]
    }
   ],
   "source": [
    "group_year = spark.sql(\n",
    "    '''\n",
    "    SELECT year, COUNT(*) AS count\n",
    "    FROM datetime_data\n",
    "    GROUP BY year\n",
    "    '''\n",
    ").toPandas()\n",
    "\n",
    "group_year"
   ]
  },
  {
   "cell_type": "code",
   "execution_count": 53,
   "metadata": {},
   "outputs": [
    {
     "data": {
      "application/vnd.jupyter.widget-view+json": {
       "model_id": "ca817821256d47cbac9b32962b6398db",
       "version_major": 2,
       "version_minor": 0
      },
      "text/plain": [
       "VBox()"
      ]
     },
     "metadata": {},
     "output_type": "display_data"
    },
    {
     "data": {
      "application/vnd.jupyter.widget-view+json": {
       "model_id": "",
       "version_major": 2,
       "version_minor": 0
      },
      "text/plain": [
       "FloatProgress(value=0.0, bar_style='info', description='Progress:', layout=Layout(height='25px', width='50%'),…"
      ]
     },
     "metadata": {},
     "output_type": "display_data"
    },
    {
     "name": "stdout",
     "output_type": "stream",
     "text": [
      "   month     count\n",
      "0     12         2\n",
      "1     10  13634815\n",
      "2     11  11845903"
     ]
    }
   ],
   "source": [
    "group_month = spark.sql(\n",
    "    '''\n",
    "    SELECT month, COUNT(*) AS count\n",
    "    FROM datetime_data\n",
    "    GROUP BY month\n",
    "    '''\n",
    ").toPandas()\n",
    "\n",
    "group_month"
   ]
  },
  {
   "cell_type": "code",
   "execution_count": 54,
   "metadata": {},
   "outputs": [
    {
     "data": {
      "application/vnd.jupyter.widget-view+json": {
       "model_id": "b23781c896504ab1a82a5f8b858ad1ce",
       "version_major": 2,
       "version_minor": 0
      },
      "text/plain": [
       "VBox()"
      ]
     },
     "metadata": {},
     "output_type": "display_data"
    },
    {
     "data": {
      "application/vnd.jupyter.widget-view+json": {
       "model_id": "",
       "version_major": 2,
       "version_minor": 0
      },
      "text/plain": [
       "FloatProgress(value=0.0, bar_style='info', description='Progress:', layout=Layout(height='25px', width='50%'),…"
      ]
     },
     "metadata": {},
     "output_type": "display_data"
    },
    {
     "data": {
      "image/png": "[encoded data removed]",
      "text/plain": [
       "<IPython.core.display.Image object>"
      ]
     },
     "metadata": {},
     "output_type": "display_data"
    }
   ],
   "source": [
    "plt.figure(figsize=(8,6))\n",
    "sns.barplot(x='month', y='count', data=group_month)\n",
    "%matplot plt"
   ]
  },
  {
   "cell_type": "code",
   "execution_count": 55,
   "metadata": {},
   "outputs": [
    {
     "data": {
      "application/vnd.jupyter.widget-view+json": {
       "model_id": "a4a8f3825f3a476d961897bc0aebb840",
       "version_major": 2,
       "version_minor": 0
      },
      "text/plain": [
       "VBox()"
      ]
     },
     "metadata": {},
     "output_type": "display_data"
    },
    {
     "data": {
      "application/vnd.jupyter.widget-view+json": {
       "model_id": "",
       "version_major": 2,
       "version_minor": 0
      },
      "text/plain": [
       "FloatProgress(value=0.0, bar_style='info', description='Progress:', layout=Layout(height='25px', width='50%'),…"
      ]
     },
     "metadata": {},
     "output_type": "display_data"
    },
    {
     "name": "stdout",
     "output_type": "stream",
     "text": [
      "   weekday    count\n",
      "0        1  4337607\n",
      "1        6  2136466\n",
      "2        3  4157780\n",
      "3        5  2451715\n",
      "4        4  4207911\n",
      "5        2  4277530\n",
      "6        0  3911711"
     ]
    }
   ],
   "source": [
    "group_weekday = spark.sql(\n",
    "    '''\n",
    "    SELECT weekday, COUNT(*) AS count\n",
    "    FROM datetime_data\n",
    "    GROUP BY weekday\n",
    "    '''\n",
    ").toPandas()\n",
    "\n",
    "group_weekday"
   ]
  },
  {
   "cell_type": "code",
   "execution_count": 56,
   "metadata": {},
   "outputs": [
    {
     "data": {
      "application/vnd.jupyter.widget-view+json": {
       "model_id": "f6449fd1efce419f953df2187599f936",
       "version_major": 2,
       "version_minor": 0
      },
      "text/plain": [
       "VBox()"
      ]
     },
     "metadata": {},
     "output_type": "display_data"
    },
    {
     "data": {
      "application/vnd.jupyter.widget-view+json": {
       "model_id": "",
       "version_major": 2,
       "version_minor": 0
      },
      "text/plain": [
       "FloatProgress(value=0.0, bar_style='info', description='Progress:', layout=Layout(height='25px', width='50%'),…"
      ]
     },
     "metadata": {},
     "output_type": "display_data"
    },
    {
     "data": {
      "image/png": "[encoded data removed]",
      "text/plain": [
       "<IPython.core.display.Image object>"
      ]
     },
     "metadata": {},
     "output_type": "display_data"
    }
   ],
   "source": [
    "plt.figure(figsize=(8,6))\n",
    "sns.barplot(x='weekday', y='count', data=group_weekday)\n",
    "%matplot plt"
   ]
  },
  {
   "cell_type": "code",
   "execution_count": 57,
   "metadata": {},
   "outputs": [
    {
     "data": {
      "application/vnd.jupyter.widget-view+json": {
       "model_id": "edf47edeeb084b258ab81f1b84814fb0",
       "version_major": 2,
       "version_minor": 0
      },
      "text/plain": [
       "VBox()"
      ]
     },
     "metadata": {},
     "output_type": "display_data"
    },
    {
     "data": {
      "application/vnd.jupyter.widget-view+json": {
       "model_id": "",
       "version_major": 2,
       "version_minor": 0
      },
      "text/plain": [
       "FloatProgress(value=0.0, bar_style='info', description='Progress:', layout=Layout(height='25px', width='50%'),…"
      ]
     },
     "metadata": {},
     "output_type": "display_data"
    },
    {
     "name": "stdout",
     "output_type": "stream",
     "text": [
      "    day   count\n",
      "0    31  483206\n",
      "1    28  716307\n",
      "2    26  887465\n",
      "3    27  757380\n",
      "4    12  923531\n",
      "5    22  744768\n",
      "6     1  905920\n",
      "7    13  801174\n",
      "8    16  957956\n",
      "9     6  780820\n",
      "10    3  774471\n",
      "11   20  775770\n",
      "12    5  909075\n",
      "13   19  922196\n",
      "14   15  930703\n",
      "15    9  969296\n",
      "16   17  785660\n",
      "17    4  768329\n",
      "18    8  937236\n",
      "19   23  885210\n",
      "20    7  754408\n",
      "21   10  810367\n",
      "22   25  755094\n",
      "23   24  769486\n",
      "24   29  882251\n",
      "25   21  733207\n",
      "26   11  774531\n",
      "27   14  737335\n",
      "28    2  951825\n",
      "29   30  934749\n",
      "30   18  760994"
     ]
    }
   ],
   "source": [
    "group_day = spark.sql(\n",
    "    '''\n",
    "    SELECT day, COUNT(*) AS count\n",
    "    FROM datetime_data\n",
    "    GROUP BY day\n",
    "    '''\n",
    ").toPandas()\n",
    "\n",
    "group_day"
   ]
  },
  {
   "cell_type": "code",
   "execution_count": 58,
   "metadata": {},
   "outputs": [
    {
     "data": {
      "application/vnd.jupyter.widget-view+json": {
       "model_id": "cdcce2e9edf346fb9f92141f43f030b5",
       "version_major": 2,
       "version_minor": 0
      },
      "text/plain": [
       "VBox()"
      ]
     },
     "metadata": {},
     "output_type": "display_data"
    },
    {
     "data": {
      "application/vnd.jupyter.widget-view+json": {
       "model_id": "",
       "version_major": 2,
       "version_minor": 0
      },
      "text/plain": [
       "FloatProgress(value=0.0, bar_style='info', description='Progress:', layout=Layout(height='25px', width='50%'),…"
      ]
     },
     "metadata": {},
     "output_type": "display_data"
    },
    {
     "data": {
      "image/png": "[encoded data removed]",
      "text/plain": [
       "<IPython.core.display.Image object>"
      ]
     },
     "metadata": {},
     "output_type": "display_data"
    }
   ],
   "source": [
    "plt.figure(figsize=(8,6))\n",
    "sns.barplot(x='day', y='count', data=group_day)\n",
    "%matplot plt"
   ]
  },
  {
   "cell_type": "code",
   "execution_count": 59,
   "metadata": {},
   "outputs": [
    {
     "data": {
      "application/vnd.jupyter.widget-view+json": {
       "model_id": "a284804b941c4a4b83dc37f2691d9939",
       "version_major": 2,
       "version_minor": 0
      },
      "text/plain": [
       "VBox()"
      ]
     },
     "metadata": {},
     "output_type": "display_data"
    },
    {
     "data": {
      "application/vnd.jupyter.widget-view+json": {
       "model_id": "",
       "version_major": 2,
       "version_minor": 0
      },
      "text/plain": [
       "FloatProgress(value=0.0, bar_style='info', description='Progress:', layout=Layout(height='25px', width='50%'),…"
      ]
     },
     "metadata": {},
     "output_type": "display_data"
    },
    {
     "name": "stdout",
     "output_type": "stream",
     "text": [
      "    hour    count\n",
      "0     12  1015827\n",
      "1     22  1106403\n",
      "2      1   992383\n",
      "3     13  1081852\n",
      "4      6   900705\n",
      "5     16  1312286\n",
      "6      3   941090\n",
      "7     20  1200570\n",
      "8      5   909821\n",
      "9     19  1247841\n",
      "10    15  1263211\n",
      "11     9   911252\n",
      "12    17  1311277\n",
      "13     4   922020\n",
      "14     8   900843\n",
      "15    23  1068772\n",
      "16     7   896542\n",
      "17    10   932124\n",
      "18    21  1151161\n",
      "19    11   968600\n",
      "20    14  1169349\n",
      "21     2   963701\n",
      "22     0  1025229\n",
      "23    18  1287861"
     ]
    }
   ],
   "source": [
    "group_hour = spark.sql(\n",
    "    '''\n",
    "    SELECT hour, COUNT(*) AS count\n",
    "    FROM datetime_data\n",
    "    GROUP BY hour\n",
    "    '''\n",
    ").toPandas()\n",
    "\n",
    "group_hour"
   ]
  },
  {
   "cell_type": "code",
   "execution_count": 60,
   "metadata": {},
   "outputs": [
    {
     "data": {
      "application/vnd.jupyter.widget-view+json": {
       "model_id": "fea8fbab2a26410ab223d89baae1d5db",
       "version_major": 2,
       "version_minor": 0
      },
      "text/plain": [
       "VBox()"
      ]
     },
     "metadata": {},
     "output_type": "display_data"
    },
    {
     "data": {
      "application/vnd.jupyter.widget-view+json": {
       "model_id": "",
       "version_major": 2,
       "version_minor": 0
      },
      "text/plain": [
       "FloatProgress(value=0.0, bar_style='info', description='Progress:', layout=Layout(height='25px', width='50%'),…"
      ]
     },
     "metadata": {},
     "output_type": "display_data"
    },
    {
     "data": {
      "image/png": "[encoded data removed]",
      "text/plain": [
       "<IPython.core.display.Image object>"
      ]
     },
     "metadata": {},
     "output_type": "display_data"
    }
   ],
   "source": [
    "plt.figure(figsize=(8,6))\n",
    "sns.barplot(x='hour', y='count', data=group_hour)\n",
    "%matplot plt"
   ]
  },
  {
   "cell_type": "code",
   "execution_count": 32,
   "metadata": {},
   "outputs": [
    {
     "data": {
      "application/vnd.jupyter.widget-view+json": {
       "model_id": "503475959ec0429eb3163b84584009b6",
       "version_major": 2,
       "version_minor": 0
      },
      "text/plain": [
       "VBox()"
      ]
     },
     "metadata": {},
     "output_type": "display_data"
    },
    {
     "data": {
      "application/vnd.jupyter.widget-view+json": {
       "model_id": "",
       "version_major": 2,
       "version_minor": 0
      },
      "text/plain": [
       "FloatProgress(value=0.0, bar_style='info', description='Progress:', layout=Layout(height='25px', width='50%'),…"
      ]
     },
     "metadata": {},
     "output_type": "display_data"
    }
   ],
   "source": [
    "# Find Cancellation and mark churn\n",
    "churn_sql = spark.sql(\n",
    "    '''\n",
    "    SELECT u.*,\n",
    "        (CASE WHEN c.userId IS null THEN 0\n",
    "              ELSE 1\n",
    "         END) AS churn\n",
    "    FROM clean_sql AS u\n",
    "    LEFT JOIN \n",
    "    (SELECT userId \n",
    "     FROM clean_sql\n",
    "     WHERE page = 'Cancellation Confirmation') AS c\n",
    "    ON u.userId = c.userId\n",
    "    '''\n",
    ")\n",
    "\n",
    "churn_sql.createOrReplaceTempView('churn_sql')"
   ]
  },
  {
   "cell_type": "code",
   "execution_count": 29,
   "metadata": {},
   "outputs": [
    {
     "data": {
      "application/vnd.jupyter.widget-view+json": {
       "model_id": "a5f40f034a4b46baaebde641c39b6f90",
       "version_major": 2,
       "version_minor": 0
      },
      "text/plain": [
       "VBox()"
      ]
     },
     "metadata": {},
     "output_type": "display_data"
    },
    {
     "data": {
      "application/vnd.jupyter.widget-view+json": {
       "model_id": "",
       "version_major": 2,
       "version_minor": 0
      },
      "text/plain": [
       "FloatProgress(value=0.0, bar_style='info', description='Progress:', layout=Layout(height='25px', width='50%'),…"
      ]
     },
     "metadata": {},
     "output_type": "display_data"
    },
    {
     "name": "stdout",
     "output_type": "stream",
     "text": [
      "+--------------------+---------+---------+------+-------------+--------+---------+-----+-----------+------+-----------+-------------+---------+--------------------+------+-------------+--------------------+-------+-----+\n",
      "|              artist|     auth|firstName|gender|itemInSession|lastName|   length|level|   location|method|       page| registration|sessionId|                song|status|           ts|           userAgent| userId|churn|\n",
      "+--------------------+---------+---------+------+-------------+--------+---------+-----+-----------+------+-----------+-------------+---------+--------------------+------+-------------+--------------------+-------+-----+\n",
      "|       The Maccabees|Logged In|    Frank|     M|            0|  Warren| 45.34812| free|Findlay, OH|   PUT|   NextSong|1535470939000|     6221|   Diamond Solitaire|   200|1538650776000|Mozilla/5.0 (Wind...|1000280|    1|\n",
      "|       Tiziano Ferro|Logged In|    Frank|     M|            1|  Warren|226.53342| free|Findlay, OH|   PUT|   NextSong|1535470939000|     6221|     Stop! Dimentica|   200|1538650821000|Mozilla/5.0 (Wind...|1000280|    1|\n",
      "|                null|Logged In|    Frank|     M|            2|  Warren|     null| free|Findlay, OH|   PUT|Thumbs Down|1535470939000|     6221|                null|   307|1538650822000|Mozilla/5.0 (Wind...|1000280|    1|\n",
      "|  DAVE MATTHEWS BAND|Logged In|    Frank|     M|            3|  Warren|397.34812| free|Findlay, OH|   PUT|   NextSong|1535470939000|     6221|          Corn Bread|   200|1538651047000|Mozilla/5.0 (Wind...|1000280|    1|\n",
      "|        Jason Derulo|Logged In|    Frank|     M|            4|  Warren|222.61506| free|Findlay, OH|   PUT|   NextSong|1535470939000|     6221|         Whatcha Say|   200|1538651444000|Mozilla/5.0 (Wind...|1000280|    1|\n",
      "|          John Mayer|Logged In|    Frank|     M|            5|  Warren|269.71383| free|Findlay, OH|   PUT|   NextSong|1535470939000|     6221|  Heartbreak Warfare|   200|1538651666000|Mozilla/5.0 (Wind...|1000280|    1|\n",
      "|      The Black Keys|Logged In|    Frank|     M|            6|  Warren|156.18567| free|Findlay, OH|   PUT|   NextSong|1535470939000|     6221|         Heavy Soul |   200|1538651935000|Mozilla/5.0 (Wind...|1000280|    1|\n",
      "|The All-American ...|Logged In|    Frank|     M|            7|  Warren|194.55955| free|Findlay, OH|   PUT|   NextSong|1535470939000|     6221| Dirty Little Secret|   200|1538652091000|Mozilla/5.0 (Wind...|1000280|    1|\n",
      "|HÃÂ©roes del Sil...|Logged In|    Frank|     M|            8|  Warren| 248.2673| free|Findlay, OH|   PUT|   NextSong|1535470939000|     6221|       Flor Venenosa|   200|1538652285000|Mozilla/5.0 (Wind...|1000280|    1|\n",
      "|          Bad Brains|Logged In|    Frank|     M|            9|  Warren| 67.39546| free|Findlay, OH|   PUT|   NextSong|1535470939000|     6221|              F.V.K.|   200|1538652533000|Mozilla/5.0 (Wind...|1000280|    1|\n",
      "|        Dan Auerbach|Logged In|    Frank|     M|           10|  Warren|201.24689| free|Findlay, OH|   PUT|   NextSong|1535470939000|     6221|Heartbroken_ In D...|   200|1538652600000|Mozilla/5.0 (Wind...|1000280|    1|\n",
      "|                null|Logged In|    Frank|     M|           11|  Warren|     null| free|Findlay, OH|   GET|      Error|1535470939000|     6221|                null|   404|1538652835000|Mozilla/5.0 (Wind...|1000280|    1|\n",
      "|     Close Your Eyes|Logged In|    Frank|     M|           12|  Warren|249.75628| free|Findlay, OH|   PUT|   NextSong|1535470939000|     6221| Song For The Broken|   200|1538652995000|Mozilla/5.0 (Wind...|1000280|    1|\n",
      "|     Crystal Castles|Logged In|    Frank|     M|           13|  Warren|162.76853| free|Findlay, OH|   PUT|   NextSong|1535470939000|     6221|      Alice Practise|   200|1538653244000|Mozilla/5.0 (Wind...|1000280|    1|\n",
      "|Michael Learns To...|Logged In|    Frank|     M|           14|  Warren|195.13424| free|Findlay, OH|   PUT|   NextSong|1535470939000|     6221|       Laugh And Cry|   200|1538653406000|Mozilla/5.0 (Wind...|1000280|    1|\n",
      "|          Kevin Kern|Logged In|    Frank|     M|           15|  Warren|265.09016| free|Findlay, OH|   PUT|   NextSong|1535470939000|     6221|       Hide And Seek|   200|1538653601000|Mozilla/5.0 (Wind...|1000280|    1|\n",
      "|Florence + The Ma...|Logged In|    Frank|     M|           16|  Warren|168.64608| free|Findlay, OH|   PUT|   NextSong|1535470939000|     6221| You've Got The Love|   200|1538653866000|Mozilla/5.0 (Wind...|1000280|    1|\n",
      "|                null|Logged In|    Frank|     M|           17|  Warren|     null| free|Findlay, OH|   GET|Roll Advert|1535470939000|     6221|                null|   200|1538653960000|Mozilla/5.0 (Wind...|1000280|    1|\n",
      "|    Michael BublÃÂ©|Logged In|    Frank|     M|           18|  Warren|188.00281| free|Findlay, OH|   PUT|   NextSong|1535470939000|     6221|Sway (Album Version)|   200|1538654034000|Mozilla/5.0 (Wind...|1000280|    1|\n",
      "|  The Rolling Stones|Logged In|    Frank|     M|           19|  Warren|270.88934| free|Findlay, OH|   PUT|   NextSong|1535470939000|     6221|               Angie|   200|1538654222000|Mozilla/5.0 (Wind...|1000280|    1|\n",
      "+--------------------+---------+---------+------+-------------+--------+---------+-----+-----------+------+-----------+-------------+---------+--------------------+------+-------------+--------------------+-------+-----+\n",
      "only showing top 20 rows"
     ]
    }
   ],
   "source": [
    "churn_sql.show()"
   ]
  },
  {
   "cell_type": "code",
   "execution_count": 33,
   "metadata": {},
   "outputs": [
    {
     "data": {
      "application/vnd.jupyter.widget-view+json": {
       "model_id": "1dce433591074915ac9f6628b81aec51",
       "version_major": 2,
       "version_minor": 0
      },
      "text/plain": [
       "VBox()"
      ]
     },
     "metadata": {},
     "output_type": "display_data"
    },
    {
     "data": {
      "application/vnd.jupyter.widget-view+json": {
       "model_id": "",
       "version_major": 2,
       "version_minor": 0
      },
      "text/plain": [
       "FloatProgress(value=0.0, bar_style='info', description='Progress:', layout=Layout(height='25px', width='50%'),…"
      ]
     },
     "metadata": {},
     "output_type": "display_data"
    },
    {
     "name": "stdout",
     "output_type": "stream",
     "text": [
      "+-----+-----+\n",
      "|churn|count|\n",
      "+-----+-----+\n",
      "|    1| 5003|\n",
      "|    0|17274|\n",
      "+-----+-----+"
     ]
    }
   ],
   "source": [
    "# Explore Churn\n",
    "spark.sql(\n",
    "    '''\n",
    "    SELECT churn, count(DISTINCT userId) as count\n",
    "    FROM churn_sql\n",
    "    GROUP BY churn\n",
    "    '''\n",
    ").show()"
   ]
  },
  {
   "cell_type": "code",
   "execution_count": 34,
   "metadata": {},
   "outputs": [
    {
     "data": {
      "application/vnd.jupyter.widget-view+json": {
       "model_id": "e86fc6a4158142c78e7715802f1c0fd4",
       "version_major": 2,
       "version_minor": 0
      },
      "text/plain": [
       "VBox()"
      ]
     },
     "metadata": {},
     "output_type": "display_data"
    },
    {
     "data": {
      "application/vnd.jupyter.widget-view+json": {
       "model_id": "",
       "version_major": 2,
       "version_minor": 0
      },
      "text/plain": [
       "FloatProgress(value=0.0, bar_style='info', description='Progress:', layout=Layout(height='25px', width='50%'),…"
      ]
     },
     "metadata": {},
     "output_type": "display_data"
    }
   ],
   "source": [
    "# total_activity\n",
    "total_activity = spark.sql(\n",
    "    '''\n",
    "    SELECT a.userId, a.total_activity, c.churn\n",
    "    FROM (SELECT userId, COUNT(*) AS total_activity\n",
    "          FROM clean_sql\n",
    "          GROUP BY userId) AS a\n",
    "    JOIN (SELECT userId, max(churn) as churn\n",
    "               FROM churn_sql\n",
    "               GROUP BY userId) as c\n",
    "    ON a.userId=c.userId\n",
    "    '''\n",
    ")"
   ]
  },
  {
   "cell_type": "code",
   "execution_count": 35,
   "metadata": {},
   "outputs": [
    {
     "data": {
      "application/vnd.jupyter.widget-view+json": {
       "model_id": "e735c2f40815408eb784b63c8b683dbc",
       "version_major": 2,
       "version_minor": 0
      },
      "text/plain": [
       "VBox()"
      ]
     },
     "metadata": {},
     "output_type": "display_data"
    },
    {
     "data": {
      "application/vnd.jupyter.widget-view+json": {
       "model_id": "",
       "version_major": 2,
       "version_minor": 0
      },
      "text/plain": [
       "FloatProgress(value=0.0, bar_style='info', description='Progress:', layout=Layout(height='25px', width='50%'),…"
      ]
     },
     "metadata": {},
     "output_type": "display_data"
    },
    {
     "name": "stdout",
     "output_type": "stream",
     "text": [
      "        userId  total_activity  churn\n",
      "0      1000280            1317      1\n",
      "1      1002185            2080      0\n",
      "2      1017805             320      0\n",
      "3      1030587            1752      0\n",
      "4      1033297             299      0\n",
      "...        ...             ...    ...\n",
      "22272  1930015            1184      0\n",
      "22273  1955029             567      0\n",
      "22274  1960992             120      0\n",
      "22275  1977992             668      0\n",
      "22276  1981978             219      1\n",
      "\n",
      "[22277 rows x 3 columns]"
     ]
    }
   ],
   "source": [
    "# churn=0 tends to have less activities\n",
    "total_activity_df = total_activity.toPandas()\n",
    "total_activity_df"
   ]
  },
  {
   "cell_type": "code",
   "execution_count": 37,
   "metadata": {},
   "outputs": [
    {
     "data": {
      "application/vnd.jupyter.widget-view+json": {
       "model_id": "a7ddf58c8ee24171b237c3a1109ab8d4",
       "version_major": 2,
       "version_minor": 0
      },
      "text/plain": [
       "VBox()"
      ]
     },
     "metadata": {},
     "output_type": "display_data"
    },
    {
     "data": {
      "application/vnd.jupyter.widget-view+json": {
       "model_id": "",
       "version_major": 2,
       "version_minor": 0
      },
      "text/plain": [
       "FloatProgress(value=0.0, bar_style='info', description='Progress:', layout=Layout(height='25px', width='50%'),…"
      ]
     },
     "metadata": {},
     "output_type": "display_data"
    },
    {
     "data": {
      "image/png": "[encoded data removed]",
      "text/plain": [
       "<IPython.core.display.Image object>"
      ]
     },
     "metadata": {},
     "output_type": "display_data"
    }
   ],
   "source": [
    "plt.figure(figsize=(8,6))\n",
    "sns.distplot(\n",
    "    total_activity_df[total_activity_df['churn'] == 0]['total_activity'],label='churn=0')\n",
    "sns.distplot(\n",
    "    total_activity_df[total_activity_df['churn'] == 1]['total_activity'],label='churn=1')\n",
    "plt.legend()\n",
    "%matplot plt"
   ]
  },
  {
   "cell_type": "code",
   "execution_count": 27,
   "metadata": {},
   "outputs": [
    {
     "data": {
      "application/vnd.jupyter.widget-view+json": {
       "model_id": "17392d2ca48748b8aaabf1babff9bf02",
       "version_major": 2,
       "version_minor": 0
      },
      "text/plain": [
       "VBox()"
      ]
     },
     "metadata": {},
     "output_type": "display_data"
    },
    {
     "data": {
      "application/vnd.jupyter.widget-view+json": {
       "model_id": "",
       "version_major": 2,
       "version_minor": 0
      },
      "text/plain": [
       "FloatProgress(value=0.0, bar_style='info', description='Progress:', layout=Layout(height='25px', width='50%'),…"
      ]
     },
     "metadata": {},
     "output_type": "display_data"
    }
   ],
   "source": [
    "total_activity.createOrReplaceTempView('total_activity')"
   ]
  },
  {
   "cell_type": "code",
   "execution_count": 67,
   "metadata": {},
   "outputs": [
    {
     "data": {
      "application/vnd.jupyter.widget-view+json": {
       "model_id": "c3ae1820a12a4d9981edb7211219025a",
       "version_major": 2,
       "version_minor": 0
      },
      "text/plain": [
       "VBox()"
      ]
     },
     "metadata": {},
     "output_type": "display_data"
    },
    {
     "data": {
      "application/vnd.jupyter.widget-view+json": {
       "model_id": "",
       "version_major": 2,
       "version_minor": 0
      },
      "text/plain": [
       "FloatProgress(value=0.0, bar_style='info', description='Progress:', layout=Layout(height='25px', width='50%'),…"
      ]
     },
     "metadata": {},
     "output_type": "display_data"
    },
    {
     "name": "stdout",
     "output_type": "stream",
     "text": [
      "   churn       auth  count\n",
      "0      1  Cancelled   5003\n",
      "1      0  Logged In  17274\n",
      "2      1  Logged In   5003"
     ]
    }
   ],
   "source": [
    "# Churn * Auth\n",
    "\n",
    "churn_auth = spark.sql(\n",
    "    '''\n",
    "    SELECT churn, auth, count(DISTINCT userId) as count\n",
    "    FROM churn_sql\n",
    "    GROUP BY churn, auth\n",
    "    '''\n",
    ").toPandas()\n",
    "\n",
    "churn_auth"
   ]
  },
  {
   "cell_type": "code",
   "execution_count": 68,
   "metadata": {},
   "outputs": [
    {
     "data": {
      "application/vnd.jupyter.widget-view+json": {
       "model_id": "ddf6008885ef40c4b33bfdf443ddabed",
       "version_major": 2,
       "version_minor": 0
      },
      "text/plain": [
       "VBox()"
      ]
     },
     "metadata": {},
     "output_type": "display_data"
    },
    {
     "data": {
      "application/vnd.jupyter.widget-view+json": {
       "model_id": "",
       "version_major": 2,
       "version_minor": 0
      },
      "text/plain": [
       "FloatProgress(value=0.0, bar_style='info', description='Progress:', layout=Layout(height='25px', width='50%'),…"
      ]
     },
     "metadata": {},
     "output_type": "display_data"
    },
    {
     "data": {
      "image/png": "[encoded data removed]",
      "text/plain": [
       "<IPython.core.display.Image object>"
      ]
     },
     "metadata": {},
     "output_type": "display_data"
    }
   ],
   "source": [
    "# churn users never cancel login\n",
    "plt.figure(figsize=(8,6))\n",
    "sns.barplot(x='auth', y='count', hue='churn', data=churn_auth)\n",
    "%matplot plt"
   ]
  },
  {
   "cell_type": "code",
   "execution_count": 69,
   "metadata": {},
   "outputs": [
    {
     "data": {
      "application/vnd.jupyter.widget-view+json": {
       "model_id": "2ba8def24af941a99dc0eca7eef8157f",
       "version_major": 2,
       "version_minor": 0
      },
      "text/plain": [
       "VBox()"
      ]
     },
     "metadata": {},
     "output_type": "display_data"
    },
    {
     "data": {
      "application/vnd.jupyter.widget-view+json": {
       "model_id": "",
       "version_major": 2,
       "version_minor": 0
      },
      "text/plain": [
       "FloatProgress(value=0.0, bar_style='info', description='Progress:', layout=Layout(height='25px', width='50%'),…"
      ]
     },
     "metadata": {},
     "output_type": "display_data"
    },
    {
     "name": "stdout",
     "output_type": "stream",
     "text": [
      "   churn gender  count\n",
      "0      1      F   2347\n",
      "1      0      M   8995\n",
      "2      1      M   2656\n",
      "3      0      F   8279"
     ]
    }
   ],
   "source": [
    "# churn * gender\n",
    "churn_gender = spark.sql(\n",
    "    '''\n",
    "    SELECT churn, gender, count(DISTINCT userId) as count\n",
    "    FROM churn_sql\n",
    "    GROUP BY churn, gender\n",
    "    '''\n",
    ").toPandas()\n",
    "\n",
    "churn_gender"
   ]
  },
  {
   "cell_type": "code",
   "execution_count": 70,
   "metadata": {},
   "outputs": [
    {
     "data": {
      "application/vnd.jupyter.widget-view+json": {
       "model_id": "f8151480d9744252b98f27c692e11e66",
       "version_major": 2,
       "version_minor": 0
      },
      "text/plain": [
       "VBox()"
      ]
     },
     "metadata": {},
     "output_type": "display_data"
    },
    {
     "data": {
      "application/vnd.jupyter.widget-view+json": {
       "model_id": "",
       "version_major": 2,
       "version_minor": 0
      },
      "text/plain": [
       "FloatProgress(value=0.0, bar_style='info', description='Progress:', layout=Layout(height='25px', width='50%'),…"
      ]
     },
     "metadata": {},
     "output_type": "display_data"
    },
    {
     "data": {
      "image/png": "[encoded data removed]",
      "text/plain": [
       "<IPython.core.display.Image object>"
      ]
     },
     "metadata": {},
     "output_type": "display_data"
    }
   ],
   "source": [
    "# Man cancels more that woman\n",
    "plt.figure(figsize=(8,6))\n",
    "sns.barplot(x='gender', y='count', hue='churn', data=churn_gender)\n",
    "%matplot plt"
   ]
  },
  {
   "cell_type": "code",
   "execution_count": 71,
   "metadata": {},
   "outputs": [
    {
     "data": {
      "application/vnd.jupyter.widget-view+json": {
       "model_id": "79c370e0283c4ab5830ac328ba11621a",
       "version_major": 2,
       "version_minor": 0
      },
      "text/plain": [
       "VBox()"
      ]
     },
     "metadata": {},
     "output_type": "display_data"
    },
    {
     "data": {
      "application/vnd.jupyter.widget-view+json": {
       "model_id": "",
       "version_major": 2,
       "version_minor": 0
      },
      "text/plain": [
       "FloatProgress(value=0.0, bar_style='info', description='Progress:', layout=Layout(height='25px', width='50%'),…"
      ]
     },
     "metadata": {},
     "output_type": "display_data"
    },
    {
     "name": "stdout",
     "output_type": "stream",
     "text": [
      "   churn level  count\n",
      "0      0  free  14645\n",
      "1      0  paid  12293\n",
      "2      1  paid   3891\n",
      "3      1  free   4147"
     ]
    }
   ],
   "source": [
    "# churn * gender\n",
    "churn_level = spark.sql(\n",
    "    '''\n",
    "    SELECT churn, level, count(DISTINCT userId) as count\n",
    "    FROM churn_sql\n",
    "    GROUP BY churn, level\n",
    "    '''\n",
    ").toPandas()\n",
    "\n",
    "churn_level"
   ]
  },
  {
   "cell_type": "code",
   "execution_count": 72,
   "metadata": {},
   "outputs": [
    {
     "data": {
      "application/vnd.jupyter.widget-view+json": {
       "model_id": "aa47549957834e45a86ff69127b4ddb2",
       "version_major": 2,
       "version_minor": 0
      },
      "text/plain": [
       "VBox()"
      ]
     },
     "metadata": {},
     "output_type": "display_data"
    },
    {
     "data": {
      "application/vnd.jupyter.widget-view+json": {
       "model_id": "",
       "version_major": 2,
       "version_minor": 0
      },
      "text/plain": [
       "FloatProgress(value=0.0, bar_style='info', description='Progress:', layout=Layout(height='25px', width='50%'),…"
      ]
     },
     "metadata": {},
     "output_type": "display_data"
    },
    {
     "data": {
      "image/png": "[encoded data removed]",
      "text/plain": [
       "<IPython.core.display.Image object>"
      ]
     },
     "metadata": {},
     "output_type": "display_data"
    }
   ],
   "source": [
    "# Free users are easier to quit.\n",
    "plt.figure(figsize=(8,6))\n",
    "sns.barplot(x='level', y='count', hue='churn', data=churn_level)\n",
    "%matplot plt"
   ]
  },
  {
   "cell_type": "code",
   "execution_count": 73,
   "metadata": {},
   "outputs": [
    {
     "data": {
      "application/vnd.jupyter.widget-view+json": {
       "model_id": "ff6b84ac17fa45a5b50d8854c0afd80f",
       "version_major": 2,
       "version_minor": 0
      },
      "text/plain": [
       "VBox()"
      ]
     },
     "metadata": {},
     "output_type": "display_data"
    },
    {
     "data": {
      "application/vnd.jupyter.widget-view+json": {
       "model_id": "",
       "version_major": 2,
       "version_minor": 0
      },
      "text/plain": [
       "FloatProgress(value=0.0, bar_style='info', description='Progress:', layout=Layout(height='25px', width='50%'),…"
      ]
     },
     "metadata": {},
     "output_type": "display_data"
    },
    {
     "name": "stdout",
     "output_type": "stream",
     "text": [
      "    churn                       page  count\n",
      "0       0              Save Settings   9570\n",
      "1       1                     Logout   4625\n",
      "2       0           Submit Downgrade   3960\n",
      "3       0                   NextSong  17259\n",
      "4       1              Save Settings   2667\n",
      "5       1                Roll Advert   4551\n",
      "6       0                 Add Friend  15794\n",
      "7       0                      Error   8813\n",
      "8       0            Add to Playlist  16517\n",
      "9       0                      About  11348\n",
      "10      1                   Settings   4276\n",
      "11      1             Submit Upgrade   2894\n",
      "12      0                  Thumbs Up  16890\n",
      "13      1  Cancellation Confirmation   5003\n",
      "14      1            Add to Playlist   4743\n",
      "15      1                   NextSong   5002\n",
      "16      1                       Home   4936\n",
      "17      1                    Upgrade   3588\n",
      "18      0                Thumbs Down  15464\n",
      "19      1           Submit Downgrade   1143\n",
      "20      1                       Help   3999\n",
      "21      1                 Add Friend   4511\n",
      "22      0                       Help  14244\n",
      "23      0                   Settings  14657\n",
      "24      0                Roll Advert  15517\n",
      "25      1                  Downgrade   3756\n",
      "26      1                     Cancel   5003\n",
      "27      1                      About   3112\n",
      "28      0                     Logout  16535\n",
      "29      0                       Home  17136\n",
      "30      1                Thumbs Down   4567\n",
      "31      1                  Thumbs Up   4842\n",
      "32      0                    Upgrade  12563\n",
      "33      0                  Downgrade  11453\n",
      "34      0             Submit Upgrade   9188\n",
      "35      1                      Error   2459"
     ]
    }
   ],
   "source": [
    "# churn * page\n",
    "churn_page = spark.sql(\n",
    "    '''\n",
    "    SELECT churn, page, count(DISTINCT userId) as count\n",
    "    FROM churn_sql\n",
    "    GROUP BY churn, page\n",
    "    '''\n",
    ").toPandas()\n",
    "\n",
    "churn_page"
   ]
  },
  {
   "cell_type": "code",
   "execution_count": 74,
   "metadata": {},
   "outputs": [
    {
     "data": {
      "application/vnd.jupyter.widget-view+json": {
       "model_id": "4b66fed2e3034f5fa7f1b2e4342abad1",
       "version_major": 2,
       "version_minor": 0
      },
      "text/plain": [
       "VBox()"
      ]
     },
     "metadata": {},
     "output_type": "display_data"
    },
    {
     "data": {
      "application/vnd.jupyter.widget-view+json": {
       "model_id": "",
       "version_major": 2,
       "version_minor": 0
      },
      "text/plain": [
       "FloatProgress(value=0.0, bar_style='info', description='Progress:', layout=Layout(height='25px', width='50%'),…"
      ]
     },
     "metadata": {},
     "output_type": "display_data"
    },
    {
     "data": {
      "image/png": "[encoded data removed]",
      "text/plain": [
       "<IPython.core.display.Image object>"
      ]
     },
     "metadata": {},
     "output_type": "display_data"
    }
   ],
   "source": [
    "plt.figure(figsize=(12,10))\n",
    "sns.barplot(x='churn', y='count', hue='page', data=churn_page)\n",
    "%matplot plt"
   ]
  },
  {
   "cell_type": "code",
   "execution_count": 75,
   "metadata": {},
   "outputs": [
    {
     "data": {
      "application/vnd.jupyter.widget-view+json": {
       "model_id": "857c3655b76641bf804972abf348b612",
       "version_major": 2,
       "version_minor": 0
      },
      "text/plain": [
       "VBox()"
      ]
     },
     "metadata": {},
     "output_type": "display_data"
    },
    {
     "data": {
      "application/vnd.jupyter.widget-view+json": {
       "model_id": "",
       "version_major": 2,
       "version_minor": 0
      },
      "text/plain": [
       "FloatProgress(value=0.0, bar_style='info', description='Progress:', layout=Layout(height='25px', width='50%'),…"
      ]
     },
     "metadata": {},
     "output_type": "display_data"
    },
    {
     "name": "stdout",
     "output_type": "stream",
     "text": [
      "   churn   M  count\n",
      "0      1  11   2125\n",
      "1      0  10  16295\n",
      "2      0  11  16433\n",
      "3      1  10   4961\n",
      "4      0  12      2"
     ]
    }
   ],
   "source": [
    "# churn*month\n",
    "churn_month = spark.sql(\n",
    "    '''\n",
    "    SELECT churn, CAST(month(ts) AS INT) AS M, count(DISTINCT userId) as count\n",
    "    FROM churn_sql\n",
    "    GROUP BY churn, M\n",
    "    '''\n",
    ").toPandas()\n",
    "\n",
    "churn_month"
   ]
  },
  {
   "cell_type": "code",
   "execution_count": 76,
   "metadata": {},
   "outputs": [
    {
     "data": {
      "application/vnd.jupyter.widget-view+json": {
       "model_id": "bf987dff4b244365bf1f271e3b362a63",
       "version_major": 2,
       "version_minor": 0
      },
      "text/plain": [
       "VBox()"
      ]
     },
     "metadata": {},
     "output_type": "display_data"
    },
    {
     "data": {
      "application/vnd.jupyter.widget-view+json": {
       "model_id": "",
       "version_major": 2,
       "version_minor": 0
      },
      "text/plain": [
       "FloatProgress(value=0.0, bar_style='info', description='Progress:', layout=Layout(height='25px', width='50%'),…"
      ]
     },
     "metadata": {},
     "output_type": "display_data"
    },
    {
     "data": {
      "image/png": "[encoded data removed]",
      "text/plain": [
       "<IPython.core.display.Image object>"
      ]
     },
     "metadata": {},
     "output_type": "display_data"
    }
   ],
   "source": [
    "# far more quit in October, the first month\n",
    "plt.figure(figsize=(8, 6))\n",
    "sns.barplot(x='churn', y='count', hue='M', data=churn_month)\n",
    "%matplot plt"
   ]
  },
  {
   "cell_type": "code",
   "execution_count": 77,
   "metadata": {},
   "outputs": [
    {
     "data": {
      "application/vnd.jupyter.widget-view+json": {
       "model_id": "c8d59b42deb7429f873bb7c908618328",
       "version_major": 2,
       "version_minor": 0
      },
      "text/plain": [
       "VBox()"
      ]
     },
     "metadata": {},
     "output_type": "display_data"
    },
    {
     "data": {
      "application/vnd.jupyter.widget-view+json": {
       "model_id": "",
       "version_major": 2,
       "version_minor": 0
      },
      "text/plain": [
       "FloatProgress(value=0.0, bar_style='info', description='Progress:', layout=Layout(height='25px', width='50%'),…"
      ]
     },
     "metadata": {},
     "output_type": "display_data"
    },
    {
     "name": "stdout",
     "output_type": "stream",
     "text": [
      "    churn  W  count\n",
      "0       1  0   3973\n",
      "1       1  2   3807\n",
      "2       0  5  10906\n",
      "3       1  1   3925\n",
      "4       1  3   3737\n",
      "5       0  0  13481\n",
      "6       1  4   3589\n",
      "7       0  1  13840\n",
      "8       1  5   2872\n",
      "9       0  6  10441\n",
      "10      0  2  13822\n",
      "11      0  3  13595\n",
      "12      1  6   2762\n",
      "13      0  4  13744"
     ]
    }
   ],
   "source": [
    "# churn*weekday\n",
    "churn_weekday = spark.sql(\n",
    "    '''\n",
    "    SELECT churn, CAST(weekday(ts) AS INT) AS W, count(DISTINCT userId) as count\n",
    "    FROM churn_sql\n",
    "    GROUP BY churn, W\n",
    "    '''\n",
    ").toPandas()\n",
    "churn_weekday"
   ]
  },
  {
   "cell_type": "code",
   "execution_count": 78,
   "metadata": {},
   "outputs": [
    {
     "data": {
      "application/vnd.jupyter.widget-view+json": {
       "model_id": "9ec646dc04f64ef2a07186b684c8115e",
       "version_major": 2,
       "version_minor": 0
      },
      "text/plain": [
       "VBox()"
      ]
     },
     "metadata": {},
     "output_type": "display_data"
    },
    {
     "data": {
      "application/vnd.jupyter.widget-view+json": {
       "model_id": "",
       "version_major": 2,
       "version_minor": 0
      },
      "text/plain": [
       "FloatProgress(value=0.0, bar_style='info', description='Progress:', layout=Layout(height='25px', width='50%'),…"
      ]
     },
     "metadata": {},
     "output_type": "display_data"
    },
    {
     "data": {
      "image/png": "[encoded data removed]",
      "text/plain": [
       "<IPython.core.display.Image object>"
      ]
     },
     "metadata": {},
     "output_type": "display_data"
    }
   ],
   "source": [
    "plt.figure(figsize=(8, 6))\n",
    "sns.barplot(x='churn', y='count', hue='W', data=churn_weekday)\n",
    "%matplot plt"
   ]
  },
  {
   "cell_type": "code",
   "execution_count": 79,
   "metadata": {},
   "outputs": [
    {
     "data": {
      "application/vnd.jupyter.widget-view+json": {
       "model_id": "18f4dd8f585a41688a907b4c11eb8a5c",
       "version_major": 2,
       "version_minor": 0
      },
      "text/plain": [
       "VBox()"
      ]
     },
     "metadata": {},
     "output_type": "display_data"
    },
    {
     "data": {
      "application/vnd.jupyter.widget-view+json": {
       "model_id": "",
       "version_major": 2,
       "version_minor": 0
      },
      "text/plain": [
       "FloatProgress(value=0.0, bar_style='info', description='Progress:', layout=Layout(height='25px', width='50%'),…"
      ]
     },
     "metadata": {},
     "output_type": "display_data"
    },
    {
     "name": "stdout",
     "output_type": "stream",
     "text": [
      "    churn   D  count\n",
      "0       0  25   5983\n",
      "1       1  25   1261\n",
      "2       0  13   6134\n",
      "3       0  20   6137\n",
      "4       1   7   1771\n",
      "..    ...  ..    ...\n",
      "57      1  10   1988\n",
      "58      0   4   5730\n",
      "59      0  12   6853\n",
      "60      0  21   6023\n",
      "61      0  23   6959\n",
      "\n",
      "[62 rows x 3 columns]"
     ]
    }
   ],
   "source": [
    "# churn*weekday\n",
    "churn_day = spark.sql(\n",
    "    '''\n",
    "    SELECT churn, CAST(day(ts) AS INT) AS D, count(DISTINCT userId) as count\n",
    "    FROM churn_sql\n",
    "    GROUP BY churn, D\n",
    "    '''\n",
    ").toPandas()\n",
    "churn_day"
   ]
  },
  {
   "cell_type": "code",
   "execution_count": 80,
   "metadata": {},
   "outputs": [
    {
     "data": {
      "application/vnd.jupyter.widget-view+json": {
       "model_id": "40256a0c3e5942b182646793d6868708",
       "version_major": 2,
       "version_minor": 0
      },
      "text/plain": [
       "VBox()"
      ]
     },
     "metadata": {},
     "output_type": "display_data"
    },
    {
     "data": {
      "application/vnd.jupyter.widget-view+json": {
       "model_id": "",
       "version_major": 2,
       "version_minor": 0
      },
      "text/plain": [
       "FloatProgress(value=0.0, bar_style='info', description='Progress:', layout=Layout(height='25px', width='50%'),…"
      ]
     },
     "metadata": {},
     "output_type": "display_data"
    },
    {
     "data": {
      "image/png": "[encoded data removed]",
      "text/plain": [
       "<IPython.core.display.Image object>"
      ]
     },
     "metadata": {},
     "output_type": "display_data"
    }
   ],
   "source": [
    "# higher quit in first half of month, sharp difference between weekdays and weekends\n",
    "plt.figure(figsize=(12, 10))\n",
    "sns.barplot(x='churn', y='count', hue='D', data=churn_day)\n",
    "%matplot plt"
   ]
  },
  {
   "cell_type": "code",
   "execution_count": 81,
   "metadata": {},
   "outputs": [
    {
     "data": {
      "application/vnd.jupyter.widget-view+json": {
       "model_id": "32f0e2a4ef3e4658bedd01e215ac536f",
       "version_major": 2,
       "version_minor": 0
      },
      "text/plain": [
       "VBox()"
      ]
     },
     "metadata": {},
     "output_type": "display_data"
    },
    {
     "data": {
      "application/vnd.jupyter.widget-view+json": {
       "model_id": "",
       "version_major": 2,
       "version_minor": 0
      },
      "text/plain": [
       "FloatProgress(value=0.0, bar_style='info', description='Progress:', layout=Layout(height='25px', width='50%'),…"
      ]
     },
     "metadata": {},
     "output_type": "display_data"
    },
    {
     "name": "stdout",
     "output_type": "stream",
     "text": [
      "    churn   H  count\n",
      "0       1   0   3741\n",
      "1       0  13  13948\n",
      "2       0  20  14057\n",
      "3       1   7   3587\n",
      "4       1  20   3994\n",
      "5       0  14  14300\n",
      "6       1   2   3631\n",
      "7       0   7  12913\n",
      "8       1   9   3653\n",
      "9       0   5  12816\n",
      "10      1  22   3813\n",
      "11      1   1   3694\n",
      "12      1   3   3603\n",
      "13      0  22  13611\n",
      "14      1  11   3743\n",
      "15      0  16  14525\n",
      "16      0   0  13276\n",
      "17      1   4   3588\n",
      "18      0  10  13107\n",
      "19      0  17  14471\n",
      "20      1   8   3611\n",
      "21      1  16   4222\n",
      "22      1  19   4074\n",
      "23      1  23   3738\n",
      "24      0   9  12973\n",
      "25      0  15  14464\n",
      "26      0  18  14358\n",
      "27      1  18   4144\n",
      "28      1  14   4070\n",
      "29      0  11  13378\n",
      "30      1  21   3909\n",
      "31      0   1  13104\n",
      "32      0  19  14199\n",
      "33      1  17   4181\n",
      "34      1  12   3852\n",
      "35      0   8  12968\n",
      "36      1   5   3565\n",
      "37      1  15   4195\n",
      "38      0   6  12899\n",
      "39      0   2  13006\n",
      "40      1  13   3952\n",
      "41      0   3  12968\n",
      "42      1   6   3561\n",
      "43      1  10   3706\n",
      "44      0   4  12878\n",
      "45      0  12  13668\n",
      "46      0  21  13808\n",
      "47      0  23  13545"
     ]
    }
   ],
   "source": [
    "# churn*weekday\n",
    "churn_hour = spark.sql(\n",
    "    '''\n",
    "    SELECT churn, CAST(hour(ts) AS INT) AS H, count(DISTINCT userId) as count\n",
    "    FROM churn_sql\n",
    "    GROUP BY churn, H\n",
    "    '''\n",
    ").toPandas()\n",
    "churn_hour"
   ]
  },
  {
   "cell_type": "code",
   "execution_count": 82,
   "metadata": {},
   "outputs": [
    {
     "data": {
      "application/vnd.jupyter.widget-view+json": {
       "model_id": "fcc96aa7c9fd4577aaf9b960fd7e75f9",
       "version_major": 2,
       "version_minor": 0
      },
      "text/plain": [
       "VBox()"
      ]
     },
     "metadata": {},
     "output_type": "display_data"
    },
    {
     "data": {
      "application/vnd.jupyter.widget-view+json": {
       "model_id": "",
       "version_major": 2,
       "version_minor": 0
      },
      "text/plain": [
       "FloatProgress(value=0.0, bar_style='info', description='Progress:', layout=Layout(height='25px', width='50%'),…"
      ]
     },
     "metadata": {},
     "output_type": "display_data"
    },
    {
     "data": {
      "image/png": "[encoded data removed]",
      "text/plain": [
       "<IPython.core.display.Image object>"
      ]
     },
     "metadata": {},
     "output_type": "display_data"
    }
   ],
   "source": [
    "# higher quit in first half of month\n",
    "plt.figure(figsize=(12, 10))\n",
    "sns.barplot(x='churn', y='count', hue='H', data=churn_hour)\n",
    "%matplot plt"
   ]
  },
  {
   "cell_type": "code",
   "execution_count": 42,
   "metadata": {},
   "outputs": [
    {
     "data": {
      "application/vnd.jupyter.widget-view+json": {
       "model_id": "99aff8bc79c64268add892136769bf6d",
       "version_major": 2,
       "version_minor": 0
      },
      "text/plain": [
       "VBox()"
      ]
     },
     "metadata": {},
     "output_type": "display_data"
    },
    {
     "data": {
      "application/vnd.jupyter.widget-view+json": {
       "model_id": "",
       "version_major": 2,
       "version_minor": 0
      },
      "text/plain": [
       "FloatProgress(value=0.0, bar_style='info', description='Progress:', layout=Layout(height='25px', width='50%'),…"
      ]
     },
     "metadata": {},
     "output_type": "display_data"
    }
   ],
   "source": [
    "# churn * registration\n",
    "churn_registration = spark.sql(\n",
    "    '''\n",
    "    SELECT d.userId, registration_days, c.churn\n",
    "    FROM (SELECT userId, DATEDIFF(MAX(datetime_page), MIN(datetime_registration)) AS registration_days\n",
    "          FROM datetime_data\n",
    "          GROUP BY userId) as d \n",
    "    JOIN (SELECT userId, max(churn) as churn\n",
    "               FROM churn_sql\n",
    "               GROUP BY userId) as c\n",
    "    ON d.userId=c.userId\n",
    "               \n",
    "    '''\n",
    ")"
   ]
  },
  {
   "cell_type": "code",
   "execution_count": 43,
   "metadata": {},
   "outputs": [
    {
     "data": {
      "application/vnd.jupyter.widget-view+json": {
       "model_id": "6d70a5c399274876a5d9241195557d05",
       "version_major": 2,
       "version_minor": 0
      },
      "text/plain": [
       "VBox()"
      ]
     },
     "metadata": {},
     "output_type": "display_data"
    },
    {
     "data": {
      "application/vnd.jupyter.widget-view+json": {
       "model_id": "",
       "version_major": 2,
       "version_minor": 0
      },
      "text/plain": [
       "FloatProgress(value=0.0, bar_style='info', description='Progress:', layout=Layout(height='25px', width='50%'),…"
      ]
     },
     "metadata": {},
     "output_type": "display_data"
    }
   ],
   "source": [
    "# Churn=1 are more left skewed.\n",
    "churn_registration_df = churn_registration.toPandas()"
   ]
  },
  {
   "cell_type": "code",
   "execution_count": 44,
   "metadata": {
    "scrolled": false
   },
   "outputs": [
    {
     "data": {
      "application/vnd.jupyter.widget-view+json": {
       "model_id": "d6ae444d8e724fa588db3840a96a5ab8",
       "version_major": 2,
       "version_minor": 0
      },
      "text/plain": [
       "VBox()"
      ]
     },
     "metadata": {},
     "output_type": "display_data"
    },
    {
     "data": {
      "application/vnd.jupyter.widget-view+json": {
       "model_id": "",
       "version_major": 2,
       "version_minor": 0
      },
      "text/plain": [
       "FloatProgress(value=0.0, bar_style='info', description='Progress:', layout=Layout(height='25px', width='50%'),…"
      ]
     },
     "metadata": {},
     "output_type": "display_data"
    },
    {
     "data": {
      "image/png": "[encoded data removed]",
      "text/plain": [
       "<IPython.core.display.Image object>"
      ]
     },
     "metadata": {},
     "output_type": "display_data"
    }
   ],
   "source": [
    "plt.figure(figsize=(12, 10))\n",
    "sns.distplot(\n",
    "    churn_registration_df[churn_registration_df['churn'] == 0]['registration_days'],label='churn=0')\n",
    "sns.distplot(\n",
    "    churn_registration_df[churn_registration_df['churn'] == 1]['registration_days'],label='churn=1')\n",
    "plt.legend()\n",
    "%matplot plt"
   ]
  },
  {
   "cell_type": "code",
   "execution_count": 29,
   "metadata": {},
   "outputs": [
    {
     "data": {
      "application/vnd.jupyter.widget-view+json": {
       "model_id": "781dd67437ac419b97b4fc0d5ceea1a0",
       "version_major": 2,
       "version_minor": 0
      },
      "text/plain": [
       "VBox()"
      ]
     },
     "metadata": {},
     "output_type": "display_data"
    },
    {
     "data": {
      "application/vnd.jupyter.widget-view+json": {
       "model_id": "",
       "version_major": 2,
       "version_minor": 0
      },
      "text/plain": [
       "FloatProgress(value=0.0, bar_style='info', description='Progress:', layout=Layout(height='25px', width='50%'),…"
      ]
     },
     "metadata": {},
     "output_type": "display_data"
    }
   ],
   "source": [
    "churn_registration.createOrReplaceTempView('churn_registration')"
   ]
  },
  {
   "cell_type": "code",
   "execution_count": 30,
   "metadata": {},
   "outputs": [
    {
     "data": {
      "application/vnd.jupyter.widget-view+json": {
       "model_id": "698067c3e1214845908299e2543e64fc",
       "version_major": 2,
       "version_minor": 0
      },
      "text/plain": [
       "VBox()"
      ]
     },
     "metadata": {},
     "output_type": "display_data"
    },
    {
     "data": {
      "application/vnd.jupyter.widget-view+json": {
       "model_id": "",
       "version_major": 2,
       "version_minor": 0
      },
      "text/plain": [
       "FloatProgress(value=0.0, bar_style='info', description='Progress:', layout=Layout(height='25px', width='50%'),…"
      ]
     },
     "metadata": {},
     "output_type": "display_data"
    }
   ],
   "source": [
    "# churn*last week activity\n",
    "churn_week_count = spark.sql(\n",
    "    '''\n",
    "    SELECT w.userId, w.week_count, c.churn\n",
    "    FROM\n",
    "    (\n",
    "        SELECT d.userId, COUNT(d.userId) AS week_count        \n",
    "        FROM datetime_data d\n",
    "        JOIN \n",
    "        (\n",
    "            SELECT userId, MAX(datetime_page) AS last_datetime\n",
    "            FROM datetime_data\n",
    "            GROUP BY userId\n",
    "        ) AS l\n",
    "        ON l.userId = d.userId\n",
    "        WHERE d.datetime_page >= DATE_SUB(l.last_datetime, 7)\n",
    "        GROUP BY d.userId\n",
    "    ) AS w\n",
    "    JOIN (SELECT userId, max(churn) as churn\n",
    "               FROM churn_sql\n",
    "               GROUP BY userId) as c\n",
    "    ON w.userId=c.userId\n",
    "    '''\n",
    ")"
   ]
  },
  {
   "cell_type": "code",
   "execution_count": 88,
   "metadata": {},
   "outputs": [
    {
     "data": {
      "application/vnd.jupyter.widget-view+json": {
       "model_id": "1c9478c9e6454a04860530e060f583fe",
       "version_major": 2,
       "version_minor": 0
      },
      "text/plain": [
       "VBox()"
      ]
     },
     "metadata": {},
     "output_type": "display_data"
    },
    {
     "data": {
      "application/vnd.jupyter.widget-view+json": {
       "model_id": "",
       "version_major": 2,
       "version_minor": 0
      },
      "text/plain": [
       "FloatProgress(value=0.0, bar_style='info', description='Progress:', layout=Layout(height='25px', width='50%'),…"
      ]
     },
     "metadata": {},
     "output_type": "display_data"
    },
    {
     "name": "stdout",
     "output_type": "stream",
     "text": [
      "        userId  week_count  churn\n",
      "0      1000280         188      1\n",
      "1      1002185         348      0\n",
      "2      1017805         153      0\n",
      "3      1030587         507      0\n",
      "4      1033297         197      0\n",
      "...        ...         ...    ...\n",
      "22272  1930015         243      0\n",
      "22273  1955029         160      0\n",
      "22274  1960992          95      0\n",
      "22275  1977992         140      0\n",
      "22276  1981978          18      1\n",
      "\n",
      "[22277 rows x 3 columns]"
     ]
    }
   ],
   "source": [
    "# churn=0 not active in the last week\n",
    "churn_week_count_df = churn_week_count.toPandas()\n",
    "churn_week_count_df"
   ]
  },
  {
   "cell_type": "code",
   "execution_count": 89,
   "metadata": {},
   "outputs": [
    {
     "data": {
      "application/vnd.jupyter.widget-view+json": {
       "model_id": "8f15ab35b86c429d909bbb3bfac21cf5",
       "version_major": 2,
       "version_minor": 0
      },
      "text/plain": [
       "VBox()"
      ]
     },
     "metadata": {},
     "output_type": "display_data"
    },
    {
     "data": {
      "application/vnd.jupyter.widget-view+json": {
       "model_id": "",
       "version_major": 2,
       "version_minor": 0
      },
      "text/plain": [
       "FloatProgress(value=0.0, bar_style='info', description='Progress:', layout=Layout(height='25px', width='50%'),…"
      ]
     },
     "metadata": {},
     "output_type": "display_data"
    },
    {
     "name": "stdout",
     "output_type": "stream",
     "text": [
      "(228.6392844737756, 352.05196881870876)"
     ]
    }
   ],
   "source": [
    "(churn_week_count_df[churn_week_count_df['churn'] == 0]['week_count'].mean(\n",
    "), churn_week_count_df[churn_week_count_df['churn'] == 1]['week_count'].mean())"
   ]
  },
  {
   "cell_type": "code",
   "execution_count": 31,
   "metadata": {},
   "outputs": [
    {
     "data": {
      "application/vnd.jupyter.widget-view+json": {
       "model_id": "31a549674201454d973e1c921b233d1c",
       "version_major": 2,
       "version_minor": 0
      },
      "text/plain": [
       "VBox()"
      ]
     },
     "metadata": {},
     "output_type": "display_data"
    },
    {
     "data": {
      "application/vnd.jupyter.widget-view+json": {
       "model_id": "",
       "version_major": 2,
       "version_minor": 0
      },
      "text/plain": [
       "FloatProgress(value=0.0, bar_style='info', description='Progress:', layout=Layout(height='25px', width='50%'),…"
      ]
     },
     "metadata": {},
     "output_type": "display_data"
    }
   ],
   "source": [
    "churn_week_count.createOrReplaceTempView('churn_week_count')"
   ]
  },
  {
   "cell_type": "code",
   "execution_count": 45,
   "metadata": {},
   "outputs": [
    {
     "data": {
      "application/vnd.jupyter.widget-view+json": {
       "model_id": "ba58d6003f434261a42a7ce14da68013",
       "version_major": 2,
       "version_minor": 0
      },
      "text/plain": [
       "VBox()"
      ]
     },
     "metadata": {},
     "output_type": "display_data"
    },
    {
     "data": {
      "application/vnd.jupyter.widget-view+json": {
       "model_id": "",
       "version_major": 2,
       "version_minor": 0
      },
      "text/plain": [
       "FloatProgress(value=0.0, bar_style='info', description='Progress:', layout=Layout(height='25px', width='50%'),…"
      ]
     },
     "metadata": {},
     "output_type": "display_data"
    }
   ],
   "source": [
    "churn_artist_count = spark.sql(\n",
    "    '''\n",
    "    SELECT a.userId, a.artist_count, c.churn\n",
    "    FROM (SELECT userId, COUNT(DISTINCT artist) AS artist_count\n",
    "          FROM clean_sql\n",
    "          GROUP BY userId) AS a\n",
    "    JOIN (SELECT userId, max(churn) as churn\n",
    "               FROM churn_sql\n",
    "               GROUP BY userId) as c\n",
    "    ON a.userId=c.userId\n",
    "    '''\n",
    ")"
   ]
  },
  {
   "cell_type": "code",
   "execution_count": 46,
   "metadata": {},
   "outputs": [
    {
     "data": {
      "application/vnd.jupyter.widget-view+json": {
       "model_id": "9e029bb4cda845a393fc16e9f9a48561",
       "version_major": 2,
       "version_minor": 0
      },
      "text/plain": [
       "VBox()"
      ]
     },
     "metadata": {},
     "output_type": "display_data"
    },
    {
     "data": {
      "application/vnd.jupyter.widget-view+json": {
       "model_id": "",
       "version_major": 2,
       "version_minor": 0
      },
      "text/plain": [
       "FloatProgress(value=0.0, bar_style='info', description='Progress:', layout=Layout(height='25px', width='50%'),…"
      ]
     },
     "metadata": {},
     "output_type": "display_data"
    }
   ],
   "source": [
    "churn_artist_count_df = churn_artist_count.toPandas()"
   ]
  },
  {
   "cell_type": "code",
   "execution_count": 33,
   "metadata": {},
   "outputs": [
    {
     "data": {
      "application/vnd.jupyter.widget-view+json": {
       "model_id": "8a4b50190b5045e5a9f90379385c6695",
       "version_major": 2,
       "version_minor": 0
      },
      "text/plain": [
       "VBox()"
      ]
     },
     "metadata": {},
     "output_type": "display_data"
    },
    {
     "data": {
      "application/vnd.jupyter.widget-view+json": {
       "model_id": "",
       "version_major": 2,
       "version_minor": 0
      },
      "text/plain": [
       "FloatProgress(value=0.0, bar_style='info', description='Progress:', layout=Layout(height='25px', width='50%'),…"
      ]
     },
     "metadata": {},
     "output_type": "display_data"
    }
   ],
   "source": [
    "churn_artist_count.createOrReplaceTempView('churn_artist_count')"
   ]
  },
  {
   "cell_type": "code",
   "execution_count": 47,
   "metadata": {},
   "outputs": [
    {
     "data": {
      "application/vnd.jupyter.widget-view+json": {
       "model_id": "2b786228c2394ff5afb4bfdd5a3d0a85",
       "version_major": 2,
       "version_minor": 0
      },
      "text/plain": [
       "VBox()"
      ]
     },
     "metadata": {},
     "output_type": "display_data"
    },
    {
     "data": {
      "application/vnd.jupyter.widget-view+json": {
       "model_id": "",
       "version_major": 2,
       "version_minor": 0
      },
      "text/plain": [
       "FloatProgress(value=0.0, bar_style='info', description='Progress:', layout=Layout(height='25px', width='50%'),…"
      ]
     },
     "metadata": {},
     "output_type": "display_data"
    },
    {
     "data": {
      "image/png": "[encoded data removed]",
      "text/plain": [
       "<IPython.core.display.Image object>"
      ]
     },
     "metadata": {},
     "output_type": "display_data"
    }
   ],
   "source": [
    "# churn=0 artist tends to be smaller\n",
    "plt.figure(figsize=(12, 10))\n",
    "sns.distplot(\n",
    "    churn_artist_count_df[churn_artist_count_df['churn'] == 0]['artist_count'],label='churn=0')\n",
    "sns.distplot(\n",
    "    churn_artist_count_df[churn_artist_count_df['churn'] == 1]['artist_count'],label='churn=1')\n",
    "plt.legend()\n",
    "%matplot plt"
   ]
  },
  {
   "cell_type": "markdown",
   "metadata": {},
   "source": [
    "# Feature Engineering\n",
    "Once you've familiarized yourself with the data, build out the features you find promising to train your model on. To work with the full dataset, you can follow the following steps.\n",
    "- Write a script to extract the necessary features from the smaller subset of data\n",
    "- Ensure that your script is scalable, using the best practices discussed in Lesson 3\n",
    "- Try your script on the full data set, debugging your script if necessary\n",
    "\n",
    "If you are working in the classroom workspace, you can just extract features based on the small subset of data contained here. Be sure to transfer over this work to the larger dataset when you work on your Spark cluster."
   ]
  },
  {
   "cell_type": "code",
   "execution_count": 34,
   "metadata": {},
   "outputs": [
    {
     "data": {
      "application/vnd.jupyter.widget-view+json": {
       "model_id": "45409e5b546d47488d8912dd41ce7bb1",
       "version_major": 2,
       "version_minor": 0
      },
      "text/plain": [
       "VBox()"
      ]
     },
     "metadata": {},
     "output_type": "display_data"
    },
    {
     "data": {
      "application/vnd.jupyter.widget-view+json": {
       "model_id": "",
       "version_major": 2,
       "version_minor": 0
      },
      "text/plain": [
       "FloatProgress(value=0.0, bar_style='info', description='Progress:', layout=Layout(height='25px', width='50%'),…"
      ]
     },
     "metadata": {},
     "output_type": "display_data"
    }
   ],
   "source": [
    "# From the data exploration, we choose gender, level, page, total_visited_page, artist_count, week_count, registration as independent variables\n",
    "# we need to extend gender, level and page\n",
    "\n",
    "extension = ''\n",
    "for i in ['gender', 'level', 'page']:\n",
    "    category = spark.sql('''SELECT DISTINCT ''' + i +\n",
    "                         ''' FROM clean_sql''').toPandas()[i].values\n",
    "    for j in category:\n",
    "        extension += ', CASE WHEN ' + i + \"= '\" + j + \\\n",
    "            \"' THEN 1 ELSE 0 END AS \" + i + '_' + j.replace(' ', '_')"
   ]
  },
  {
   "cell_type": "code",
   "execution_count": 35,
   "metadata": {},
   "outputs": [
    {
     "data": {
      "application/vnd.jupyter.widget-view+json": {
       "model_id": "3b7924efd94b4bfe9130d39d4e8eb990",
       "version_major": 2,
       "version_minor": 0
      },
      "text/plain": [
       "VBox()"
      ]
     },
     "metadata": {},
     "output_type": "display_data"
    },
    {
     "data": {
      "application/vnd.jupyter.widget-view+json": {
       "model_id": "",
       "version_major": 2,
       "version_minor": 0
      },
      "text/plain": [
       "FloatProgress(value=0.0, bar_style='info', description='Progress:', layout=Layout(height='25px', width='50%'),…"
      ]
     },
     "metadata": {},
     "output_type": "display_data"
    }
   ],
   "source": [
    "# extend records into binary nums\n",
    "\n",
    "extension = '''SELECT userId, churn ''' + extension + ''' FROM churn_sql'''\n",
    "extension_table = spark.sql(extension)"
   ]
  },
  {
   "cell_type": "code",
   "execution_count": 96,
   "metadata": {},
   "outputs": [
    {
     "data": {
      "application/vnd.jupyter.widget-view+json": {
       "model_id": "62de23b48a8f42ceaf39da65378c686d",
       "version_major": 2,
       "version_minor": 0
      },
      "text/plain": [
       "VBox()"
      ]
     },
     "metadata": {},
     "output_type": "display_data"
    },
    {
     "data": {
      "application/vnd.jupyter.widget-view+json": {
       "model_id": "",
       "version_major": 2,
       "version_minor": 0
      },
      "text/plain": [
       "FloatProgress(value=0.0, bar_style='info', description='Progress:', layout=Layout(height='25px', width='50%'),…"
      ]
     },
     "metadata": {},
     "output_type": "display_data"
    },
    {
     "name": "stdout",
     "output_type": "stream",
     "text": [
      "+-------+-----+--------+--------+----------+----------+-----------+---------------------+----------------+---------+--------------+----------------+-----------+------------------+------------------------------+----------+-------------+--------------------+---------------+-------------+--------------+---------+------------+----------+-------------------+\n",
      "| userId|churn|gender_F|gender_M|level_free|level_paid|page_Cancel|page_Submit_Downgrade|page_Thumbs_Down|page_Home|page_Downgrade|page_Roll_Advert|page_Logout|page_Save_Settings|page_Cancellation_Confirmation|page_About|page_Settings|page_Add_to_Playlist|page_Add_Friend|page_NextSong|page_Thumbs_Up|page_Help|page_Upgrade|page_Error|page_Submit_Upgrade|\n",
      "+-------+-----+--------+--------+----------+----------+-----------+---------------------+----------------+---------+--------------+----------------+-----------+------------------+------------------------------+----------+-------------+--------------------+---------------+-------------+--------------+---------+------------+----------+-------------------+\n",
      "|1000280|    1|       0|       1|         1|         0|          0|                    0|               0|        1|             0|               0|          0|                 0|                             0|         0|            0|                   0|              0|            0|             0|        0|           0|         0|                  0|\n",
      "|1000280|    1|       0|       1|         1|         0|          0|                    0|               0|        0|             0|               0|          0|                 0|                             0|         0|            0|                   0|              0|            1|             0|        0|           0|         0|                  0|\n",
      "|1000280|    1|       0|       1|         1|         0|          0|                    0|               0|        0|             0|               0|          0|                 0|                             0|         0|            0|                   0|              0|            1|             0|        0|           0|         0|                  0|\n",
      "|1000280|    1|       0|       1|         1|         0|          0|                    0|               0|        0|             0|               0|          0|                 0|                             0|         0|            0|                   0|              0|            1|             0|        0|           0|         0|                  0|\n",
      "|1000280|    1|       0|       1|         1|         0|          0|                    0|               0|        0|             0|               0|          0|                 0|                             0|         0|            0|                   0|              0|            1|             0|        0|           0|         0|                  0|\n",
      "|1000280|    1|       0|       1|         1|         0|          0|                    0|               0|        0|             0|               1|          0|                 0|                             0|         0|            0|                   0|              0|            0|             0|        0|           0|         0|                  0|\n",
      "|1000280|    1|       0|       1|         1|         0|          0|                    0|               0|        0|             0|               0|          0|                 0|                             0|         0|            0|                   0|              0|            1|             0|        0|           0|         0|                  0|\n",
      "|1000280|    1|       0|       1|         1|         0|          0|                    0|               0|        0|             0|               1|          0|                 0|                             0|         0|            0|                   0|              0|            0|             0|        0|           0|         0|                  0|\n",
      "|1000280|    1|       0|       1|         1|         0|          0|                    0|               0|        0|             0|               0|          0|                 0|                             0|         0|            0|                   0|              0|            1|             0|        0|           0|         0|                  0|\n",
      "|1000280|    1|       0|       1|         1|         0|          0|                    0|               0|        0|             0|               0|          0|                 0|                             0|         0|            0|                   0|              0|            1|             0|        0|           0|         0|                  0|\n",
      "|1000280|    1|       0|       1|         1|         0|          0|                    0|               0|        0|             0|               1|          0|                 0|                             0|         0|            0|                   0|              0|            0|             0|        0|           0|         0|                  0|\n",
      "|1000280|    1|       0|       1|         1|         0|          0|                    0|               0|        0|             0|               0|          0|                 0|                             0|         0|            0|                   0|              0|            1|             0|        0|           0|         0|                  0|\n",
      "|1000280|    1|       0|       1|         1|         0|          0|                    0|               0|        0|             0|               0|          0|                 0|                             0|         0|            0|                   0|              0|            1|             0|        0|           0|         0|                  0|\n",
      "|1000280|    1|       0|       1|         1|         0|          0|                    0|               0|        0|             0|               1|          0|                 0|                             0|         0|            0|                   0|              0|            0|             0|        0|           0|         0|                  0|\n",
      "|1000280|    1|       0|       1|         1|         0|          0|                    0|               0|        0|             0|               0|          0|                 0|                             0|         0|            0|                   0|              0|            1|             0|        0|           0|         0|                  0|\n",
      "|1000280|    1|       0|       1|         1|         0|          0|                    0|               0|        0|             0|               0|          0|                 0|                             0|         0|            0|                   0|              0|            1|             0|        0|           0|         0|                  0|\n",
      "|1000280|    1|       0|       1|         1|         0|          0|                    0|               0|        0|             0|               0|          0|                 0|                             0|         0|            0|                   0|              0|            1|             0|        0|           0|         0|                  0|\n",
      "|1000280|    1|       0|       1|         1|         0|          0|                    0|               0|        0|             0|               0|          0|                 0|                             0|         0|            0|                   0|              0|            1|             0|        0|           0|         0|                  0|\n",
      "|1000280|    1|       0|       1|         1|         0|          0|                    0|               0|        0|             0|               0|          0|                 0|                             0|         0|            0|                   0|              0|            1|             0|        0|           0|         0|                  0|\n",
      "|1000280|    1|       0|       1|         1|         0|          0|                    0|               0|        0|             0|               0|          0|                 0|                             0|         0|            0|                   0|              1|            0|             0|        0|           0|         0|                  0|\n",
      "+-------+-----+--------+--------+----------+----------+-----------+---------------------+----------------+---------+--------------+----------------+-----------+------------------+------------------------------+----------+-------------+--------------------+---------------+-------------+--------------+---------+------------+----------+-------------------+\n",
      "only showing top 20 rows"
     ]
    }
   ],
   "source": [
    "extension_table.show()"
   ]
  },
  {
   "cell_type": "code",
   "execution_count": 36,
   "metadata": {},
   "outputs": [
    {
     "data": {
      "application/vnd.jupyter.widget-view+json": {
       "model_id": "6bb1e667423445f7873fb642beab0f69",
       "version_major": 2,
       "version_minor": 0
      },
      "text/plain": [
       "VBox()"
      ]
     },
     "metadata": {},
     "output_type": "display_data"
    },
    {
     "data": {
      "application/vnd.jupyter.widget-view+json": {
       "model_id": "",
       "version_major": 2,
       "version_minor": 0
      },
      "text/plain": [
       "FloatProgress(value=0.0, bar_style='info', description='Progress:', layout=Layout(height='25px', width='50%'),…"
      ]
     },
     "metadata": {},
     "output_type": "display_data"
    }
   ],
   "source": [
    "extension_table.createOrReplaceTempView('extension_table')"
   ]
  },
  {
   "cell_type": "code",
   "execution_count": 37,
   "metadata": {},
   "outputs": [
    {
     "data": {
      "application/vnd.jupyter.widget-view+json": {
       "model_id": "37cd493193ac435c8f35e3913c75ee66",
       "version_major": 2,
       "version_minor": 0
      },
      "text/plain": [
       "VBox()"
      ]
     },
     "metadata": {},
     "output_type": "display_data"
    },
    {
     "data": {
      "application/vnd.jupyter.widget-view+json": {
       "model_id": "",
       "version_major": 2,
       "version_minor": 0
      },
      "text/plain": [
       "FloatProgress(value=0.0, bar_style='info', description='Progress:', layout=Layout(height='25px', width='50%'),…"
      ]
     },
     "metadata": {},
     "output_type": "display_data"
    }
   ],
   "source": [
    "# sum up records by users\n",
    "sumup = ''\n",
    "for i in ['gender', 'level', 'page']:\n",
    "    category = spark.sql('''SELECT DISTINCT ''' + i +\n",
    "                         ''' FROM clean_sql''').toPandas()[i].values\n",
    "    for j in category:\n",
    "        sumup += ', SUM(' + i + '_' + j.replace(' ', '_') + \\\n",
    "            ') AS ' + i + '_' + j.replace(' ', '_')"
   ]
  },
  {
   "cell_type": "code",
   "execution_count": 38,
   "metadata": {},
   "outputs": [
    {
     "data": {
      "application/vnd.jupyter.widget-view+json": {
       "model_id": "3f7538d4bb8f4ef29558de2092a85c03",
       "version_major": 2,
       "version_minor": 0
      },
      "text/plain": [
       "VBox()"
      ]
     },
     "metadata": {},
     "output_type": "display_data"
    },
    {
     "data": {
      "application/vnd.jupyter.widget-view+json": {
       "model_id": "",
       "version_major": 2,
       "version_minor": 0
      },
      "text/plain": [
       "FloatProgress(value=0.0, bar_style='info', description='Progress:', layout=Layout(height='25px', width='50%'),…"
      ]
     },
     "metadata": {},
     "output_type": "display_data"
    }
   ],
   "source": [
    "sumup = '''SELECT userId, SUM(churn) AS churn ''' + \\\n",
    "    sumup + ''' FROM extension_table GROUP BY userId'''\n",
    "\n",
    "sum_table = spark.sql(sumup)"
   ]
  },
  {
   "cell_type": "code",
   "execution_count": 99,
   "metadata": {},
   "outputs": [
    {
     "data": {
      "application/vnd.jupyter.widget-view+json": {
       "model_id": "091b74ae0af645d2ab55c02a2f13029e",
       "version_major": 2,
       "version_minor": 0
      },
      "text/plain": [
       "VBox()"
      ]
     },
     "metadata": {},
     "output_type": "display_data"
    },
    {
     "data": {
      "application/vnd.jupyter.widget-view+json": {
       "model_id": "",
       "version_major": 2,
       "version_minor": 0
      },
      "text/plain": [
       "FloatProgress(value=0.0, bar_style='info', description='Progress:', layout=Layout(height='25px', width='50%'),…"
      ]
     },
     "metadata": {},
     "output_type": "display_data"
    },
    {
     "name": "stdout",
     "output_type": "stream",
     "text": [
      "+-------+-----+--------+--------+----------+----------+-----------+---------------------+----------------+---------+--------------+----------------+-----------+------------------+------------------------------+----------+-------------+--------------------+---------------+-------------+--------------+---------+------------+----------+-------------------+\n",
      "| userId|churn|gender_F|gender_M|level_free|level_paid|page_Cancel|page_Submit_Downgrade|page_Thumbs_Down|page_Home|page_Downgrade|page_Roll_Advert|page_Logout|page_Save_Settings|page_Cancellation_Confirmation|page_About|page_Settings|page_Add_to_Playlist|page_Add_Friend|page_NextSong|page_Thumbs_Up|page_Help|page_Upgrade|page_Error|page_Submit_Upgrade|\n",
      "+-------+-----+--------+--------+----------+----------+-----------+---------------------+----------------+---------+--------------+----------------+-----------+------------------+------------------------------+----------+-------------+--------------------+---------------+-------------+--------------+---------+------------+----------+-------------------+\n",
      "|1000280| 1317|       0|    1317|      1173|       144|          1|                    1|              33|       44|             3|              74|         15|                 1|                             1|         0|            9|                  25|             14|         1022|            53|        8|           9|         3|                  1|\n",
      "|1002185|    0|    2080|       0|         0|      2080|          0|                    0|              14|       61|            14|               1|         18|                 3|                             0|         1|           10|                  49|             25|         1778|            92|       12|           0|         2|                  0|\n",
      "|1017805|    0|     320|       0|         0|       320|          0|                    0|               4|       17|             5|               6|          7|                 1|                             0|         1|            3|                   5|             13|          250|             7|        1|           0|         0|                  0|\n",
      "|1030587|    0|    1752|       0|        11|      1741|          0|                    0|              16|       65|            15|               0|         17|                 3|                             0|         1|           15|                  46|             23|         1472|            66|       10|           1|         1|                  1|\n",
      "|1033297|    0|       0|     299|       112|       187|          0|                    0|               3|       15|             1|              10|          5|                 0|                             0|         2|            1|                   7|              4|          236|            10|        2|           2|         0|                  1|\n",
      "|1057724|    0|       0|    4669|      1170|      3499|          0|                    0|              29|      164|            33|              67|         47|                 5|                             0|        11|           27|                 135|             76|         3847|           200|       19|           7|         1|                  1|\n",
      "|1059049|    0|       0|     662|         0|       662|          0|                    0|               6|       20|             3|               5|          5|                 0|                             0|         2|            3|                  16|             10|          559|            29|        4|           0|         0|                  0|\n",
      "|1069552|    0|     582|       0|       427|       155|          0|                    1|               6|       25|             1|              30|         12|                 0|                             0|         0|            0|                  11|              7|          455|            26|        4|           2|         1|                  1|\n",
      "|1071308| 1693|    1693|       0|        56|      1637|          1|                    0|              12|       67|            18|               2|         22|                 3|                             1|         3|           13|                  26|             31|         1409|            74|        8|           1|         1|                  1|\n",
      "|1076191|   64|       0|      64|        64|         0|          1|                    0|               1|        3|             0|               5|          1|                 0|                             1|         0|            0|                   1|              0|           47|             4|        0|           0|         0|                  0|\n",
      "|1083324|    0|       0|    1784|       113|      1671|          0|                    1|              11|       73|            17|               5|         22|                 1|                             0|         4|            9|                  43|             26|         1484|            75|        7|           2|         2|                  2|\n",
      "|1102913|    0|       0|     904|         0|       904|          0|                    0|               9|       29|             9|               0|          8|                 2|                             0|         2|            4|                  23|             18|          753|            38|        7|           0|         2|                  0|\n",
      "|1114507|    0|    1045|       0|       240|       805|          0|                    0|              11|       50|            10|              13|         17|                 1|                             0|         3|            5|                  13|             19|          848|            47|        6|           1|         0|                  1|\n",
      "|1133196|    0|     939|       0|       357|       582|          0|                    1|               6|       41|             7|              22|         13|                 0|                             0|         1|            2|                  24|             10|          731|            70|        2|           6|         1|                  2|\n",
      "|1142513|    0|       0|     618|       618|         0|          0|                    0|               4|       18|             0|              36|          7|                 1|                             0|         2|            4|                  19|             16|          480|            22|        4|           4|         1|                  0|\n",
      "|1151194|    0|    1577|       0|       421|      1156|          0|                    0|              14|       50|            11|              28|         14|                 4|                             0|         4|            9|                  37|             27|         1302|            60|       11|           3|         2|                  1|\n",
      "|1156065|  328|       0|     328|       328|         0|          1|                    0|               4|       17|             0|              43|          8|                 0|                             1|         1|            2|                   2|              2|          231|            10|        3|           3|         0|                  0|\n",
      "|1178731|    0|    3165|       0|         0|      3165|          0|                    0|              27|      100|            23|               7|         27|                 3|                             0|         4|           17|                  84|             35|         2663|           147|       21|           0|         7|                  0|\n",
      "|1180406|    0|       0|     679|       297|       382|          0|                    1|               6|       21|             5|              24|          9|                 1|                             0|         1|            3|                  19|              7|          552|            23|        4|           1|         2|                  0|\n",
      "|1190352|    0|       0|    2622|         0|      2622|          0|                    0|              28|       76|            23|               1|         27|                 0|                             0|         9|           11|                  63|             40|         2216|           113|       12|           0|         3|                  0|\n",
      "+-------+-----+--------+--------+----------+----------+-----------+---------------------+----------------+---------+--------------+----------------+-----------+------------------+------------------------------+----------+-------------+--------------------+---------------+-------------+--------------+---------+------------+----------+-------------------+\n",
      "only showing top 20 rows"
     ]
    }
   ],
   "source": [
    "sum_table.show()"
   ]
  },
  {
   "cell_type": "code",
   "execution_count": 39,
   "metadata": {},
   "outputs": [
    {
     "data": {
      "application/vnd.jupyter.widget-view+json": {
       "model_id": "5cb7d942d9474bc1a6d211625f916b17",
       "version_major": 2,
       "version_minor": 0
      },
      "text/plain": [
       "VBox()"
      ]
     },
     "metadata": {},
     "output_type": "display_data"
    },
    {
     "data": {
      "application/vnd.jupyter.widget-view+json": {
       "model_id": "",
       "version_major": 2,
       "version_minor": 0
      },
      "text/plain": [
       "FloatProgress(value=0.0, bar_style='info', description='Progress:', layout=Layout(height='25px', width='50%'),…"
      ]
     },
     "metadata": {},
     "output_type": "display_data"
    }
   ],
   "source": [
    "sum_table.createOrReplaceTempView('sum_table')"
   ]
  },
  {
   "cell_type": "code",
   "execution_count": 40,
   "metadata": {},
   "outputs": [
    {
     "data": {
      "application/vnd.jupyter.widget-view+json": {
       "model_id": "1d5ff35b54bc44e2963bc92132bc01e7",
       "version_major": 2,
       "version_minor": 0
      },
      "text/plain": [
       "VBox()"
      ]
     },
     "metadata": {},
     "output_type": "display_data"
    },
    {
     "data": {
      "application/vnd.jupyter.widget-view+json": {
       "model_id": "",
       "version_major": 2,
       "version_minor": 0
      },
      "text/plain": [
       "FloatProgress(value=0.0, bar_style='info', description='Progress:', layout=Layout(height='25px', width='50%'),…"
      ]
     },
     "metadata": {},
     "output_type": "display_data"
    }
   ],
   "source": [
    "# transform the table, make churn, gender, level 0-1\n",
    "transform = '''SELECT userId, CASE WHEN Churn > 0 THEN 1 ELSE 0 END AS churn'''\n",
    "for i in sum_table.columns[2:]:\n",
    "    if i.split('_')[0] == 'page':\n",
    "        transform += ', '+i\n",
    "    else:\n",
    "        transform += ', CASE WHEN '+i+' >0 THEN 1 ELSE 0 END AS '+i\n",
    "\n",
    "transform += ' FROM sum_table'"
   ]
  },
  {
   "cell_type": "code",
   "execution_count": 41,
   "metadata": {},
   "outputs": [
    {
     "data": {
      "application/vnd.jupyter.widget-view+json": {
       "model_id": "e03fd80dda7c48f68e5b816523d979f5",
       "version_major": 2,
       "version_minor": 0
      },
      "text/plain": [
       "VBox()"
      ]
     },
     "metadata": {},
     "output_type": "display_data"
    },
    {
     "data": {
      "application/vnd.jupyter.widget-view+json": {
       "model_id": "",
       "version_major": 2,
       "version_minor": 0
      },
      "text/plain": [
       "FloatProgress(value=0.0, bar_style='info', description='Progress:', layout=Layout(height='25px', width='50%'),…"
      ]
     },
     "metadata": {},
     "output_type": "display_data"
    }
   ],
   "source": [
    "transform_table = spark.sql(transform)"
   ]
  },
  {
   "cell_type": "code",
   "execution_count": 101,
   "metadata": {},
   "outputs": [
    {
     "data": {
      "application/vnd.jupyter.widget-view+json": {
       "model_id": "5da01e21c9e749c49960900050e581a6",
       "version_major": 2,
       "version_minor": 0
      },
      "text/plain": [
       "VBox()"
      ]
     },
     "metadata": {},
     "output_type": "display_data"
    },
    {
     "data": {
      "application/vnd.jupyter.widget-view+json": {
       "model_id": "",
       "version_major": 2,
       "version_minor": 0
      },
      "text/plain": [
       "FloatProgress(value=0.0, bar_style='info', description='Progress:', layout=Layout(height='25px', width='50%'),…"
      ]
     },
     "metadata": {},
     "output_type": "display_data"
    },
    {
     "name": "stdout",
     "output_type": "stream",
     "text": [
      "+-------+-----+--------+--------+----------+----------+-----------+---------------------+----------------+---------+--------------+----------------+-----------+------------------+------------------------------+----------+-------------+--------------------+---------------+-------------+--------------+---------+------------+----------+-------------------+\n",
      "| userId|churn|gender_F|gender_M|level_free|level_paid|page_Cancel|page_Submit_Downgrade|page_Thumbs_Down|page_Home|page_Downgrade|page_Roll_Advert|page_Logout|page_Save_Settings|page_Cancellation_Confirmation|page_About|page_Settings|page_Add_to_Playlist|page_Add_Friend|page_NextSong|page_Thumbs_Up|page_Help|page_Upgrade|page_Error|page_Submit_Upgrade|\n",
      "+-------+-----+--------+--------+----------+----------+-----------+---------------------+----------------+---------+--------------+----------------+-----------+------------------+------------------------------+----------+-------------+--------------------+---------------+-------------+--------------+---------+------------+----------+-------------------+\n",
      "|1000280|    1|       0|       1|         1|         1|          1|                    1|              33|       44|             3|              74|         15|                 1|                             1|         0|            9|                  25|             14|         1022|            53|        8|           9|         3|                  1|\n",
      "|1002185|    0|       1|       0|         0|         1|          0|                    0|              14|       61|            14|               1|         18|                 3|                             0|         1|           10|                  49|             25|         1778|            92|       12|           0|         2|                  0|\n",
      "|1017805|    0|       1|       0|         0|         1|          0|                    0|               4|       17|             5|               6|          7|                 1|                             0|         1|            3|                   5|             13|          250|             7|        1|           0|         0|                  0|\n",
      "|1030587|    0|       1|       0|         1|         1|          0|                    0|              16|       65|            15|               0|         17|                 3|                             0|         1|           15|                  46|             23|         1472|            66|       10|           1|         1|                  1|\n",
      "|1033297|    0|       0|       1|         1|         1|          0|                    0|               3|       15|             1|              10|          5|                 0|                             0|         2|            1|                   7|              4|          236|            10|        2|           2|         0|                  1|\n",
      "|1057724|    0|       0|       1|         1|         1|          0|                    0|              29|      164|            33|              67|         47|                 5|                             0|        11|           27|                 135|             76|         3847|           200|       19|           7|         1|                  1|\n",
      "|1059049|    0|       0|       1|         0|         1|          0|                    0|               6|       20|             3|               5|          5|                 0|                             0|         2|            3|                  16|             10|          559|            29|        4|           0|         0|                  0|\n",
      "|1069552|    0|       1|       0|         1|         1|          0|                    1|               6|       25|             1|              30|         12|                 0|                             0|         0|            0|                  11|              7|          455|            26|        4|           2|         1|                  1|\n",
      "|1071308|    1|       1|       0|         1|         1|          1|                    0|              12|       67|            18|               2|         22|                 3|                             1|         3|           13|                  26|             31|         1409|            74|        8|           1|         1|                  1|\n",
      "|1076191|    1|       0|       1|         1|         0|          1|                    0|               1|        3|             0|               5|          1|                 0|                             1|         0|            0|                   1|              0|           47|             4|        0|           0|         0|                  0|\n",
      "|1083324|    0|       0|       1|         1|         1|          0|                    1|              11|       73|            17|               5|         22|                 1|                             0|         4|            9|                  43|             26|         1484|            75|        7|           2|         2|                  2|\n",
      "|1102913|    0|       0|       1|         0|         1|          0|                    0|               9|       29|             9|               0|          8|                 2|                             0|         2|            4|                  23|             18|          753|            38|        7|           0|         2|                  0|\n",
      "|1114507|    0|       1|       0|         1|         1|          0|                    0|              11|       50|            10|              13|         17|                 1|                             0|         3|            5|                  13|             19|          848|            47|        6|           1|         0|                  1|\n",
      "|1133196|    0|       1|       0|         1|         1|          0|                    1|               6|       41|             7|              22|         13|                 0|                             0|         1|            2|                  24|             10|          731|            70|        2|           6|         1|                  2|\n",
      "|1142513|    0|       0|       1|         1|         0|          0|                    0|               4|       18|             0|              36|          7|                 1|                             0|         2|            4|                  19|             16|          480|            22|        4|           4|         1|                  0|\n",
      "|1151194|    0|       1|       0|         1|         1|          0|                    0|              14|       50|            11|              28|         14|                 4|                             0|         4|            9|                  37|             27|         1302|            60|       11|           3|         2|                  1|\n",
      "|1156065|    1|       0|       1|         1|         0|          1|                    0|               4|       17|             0|              43|          8|                 0|                             1|         1|            2|                   2|              2|          231|            10|        3|           3|         0|                  0|\n",
      "|1178731|    0|       1|       0|         0|         1|          0|                    0|              27|      100|            23|               7|         27|                 3|                             0|         4|           17|                  84|             35|         2663|           147|       21|           0|         7|                  0|\n",
      "|1180406|    0|       0|       1|         1|         1|          0|                    1|               6|       21|             5|              24|          9|                 1|                             0|         1|            3|                  19|              7|          552|            23|        4|           1|         2|                  0|\n",
      "|1190352|    0|       0|       1|         0|         1|          0|                    0|              28|       76|            23|               1|         27|                 0|                             0|         9|           11|                  63|             40|         2216|           113|       12|           0|         3|                  0|\n",
      "+-------+-----+--------+--------+----------+----------+-----------+---------------------+----------------+---------+--------------+----------------+-----------+------------------+------------------------------+----------+-------------+--------------------+---------------+-------------+--------------+---------+------------+----------+-------------------+\n",
      "only showing top 20 rows"
     ]
    }
   ],
   "source": [
    "transform_table.show()\n"
   ]
  },
  {
   "cell_type": "code",
   "execution_count": 42,
   "metadata": {},
   "outputs": [
    {
     "data": {
      "application/vnd.jupyter.widget-view+json": {
       "model_id": "69b4a5a5354b41f487902aff879358e0",
       "version_major": 2,
       "version_minor": 0
      },
      "text/plain": [
       "VBox()"
      ]
     },
     "metadata": {},
     "output_type": "display_data"
    },
    {
     "data": {
      "application/vnd.jupyter.widget-view+json": {
       "model_id": "",
       "version_major": 2,
       "version_minor": 0
      },
      "text/plain": [
       "FloatProgress(value=0.0, bar_style='info', description='Progress:', layout=Layout(height='25px', width='50%'),…"
      ]
     },
     "metadata": {},
     "output_type": "display_data"
    }
   ],
   "source": [
    "transform_table.createOrReplaceTempView('transform_table')"
   ]
  },
  {
   "cell_type": "code",
   "execution_count": 43,
   "metadata": {},
   "outputs": [
    {
     "data": {
      "application/vnd.jupyter.widget-view+json": {
       "model_id": "2ba89478efb54e21a306504ec4660aac",
       "version_major": 2,
       "version_minor": 0
      },
      "text/plain": [
       "VBox()"
      ]
     },
     "metadata": {},
     "output_type": "display_data"
    },
    {
     "data": {
      "application/vnd.jupyter.widget-view+json": {
       "model_id": "",
       "version_major": 2,
       "version_minor": 0
      },
      "text/plain": [
       "FloatProgress(value=0.0, bar_style='info', description='Progress:', layout=Layout(height='25px', width='50%'),…"
      ]
     },
     "metadata": {},
     "output_type": "display_data"
    }
   ],
   "source": [
    "# bind the table with total_visited_page, artist_count, week_count, registration\n",
    "\n",
    "final = spark.sql(\n",
    "    '''\n",
    "    SELECT transform_table.*,\n",
    "           churn_registration.registration_days,\n",
    "           churn_artist_count.artist_count,\n",
    "           total_activity.total_activity,\n",
    "           churn_week_count.week_count\n",
    "    FROM transform_table\n",
    "    JOIN churn_registration\n",
    "    ON transform_table.userId=churn_registration.userId\n",
    "    JOIN churn_artist_count\n",
    "    ON transform_table.userId=churn_artist_count.userId\n",
    "    JOIN total_activity\n",
    "    ON transform_table.userId=total_activity.userId\n",
    "    JOIN churn_week_count\n",
    "    ON transform_table.userId=churn_week_count.userId\n",
    "''')"
   ]
  },
  {
   "cell_type": "code",
   "execution_count": 103,
   "metadata": {},
   "outputs": [
    {
     "data": {
      "application/vnd.jupyter.widget-view+json": {
       "model_id": "e8ff583a57404db5af6350bcff91cedd",
       "version_major": 2,
       "version_minor": 0
      },
      "text/plain": [
       "VBox()"
      ]
     },
     "metadata": {},
     "output_type": "display_data"
    },
    {
     "data": {
      "application/vnd.jupyter.widget-view+json": {
       "model_id": "",
       "version_major": 2,
       "version_minor": 0
      },
      "text/plain": [
       "FloatProgress(value=0.0, bar_style='info', description='Progress:', layout=Layout(height='25px', width='50%'),…"
      ]
     },
     "metadata": {},
     "output_type": "display_data"
    },
    {
     "name": "stdout",
     "output_type": "stream",
     "text": [
      "+-------+-----+--------+--------+----------+----------+-----------+---------------------+----------------+---------+--------------+----------------+-----------+------------------+------------------------------+----------+-------------+--------------------+---------------+-------------+--------------+---------+------------+----------+-------------------+-----------------+------------+--------------+----------+\n",
      "| userId|churn|gender_F|gender_M|level_free|level_paid|page_Cancel|page_Submit_Downgrade|page_Thumbs_Down|page_Home|page_Downgrade|page_Roll_Advert|page_Logout|page_Save_Settings|page_Cancellation_Confirmation|page_About|page_Settings|page_Add_to_Playlist|page_Add_Friend|page_NextSong|page_Thumbs_Up|page_Help|page_Upgrade|page_Error|page_Submit_Upgrade|registration_days|artist_count|total_activity|week_count|\n",
      "+-------+-----+--------+--------+----------+----------+-----------+---------------------+----------------+---------+--------------+----------------+-----------+------------------+------------------------------+----------+-------------+--------------------+---------------+-------------+--------------+---------+------------+----------+-------------------+-----------------+------------+--------------+----------+\n",
      "|1000280|    1|       0|       1|         1|         1|          1|                    1|              33|       44|             3|              74|         15|                 1|                             1|         0|            9|                  25|             14|         1022|            53|        8|           9|         3|                  1|               77|         767|          1317|       188|\n",
      "|1002185|    0|       1|       0|         0|         1|          0|                    0|              14|       61|            14|               1|         18|                 3|                             0|         1|           10|                  49|             25|         1778|            92|       12|           0|         2|                  0|               65|        1205|          2080|       348|\n",
      "|1017805|    0|       1|       0|         0|         1|          0|                    0|               4|       17|             5|               6|          7|                 1|                             0|         1|            3|                   5|             13|          250|             7|        1|           0|         0|                  0|               55|         223|           320|       153|\n",
      "|1030587|    0|       1|       0|         1|         1|          0|                    0|              16|       65|            15|               0|         17|                 3|                             0|         1|           15|                  46|             23|         1472|            66|       10|           1|         1|                  1|              131|        1071|          1752|       507|\n",
      "|1033297|    0|       0|       1|         1|         1|          0|                    0|               3|       15|             1|              10|          5|                 0|                             0|         2|            1|                   7|              4|          236|            10|        2|           2|         0|                  1|              116|         215|           299|       197|\n",
      "|1057724|    0|       0|       1|         1|         1|          0|                    0|              29|      164|            33|              67|         47|                 5|                             0|        11|           27|                 135|             76|         3847|           200|       19|           7|         1|                  1|               96|        2157|          4669|       656|\n",
      "|1059049|    0|       0|       1|         0|         1|          0|                    0|               6|       20|             3|               5|          5|                 0|                             0|         2|            3|                  16|             10|          559|            29|        4|           0|         0|                  0|              134|         454|           662|         1|\n",
      "|1069552|    0|       1|       0|         1|         1|          0|                    1|               6|       25|             1|              30|         12|                 0|                             0|         0|            0|                  11|              7|          455|            26|        4|           2|         1|                  1|              126|         389|           582|        28|\n",
      "|1071308|    1|       1|       0|         1|         1|          1|                    0|              12|       67|            18|               2|         22|                 3|                             1|         3|           13|                  26|             31|         1409|            74|        8|           1|         1|                  1|               64|        1007|          1693|       307|\n",
      "|1076191|    1|       0|       1|         1|         0|          1|                    0|               1|        3|             0|               5|          1|                 0|                             1|         0|            0|                   1|              0|           47|             4|        0|           0|         0|                  0|               29|          47|            64|        54|\n",
      "|1083324|    0|       0|       1|         1|         1|          0|                    1|              11|       73|            17|               5|         22|                 1|                             0|         4|            9|                  43|             26|         1484|            75|        7|           2|         2|                  2|              148|        1061|          1784|       227|\n",
      "|1102913|    0|       0|       1|         0|         1|          0|                    0|               9|       29|             9|               0|          8|                 2|                             0|         2|            4|                  23|             18|          753|            38|        7|           0|         2|                  0|              108|         625|           904|       121|\n",
      "|1114507|    0|       1|       0|         1|         1|          0|                    0|              11|       50|            10|              13|         17|                 1|                             0|         3|            5|                  13|             19|          848|            47|        6|           1|         0|                  1|              100|         656|          1045|       164|\n",
      "|1133196|    0|       1|       0|         1|         1|          0|                    1|               6|       41|             7|              22|         13|                 0|                             0|         1|            2|                  24|             10|          731|            70|        2|           6|         1|                  2|               63|         607|           939|       351|\n",
      "|1142513|    0|       0|       1|         1|         0|          0|                    0|               4|       18|             0|              36|          7|                 1|                             0|         2|            4|                  19|             16|          480|            22|        4|           4|         1|                  0|              117|         422|           618|       149|\n",
      "|1151194|    0|       1|       0|         1|         1|          0|                    0|              14|       50|            11|              28|         14|                 4|                             0|         4|            9|                  37|             27|         1302|            60|       11|           3|         2|                  1|              137|         975|          1577|       539|\n",
      "|1156065|    1|       0|       1|         1|         0|          1|                    0|               4|       17|             0|              43|          8|                 0|                             1|         1|            2|                   2|              2|          231|            10|        3|           3|         0|                  0|               51|         213|           328|       207|\n",
      "|1178731|    0|       1|       0|         0|         1|          0|                    0|              27|      100|            23|               7|         27|                 3|                             0|         4|           17|                  84|             35|         2663|           147|       21|           0|         7|                  0|               93|        1684|          3165|       638|\n",
      "|1180406|    0|       0|       1|         1|         1|          0|                    1|               6|       21|             5|              24|          9|                 1|                             0|         1|            3|                  19|              7|          552|            23|        4|           1|         2|                  0|              179|         470|           679|        55|\n",
      "|1190352|    0|       0|       1|         0|         1|          0|                    0|              28|       76|            23|               1|         27|                 0|                             0|         9|           11|                  63|             40|         2216|           113|       12|           0|         3|                  0|               72|        1434|          2622|       914|\n",
      "+-------+-----+--------+--------+----------+----------+-----------+---------------------+----------------+---------+--------------+----------------+-----------+------------------+------------------------------+----------+-------------+--------------------+---------------+-------------+--------------+---------+------------+----------+-------------------+-----------------+------------+--------------+----------+\n",
      "only showing top 20 rows"
     ]
    }
   ],
   "source": [
    "final.show()"
   ]
  },
  {
   "cell_type": "code",
   "execution_count": 52,
   "metadata": {},
   "outputs": [
    {
     "data": {
      "application/vnd.jupyter.widget-view+json": {
       "model_id": "d4a561dffb0b4112a54f4259e9659759",
       "version_major": 2,
       "version_minor": 0
      },
      "text/plain": [
       "VBox()"
      ]
     },
     "metadata": {},
     "output_type": "display_data"
    },
    {
     "data": {
      "application/vnd.jupyter.widget-view+json": {
       "model_id": "",
       "version_major": 2,
       "version_minor": 0
      },
      "text/plain": [
       "FloatProgress(value=0.0, bar_style='info', description='Progress:', layout=Layout(height='25px', width='50%'),…"
      ]
     },
     "metadata": {},
     "output_type": "display_data"
    },
    {
     "name": "stdout",
     "output_type": "stream",
     "text": [
      "['userId', 'churn', 'gender_F', 'gender_M', 'level_free', 'level_paid', 'page_Cancel', 'page_Submit_Downgrade', 'page_Thumbs_Down', 'page_Home', 'page_Downgrade', 'page_Roll_Advert', 'page_Logout', 'page_Save_Settings', 'page_Cancellation_Confirmation', 'page_About', 'page_Settings', 'page_Add_to_Playlist', 'page_Add_Friend', 'page_NextSong', 'page_Thumbs_Up', 'page_Help', 'page_Upgrade', 'page_Error', 'page_Submit_Upgrade', 'registration_days', 'artist_count', 'total_activity', 'week_count']"
     ]
    }
   ],
   "source": [
    "final.columns"
   ]
  },
  {
   "cell_type": "code",
   "execution_count": 44,
   "metadata": {},
   "outputs": [
    {
     "data": {
      "application/vnd.jupyter.widget-view+json": {
       "model_id": "aeef604b09c445049faf872467da48b2",
       "version_major": 2,
       "version_minor": 0
      },
      "text/plain": [
       "VBox()"
      ]
     },
     "metadata": {},
     "output_type": "display_data"
    },
    {
     "data": {
      "application/vnd.jupyter.widget-view+json": {
       "model_id": "",
       "version_major": 2,
       "version_minor": 0
      },
      "text/plain": [
       "FloatProgress(value=0.0, bar_style='info', description='Progress:', layout=Layout(height='25px', width='50%'),…"
      ]
     },
     "metadata": {},
     "output_type": "display_data"
    }
   ],
   "source": [
    "final.createOrReplaceTempView('final')"
   ]
  },
  {
   "cell_type": "code",
   "execution_count": 37,
   "metadata": {},
   "outputs": [
    {
     "data": {
      "application/vnd.jupyter.widget-view+json": {
       "model_id": "c02af5d12656456a9382b2570e8dbfd0",
       "version_major": 2,
       "version_minor": 0
      },
      "text/plain": [
       "VBox()"
      ]
     },
     "metadata": {},
     "output_type": "display_data"
    },
    {
     "data": {
      "application/vnd.jupyter.widget-view+json": {
       "model_id": "",
       "version_major": 2,
       "version_minor": 0
      },
      "text/plain": [
       "FloatProgress(value=0.0, bar_style='info', description='Progress:', layout=Layout(height='25px', width='50%'),…"
      ]
     },
     "metadata": {},
     "output_type": "display_data"
    }
   ],
   "source": [
    "no_id = '''SELECT '''\n",
    "for i in final.columns[1:]:\n",
    "    no_id += i+','\n",
    "\n",
    "no_id = no_id[:-1]+''' FROM final'''\n",
    "\n",
    "final = spark.sql(no_id)\n",
    "final.createOrReplaceTempView('final')"
   ]
  },
  {
   "cell_type": "code",
   "execution_count": 106,
   "metadata": {},
   "outputs": [
    {
     "data": {
      "application/vnd.jupyter.widget-view+json": {
       "model_id": "2ee9adaf5ba9409fb74f887f7488df81",
       "version_major": 2,
       "version_minor": 0
      },
      "text/plain": [
       "VBox()"
      ]
     },
     "metadata": {},
     "output_type": "display_data"
    },
    {
     "data": {
      "application/vnd.jupyter.widget-view+json": {
       "model_id": "",
       "version_major": 2,
       "version_minor": 0
      },
      "text/plain": [
       "FloatProgress(value=0.0, bar_style='info', description='Progress:', layout=Layout(height='25px', width='50%'),…"
      ]
     },
     "metadata": {},
     "output_type": "display_data"
    },
    {
     "name": "stdout",
     "output_type": "stream",
     "text": [
      "+-----+--------+--------+----------+----------+-----------+---------------------+----------------+---------+--------------+----------------+-----------+------------------+------------------------------+----------+-------------+--------------------+---------------+-------------+--------------+---------+------------+----------+-------------------+-----------------+------------+--------------+----------+\n",
      "|churn|gender_F|gender_M|level_free|level_paid|page_Cancel|page_Submit_Downgrade|page_Thumbs_Down|page_Home|page_Downgrade|page_Roll_Advert|page_Logout|page_Save_Settings|page_Cancellation_Confirmation|page_About|page_Settings|page_Add_to_Playlist|page_Add_Friend|page_NextSong|page_Thumbs_Up|page_Help|page_Upgrade|page_Error|page_Submit_Upgrade|registration_days|artist_count|total_activity|week_count|\n",
      "+-----+--------+--------+----------+----------+-----------+---------------------+----------------+---------+--------------+----------------+-----------+------------------+------------------------------+----------+-------------+--------------------+---------------+-------------+--------------+---------+------------+----------+-------------------+-----------------+------------+--------------+----------+\n",
      "|    1|       0|       1|         1|         1|          1|                    1|              33|       44|             3|              74|         15|                 1|                             1|         0|            9|                  25|             14|         1022|            53|        8|           9|         3|                  1|               77|         767|          1317|       188|\n",
      "|    0|       1|       0|         0|         1|          0|                    0|              14|       61|            14|               1|         18|                 3|                             0|         1|           10|                  49|             25|         1778|            92|       12|           0|         2|                  0|               65|        1205|          2080|       348|\n",
      "|    0|       1|       0|         0|         1|          0|                    0|               4|       17|             5|               6|          7|                 1|                             0|         1|            3|                   5|             13|          250|             7|        1|           0|         0|                  0|               55|         223|           320|       153|\n",
      "|    0|       1|       0|         1|         1|          0|                    0|              16|       65|            15|               0|         17|                 3|                             0|         1|           15|                  46|             23|         1472|            66|       10|           1|         1|                  1|              131|        1071|          1752|       507|\n",
      "|    0|       0|       1|         1|         1|          0|                    0|               3|       15|             1|              10|          5|                 0|                             0|         2|            1|                   7|              4|          236|            10|        2|           2|         0|                  1|              116|         215|           299|       197|\n",
      "|    0|       0|       1|         1|         1|          0|                    0|              29|      164|            33|              67|         47|                 5|                             0|        11|           27|                 135|             76|         3847|           200|       19|           7|         1|                  1|               96|        2157|          4669|       656|\n",
      "|    0|       0|       1|         0|         1|          0|                    0|               6|       20|             3|               5|          5|                 0|                             0|         2|            3|                  16|             10|          559|            29|        4|           0|         0|                  0|              134|         454|           662|         1|\n",
      "|    0|       1|       0|         1|         1|          0|                    1|               6|       25|             1|              30|         12|                 0|                             0|         0|            0|                  11|              7|          455|            26|        4|           2|         1|                  1|              126|         389|           582|        28|\n",
      "|    1|       1|       0|         1|         1|          1|                    0|              12|       67|            18|               2|         22|                 3|                             1|         3|           13|                  26|             31|         1409|            74|        8|           1|         1|                  1|               64|        1007|          1693|       307|\n",
      "|    1|       0|       1|         1|         0|          1|                    0|               1|        3|             0|               5|          1|                 0|                             1|         0|            0|                   1|              0|           47|             4|        0|           0|         0|                  0|               29|          47|            64|        54|\n",
      "|    0|       0|       1|         1|         1|          0|                    1|              11|       73|            17|               5|         22|                 1|                             0|         4|            9|                  43|             26|         1484|            75|        7|           2|         2|                  2|              148|        1061|          1784|       227|\n",
      "|    0|       0|       1|         0|         1|          0|                    0|               9|       29|             9|               0|          8|                 2|                             0|         2|            4|                  23|             18|          753|            38|        7|           0|         2|                  0|              108|         625|           904|       121|\n",
      "|    0|       1|       0|         1|         1|          0|                    0|              11|       50|            10|              13|         17|                 1|                             0|         3|            5|                  13|             19|          848|            47|        6|           1|         0|                  1|              100|         656|          1045|       164|\n",
      "|    0|       1|       0|         1|         1|          0|                    1|               6|       41|             7|              22|         13|                 0|                             0|         1|            2|                  24|             10|          731|            70|        2|           6|         1|                  2|               63|         607|           939|       351|\n",
      "|    0|       0|       1|         1|         0|          0|                    0|               4|       18|             0|              36|          7|                 1|                             0|         2|            4|                  19|             16|          480|            22|        4|           4|         1|                  0|              117|         422|           618|       149|\n",
      "|    0|       1|       0|         1|         1|          0|                    0|              14|       50|            11|              28|         14|                 4|                             0|         4|            9|                  37|             27|         1302|            60|       11|           3|         2|                  1|              137|         975|          1577|       539|\n",
      "|    1|       0|       1|         1|         0|          1|                    0|               4|       17|             0|              43|          8|                 0|                             1|         1|            2|                   2|              2|          231|            10|        3|           3|         0|                  0|               51|         213|           328|       207|\n",
      "|    0|       1|       0|         0|         1|          0|                    0|              27|      100|            23|               7|         27|                 3|                             0|         4|           17|                  84|             35|         2663|           147|       21|           0|         7|                  0|               93|        1684|          3165|       638|\n",
      "|    0|       0|       1|         1|         1|          0|                    1|               6|       21|             5|              24|          9|                 1|                             0|         1|            3|                  19|              7|          552|            23|        4|           1|         2|                  0|              179|         470|           679|        55|\n",
      "|    0|       0|       1|         0|         1|          0|                    0|              28|       76|            23|               1|         27|                 0|                             0|         9|           11|                  63|             40|         2216|           113|       12|           0|         3|                  0|               72|        1434|          2622|       914|\n",
      "+-----+--------+--------+----------+----------+-----------+---------------------+----------------+---------+--------------+----------------+-----------+------------------+------------------------------+----------+-------------+--------------------+---------------+-------------+--------------+---------+------------+----------+-------------------+-----------------+------------+--------------+----------+\n",
      "only showing top 20 rows"
     ]
    }
   ],
   "source": [
    "final.show()\n"
   ]
  },
  {
   "cell_type": "code",
   "execution_count": 38,
   "metadata": {},
   "outputs": [
    {
     "data": {
      "application/vnd.jupyter.widget-view+json": {
       "model_id": "6c1abed6c47748e0bb902b388084f7b7",
       "version_major": 2,
       "version_minor": 0
      },
      "text/plain": [
       "VBox()"
      ]
     },
     "metadata": {},
     "output_type": "display_data"
    },
    {
     "data": {
      "application/vnd.jupyter.widget-view+json": {
       "model_id": "",
       "version_major": 2,
       "version_minor": 0
      },
      "text/plain": [
       "FloatProgress(value=0.0, bar_style='info', description='Progress:', layout=Layout(height='25px', width='50%'),…"
      ]
     },
     "metadata": {},
     "output_type": "display_data"
    },
    {
     "name": "stdout",
     "output_type": "stream",
     "text": [
      "['churn', 'gender_F', 'gender_M', 'level_free', 'level_paid', 'page_Cancel', 'page_Submit_Downgrade', 'page_Thumbs_Down', 'page_Home', 'page_Downgrade', 'page_Roll_Advert', 'page_Logout', 'page_Save_Settings', 'page_Cancellation_Confirmation', 'page_About', 'page_Settings', 'page_Add_to_Playlist', 'page_Add_Friend', 'page_NextSong', 'page_Thumbs_Up', 'page_Help', 'page_Upgrade', 'page_Error', 'page_Submit_Upgrade', 'registration_days', 'artist_count', 'total_activity', 'week_count']"
     ]
    }
   ],
   "source": [
    "final.columns"
   ]
  },
  {
   "cell_type": "code",
   "execution_count": 45,
   "metadata": {},
   "outputs": [
    {
     "data": {
      "application/vnd.jupyter.widget-view+json": {
       "model_id": "9e12520e6a4b437a9b881ceb0b4b2051",
       "version_major": 2,
       "version_minor": 0
      },
      "text/plain": [
       "VBox()"
      ]
     },
     "metadata": {},
     "output_type": "display_data"
    },
    {
     "data": {
      "application/vnd.jupyter.widget-view+json": {
       "model_id": "",
       "version_major": 2,
       "version_minor": 0
      },
      "text/plain": [
       "FloatProgress(value=0.0, bar_style='info', description='Progress:', layout=Layout(height='25px', width='50%'),…"
      ]
     },
     "metadata": {},
     "output_type": "display_data"
    }
   ],
   "source": [
    "final.write.save('final.json',format='json')"
   ]
  },
  {
   "cell_type": "markdown",
   "metadata": {},
   "source": [
    "# Modeling\n",
    "Split the full dataset into train, test, and validation sets. Test out several of the machine learning methods you learned. Evaluate the accuracy of the various models, tuning parameters as necessary. Determine your winning model based on test accuracy and report results on the validation set. Since the churned users are a fairly small subset, I suggest using F1 score as the metric to optimize."
   ]
  },
  {
   "cell_type": "code",
   "execution_count": 16,
   "metadata": {},
   "outputs": [
    {
     "data": {
      "application/vnd.jupyter.widget-view+json": {
       "model_id": "226d78093e874a6890f450ee508ede23",
       "version_major": 2,
       "version_minor": 0
      },
      "text/plain": [
       "VBox()"
      ]
     },
     "metadata": {},
     "output_type": "display_data"
    },
    {
     "data": {
      "application/vnd.jupyter.widget-view+json": {
       "model_id": "",
       "version_major": 2,
       "version_minor": 0
      },
      "text/plain": [
       "FloatProgress(value=0.0, bar_style='info', description='Progress:', layout=Layout(height='25px', width='50%'),…"
      ]
     },
     "metadata": {},
     "output_type": "display_data"
    }
   ],
   "source": [
    "final=spark.read.json(\"final.json\")"
   ]
  },
  {
   "cell_type": "code",
   "execution_count": 17,
   "metadata": {},
   "outputs": [
    {
     "data": {
      "application/vnd.jupyter.widget-view+json": {
       "model_id": "9bff254e053e4b6da5ecfd9dc62098a7",
       "version_major": 2,
       "version_minor": 0
      },
      "text/plain": [
       "VBox()"
      ]
     },
     "metadata": {},
     "output_type": "display_data"
    },
    {
     "data": {
      "application/vnd.jupyter.widget-view+json": {
       "model_id": "",
       "version_major": 2,
       "version_minor": 0
      },
      "text/plain": [
       "FloatProgress(value=0.0, bar_style='info', description='Progress:', layout=Layout(height='25px', width='50%'),…"
      ]
     },
     "metadata": {},
     "output_type": "display_data"
    },
    {
     "name": "stdout",
     "output_type": "stream",
     "text": [
      "['artist_count', 'churn', 'gender_F', 'gender_M', 'level_free', 'level_paid', 'page_About', 'page_Add_Friend', 'page_Add_to_Playlist', 'page_Cancel', 'page_Cancellation_Confirmation', 'page_Downgrade', 'page_Error', 'page_Help', 'page_Home', 'page_Logout', 'page_NextSong', 'page_Roll_Advert', 'page_Save_Settings', 'page_Settings', 'page_Submit_Downgrade', 'page_Submit_Upgrade', 'page_Thumbs_Down', 'page_Thumbs_Up', 'page_Upgrade', 'registration_days', 'total_activity', 'userId', 'week_count']"
     ]
    }
   ],
   "source": [
    "final.columns"
   ]
  },
  {
   "cell_type": "code",
   "execution_count": 18,
   "metadata": {},
   "outputs": [
    {
     "data": {
      "application/vnd.jupyter.widget-view+json": {
       "model_id": "df3221f146124bca915559ef6fc0f101",
       "version_major": 2,
       "version_minor": 0
      },
      "text/plain": [
       "VBox()"
      ]
     },
     "metadata": {},
     "output_type": "display_data"
    },
    {
     "data": {
      "application/vnd.jupyter.widget-view+json": {
       "model_id": "",
       "version_major": 2,
       "version_minor": 0
      },
      "text/plain": [
       "FloatProgress(value=0.0, bar_style='info', description='Progress:', layout=Layout(height='25px', width='50%'),…"
      ]
     },
     "metadata": {},
     "output_type": "display_data"
    }
   ],
   "source": [
    "# Vector Assembler\n",
    "\n",
    "cols=[i for i in final.columns if i not in ['churn','userId','page_Cancel','page_Cancellation_Confirmation']]\n",
    "\n",
    "assembler = VectorAssembler(inputCols=cols, outputCol='features')\n",
    "df = assembler.transform(final)"
   ]
  },
  {
   "cell_type": "code",
   "execution_count": 19,
   "metadata": {},
   "outputs": [
    {
     "data": {
      "application/vnd.jupyter.widget-view+json": {
       "model_id": "351bd86439f54a608f979634e8decf4c",
       "version_major": 2,
       "version_minor": 0
      },
      "text/plain": [
       "VBox()"
      ]
     },
     "metadata": {},
     "output_type": "display_data"
    },
    {
     "data": {
      "application/vnd.jupyter.widget-view+json": {
       "model_id": "",
       "version_major": 2,
       "version_minor": 0
      },
      "text/plain": [
       "FloatProgress(value=0.0, bar_style='info', description='Progress:', layout=Layout(height='25px', width='50%'),…"
      ]
     },
     "metadata": {},
     "output_type": "display_data"
    }
   ],
   "source": [
    "# Standard Scaler\n",
    "scaler = StandardScaler(inputCol='features',\n",
    "                        outputCol='features_scale', withStd=True)\n",
    "df = scaler.fit(df).transform(df)"
   ]
  },
  {
   "cell_type": "code",
   "execution_count": 20,
   "metadata": {},
   "outputs": [
    {
     "data": {
      "application/vnd.jupyter.widget-view+json": {
       "model_id": "62fea785f7774484957740d41c7f8db7",
       "version_major": 2,
       "version_minor": 0
      },
      "text/plain": [
       "VBox()"
      ]
     },
     "metadata": {},
     "output_type": "display_data"
    },
    {
     "data": {
      "application/vnd.jupyter.widget-view+json": {
       "model_id": "",
       "version_major": 2,
       "version_minor": 0
      },
      "text/plain": [
       "FloatProgress(value=0.0, bar_style='info', description='Progress:', layout=Layout(height='25px', width='50%'),…"
      ]
     },
     "metadata": {},
     "output_type": "display_data"
    },
    {
     "name": "stdout",
     "output_type": "stream",
     "text": [
      "22277"
     ]
    }
   ],
   "source": [
    "df.count()"
   ]
  },
  {
   "cell_type": "code",
   "execution_count": 21,
   "metadata": {},
   "outputs": [
    {
     "data": {
      "application/vnd.jupyter.widget-view+json": {
       "model_id": "e0136df514044de2bf1292fed129686a",
       "version_major": 2,
       "version_minor": 0
      },
      "text/plain": [
       "VBox()"
      ]
     },
     "metadata": {},
     "output_type": "display_data"
    },
    {
     "data": {
      "application/vnd.jupyter.widget-view+json": {
       "model_id": "",
       "version_major": 2,
       "version_minor": 0
      },
      "text/plain": [
       "FloatProgress(value=0.0, bar_style='info', description='Progress:', layout=Layout(height='25px', width='50%'),…"
      ]
     },
     "metadata": {},
     "output_type": "display_data"
    }
   ],
   "source": [
    "# select features and churn label\n",
    "df = df.select(df.churn.alias('label'), df.features_scale.alias('features'))"
   ]
  },
  {
   "cell_type": "code",
   "execution_count": 23,
   "metadata": {},
   "outputs": [
    {
     "data": {
      "application/vnd.jupyter.widget-view+json": {
       "model_id": "5d02d76fea414d7ca4f1fe22485cfefb",
       "version_major": 2,
       "version_minor": 0
      },
      "text/plain": [
       "VBox()"
      ]
     },
     "metadata": {},
     "output_type": "display_data"
    },
    {
     "data": {
      "application/vnd.jupyter.widget-view+json": {
       "model_id": "",
       "version_major": 2,
       "version_minor": 0
      },
      "text/plain": [
       "FloatProgress(value=0.0, bar_style='info', description='Progress:', layout=Layout(height='25px', width='50%'),…"
      ]
     },
     "metadata": {},
     "output_type": "display_data"
    }
   ],
   "source": [
    "df.write.save('df_models.json',format='json')"
   ]
  },
  {
   "cell_type": "code",
   "execution_count": 24,
   "metadata": {},
   "outputs": [
    {
     "data": {
      "application/vnd.jupyter.widget-view+json": {
       "model_id": "6381933a2686404fbb616e934901f39b",
       "version_major": 2,
       "version_minor": 0
      },
      "text/plain": [
       "VBox()"
      ]
     },
     "metadata": {},
     "output_type": "display_data"
    },
    {
     "data": {
      "application/vnd.jupyter.widget-view+json": {
       "model_id": "",
       "version_major": 2,
       "version_minor": 0
      },
      "text/plain": [
       "FloatProgress(value=0.0, bar_style='info', description='Progress:', layout=Layout(height='25px', width='50%'),…"
      ]
     },
     "metadata": {},
     "output_type": "display_data"
    }
   ],
   "source": [
    "# split train, test and validation\n",
    "train, test = df.randomSplit([0.5, 0.5])\n",
    "valid, test = test.randomSplit([0.5, 0.5])"
   ]
  },
  {
   "cell_type": "code",
   "execution_count": 25,
   "metadata": {},
   "outputs": [
    {
     "data": {
      "application/vnd.jupyter.widget-view+json": {
       "model_id": "15ff34cf15764d0bba690759ac56fdc3",
       "version_major": 2,
       "version_minor": 0
      },
      "text/plain": [
       "VBox()"
      ]
     },
     "metadata": {},
     "output_type": "display_data"
    },
    {
     "data": {
      "application/vnd.jupyter.widget-view+json": {
       "model_id": "",
       "version_major": 2,
       "version_minor": 0
      },
      "text/plain": [
       "FloatProgress(value=0.0, bar_style='info', description='Progress:', layout=Layout(height='25px', width='50%'),…"
      ]
     },
     "metadata": {},
     "output_type": "display_data"
    }
   ],
   "source": [
    "lr = LogisticRegression()\n",
    "lr_fit=lr.fit(train)"
   ]
  },
  {
   "cell_type": "code",
   "execution_count": 26,
   "metadata": {},
   "outputs": [
    {
     "data": {
      "application/vnd.jupyter.widget-view+json": {
       "model_id": "e88780a2ca29492d9d0766a9469d295f",
       "version_major": 2,
       "version_minor": 0
      },
      "text/plain": [
       "VBox()"
      ]
     },
     "metadata": {},
     "output_type": "display_data"
    },
    {
     "data": {
      "application/vnd.jupyter.widget-view+json": {
       "model_id": "",
       "version_major": 2,
       "version_minor": 0
      },
      "text/plain": [
       "FloatProgress(value=0.0, bar_style='info', description='Progress:', layout=Layout(height='25px', width='50%'),…"
      ]
     },
     "metadata": {},
     "output_type": "display_data"
    }
   ],
   "source": [
    "lr_pred = lr_fit.transform(valid)"
   ]
  },
  {
   "cell_type": "code",
   "execution_count": 27,
   "metadata": {},
   "outputs": [
    {
     "data": {
      "application/vnd.jupyter.widget-view+json": {
       "model_id": "e0c7de764fa04342a20942ef35c0a605",
       "version_major": 2,
       "version_minor": 0
      },
      "text/plain": [
       "VBox()"
      ]
     },
     "metadata": {},
     "output_type": "display_data"
    },
    {
     "data": {
      "application/vnd.jupyter.widget-view+json": {
       "model_id": "",
       "version_major": 2,
       "version_minor": 0
      },
      "text/plain": [
       "FloatProgress(value=0.0, bar_style='info', description='Progress:', layout=Layout(height='25px', width='50%'),…"
      ]
     },
     "metadata": {},
     "output_type": "display_data"
    }
   ],
   "source": [
    "# Logistic Regression\n",
    "#lr = LogisticRegression()\n",
    "evaluator = MulticlassClassificationEvaluator(metricName='f1')\n",
    "#param_grid = ParamGridBuilder().addGrid(\n",
    "    #lr.regParam, [0, 0.01, 0.05, 0.1]).addGrid(lr.elasticNetParam, [0, 1]).build()\n",
    "#cv = CrossValidator(estimator=lr,\n",
    " #                   evaluator=evaluator,\n",
    "  #                  estimatorParamMaps=param_grid,\n",
    "   #                 numFolds=5)"
   ]
  },
  {
   "cell_type": "code",
   "execution_count": null,
   "metadata": {},
   "outputs": [],
   "source": [
    "#cv_trained=cv.fit(train)"
   ]
  },
  {
   "cell_type": "code",
   "execution_count": null,
   "metadata": {
    "scrolled": true
   },
   "outputs": [],
   "source": [
    "#lr_pred = cv_trained.transform(test)"
   ]
  },
  {
   "cell_type": "code",
   "execution_count": 28,
   "metadata": {},
   "outputs": [
    {
     "data": {
      "application/vnd.jupyter.widget-view+json": {
       "model_id": "fe5c52491ec047c384562eec4fe617b9",
       "version_major": 2,
       "version_minor": 0
      },
      "text/plain": [
       "VBox()"
      ]
     },
     "metadata": {},
     "output_type": "display_data"
    },
    {
     "data": {
      "application/vnd.jupyter.widget-view+json": {
       "model_id": "",
       "version_major": 2,
       "version_minor": 0
      },
      "text/plain": [
       "FloatProgress(value=0.0, bar_style='info', description='Progress:', layout=Layout(height='25px', width='50%'),…"
      ]
     },
     "metadata": {},
     "output_type": "display_data"
    },
    {
     "name": "stdout",
     "output_type": "stream",
     "text": [
      "Accuracy:  0.8110349801658854\n",
      "F1 Score:  0.7767357772873141"
     ]
    }
   ],
   "source": [
    "# show cv performance\n",
    "print('Accuracy: ', evaluator.evaluate(\n",
    "    lr_pred, {evaluator.metricName: 'accuracy'}))\n",
    "print('F1 Score: ', evaluator.evaluate(lr_pred, {evaluator.metricName: 'f1'}))"
   ]
  },
  {
   "cell_type": "code",
   "execution_count": null,
   "metadata": {},
   "outputs": [],
   "source": [
    "# using best model of cv to validate\n",
    "#lr_best = cv_trained.bestModel\n",
    "#lr_best.extractParamMap()"
   ]
  },
  {
   "cell_type": "code",
   "execution_count": 29,
   "metadata": {},
   "outputs": [
    {
     "data": {
      "application/vnd.jupyter.widget-view+json": {
       "model_id": "84cd9cbe607246a38671a752207c9876",
       "version_major": 2,
       "version_minor": 0
      },
      "text/plain": [
       "VBox()"
      ]
     },
     "metadata": {},
     "output_type": "display_data"
    },
    {
     "data": {
      "application/vnd.jupyter.widget-view+json": {
       "model_id": "",
       "version_major": 2,
       "version_minor": 0
      },
      "text/plain": [
       "FloatProgress(value=0.0, bar_style='info', description='Progress:', layout=Layout(height='25px', width='50%'),…"
      ]
     },
     "metadata": {},
     "output_type": "display_data"
    },
    {
     "name": "stdout",
     "output_type": "stream",
     "text": [
      "Accuracy:  0.814262023217247\n",
      "F1 Score:  0.7740280452606194"
     ]
    }
   ],
   "source": [
    "# using best model of cv to validate\n",
    "lr_test = lr_fit.transform(test)\n",
    "print('Accuracy: ', evaluator.evaluate(\n",
    "   lr_test, {evaluator.metricName: 'accuracy'}))\n",
    "print('F1 Score: ', evaluator.evaluate(lr_test, {evaluator.metricName: 'f1'}))"
   ]
  },
  {
   "cell_type": "code",
   "execution_count": 30,
   "metadata": {},
   "outputs": [
    {
     "data": {
      "application/vnd.jupyter.widget-view+json": {
       "model_id": "1b6c27e65d1747caaeb29efe787f3577",
       "version_major": 2,
       "version_minor": 0
      },
      "text/plain": [
       "VBox()"
      ]
     },
     "metadata": {},
     "output_type": "display_data"
    },
    {
     "data": {
      "application/vnd.jupyter.widget-view+json": {
       "model_id": "",
       "version_major": 2,
       "version_minor": 0
      },
      "text/plain": [
       "FloatProgress(value=0.0, bar_style='info', description='Progress:', layout=Layout(height='25px', width='50%'),…"
      ]
     },
     "metadata": {},
     "output_type": "display_data"
    }
   ],
   "source": [
    "gb = GBTClassifier()\n",
    "gb_fit=gb.fit(train)\n",
    "gb_pred=gb_fit.transform(test)"
   ]
  },
  {
   "cell_type": "code",
   "execution_count": null,
   "metadata": {},
   "outputs": [],
   "source": [
    "# Gradient Boosting\n",
    "#gb = GBTClassifier(seed=0)\n",
    "#param_grid_gb = ParamGridBuilder().addGrid(gb.minInstancesPerNode, [\n",
    "#    1, 2, 3, 4]).addGrid(gb.maxIter, [10, 50, 100]).build()\n",
    "#cv_gb = CrossValidator(estimator=gb,\n",
    "#                       evaluator=evaluator,\n",
    "#                       estimatorParamMaps=param_grid_gb,\n",
    "#                       numFolds=5)"
   ]
  },
  {
   "cell_type": "code",
   "execution_count": null,
   "metadata": {
    "scrolled": true
   },
   "outputs": [],
   "source": [
    "# fit train and predict test\n",
    "#cv_gb.fit(train)\n",
    "#gb_pred = cv_gb.transform(test)"
   ]
  },
  {
   "cell_type": "code",
   "execution_count": 31,
   "metadata": {},
   "outputs": [
    {
     "data": {
      "application/vnd.jupyter.widget-view+json": {
       "model_id": "4cd5821d850547419528deb60d11bae3",
       "version_major": 2,
       "version_minor": 0
      },
      "text/plain": [
       "VBox()"
      ]
     },
     "metadata": {},
     "output_type": "display_data"
    },
    {
     "data": {
      "application/vnd.jupyter.widget-view+json": {
       "model_id": "",
       "version_major": 2,
       "version_minor": 0
      },
      "text/plain": [
       "FloatProgress(value=0.0, bar_style='info', description='Progress:', layout=Layout(height='25px', width='50%'),…"
      ]
     },
     "metadata": {},
     "output_type": "display_data"
    },
    {
     "name": "stdout",
     "output_type": "stream",
     "text": [
      "Accuracy:  0.8426386585590566\n",
      "F1 Score:  0.8258501938350569"
     ]
    }
   ],
   "source": [
    "# show cv performance\n",
    "print('Accuracy: ', evaluator.evaluate(\n",
    "    gb_pred, {evaluator.metricName: 'accuracy'}))\n",
    "print('F1 Score: ', evaluator.evaluate(gb_pred, {evaluator.metricName: 'f1'}))"
   ]
  },
  {
   "cell_type": "code",
   "execution_count": 32,
   "metadata": {},
   "outputs": [
    {
     "data": {
      "application/vnd.jupyter.widget-view+json": {
       "model_id": "461013ce09b94552b6d11b968bc3cbd9",
       "version_major": 2,
       "version_minor": 0
      },
      "text/plain": [
       "VBox()"
      ]
     },
     "metadata": {},
     "output_type": "display_data"
    },
    {
     "data": {
      "application/vnd.jupyter.widget-view+json": {
       "model_id": "",
       "version_major": 2,
       "version_minor": 0
      },
      "text/plain": [
       "FloatProgress(value=0.0, bar_style='info', description='Progress:', layout=Layout(height='25px', width='50%'),…"
      ]
     },
     "metadata": {},
     "output_type": "display_data"
    }
   ],
   "source": [
    "# using best model of cv to validate\n",
    "#gb_best = gb.bestModel\n",
    "#gb_best.extractParamMap()"
   ]
  },
  {
   "cell_type": "code",
   "execution_count": 33,
   "metadata": {},
   "outputs": [
    {
     "data": {
      "application/vnd.jupyter.widget-view+json": {
       "model_id": "c64348253880445aa3388bcda345e46b",
       "version_major": 2,
       "version_minor": 0
      },
      "text/plain": [
       "VBox()"
      ]
     },
     "metadata": {},
     "output_type": "display_data"
    },
    {
     "data": {
      "application/vnd.jupyter.widget-view+json": {
       "model_id": "",
       "version_major": 2,
       "version_minor": 0
      },
      "text/plain": [
       "FloatProgress(value=0.0, bar_style='info', description='Progress:', layout=Layout(height='25px', width='50%'),…"
      ]
     },
     "metadata": {},
     "output_type": "display_data"
    },
    {
     "name": "stdout",
     "output_type": "stream",
     "text": [
      "Accuracy:  0.8412755934046022\n",
      "F1 Score:  0.8223498592332195"
     ]
    }
   ],
   "source": [
    "# using best model of cv to validate\n",
    "gb_valid = gb_fit.transform(valid)\n",
    "print('Accuracy: ', evaluator.evaluate(\n",
    "    gb_valid, {evaluator.metricName: 'accuracy'}))\n",
    "print('F1 Score: ', evaluator.evaluate(gb_valid, {evaluator.metricName: 'f1'}))"
   ]
  },
  {
   "cell_type": "code",
   "execution_count": 34,
   "metadata": {},
   "outputs": [
    {
     "data": {
      "application/vnd.jupyter.widget-view+json": {
       "model_id": "58f853c4762a4889ad92a7b703e7c8ac",
       "version_major": 2,
       "version_minor": 0
      },
      "text/plain": [
       "VBox()"
      ]
     },
     "metadata": {},
     "output_type": "display_data"
    },
    {
     "data": {
      "application/vnd.jupyter.widget-view+json": {
       "model_id": "",
       "version_major": 2,
       "version_minor": 0
      },
      "text/plain": [
       "FloatProgress(value=0.0, bar_style='info', description='Progress:', layout=Layout(height='25px', width='50%'),…"
      ]
     },
     "metadata": {},
     "output_type": "display_data"
    }
   ],
   "source": [
    "# SVM\n",
    "#svc = LinearSVC()\n",
    "#param_grid_svc = ParamGridBuilder().addGrid(\n",
    "#    svc.regParam, [0.01, 0, 0.1]).addGrid(svc.maxIter, [10, 50, 100]).build()\n",
    "#cv_svc = CrossValidator(estimator=svc,\n",
    "#                        evaluator=evaluator,\n",
    "#                        estimatorParamMaps=param_grid_svc,\n",
    "#                        numFolds=5)"
   ]
  },
  {
   "cell_type": "code",
   "execution_count": 35,
   "metadata": {},
   "outputs": [
    {
     "data": {
      "application/vnd.jupyter.widget-view+json": {
       "model_id": "c378f0521b5f4c82997b95ac8df42565",
       "version_major": 2,
       "version_minor": 0
      },
      "text/plain": [
       "VBox()"
      ]
     },
     "metadata": {},
     "output_type": "display_data"
    },
    {
     "data": {
      "application/vnd.jupyter.widget-view+json": {
       "model_id": "",
       "version_major": 2,
       "version_minor": 0
      },
      "text/plain": [
       "FloatProgress(value=0.0, bar_style='info', description='Progress:', layout=Layout(height='25px', width='50%'),…"
      ]
     },
     "metadata": {},
     "output_type": "display_data"
    }
   ],
   "source": [
    "svc = LinearSVC()\n",
    "svc_fit=svc.fit(train)\n",
    "svc_pred=svc_fit.transform(test)"
   ]
  },
  {
   "cell_type": "code",
   "execution_count": 36,
   "metadata": {
    "scrolled": true
   },
   "outputs": [
    {
     "data": {
      "application/vnd.jupyter.widget-view+json": {
       "model_id": "3c1bfd05edef4fabb9599264f52cd8ad",
       "version_major": 2,
       "version_minor": 0
      },
      "text/plain": [
       "VBox()"
      ]
     },
     "metadata": {},
     "output_type": "display_data"
    },
    {
     "data": {
      "application/vnd.jupyter.widget-view+json": {
       "model_id": "",
       "version_major": 2,
       "version_minor": 0
      },
      "text/plain": [
       "FloatProgress(value=0.0, bar_style='info', description='Progress:', layout=Layout(height='25px', width='50%'),…"
      ]
     },
     "metadata": {},
     "output_type": "display_data"
    }
   ],
   "source": [
    "# fit train and predict test\n",
    "#cv_svc.fit(train)\n",
    "#svc_pred = cv_svc.transform(test)"
   ]
  },
  {
   "cell_type": "code",
   "execution_count": 37,
   "metadata": {},
   "outputs": [
    {
     "data": {
      "application/vnd.jupyter.widget-view+json": {
       "model_id": "9296f1bcd7d74eb6bd2223d06ffad97f",
       "version_major": 2,
       "version_minor": 0
      },
      "text/plain": [
       "VBox()"
      ]
     },
     "metadata": {},
     "output_type": "display_data"
    },
    {
     "data": {
      "application/vnd.jupyter.widget-view+json": {
       "model_id": "",
       "version_major": 2,
       "version_minor": 0
      },
      "text/plain": [
       "FloatProgress(value=0.0, bar_style='info', description='Progress:', layout=Layout(height='25px', width='50%'),…"
      ]
     },
     "metadata": {},
     "output_type": "display_data"
    },
    {
     "name": "stdout",
     "output_type": "stream",
     "text": [
      "Accuracy:  0.7777777777777778\n",
      "F1 Score:  0.6808429239216088"
     ]
    }
   ],
   "source": [
    "# show cv performance\n",
    "print('Accuracy: ', evaluator.evaluate(\n",
    "    svc_pred, {evaluator.metricName: 'accuracy'}))\n",
    "print('F1 Score: ', evaluator.evaluate(svc_pred, {evaluator.metricName: 'f1'}))"
   ]
  },
  {
   "cell_type": "code",
   "execution_count": 38,
   "metadata": {},
   "outputs": [
    {
     "data": {
      "application/vnd.jupyter.widget-view+json": {
       "model_id": "de6f2c121f5a4039bc97287059e75db0",
       "version_major": 2,
       "version_minor": 0
      },
      "text/plain": [
       "VBox()"
      ]
     },
     "metadata": {},
     "output_type": "display_data"
    },
    {
     "data": {
      "application/vnd.jupyter.widget-view+json": {
       "model_id": "",
       "version_major": 2,
       "version_minor": 0
      },
      "text/plain": [
       "FloatProgress(value=0.0, bar_style='info', description='Progress:', layout=Layout(height='25px', width='50%'),…"
      ]
     },
     "metadata": {},
     "output_type": "display_data"
    }
   ],
   "source": [
    "# using best model of cv to validate\n",
    "#svc_best = gb.bestModel\n",
    "#svc_best.extractParamMap()"
   ]
  },
  {
   "cell_type": "code",
   "execution_count": 39,
   "metadata": {},
   "outputs": [
    {
     "data": {
      "application/vnd.jupyter.widget-view+json": {
       "model_id": "a8ed3381df5e4a4186ed2b33bfa1f7b8",
       "version_major": 2,
       "version_minor": 0
      },
      "text/plain": [
       "VBox()"
      ]
     },
     "metadata": {},
     "output_type": "display_data"
    },
    {
     "data": {
      "application/vnd.jupyter.widget-view+json": {
       "model_id": "",
       "version_major": 2,
       "version_minor": 0
      },
      "text/plain": [
       "FloatProgress(value=0.0, bar_style='info', description='Progress:', layout=Layout(height='25px', width='50%'),…"
      ]
     },
     "metadata": {},
     "output_type": "display_data"
    },
    {
     "name": "stdout",
     "output_type": "stream",
     "text": [
      "Accuracy:  0.7774959231744881\n",
      "F1 Score:  0.6796336560639497"
     ]
    }
   ],
   "source": [
    "# using best model of cv to validate\n",
    "svc_valid = svc_fit.transform(valid)\n",
    "print('Accuracy: ', evaluator.evaluate(\n",
    "    svc_valid, {evaluator.metricName: 'accuracy'}))\n",
    "print('F1 Score: ', evaluator.evaluate(\n",
    "    svc_valid, {evaluator.metricName: 'f1'}))"
   ]
  },
  {
   "cell_type": "markdown",
   "metadata": {},
   "source": [
    "# Final Steps\n",
    "Clean up your code, adding comments and renaming variables to make the code easier to read and maintain. Refer to the Spark Project Overview page and Data Scientist Capstone Project Rubric to make sure you are including all components of the capstone project and meet all expectations. Remember, this includes thorough documentation in a README file in a Github repository, as well as a web app or blog post."
   ]
  },
  {
   "cell_type": "markdown",
   "metadata": {},
   "source": [
    "| |Fl of validation|Accuracy of validation|F1 of test|Accuracy of test|\n",
    "|--|--|--|--|--|\n",
    "|Logistic|0.7767357772873141|0.8110349801658854|0.7740280452606194|0.814262023217247|\n",
    "|SVC|0.6796336560639497| 0.7774959231744881|0.6808429239216088|0.7777777777777778|\n",
    "|GBT|0.8223498592332195|0.8412755934046022|0.8258501938350569|0.8426386585590566|"
   ]
  },
  {
   "cell_type": "code",
   "execution_count": null,
   "metadata": {},
   "outputs": [],
   "source": []
  }
 ],
 "metadata": {
  "kernelspec": {
   "display_name": "PySpark",
   "language": "",
   "name": "pysparkkernel"
  },
  "language_info": {
   "codemirror_mode": {
    "name": "python",
    "version": 2
   },
   "mimetype": "text/x-python",
   "name": "pyspark",
   "pygments_lexer": "python2"
  },
  "toc": {
   "base_numbering": 1,
   "nav_menu": {},
   "number_sections": true,
   "sideBar": true,
   "skip_h1_title": false,
   "title_cell": "Table of Contents",
   "title_sidebar": "Contents",
   "toc_cell": false,
   "toc_position": {},
   "toc_section_display": true,
   "toc_window_display": false
  },
  "varInspector": {
   "cols": {
    "lenName": 16,
    "lenType": 16,
    "lenVar": 40
   },
   "kernels_config": {
    "python": {
     "delete_cmd_postfix": "",
     "delete_cmd_prefix": "del ",
     "library": "var_list.py",
     "varRefreshCmd": "print(var_dic_list())"
    },
    "r": {
     "delete_cmd_postfix": ") ",
     "delete_cmd_prefix": "rm(",
     "library": "var_list.r",
     "varRefreshCmd": "cat(var_dic_list()) "
    }
   },
   "types_to_exclude": [
    "module",
    "function",
    "builtin_function_or_method",
    "instance",
    "_Feature"
   ],
   "window_display": false
  }
 },
 "nbformat": 4,
 "nbformat_minor": 2
}
